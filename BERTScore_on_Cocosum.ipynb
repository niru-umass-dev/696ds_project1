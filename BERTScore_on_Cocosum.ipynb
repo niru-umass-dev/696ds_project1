{
  "cells": [
    {
      "cell_type": "markdown",
      "metadata": {
        "id": "e7jn42UZcpzV"
      },
      "source": [
        "# Running BERTScore on Cocosum dev and test data"
      ]
    },
    {
      "cell_type": "code",
      "execution_count": null,
      "metadata": {
        "id": "MVfXaDuJcjaL"
      },
      "outputs": [],
      "source": [
        "import numpy as np\n",
        "import pandas as pd\n",
        "import torch\n",
        "import json"
      ]
    },
    {
      "cell_type": "code",
      "execution_count": null,
      "metadata": {
        "colab": {
          "base_uri": "https://localhost:8080/"
        },
        "id": "vrH6rZTlcw1J",
        "outputId": "03c2f7c7-0b23-4741-b62d-f80ca661da92"
      },
      "outputs": [
        {
          "output_type": "stream",
          "name": "stdout",
          "text": [
            "Looking in indexes: https://pypi.org/simple, https://us-python.pkg.dev/colab-wheels/public/simple/\n",
            "Collecting evaluate\n",
            "  Downloading evaluate-0.4.0-py3-none-any.whl (81 kB)\n",
            "\u001b[2K     \u001b[90m━━━━━━━━━━━━━━━━━━━━━━━━━━━━━━━━━━━━━━━━\u001b[0m \u001b[32m81.4/81.4 KB\u001b[0m \u001b[31m3.2 MB/s\u001b[0m eta \u001b[36m0:00:00\u001b[0m\n",
            "\u001b[?25hCollecting responses<0.19\n",
            "  Downloading responses-0.18.0-py3-none-any.whl (38 kB)\n",
            "Requirement already satisfied: dill in /usr/local/lib/python3.8/dist-packages (from evaluate) (0.3.6)\n",
            "Collecting datasets>=2.0.0\n",
            "  Downloading datasets-2.10.1-py3-none-any.whl (469 kB)\n",
            "\u001b[2K     \u001b[90m━━━━━━━━━━━━━━━━━━━━━━━━━━━━━━━━━━━━━━\u001b[0m \u001b[32m469.0/469.0 KB\u001b[0m \u001b[31m12.9 MB/s\u001b[0m eta \u001b[36m0:00:00\u001b[0m\n",
            "\u001b[?25hRequirement already satisfied: numpy>=1.17 in /usr/local/lib/python3.8/dist-packages (from evaluate) (1.22.4)\n",
            "Requirement already satisfied: tqdm>=4.62.1 in /usr/local/lib/python3.8/dist-packages (from evaluate) (4.64.1)\n",
            "Collecting huggingface-hub>=0.7.0\n",
            "  Downloading huggingface_hub-0.12.1-py3-none-any.whl (190 kB)\n",
            "\u001b[2K     \u001b[90m━━━━━━━━━━━━━━━━━━━━━━━━━━━━━━━━━━━━━━\u001b[0m \u001b[32m190.3/190.3 KB\u001b[0m \u001b[31m24.9 MB/s\u001b[0m eta \u001b[36m0:00:00\u001b[0m\n",
            "\u001b[?25hRequirement already satisfied: packaging in /usr/local/lib/python3.8/dist-packages (from evaluate) (23.0)\n",
            "Collecting multiprocess\n",
            "  Downloading multiprocess-0.70.14-py38-none-any.whl (132 kB)\n",
            "\u001b[2K     \u001b[90m━━━━━━━━━━━━━━━━━━━━━━━━━━━━━━━━━━━━━━\u001b[0m \u001b[32m132.0/132.0 KB\u001b[0m \u001b[31m18.0 MB/s\u001b[0m eta \u001b[36m0:00:00\u001b[0m\n",
            "\u001b[?25hRequirement already satisfied: pandas in /usr/local/lib/python3.8/dist-packages (from evaluate) (1.3.5)\n",
            "Requirement already satisfied: fsspec[http]>=2021.05.0 in /usr/local/lib/python3.8/dist-packages (from evaluate) (2023.1.0)\n",
            "Requirement already satisfied: requests>=2.19.0 in /usr/local/lib/python3.8/dist-packages (from evaluate) (2.25.1)\n",
            "Collecting xxhash\n",
            "  Downloading xxhash-3.2.0-cp38-cp38-manylinux_2_17_x86_64.manylinux2014_x86_64.whl (213 kB)\n",
            "\u001b[2K     \u001b[90m━━━━━━━━━━━━━━━━━━━━━━━━━━━━━━━━━━━━━━\u001b[0m \u001b[32m213.0/213.0 KB\u001b[0m \u001b[31m21.2 MB/s\u001b[0m eta \u001b[36m0:00:00\u001b[0m\n",
            "\u001b[?25hRequirement already satisfied: aiohttp in /usr/local/lib/python3.8/dist-packages (from datasets>=2.0.0->evaluate) (3.8.4)\n",
            "Requirement already satisfied: pyarrow>=6.0.0 in /usr/local/lib/python3.8/dist-packages (from datasets>=2.0.0->evaluate) (9.0.0)\n",
            "Requirement already satisfied: pyyaml>=5.1 in /usr/local/lib/python3.8/dist-packages (from datasets>=2.0.0->evaluate) (6.0)\n",
            "Requirement already satisfied: filelock in /usr/local/lib/python3.8/dist-packages (from huggingface-hub>=0.7.0->evaluate) (3.9.0)\n",
            "Requirement already satisfied: typing-extensions>=3.7.4.3 in /usr/local/lib/python3.8/dist-packages (from huggingface-hub>=0.7.0->evaluate) (4.5.0)\n",
            "Requirement already satisfied: urllib3<1.27,>=1.21.1 in /usr/local/lib/python3.8/dist-packages (from requests>=2.19.0->evaluate) (1.26.14)\n",
            "Requirement already satisfied: idna<3,>=2.5 in /usr/local/lib/python3.8/dist-packages (from requests>=2.19.0->evaluate) (2.10)\n",
            "Requirement already satisfied: certifi>=2017.4.17 in /usr/local/lib/python3.8/dist-packages (from requests>=2.19.0->evaluate) (2022.12.7)\n",
            "Requirement already satisfied: chardet<5,>=3.0.2 in /usr/local/lib/python3.8/dist-packages (from requests>=2.19.0->evaluate) (4.0.0)\n",
            "Requirement already satisfied: python-dateutil>=2.7.3 in /usr/local/lib/python3.8/dist-packages (from pandas->evaluate) (2.8.2)\n",
            "Requirement already satisfied: pytz>=2017.3 in /usr/local/lib/python3.8/dist-packages (from pandas->evaluate) (2022.7.1)\n",
            "Requirement already satisfied: multidict<7.0,>=4.5 in /usr/local/lib/python3.8/dist-packages (from aiohttp->datasets>=2.0.0->evaluate) (6.0.4)\n",
            "Requirement already satisfied: attrs>=17.3.0 in /usr/local/lib/python3.8/dist-packages (from aiohttp->datasets>=2.0.0->evaluate) (22.2.0)\n",
            "Requirement already satisfied: aiosignal>=1.1.2 in /usr/local/lib/python3.8/dist-packages (from aiohttp->datasets>=2.0.0->evaluate) (1.3.1)\n",
            "Requirement already satisfied: async-timeout<5.0,>=4.0.0a3 in /usr/local/lib/python3.8/dist-packages (from aiohttp->datasets>=2.0.0->evaluate) (4.0.2)\n",
            "Requirement already satisfied: frozenlist>=1.1.1 in /usr/local/lib/python3.8/dist-packages (from aiohttp->datasets>=2.0.0->evaluate) (1.3.3)\n",
            "Requirement already satisfied: charset-normalizer<4.0,>=2.0 in /usr/local/lib/python3.8/dist-packages (from aiohttp->datasets>=2.0.0->evaluate) (3.0.1)\n",
            "Requirement already satisfied: yarl<2.0,>=1.0 in /usr/local/lib/python3.8/dist-packages (from aiohttp->datasets>=2.0.0->evaluate) (1.8.2)\n",
            "Requirement already satisfied: six>=1.5 in /usr/local/lib/python3.8/dist-packages (from python-dateutil>=2.7.3->pandas->evaluate) (1.15.0)\n",
            "Installing collected packages: xxhash, multiprocess, responses, huggingface-hub, datasets, evaluate\n",
            "Successfully installed datasets-2.10.1 evaluate-0.4.0 huggingface-hub-0.12.1 multiprocess-0.70.14 responses-0.18.0 xxhash-3.2.0\n",
            "Looking in indexes: https://pypi.org/simple, https://us-python.pkg.dev/colab-wheels/public/simple/\n",
            "Collecting bert_score\n",
            "  Downloading bert_score-0.3.13-py3-none-any.whl (61 kB)\n",
            "\u001b[2K     \u001b[90m━━━━━━━━━━━━━━━━━━━━━━━━━━━━━━━━━━━━━━━━\u001b[0m \u001b[32m61.1/61.1 KB\u001b[0m \u001b[31m2.6 MB/s\u001b[0m eta \u001b[36m0:00:00\u001b[0m\n",
            "\u001b[?25hRequirement already satisfied: numpy in /usr/local/lib/python3.8/dist-packages (from bert_score) (1.22.4)\n",
            "Requirement already satisfied: matplotlib in /usr/local/lib/python3.8/dist-packages (from bert_score) (3.5.3)\n",
            "Collecting transformers>=3.0.0\n",
            "  Downloading transformers-4.26.1-py3-none-any.whl (6.3 MB)\n",
            "\u001b[2K     \u001b[90m━━━━━━━━━━━━━━━━━━━━━━━━━━━━━━━━━━━━━━━━\u001b[0m \u001b[32m6.3/6.3 MB\u001b[0m \u001b[31m52.3 MB/s\u001b[0m eta \u001b[36m0:00:00\u001b[0m\n",
            "\u001b[?25hRequirement already satisfied: tqdm>=4.31.1 in /usr/local/lib/python3.8/dist-packages (from bert_score) (4.64.1)\n",
            "Requirement already satisfied: torch>=1.0.0 in /usr/local/lib/python3.8/dist-packages (from bert_score) (1.13.1+cu116)\n",
            "Requirement already satisfied: pandas>=1.0.1 in /usr/local/lib/python3.8/dist-packages (from bert_score) (1.3.5)\n",
            "Requirement already satisfied: requests in /usr/local/lib/python3.8/dist-packages (from bert_score) (2.25.1)\n",
            "Requirement already satisfied: packaging>=20.9 in /usr/local/lib/python3.8/dist-packages (from bert_score) (23.0)\n",
            "Requirement already satisfied: pytz>=2017.3 in /usr/local/lib/python3.8/dist-packages (from pandas>=1.0.1->bert_score) (2022.7.1)\n",
            "Requirement already satisfied: python-dateutil>=2.7.3 in /usr/local/lib/python3.8/dist-packages (from pandas>=1.0.1->bert_score) (2.8.2)\n",
            "Requirement already satisfied: typing-extensions in /usr/local/lib/python3.8/dist-packages (from torch>=1.0.0->bert_score) (4.5.0)\n",
            "Requirement already satisfied: filelock in /usr/local/lib/python3.8/dist-packages (from transformers>=3.0.0->bert_score) (3.9.0)\n",
            "Requirement already satisfied: pyyaml>=5.1 in /usr/local/lib/python3.8/dist-packages (from transformers>=3.0.0->bert_score) (6.0)\n",
            "Requirement already satisfied: huggingface-hub<1.0,>=0.11.0 in /usr/local/lib/python3.8/dist-packages (from transformers>=3.0.0->bert_score) (0.12.1)\n",
            "Collecting tokenizers!=0.11.3,<0.14,>=0.11.1\n",
            "  Downloading tokenizers-0.13.2-cp38-cp38-manylinux_2_17_x86_64.manylinux2014_x86_64.whl (7.6 MB)\n",
            "\u001b[2K     \u001b[90m━━━━━━━━━━━━━━━━━━━━━━━━━━━━━━━━━━━━━━━━\u001b[0m \u001b[32m7.6/7.6 MB\u001b[0m \u001b[31m100.6 MB/s\u001b[0m eta \u001b[36m0:00:00\u001b[0m\n",
            "\u001b[?25hRequirement already satisfied: regex!=2019.12.17 in /usr/local/lib/python3.8/dist-packages (from transformers>=3.0.0->bert_score) (2022.6.2)\n",
            "Requirement already satisfied: fonttools>=4.22.0 in /usr/local/lib/python3.8/dist-packages (from matplotlib->bert_score) (4.38.0)\n",
            "Requirement already satisfied: pyparsing>=2.2.1 in /usr/local/lib/python3.8/dist-packages (from matplotlib->bert_score) (3.0.9)\n",
            "Requirement already satisfied: cycler>=0.10 in /usr/local/lib/python3.8/dist-packages (from matplotlib->bert_score) (0.11.0)\n",
            "Requirement already satisfied: pillow>=6.2.0 in /usr/local/lib/python3.8/dist-packages (from matplotlib->bert_score) (8.4.0)\n",
            "Requirement already satisfied: kiwisolver>=1.0.1 in /usr/local/lib/python3.8/dist-packages (from matplotlib->bert_score) (1.4.4)\n",
            "Requirement already satisfied: urllib3<1.27,>=1.21.1 in /usr/local/lib/python3.8/dist-packages (from requests->bert_score) (1.26.14)\n",
            "Requirement already satisfied: chardet<5,>=3.0.2 in /usr/local/lib/python3.8/dist-packages (from requests->bert_score) (4.0.0)\n",
            "Requirement already satisfied: certifi>=2017.4.17 in /usr/local/lib/python3.8/dist-packages (from requests->bert_score) (2022.12.7)\n",
            "Requirement already satisfied: idna<3,>=2.5 in /usr/local/lib/python3.8/dist-packages (from requests->bert_score) (2.10)\n",
            "Requirement already satisfied: six>=1.5 in /usr/local/lib/python3.8/dist-packages (from python-dateutil>=2.7.3->pandas>=1.0.1->bert_score) (1.15.0)\n",
            "Installing collected packages: tokenizers, transformers, bert_score\n",
            "Successfully installed bert_score-0.3.13 tokenizers-0.13.2 transformers-4.26.1\n"
          ]
        }
      ],
      "source": [
        "!pip install evaluate\n",
        "!pip install bert_score"
      ]
    },
    {
      "cell_type": "code",
      "execution_count": null,
      "metadata": {
        "id": "YYPicF0UuvcP"
      },
      "outputs": [],
      "source": [
        "with open('dev.json', 'r') as j:\n",
        "     dev = json.loads(j.read())\n",
        "\n",
        "with open('test.json', 'r') as k:\n",
        "     test = json.loads(k.read())"
      ]
    },
    {
      "cell_type": "code",
      "execution_count": null,
      "metadata": {
        "colab": {
          "base_uri": "https://localhost:8080/"
        },
        "id": "FBI8Qu8Ore49",
        "outputId": "0dd59d3b-4d9c-41b4-eef2-4fa887aa7198"
      },
      "outputs": [
        {
          "output_type": "stream",
          "name": "stdout",
          "text": [
            "[{'entity_a': '254461', 'entity_b': '185747', 'entity_a_summary': ['The hotel has conference rooms available to rent out for conferences and corporate events. The location of this hotel makes it easy to access restaurants, the river and shops. The rooms are a good size and well decorated. The bathroom in the hotel was large and with a large bathtub. Small touches like a chocolate on the pillow are also nice. The hotel has a roof terrace for drinks. Unfortunately the hotel is missing the availability of a pool.', \"This is a lovely place that was wonderful in all ways. It is definitely a place you will want to return again. The hotel is in walking condition to local restaurants, bars and even the Mont Royal. Beautifully decorated hotel rooms that are well designed and comfortable for all occasions. Very spacious in size with luxurious amenities in the bathroom, and it's the little touches such as chocolates on the pillow that make these rooms even more memorable. The hotel features some good places to have drinks and food, and there were even great chocolates left on the pillow. This hotel could do with a pool as that is the only thing it is really lacking.\", \"The hotel, Le Place D'Armes, is amazing. It is elegant. The rooms are very nice and upgrades are available. This is a great place to stay on business as well. The hotel is within easy walking distance to restaurants, bars, and shopping. You can also walk to the Mont Royal or the river. Fantastic location. The rooms are nice and spacious with good decoration too. The bathrooms are really great because there are massive bathtubs and lovely rainfall showers. A nice touch is the turn-down service with cute chocolates left on the pillows. The staff at Le Place D'Armes is great. Really good service overall. The two restaurants at this hotel are highly recommended, and there is also the option to eat and have a few drinks on the roof terrace to enjoy the views. \"], 'entity_b_summary': [\"The hotel is especially memorable during a winter stay. The room was okay but on the small side including the bathroom as well. After upgrading rooms to a suite this was absolutely fine and had a great view with modern decor. Whilst the breakfast and dinners are both quite expensive they're really great and tasty. But a coffee maker and coffee was not free of charge, which is unusual. Whilst the toiletries were really great there was an issue with the toilet.\", \"This is neither a disappointing hotel or one that will exceed expectations. It can be magical in the winter time and it is definitely a nice hotel, it just won't blow you away. A very convenient location. The bathrooms in the hotel room are quite small but the room itself is clean and modern . The hotel serves very good food at both breakfast and dinner. It is a little expensive but you definitely get what you pay for. The hotel uses Miller Harris citron toiletries which is a nice touch.\", \"This is a generally good hotel that is slightly expensive but highly recommended for a memorable visit to the area. It is also in close proximity to the city centre, so a lovely place to go for nice walks. This hotel is located in a really convenient area here. The rooms at this hotel are smaller than expected and the toilets are inadequately sized and too small for comfortable use. An upgrade might be an option to consider though as the suites are very nice. The quality of the breakfasts and dinners at this hotel are great. However, they are quite expensive and the coffee in the rooms don't come free as charge like most other hotels.\"], 'common_summary': ['The staff at the hotel were incredibly accommodating and the hotel was well located.', 'At this hotel you will find the staff are really accommodating and friendly. The hotel is also a well-located place to stay in Montreal with some great things to do nearby.', 'The staff at the hotel are friendly and helpful and the beds are great.'], 'entity_a_uid': ['UR119801869', 'UR108457071', 'UR125621536', 'UR116213406', 'UR64866156', 'UR23919613', 'UR85589113', 'UR4736328'], 'entity_b_uid': ['UR94330536', 'UR117656941', 'UR119964745', 'UR116518066', 'UR52258443', 'UR96905140', 'UR89862189', 'UR118511479'], 'entity_a_reviews': [\"Our company has rented conference rooms and held many meetings and corporate events at Place D'Armes and we were extremely satisfied with their service. There was always someone to greet and help with the setup and make sure we have everything we needed. More importantly, technical service was efficient and really went out of their way (even when it is your own equipment). The rooms are clean and beautiful and staff is great. The only negative thing is that they charge for the conference room for the whole day regardless if you only need it for half a day or an hour.\", \"The hotel is located in the OLD Town part of Montreal by the Notre Dame Cathedral and short walking distance to the rivers edge. This hotel was a great value and the staff and location were excellent. There are 2 restaurants in the hotel that are very highly rated. The staff and service were excellent. The rooms are specious and nicely decorated The bathrooms are very nice with very big bathtubs. There is also a roof terrace to have drinks and enjoy the views. Couldn't use because it was raining.\", 'We just returned from a mid-winter weekend get away to Montreal. We picked this hotel due to its location in Old Montreal, close to restaurants, Notre Dame and the cobblestone streets. From the moment we arrived when the valet service looked after the car until we checked out the service of the staff was top notch. The rooms were nice with hardwood floors and exposed brick. The bar, Suite701, is the perfect spot for a night cap. We would definately return.', 'Absolutely one of the best places to stay while visiting old city Montreal. Staff was very friendly and accommodating. The rooftop bar and restaurant was beautiful with a view of Notre Dame Basilica. We stayed in Junior Suite 3402 and really appreciated the ambiance and decor. If I were to visit again I would think of staying in 3602 (second digit is the floor). The street noise was not bad however you will have early morning local truck deliveries.', 'Lovely hotel in an historic building with a fantastic location. Nice rooms, very friendly and service-oriented staff. Great little touches like chocolates on the pillow and turn-down service. Very helpful concierge. I was in Laval for business and went to Montreal for the weekend. I walked to restaurants, bars, the river, shopping. Close enough to walk to Mont Royal.', 'Stayed in one of the Suites which we got using one of the major credit card upgrades. Amazing bathroom with rain shower and a large tub. Modern room, clean bathroom, great service, great beds and blankets. The only thing that it lacks it is a pool but it can be overlooked. Location is great, the old Montreal.', \"Le Place D'Armes is an amazingly elegant hotel with staff that have a beautiful authenticity about them. The comfort and design of the rooms is worth the price and is a great fit for both business or personal occasions. If you are planning a trip to Montreal you simply need to check out this hotel.\", \"Well I have nothing but good things to say about this hotel, it was just wonderful in every way. Perfect location, spotless, nice staff. Possibly the nicest place I have ever stayed. If you go to montreal and dont stay here you're missing out!\"], 'entity_b_reviews': [\"My stay at the Fairmont Queen Elizabeth didn't exceed my expectations, and also didn't disappoint. It was a nice hotel, but didn't blow me away. My room was slightly smaller than average although it was clean and with a slightly more modern decor than a typical Fairmont. My one gripe is with the toilet. It's basically the kind of toilet you'd find in a public bathroom, with a flush that's located under the counter and hard to get to. I do enjoy the Miller Harris citron toiletries, so that is a plus. Overall I'd rather be more centrally located to the main downtown area or closer to Old Montreal. It was fine for business travel and a short trip, but if I was visiting for vacation with the same budget, I'd likely go elsewhere.\", \"I stayed here whilst attending a conference in the hotel. Arriving from Toronto by train was just about as convenient as it could possibly be since the station is directly beneath the hotel. The room was fine, with a fabulous view up the hill to Mont Royal from the top floor. Service from the check-in staff was polite and efficient and they rapidly corrected some incorrect charges for using the mini bar which I had not done. The hotel does look a little dated and not much of the glamour from when John and Yoko staged their bed in remains, but all in all it's a good value and well-located place to stay in Montreal. Make sure you join the President's club via the fairmont website before arriving so that you get free wi-fi access.\", 'This is a very nice older, upper end, well maintained hotel. The front desk and concierge staff were very helpful and the housekeeping staff exceptionally friendly and accomodating. John Lennon and Yoko Ono had a suite on the 16th floor that has a plaque that says \"Give Peace A Chance\". The bed was comfortable. The bathroom was too small. I personally hate any bathroom where my knees block the door from closing when seated. I continually worried that my toiletries would slide off the small shelf for toiletries into the toilet or jewlery would head south for the sink. I had some allergies which I suspect may have been an a/c ducting issue. Beyond these comments it is a nice hotel with very pleasant and helpful staff.', 'We spent a night at the Queen E with our grandchildren - it is a very nice place to stay - somewhat expensive but right in the center of Montreal. We upgraded to a suite which turned out to be very nice. The restuarant serves great breakfasts and dinners - again a bit expensive but very well done (the liver is great!). We visited the Biodome (lots of fun) and wondered around old Montreal area. Montreal has some great shopping areas we found.', 'I have been to this hotel countless time as part of frequent business travel. The location is great for business (right in financial centre) and for leisure (5 min walk to St Catherine Street where the shopping and restaurants are). I had an encounter of very bad service once. I took the matter to customer service aftewards and was impressed they listened and offered to upgrade my room next time I stay. Overall it is a good hotel and I would recommand to others.', 'I recently stayed a w.end at this Hotel,and I could not beleive that at the price they charge they put the coffee maker and the coffee as part of the mini bar!come on,most hotel,leave the coffee maker and the coffee free of charge in the room!', 'Was able to upgrade to the Gold floor and worth every penny. Had dinner at the Beaver club and enjoyed the excellent service. It made our stay very memorable. The hotel is beautiful in the winter, a magical place.', \"I've stayed here a number of times and this visit was no exception. I find the staff helpful and enjoy the history of the hotel. As well I find the location very convenient.\"]}, {'entity_a': '647813', 'entity_b': '186946', 'entity_a_summary': [\"This is a hotel located in an excellent place. It is perfect to walk to the entertainment district as well as pubs and restaurants. Rooms on the higher floors are excellent as they can provide a great view. The room itself is of a lovely quality and even had a full kitchen, which is incredibly useful. The hotel's complimentary breakfast was really good.\", 'This is a great hotel to visit and you will look forward to coming back again and again. The hotel is situated near lots of pubs and restaurants. The hotel room was on a high floor so there was a great view of the CN Tower. The room also had a full kitchen which was ideal. The morning breakfast was complimentary and served really great superb food.', 'The Residence Inn at Toronto is great and staying often is something worth considering. This hotel is close to nightclubs, the entertainment district, restaurants and pubs. Some rooms on the higher floors of the hotel can boast of lovely views, but other options are rooms with full kitchens to prepare your own food if you prefer. The complimentary breakfast was really great.'], 'entity_b_summary': [\"This hotel is great and pretty amazing, and you would definitely want to return. The hotel is located close to the CN Tower, the hockey Hall of Fame and the Rogers Centre for example. The deluxe room was quite small and didn't have a view at all, but it was pretty clean. There was a lot of noise that could be heard from the room, as well. The hotel's breakfast is in included in the room's price, but a little expensive.\", \"The hotel treated first time stayers with respect. The location of the hotel couldn't be better because there are nearby attractions, night-clubs, and popular sights within walking distance. Even the deluxe rooms in the hotel are not to be recommended. The rooms are small with poor storage. The showers are lukewarm and the hall is noisy with rowdy guests at all hours. Unfortunately the buffet breakfast didn't come cheaply but it the food was mostly fine.\", 'A highly recommended hotel that provides excellent customer service. This hotel is close to most of the major attractions in the area, with many of them being walking distance from the train station. The Delux room was not very impressive but was comfortable and clean despite being small. Cupboard space was also lacking and it was lacking much hot water in the shower. The hotel is considerable small, with limited room available for guests to move around and use some of the facilities with ease.'], 'common_summary': [\"The staff have been okay at this hotel and sometimes were great and helpful but at times they wouldn't treat guests incredibly well. The hotel is also located near to CN Tower.\", 'While some staff are always so helpful at this hotel, others were not great at fixing any issues that arose. The location is great for visiting the CN Tower, too.', 'Location was within walking distance to the CN Tower, the rooms are clean. Some of the staff were so courteous and helpful and super friendly, while others were very unhelpful towards their guests.'], 'entity_a_uid': ['UR37920427', 'UR10271843', 'UR37523896', 'UR115751733', 'UR10056626', 'UR120048007', 'UR39940747', 'UR65523511'], 'entity_b_uid': ['UR48922820', 'UR7827723', 'UR3777043', 'UR25702851', 'UR7417986', 'UR123988096', 'UR2583936', 'UR32452900'], 'entity_a_reviews': ['The Residence Inn was great. Very central to lots of things but the people working there were what made the stay so enjoybale. Leyla at the front desk was so helpful in guiding us as to what to do and never without a big smile on her face. Franco at the valet was so friendly and helpful and since he was our very frist imprerssion of the Residence Inn it certainly was a good one. The breakfast was great but again the staff was wonderful. Kemika (sp) was so helpful and warm and it certainly made for an enjoyable breakfast time with our family. The rooms were clean and modern. The parking charge was the only downfall at $35 a day. It would be better to include it in the room price.', \"I was treated very horribly by the staff at this hotel, I would not recommend it to anyone no matter who you are. Maybe its because they are new they don't know how to treat guests but I can tell you this much they ruined my entire stay and never bothered to do anything about it,until I took action. I am disappointed that a Marriott would act like this, but atleast now you know that they are not capable of effectively dealing with problem resolution during your stay.\", 'I have stayed at this hotel numerous times since it opened. I love the location, and the kitchenette in the rooms makes any hotel stay so much more comfortable. Of course, one can never complain about complementary breakfast! The staff has always been super friendly and helpful, from the maintenance and housekeeping staff, to the front desk and valet. Every time I go to Toronto I look forward to staying there!', \"We stayed in the residence inn over a weekend. After a Long drive from chicago we were assigned a room on a high floor as requested with a lovely view of the cn tower! The hotel is in the perfect spot for exploring the surrounding area and has lots of pubs and restaurants in close vicinity also! Book it, you won't be dissapointed :)\", \"Excellent location. 5 Minutes walking distance to both the Rogers Centre and CN Tower. Also walking distance to all the nightclubs in the entertainment district. Rooms are brand new and kept spotlessly clean. This property is also reasonably priced with the AAA discount. I can't think of a single negative thing to say about this property.\", 'A thank you party for the clients on our first night, staff very polite and room very clean. Close to the CN tower and King street, well located. The fact that you have a complete kitchen and a very nice breakfast included also are some of the reasons to go back to this hotel.', 'Stayed for 3 nights in August. Excellent location next to the CN Tower. Lovely room with full kitchen - handy with young children - excellent deli round the corner which made preparing meals easier etc. - less stressful than taking youngsters to restaurants. Absolutely superb breakfast each morning. Courteous staff throughout.', 'I have been staying in Residence Inn for the ast 5 months and its by far the best extended stay hotel I have ever visited. Excelent location,Food and Guest Services'], 'entity_b_reviews': ['1. The Strathcona is right in the heart of Toronto. Everything was at hand 2. I am used to the European Hotel of \"getting the arm in\" for a safe deposit box. Therefore it was a great enhancement that the safe deposit box was pro bono 3. The staff and the concierge was more than helpful. Well done & thank you 4. The rooms were lovely & clean & well maintained over our four night stay 5. The rooms were bijou, however we were comfortable because my wife & I are slim. If you are a disgusting big rotund(s); either lose weight or get another hotel 6. I would definitely stay here again', 'The hotel was not cheap - almost 200 Canadian dollars (including tax and a buffet breakfast) per night for a standard room. We were shocked by the so-called \"standard\" room. It was tiny: to do some ironing on the ironing board, or to have access to the electric power points, one literally had to move the furniture around. Cupboard space was inadequate. The shower was lukewarm. The only redeeming featrure was the location: not in an attractive part of Toronto, but at least within walking distance of the CN Tower and the main railway station. I thought it was exceptionally bad value for money, and would not recommend it.', 'The location of this hotel is its best attribute. I was in Toronto for an Argos football game August 12 and stayed at the Strathcona (for the second time). I paid $83USD for a Friday night. This is cheap by downtown T.O. standards. The room was small and clean with no view at all, but I did not care because I was noe in town for the view or the size of the room. Parking is two blocks down Wellington St. and cost $15CDN for a night - again not bad by T.O. standards. Overall a perefectly serviceable hotel if you are looking for a clean room in a great location.', \"This place is located right center to all the places we wanted to see. My friend and I went to see a concert and when I called to book they were the only hotel I found who did not talk down to you about not owning a credit card. They are in walkin distance from the train station, the cn tower, hockey hall of fame and the AC and the rogers center. It was amazing and being that we were first timers in a hotel they didn't make ya feel like any question was too stupid. I am going back to toronto and I am staying there again!\", 'Pros: Good location Affordable Cons: Hotel staff (see below) While our stay started out well, it turned into a disaster by the end. We were situated across from about 2-4 rooms of American college students who were in Toronto to drink heavily, smoke and make as much noise as they possible could. Despite numerous calls to the front desk to remedy the problem, they did absolutely nothing to help. We had two sleepless nights & this put a major damper on what was otherwise a fantastic trip. My advice: Pay the extra money & stay somewhere else!', \"My husband and me came for the Monster truck show at Rogers Center on Jan. It was super fun. What the hotel lacks in amenities and services they make up for it by being centralized. Near to the night-club scene, sports arenas; Rogers Center/Air Canada Center. Restaurants, theater, shopping, and best of all, being cheap cheap cheap. Did I mention cheap? The weekend was fun and exciting. Thanks Gravedigger for tarin' the place up!\", 'My wife and I stayed at the Strathcona while attending the Toronto Film Festival this past weekend. If there are only two in your party, this is a very cozy hotel. Our room was very comfortable and the location was great. You are one block away from the train terminal and the Airport Express shuttle picks you up right across the street. I would definitely stay there again.', 'I booked a Deluxe Room which to be honest was worse than Basic Rooms i have stayed in, in other Hotels. Buffet Breakfast was expensive and we ate at other places. Pub was fine though if you like watching Sport. Ideal location though for Attractions.']}, {'entity_a': '302130', 'entity_b': '302173', 'entity_a_summary': [\"The hotel has a level of homely comfort, but sometimes lack small personal touches, The hotel is connected to a subway and sits above the Pacific Place shopping mall., however it can take a while to travel to the business district. The rooms are really modern but unfortunately lacking in style and space. The hotel has a cafe that provides lunch but it was really expensive and equally as disappointing, however you can get drinks from the bar that's in the foyer. The hotel had good facilities available, such as a gym and a pool.\", \"This is a really great hotel, however, it lacks the personal touch. The location is great because not only is it connected via a big shopping mall but it is super easy to get to the subway station. The views aren't so great because really all you see are skyscrapers. The rooms of the hotel were modern and close to the elevator, but they were also on the smaller side and a little simplistic. The food at the hotel is very expensive and not enjoyable. The breakfast was nicer than the lunch. The hotel has very good exercise facilities such a good gym and a nice pool.\", 'A well recommended hotel, that is a particularly pleasant experience to visit. Very comfortable to stay in, however there are no unique touches that makes it personal and stand out from other hotels in the area. The location is okay as is near the subway and is atop the Pacific Place Mall, so shopping is very convenient. The recently renovated rooms are decorated to have a modern twist. However, even by Hong Kong and Tokyo standards, they are considerably smaller than other hotels. The cafe can be quite expensive in this hotel at any time of day, however the food is much better for breakfast than it is for lunch. Excellent facilities at this hotel to keep guests busy and entertained.'], 'entity_b_summary': ['Despite being interconnected to the airport this is a very quiet hotel that was actually awarded for being the best airport hotel. It is a fantastic hotel overall and you will probably wish to return to it. This hotel is ideally located for those who are flying as it is close to the airport and makes it superb for early flight visitors. The rooms in the hotel are large and spacious , but some of the electrical items in the room were not functioning. The buffet breakfast was great. The luggage was dealt with really well and the check-in experience was super efficient.', \"The Regal is the best airport hotel and still remains quiet despite the air travel. The hotel is the closest available to Hong Kong's airport and also a great hub to be able to get out and about the city. The hotel provides a free shuttle service to the local out let mall Tung Chung and other shopping centres in downtown Hong Kong. Whilst sleeping is really good here in the hotel's rooms, it did not feel like value for money and a lot of things in the room were not working at first. T The cafe provide buffet breakfast on the ground floor which is really good. One thing to mention about the hotel is that the luggage arrived and was checked in very efficiently.\", 'A lovely place to stay, with direct links to the airport. Excellent luxury amenities on site, including a swimming pool and gym for the guests to use when they please. The hotel is located near the airport but convenient for short visits to HK. The rooms are inconsistent. Some are great in that they are large and comfortable while others are disappointing because of non-working equipment in the rooms. The cafe on the lower ground floor of the hotel provides a very good buffet style breakfast for guests. Check-in was quick.'], 'common_summary': ['The rooms at the hotel were clean and spacious and the hotel staff were great.', 'The rooms here are clean as well as spacious and the staff are really excellent too.', 'The rooms are clean and spacious and the staff are very helpful.'], 'entity_a_uid': ['UR910258668', 'UR757818446', 'UR722715066', 'UR926273542', 'UR327869871', 'UR396019882', 'UR608758353', 'UR576115828'], 'entity_b_uid': ['UR29051644', 'UR129700604', 'UR135121861', 'UR131385721', 'UR4351624', 'UR126213484', 'UR128083213', 'UR122170988'], 'entity_a_reviews': [\"Would come back again and again We have been staying at Island Shangri-la once every year for the past 7 years. They have continued to improve their service year after year. The service is impeccable. The rooms were renovated a couple of years ago and they added a modern twist. But the level of comfort and 'homeyness' has been retained. With the Pacific Place mall right underneath the hotel, it is so convenient to just go down and shop, knowing that even if you carry a lot of bulky items. There is no worry about riding through the mrt or lining up to get a taxi. You can just catch the elevator and go right up to your room. It is always a perfect experience staying at the hotel.\", \"Good, but not unforgettable This hotel is certainly good enough as a business hotel. However, I really will not stay here for a leisure trip. As mentioned in another review, there are just no personal touches or charm. The staff is polite but the service is more mechanical, rather than from the heart. There is a pool, but it offers a view of skyscrapers nearby. It's really quite hard to relax in this evironment.The location is not bad as it is connected to the subway via a big shopping mall. However, in the morning, a cab ride can take quite long to reach the central business district due to traffic jam.\", \"OK, not spectacular. I spent a few nights at the Shangri La in August. I found the overall experience lacking.The rooms are bland, all function with surprisingly little style (surprising given the strong feng shui influence in HK). The rooms are also small, even by HK/Toyko standards. Lunch at the cafe was expensive and disappointing. Breakfast was much better, though also very expensive.The pool is really nice, and the gym is good. The staff was OK, but interactions felt rushed and reminded me more of a NYC business hotel than a true 5 star.Don't be afraid to try somewhere else.\", 'once again, great stay once again, a great stay, upgraded to a harbour view as it was our silver wedding aniversary, flowers, fruit etc as well, i love this hotel so much, such humble and smilley staff considering it is regullaly voted one of the best hotels in the world for everything, fab possition, great rooms, wonderfull staff, do i own it or work for them? no,we just love staying here, well done, shangri- la once again!', 'consistently excellent I stay at the island SRL frequently with business, and it isconsistently excellent - staff are always amazing. Isupposethe only picky downside is if you like modern it may be a littlechinzy for you!The service is outstanding.the bar lady in the foyer bar has remembered the drink I have on every visit (as she does with every repeat guest!) and the pool is simply relaxation at its best!Highly recommended', \"Great hotel, deserves its reputation Really great location next to luxury shopping mall and park. We stayed in the lowest category room (deluxe peakview) and had no complaints. Service was excellent, staff couldn't do enough for us and our 2 kids, great welcome. Breakfast amazing, loved the outdoor pool - a great stay.\", 'Excellent This place is great. The welcome was impressive, the location is great above Pacific place and the MTR station.The rooms were spacious, clean and had everything you could ask for. Staff are very polite and efficient.Highly recommended.', \"top of the line but you pay for it showReview(3417094, 'full');\"], 'entity_b_reviews': ['My name is Vince Palumbo and I am a coach/player for the Australian Stickfighting Team, and I would like to tell you all about this beautiful Regal International Airport Hotel which is in Hong Kong. Me and my team of 16 athletes did a one night stop-over in Hong Kong on our way to the Philippines where we were travelling to so that we could all compete at the 2009 World Stickfighting Championships which were being held in Cebu City there in Philippines. Our stay at the Regal International Airport Hotel in Hong Kong was just fantastic, and we all enjoyed the hotel and service very much, so if ever you need to do a stop-over there in Hong Kong for the night, please do not hesitate to contact the manager at the hotel by the name of Mt Jon Chiu, and I am sure that he will bend over backwards to really try and accommodate you or your group. So go ahead and spoil yourself for the night, and I am sure that you will be pleased with the service that you recieve there, ok! Enjoy this Fantastic Hotel in Hong Kong! Regards from GM Vince Palumbo (Australia)', \"My family and I concluded our two-week Easter trip to Berlin and London and returned to Hong Kong. After a long flight, we landed in Hong Kong's international airport around midnight despite very bad weather - raining cats and dogs. As we were very tired and the weather was terrible, we decided to spend the night at the Regal Airport Hotel before returning home in the city centre the next morning. Thanks to the convenient location of Regal, the heavy downpour did not get us wet as the hotel is connected to the airport by an enclosed link bridge. As a regular hotel guest, we got an upgrade this time. Our suite has a family room and a bed room, large and comfortable enough for my family of three. We had the best sleep in days amd woke up the next morning refreshed. The buffet breakfast at the cafe on the lower ground floor was very good too, not to mention the good and friendly services provided by its staff. No wonder, Regal was awarded the best airport hotel title for last couple of years.\", \"We've stayed twice at this hotel. Rooms were good but the more important factor for us was the hotel's location. For both times, the hotel's location allowed us to make the most out of our short visit to HK. We did not waste any travel time between hotel and airport, either at arrival or for departure, since it was interconnected. We are not hassled or stressed with rushing to the airport to catch our flight. The hotel also had regular free shuttle service to Tung Chung (outlet mall) and several stops at downtown HK. This also saved us bus/train fares. The hotel also has a pool and gym which unfortunately we were not able to try since we were always out exploring HK.\", 'I stayed here for a night in transit to Kathmandu. Average hotel to stay only if you are in transit, otherwise, why one should spend more money here at the airport rather than staying in city areas. Everything was expensive but some of staff were nice and room facilities were okay. So many things in my room was initially not working and I had to call house keeping to fix it such as safety deposit box, TV remote, Refrigerator (with anything inside).and so on. There was nothing that really attracted me so much. But in general I saw they have different facilities within hotel complex, including many restaurants and bar, pools etc.', 'We stayed one night between our flights from Australia to North America and arrived late in the evening. The room temperature never rose above 18 degrees Celcius and the shower taps were broken and therefore shower temperature adjustment was extremely difficult. Service was just OK and the breakfast which was included in our package was pretty good. For the price of the room we did not feel we received good value at all. Room was clean but bed was like sleeping on a sheet of plywood and there were no face cloths.', 'My third time in this hotel, excellent staff from Front desk. Luggage was sent quickly and quick check in. There is no other hotel closer to the airport. Good location for early flight visitor like me.', 'I usually avoid airport hotels like the plague, but the Regal at HK is very good. Clean spacious room, good dining facilities and a reasonable room rate.', 'A quiet place despite the airport. Free transport was wonderful.']}, {'entity_a': '155846', 'entity_b': '1108305', 'entity_a_summary': [\"The hotel was clean and reasonably priced. The hotel does need a makeover and would improve if some of the charges were lowered. This hotel is located in a really great area with a really handy walk to the shopping area and restaurants, as well as a convention centre nearby. The rooms are spacious and flawlessly clean with everything available that you could possibly need. The bed was unbelievably comfortable and provide a great night's sleep. The hotel is a little bit outdated and in need of a bit of an upgrade though. The hotel had an expensive breakfast however overall the food is great. The pool at the hotel is open for a good amount of time for guests. There is also parking available which is a bit expensive, but the hotel can help out with it.\", \"The price of this hotel is okay but it feels somewhat dated and needs an overall makeover. That said, the place is clean. The hotel is situated close to the Vancouver Convention Centre and 10 minutes from Canada Place where you can catch a cruise ship. The rooms of the hotel were very nice and spacious, with stunning views of the surrounding area. The morning pastries and buffet was pretty good here at the hotel. There was a great pool to use for hours, which is great. There is a deal to help out with the somewhat pricey parking, too, if you're thinking of using a car here.\", \"This reasonably priced hotel may be older and may need a makeover but the restaurant is great and it does have beautiful suites. Some of the charges could stand to be dropped to improve the hotel experience but it is not disappointing here. Perfect location as it is walking distance to all amenities and major attractions in the area. The rooms at this hotel are very clean and the beds in particular are very comfortable; perfect for a good night's sleep. They are also spacious and fully equipped for your stay, making the visit relaxed and stress-free, however they are in need of an upgrade. The food at this hotel is delicious, and is particularly pricey if you choose to eat in the restaurant as opposed to the buffet style breakfast on offer. Great facilities on site at this hotel, and although the parking can be quite expensive, a deal is usually provided to help with the cost.\"], 'entity_b_summary': [\"You will want to come back again and again to this hotel because it exceeds any other hotels in the city. The staff have a professional attitude, although due to it being a new venue some of the staff need a bit more time to develop. However, we were provided a complimentary round of drinks by staff due to this. The hotel provides a good breakfast and also an afternoon hor d'oeuvres buffet. The staff also provided a complimentary round of drinks by way of an apology. The hotel was a very good price and exceeded expectations set out by the website.\", \"This hotel is the best in Vancouver. This hotel provides really good access to main attractions that are nearby. This hotel has lovely large rooms that felt very luxurious. The housekeeping staff who were all excellent. It seemed like some wrinkles were still being ironed out because this is still a new hotel but check-in and check-out were smooth and easy. This hotel provides a really nice breakfast as well as an afternoon buffet that's included in the price, so it's definitely recommended to take advantage of this. The pricing compared to other hotels makes this a really reasonable hotel.\", \"This hotel is of average quality, but worth the visit. This hotel is central to some of the major attractions in this area. The rooms here are large and very comfortable. The hotel is relatively new and the housekeeping team was friendly and helpful and everyone had a great attitude. The hotel offers a nice breakfast and buffet inclusive in the costs, a lovely guest lounge to enjoy drinks and nearby restaurants. A very well priced hotel in comparison to others in this area. It is even better to look at in person than on it's website.\"], 'common_summary': [\"The hotel is highly recommended. It is in a great location and the staff at the hotel are very amiable and helpful to guests' needs.\", 'This hotel cannot be recommended highly enough because the location is so great and close to everything downtown. Not only this but the hotel staff were friendly and so helpful when catering to every need.', 'This hotel is in a great downtown location and it is highly recommended. The staff are friendly and helpful.'], 'entity_a_uid': ['UR121164376', 'UR122853460', 'UR125144526', 'UR71870551', 'UR124891387', 'UR118007264', 'UR110953324', 'UR117286776'], 'entity_b_uid': ['UR19449783', 'UR118045708', 'UR121884674', 'UR68413773', 'UR128198460', 'UR117852302', 'UR103649407', 'UR117531930'], 'entity_a_reviews': ['I travel to Vancouver regularly on business and always stay at the Sutton Place Hotel. It is truly a top end hotel from the well appointed lobby, excellent restaurant, beautiful guest suites and most important of all 5 star pulse customer service. Every staff member greets you with a pleasant smile and no request is considered too small. I stay in La Grande Residence where the one and two bedroom fully equipped suites make your stay, wether it is only a few days or a couple of weeks, relaxed and stress-free. The staff are so customer oriented that they always greet yu by name when you call the front desk and make you feel welcome on arrival by saying \"Welcome back to the Sutton Place\". The beds are very comfortable, you get an excellent sleep. The hotel is the preferred location for many Hollywood actors and crew shooting in Vancouver but the hotel staff treat every guest just as if they were an Oscar winner!', 'Sutton Place hotel was a great stay! The location at Burrard and Robson makes it super convenient for shopping and eating - lots of great locations around. Service was spot-on from all the staff. The hotel is a bit old but everything was still clean and renovated. Rooms were roomy and beds really comfortable. I only have 2 complaints - the parking is outrageous (40$ per night), and the hotel charges for internet (20$ per day). I think the hotel would be much better value if they would eliminate or lower some of these charges! Can definitely recommend this hotel for anyone wanting to stay in downtown Vancouver!', 'I stayed at the Sutton Place Vancouver for a 4-night business trip. During my stay I, unfortunately, came down with a really bad cold, so I used Room Service, which was excellent. I also ate in the dining room (excellent service). The \"gift shop\" is really more of a convenience store than a gift shop, but there are plenty of other souvenir-type shops around. Convenient walk to shops, restaurants and the stunningly beautiful Vancouver Convention Centre. Very, very comfortable bed. (No back pain, yay!)', \"We stayed here for 5 nights in a grand suite. The rooms were lovely - plenty of room for three of us, beautiful views, very quiet. We had wi-fi and continental breakfast included in our rate - the wi-fi worked flawlessly and the morning pastries were delicious. Service in this hotel is top rate - the concierges helped us with car rental, spa and restaurant reservations. And the location couldn't be better. We were able to walk everywhere downtown. We highly recommend Sutton Place.\", \"This was my third time staying at Sutton Place and love staying here. Great location, clean rooms, comfortable beds, friendly/helpful staff. However, I don't recommend eating breakfast at the restaurant, pretty spendy for what you get. Maybe the buffet is the better way to go. Parking is spendy but hotel usually has a deal that helps cover the cost of parking. But this is my hotel of choice when I come to Vancouver!\", 'First the service at Sutton Place was great and the staff was very friendly and helpful. The location is also great. Unfortunately the hotel itself is outdated and the rooms are in need of an upgrade. The price was very reasonable, but it would be nice to see this hotel receive a much needed makeover.', 'We were pleased with the location of this Hotel as it is only a 10 minute downhill walk from Canada Place from where the Cruise Ships depart. Our room was clean and comfortable. The Hotel is very close to the main shopping area and across the road we were able to catch the Hop-on Hop-off Trolley Tour.', \"It is central to all downtown activities and the staff are friendly,and helpful. The restaurant is great with always a little chef's surprise. We also enjoy the pool which has good hours for use. I have stayed with friends and family and for business and never been disappointed.\"], 'entity_b_reviews': [\"We stayed at L'Hermitage in Aug. 2008, just two months after it opened. It is a very sleek, modern hotel in a great location in downtown Vancouver. Because it was so new, the staff seemed to still be figuring things out. For example, we weren't able to check into our room the first night for over an hour after the guaranteed check-in time. To make up for this, the staff comped a round of drinks for us at their wonderful guest lounge on the 5th floor. The website did not do this place justice . there's a beautiful rooftop pool and hot tub and the rooms are large and luxuorious. Very nice breakfast and afternoon h'or doeurve buffets are included in the price. The staff was very friendly and made sure that all of our needs were met. I would highly recommend this hotel to anyone looking to be pampered in Vancouver!\", 'We will use this again. We stayed on 3 separate occasions in quick succession. The staff were always helpful, charming and friendly, the rooms elegant and spacious (wonderful bathrooms) and the location was great, particularly if you are flying in (2 blocks down from Vancouver City Centre station on the Canada Line. Don\\'t even think about a cab, on a Sunday when there is no $5 surcharge it cost under $6 for my wife and me to get to the airport. Heathrow and London Underground hang your heads in shame). Treat yourself to the $17.50 breakfast buffet, it must be the best \"posh\" value in Vancouver !', 'We are a family of 5 and had an extremely comfortable 4 night stay in their 2 bedroom suite. Kudos to Jean-michel & Hippo, Raymond, Elaisha, Mitch and a super housekeeping team for being so helpful and friendly. We felt most at home and strongly recommend to all who plan to visit Vancouver. Great location with Japadog and Viet-Sub eateries and Sears, Hudson Bay, Holt Renfrew nearby. Easy access to the main attractions. The team deserves a great pat on their backs for their great work attitude. Special thanks to Jean-michel for going out of your way for us.', \"This is a really great hotel - near new, small boutique style, great rooms more like small apartments with full kitchens. Fantastic pool and sun deck. Not a gripe, but you should know this hotel does not have room service - wasn't an issue for me, but may be for some travellers. great location - close to everything! Really reasonably priced compared to the other hotel i stayed in during my stay in Vanvouver.\", \"My stay at L'Hermitage exceeded that of any other I have ever had in Vancouver. I have stayed at many of the better hotels downtown while visiting this great city over the past 15 years. The staff were extraordinarily friendly and helpful without being overbearing. A great experience I will be recommending to friends, family and business colleagues. Thank you L'Hermitage.\", 'The front desk was fantastic. Check in and check out were a breeze as they let me spend more time with my family and getting to the wedding. It was the perfect end to our wedding night, the room was top notch! Thanks!', 'The amenities, breakfast buffet and service at this hotel are excellent. Concierge helped us reserve a table at a great restaurant nearby (Goldfish) and we used the bikes to see Stanley Park.', 'If and when I visit Canada again this hotel will be a definite. It is great!']}, {'entity_a': '224665', 'entity_b': '185718', 'entity_a_summary': ['This greatly loved hotel is well kept and comfortable. Everything you could need in terms of shops and restaurants are really close to this hotel making it superbly located. Additionally there are plenty of attractions such as a theatre and cathedral just around the corner. The view from the luxurious room was really nice overlooking the courtyard when it was sunny. Additionally rooms can accommodate four people while still being comfortable and really clean. The doorman was always at the entrance of the hotel to greet guests and the great staff were very welcoming. There was a buffet for breakfast and it provided great-tasting food. Additionally there is a great outdoor dining area that was well-suited for eating lunch. There were some really great toiletries available at this hotel. The price was really reasonable as well considering how comfortable and elegant the hotel is.', \"Excellent hotel that is highly recommended in this area. It's very clean and a comfortable place to stay. The hotel is in a great location only a ten minute walk from the metro station and near to the cathedral and the river. The cultural centre is a short taxi ride away. The rooms were large and luxurious, perfectly able to house four guests as requested. The room was comfortable and clean. Rooms on the first floor have access to a lovely courtyard garden. The hotel has a lovely outdoor dining area for lunch. The meals served at the restaurants are a good quality too. The hotel had lovely toiletries available and there was free Wi-Fi available.\", 'This hotel provides a clean and comfortable hotel and it will soon become your favourite. Centrally located, this hotel is close to grocery stores, restaurants, liquor stores, and next to Notre Dame Cathedral right at the center of the Old Quarter. The Metro is only about a 10-minute walk away or a quick taxi to the cultural center for some ballet or music. This hotel has luxurious, comfortable and clean rooms. The breakfast was amazing. Free WiFi and excellent bath products were included.'], 'entity_b_summary': [\"A good quality hotel that provides a nice and enjoyable stay that will not break the bank. The bathtub in the room took too long to drain and there is only the facility for one computer to have access to the internet per room. The hotel's breakfast selection was really good, as well as the selection provided at the bar. Rooms on the executive floor are provided with a complimentary breakfast, as well as appetisers and snacks for a nominal fee.\", \"The hotel is a well managed business and is a cost effective stay. This hotel is located downtown which is a great location to be. It's easily accessible to lots of fancy restaurants, shopping and even movie theatres. Unfortunately a downgraded room was disappointing and there is wired internet for only one computer per room. The breakfast is absolutely delicious with a great selection of food at the bar. Breakfast can be complimentary if booking a room on the executive floor and the evening appetisers only cost a small fee. Average hotel, and there is limited Wi-Fi available.\", \"The Bonaventure Hotel provides a lot for the cost and is wonderful. This hotel's location is great as it is in central downtown and close to the Bell Center and connected to the underground city for shopping and entertainment. Rooms are close to a private pool, with there being a pool for each wing of the hotel, and guests have private access to the beautiful landscaping that surrounds their rooms. This hotel includes an executive floor to book, where breakfast is complimentary or in the evening appetizers and snacks are at a minimal cost. The breakfast is very good too and they have a lot on offer at the bar as well. There is only wireless internet available in the lobby but everything else about the hotel is fine enough.\"], 'common_summary': ['The staff at this highly recommended Montreal hotel were friendly, warm and so helpful. The hotel is also close to sights, restaurants and shopping.', 'The hotel is definitely recommended and the front of house staff were particularly amiable and helpful.', 'The hotel is highly recommended. The location is great and the staff is very helpful.'], 'entity_a_uid': ['UR36762422', 'UR85588559', 'UR120285646', 'UR123280623', 'UR47348625', 'UR123353746', 'UR52212041', 'UR76052356'], 'entity_b_uid': ['UR120297160', 'UR111651352', 'UR88198341', 'UR7579758', 'UR73762744', 'UR17761356', 'UR125912634', 'UR6134184'], 'entity_a_reviews': ['The best part of this hotel is the staff. We were greeted by the ubiquitous doorman and all staff every time we entered the hotel. We felt as if we were the most important guests in the hotel and the staff were constantly concerned about our needs. The breakfast was a lavish buffet and again the wait staff was outstanding This is a beautiful hotel in the old part of Montreal and close to good restaurants, art galleries, and shopping. The room was luxurious, beautifully appointed, comfortable and spotless. It is just around the corner from a major theater and the cathedral and the river. It is short cab ride to the cultural center where they have the symphony, ballet and etc. The metro station is about a 10 minute walk.', 'We stayed at the Saint Sulpice in early October. The hotel has a perfect location right in the heart of the Old Quarter. Lots of restaurants and attractions in the surrounding area. The hotel staff is excellent, the rooms are beautiful with great bathrooms. Restaurant us good quality and group members enjoyed meals there. Concierge and front desk staff was warm and helpful. The doorman are always there to help and offer a smile. Stop reading these reviews and book it! There is nothing not to like with the Saint Sulpice. We travel and book hotels all over the world, this one is a keeper!', 'I rely heavily on reviews for visiting all over the world. This hotel was hands down one of the nicest and most beautiful places. It was a extremely spacious room, with a queen bed, couch, fire place, large fridge, stove and sink and a window that opened toward the street and a good size bathroom. Everyone that worked there was very helpful and nice and we felt very welcomed. The location is perfect and very central to a grocery store, liquor store, restaurants, etc. I would highly recommend this Hotel and really enjoyed our stay because of it.', 'Cozy, comfortable, elegant and reasonably priced the Saint-Sulpice is in the heart of old Montreal between just behind the cathedral. It is quiet, friendly and pet friendly. Although we were in Montreal on the shortest days of the year our first floor room next to a courtyard garden was sunny and welcoming. One of our favorite hotels anywhere.', \"Vacation with 3 sisters and Mom for Mother's Day. The only place I could find where the suite could accomodate 4 of us nicely. Clean, bright, and comfortable plus and it is right in the Old City (which was good for my mother). There outdoor dining area was great for lunch! Good staff, too.\", \"Great service, beautiful stylish contemporary decor! And even a Tassimo espresso maker in every room. L'Occitane bath products were amazing! Plus free Wi-Fi ! Central as it is located right next to Notre Dame Cathedral! Would definitely recommend this hotel to the most finicky of people!\", 'I love montreal, this hotel was available at a good value and came highly recommended. Very pleased with the location and hotel in general although slightly disappointed with saunda and fitness centre. I think there are better values out there.', \"Love this hotel. Perfect location to explore old town. Wouldn't even consider any other hotel in town. Our third visit and certainly will return again. The comp. breakfasts alone would bring us back.\"], 'entity_b_reviews': ['We chose the Hilton Bonaventure for our recent stay in Montreal based on the glowing recommendation of a frequent flying family member. The downtown location proved to be a great starting point for our city explorations. The room was clean, well laid out, and comfortable. The staff was courteous and al spoke flawless English. One evening we decided to sample some local ice wine we had purchased, the hotel quickly brought us glasses, opened, and then served us our wine. The breakfast was delicious, and the selection at the bar was above average. The rooftop garden was beautiful, although we didnat have time to walk though it in its entirety. Over all I give this hotel my full recommendation.', 'Hilton Bonaventure definitely provides bang for your buck. The layout for this hotel is very unique. It has many \"wings\" and each wing has access to its own private pool. It also has many water features and excellent landscaping throughout the outdoor patios that are accessible privately via the rooms. You don\\'t even realize that you are on the 17th floor once you get off the main elevator at the reception level and the view of the city from that floor is breathtaking. The staff is quite friendly and accomodating. The only drawback: wired interenet only available for 1 computer in each room. Wireless internet is only available in the lobby. However, I enjoyed my stay!', \"Recently in Montreal to attend a concert with my teen Grand daughter and her friend. We chose the Bonaventure after much consideration due to it's proximity to the bell Centre( concert Venue and also Hockey Game Venue which my husband was attending). The decision could not have been better.The Bonaventure is connected to Montreal's extensive underground City, lots of shopping, a skating rink, movie theatres.we were thrilled. To say nothing of the friendly hotel staff.to a person they were helpful and welcoming. This is obviously a very well run facility. The management and staff should be proud.\", \"There are no elevators and the staff doesn't tell you. I had to drag my bags upstairs and then downstairs. There were no bellmans available when we arrived. It was horrible for $100US per night. When I asked for a closer room, I was given a downgraded room. I've never stayed at a 4 star hotel without elevators and no bellmen. Also, the drain in the bathtub was very slow. You end up showering in 4 inches of water.\", 'hotel in central downtown location. Comfortable, the greatest asset is the garden with swimming pool on the top floor is even heated in winter ! Book a room on the executive floor and enjoy complimentary breakfast and evening appetizers and snacks for a small fee. A perfect hotel to stay in the city.', 'Wonderful quality hotel. The garden and pool are a great escape from the city below. The room was clean, comfortable and tastefully renovated - very modern yet so comfy. The staff was very helpful and the location of the hotel is perfect for every sight in Montreal.', 'Was participating at a business convention in Montreal. We stayed at this hotel. Nice hotel with comfortable beds and nice view of downtown Montreal. Near Place Bonaventure. Closed to Bell centre and all fancy restaurant around.', 'Everything about this hotel was fine. It is a typical, better-than-averagely run downtown Hilton property. I went there for a few days on business and ended up liking it a lot.']}, {'entity_a': '586662', 'entity_b': '232321', 'entity_a_summary': ['The hotel is great and provides a safe place to stay. It is a favourite with guests. The hotel is close to the metro line and Rembrandt Square and away from the louder tourist areas. The room was quite small at this hotel but it was quite modern and clean. Everything was wheelchair-accessible which was fantastic, even if there was no shower curtain and it left the bathroom floor somewhat wet. The staff at the front desk were unhelpful to guests. The hotel provides a fantastic selection of food in their seafood bistro. The WiFi in the hotel lobby is very slow. The carpet was dirty and the exterior of the hotel is noisy and overcrowded.', \"This is a recommendable and respectable hotel for a great time whether you're travelling alone, with a partner, or with the family. The hotel is situated in a perfect location and is very accessible via the metro station that is only five minutes away. Adding to the great location is the fact that there are plenty of entertainment options very close-by. The rooms in the hotel were modern and well appointed. Both the room and the bathroom were easily accessible for wheelchair users too. Some of the staff was really rude. There is a great seafood bistro at the hotel. The hotel's carpets are absolutely filthy and the surroundings do not help with this vibe - it was crowded and noisy and after it rains the street is really disgusting.\", \"A great hotel to stay at, it is central to the city centre of Amsterdam, yet still at a very reasonable price. With the hotel being only five minutes from the metro station access to travel and entertainment near Rembrandt Square or you can simply walk to most places. The rooms are very nice with great bathrooms. and the beds are so comfortable. Some rooms are on the small side and some are wheelchair friendly. Particularly rude member of staff on the reception desk that is very unhelpful. This hotel has a great seafood bistro restauraunt. Although there is Wi-Fi available at this hotel, it can be very slow and the staff aren't the most efficient at helping guests log in. The hotel is also quite dirty, particularly the carpets, and it can get very noisy and crowded in places.\"], 'entity_b_summary': ['The stay at the hotel was quite expensive, but absolutely worth the cost. No complaints. The view from the room was great because it overlooked the canal. The wireless internet in the room was free, which is really useful. Even better though is that the rooms are luxurious and decorated to a lovely standard. All of the staff were lovely because they were friendly but professional at the same time. They were clearly very knowledgeable, which was just wonderful. The hotel provided free internet services and also the use of a printer too if needed.', 'This hotel is a little bit pricey however it is well worth it and there is nothing at all to complain about. The location is ideal for those wanting to sight see, as everything is in walking distance from the hotel. The room in the hotel was very spacious and was overlooking the canal. Free wireless internet is also provided for guests. The staff were amiable and very professional, with a number of them able to speak different languages. The hotel offers free internet and also a printer if required.', \"Although it is quite an expensive hotel, it is great value for money as it is of high quality and makes for a really comfortable stay. For ease of sightseeing this hotel's location is perfect. All within walking distances are the Dam, museums, the Begjinhot, restaurants and bars and the Red Light District. The room was spacious and overlooking the canal and very comfortable beds. It also came with free internet access. The staff were very helpful and friendly. The hotel does offer free internet and if you need it you can use their printer.\"], 'common_summary': ['The rooms of the hotel are clean and the hotel is definitely recommended. The hotel is in walking distance to the sights. Despite being quite pricey the breakfast was super tasty and sumptuous.', 'This is a highly recommended hotel with clean modern rooms. Additionally the hotel is peacefully located but close enough to walk to the centre of the city. The breakfast provided in the hotel was quite good too.', \"The rooms at this hotel are very clean and the location is within walking distance to everywhere you'd want to go. The breakfast here is lovely, however it is quite expensive. Highly recommended.\"], 'entity_a_uid': ['UR70013333', 'UR12844758', 'UR115778583', 'UR7636116', 'UR97787723', 'UR8838616', 'UR114888446', 'UR96431990'], 'entity_b_uid': ['UR31018035', 'UR116411217', 'UR77980942', 'UR126529324', 'UR19018380', 'UR4599858', 'UR120306249', 'UR120194812'], 'entity_a_reviews': [\"- First thing is the location, no need for public transport, we could walk from hotel to anywhere. - No need for the expencive hotel breakfast 'cause in the walking distance of 20-50 meters on the Rembrandt square there are cheaper places to eat. - We got a deal in the hotel and got one night for free. - In the same walking distance- on the rembrandt square- there are couple of clubs. I remember one was awesome, one was terrible, and in the third we couldn't enter, the tickets were sold out. And there is a great coffeshop just by the entrance of hotel :D - Very clean, tidy and a safe hotel for reasonable price. -I'm definintely sleeping there again and recommending it to friends.\", 'Me and my boyfriend stayed here as a 30th Birthday treat and had a great time. The room was immaculate, and the bed amazingly comfortable to the point that we did not leave it until lunch time on the first morning! And was just as hard on day two. Great location too. We paid for a cab from Central St on arrival but felt rather ripped of as it was a20 and was only a 5 minute ride. On the way back we caught a tram which was much cheaper (actually it was free as we did not realise you had to pay the driver when you got on!) and just as quick. Would definitely recommend this hotel and will hopefully be going back in the near future!', \"the room was very small, but that's not the biggest problem - the receptionists were. the wifi at the lobby was very slow and the receptionists didnt even know how guests can log on (user name, password and patience required). but the worst was a french-speaking tall male receptionist who was extremely rude and made it very clear that he didnt like being asked about how to connect to the internet. he made condescending remarks in french about american tourists (and i'm not even american!). the carpet is filthy and so is the hotel's surroundings - noisy, crowded, and the street is disgusting after rain.\", \"I booked this hotel after reading reviews on this site and Expedia, with a real priority for me being its cleanliness and quietness. It didn't disappoint on either count and had the added bonus of being in an excellent location - far enough away from the slightly too brash touristy bits but near enough as not to be a long walk from anywhere useful. The modern room was nice and the bathroom was excellent, although some might be surprised at the European practice of having no shower curtain so the bathroom floor gets a bit wet. I'd definitely book here again.\", \"The Hotel is perfectly placed for both travel and entertainment on the edge of Rembrandt Square. It is within very easy walking distance to everywhere in Central Amsterdam, but sufficiently on the edge for it to be quiet at night. It has a first class seafood Bistro if you wish to eat in. It's main clientele are business and corporate, which should tell you a lot about the overall quality and respect this hotel has. This has been my hotel of choice, even when travelling privately to Amsterdam with family.\", 'A good hotel bang in the centre of Amsterdam. Rooms are clean and modern and I will be staying there again. A couple of things to note: My room had mosquitos (common for AMS this summer), they were fully booked so could not give me another room but did eventually find some fly spay so problem solved. Breakfast is expensive at EUR15, just take a walk down the street and have a better breakfast in one of the cafes.', \"We found our room the be of nice size and bothe the room and bath were easy to navigate in a wheelchair. The beds were compfortable and the room were nicely appointed. The staff was most helpful with directions and other touristy information. The food in the restaurant's food was quite good with a nice selection. We would recommend the Eden Rembrandt Square as our stay was quite good.\", 'The location of the hotel is excellent. Its 5 mins from the Waterlooplein metro station and hence easily accessible. Room service was mediocre - the staff came to clean the room once in 3 days in spite of a reminder. Hotel rooms were of good size.'], 'entity_b_reviews': [\"Located on the Herengracht, one of the old canal rings encircling the city, the Ambassade is beautifully decorated - we were open-mouthed at the quality of the furnishings. And it was staffed with friendly, knowledgeable, multilingual employees. The location was perfect - we were within walking distance of museums, the Dam, the Red Light District, the Begjinhof, great restaurants and bars (we loved the Five Flies just around the corner, built in 1634). The breakfast was sumptuous, but seemed a bit pricey, so we only tried it once. WE stayed for 3 nights, and wouldn't hesitate to recommend it.\", \"Stayed in this hotel on Saturday night for a very brief visit to the City. The staff at reception were exceptionally, kind and help and just couldn't do enough for us. Joost Van Der Kwaak led the charge here and was amazing. The rooms are divine, very large and beautifully decorated - the most comfortable beds and pillows - we even managed to get a room with a superb view over the canal. I loved the fact that everything is within walking distance - the museums, flower market etc. Will definitely go back. Yes it's a little pricey but well worth every penny!\", 'We stayed there for around 5 days in April of this year and would definitely stay there again if finances allow. The staff was very friendly and professional. The room was very nice and clean. We had a room overlooking the canal so that made it even nicer. Free wireless internet in the room. Nice clean bathroom. Comfortable bed. The location is also great, it was pretty much walking distance from everything we wanted to do. It was pretty expensive, but I do believe you get what you pay for - high quality! No complaints at all.', 'The staff was amazingly handy in every aspect. I simply found the hotel in Trip Advisor, never heard about. They rent bicycles themselves, so you are not attached to the time of rental stores. For example you can return the bike in the middle of dawn. Nice and stylish rooms. They upgraded me to a better room with canal view. They respond to all e-mails, request. They are 100%.', 'Spent a night at this very comfortable hotel. One of the most comfortable rooms I have ever been in. Everything is perfect. Hotel is centrally located bu quiet. Just be careful ate at night to remember which side of the canal the hotel is on, if you forget, you may be wandering around for a while. Free Internet and a printer too if you need it.', 'Right in the center, close (walking distance) to everything you had to see in Amsterdam, bathroom is very, very clean. Rooms are spacious with free internet access if you have a laptop (there is also a free access near the front desk) and.excellent breakfast! PS: The staff were incredibly friendly and helpful', \"We are fussy and can't think of anything critical to say about this hotel. Service, cleanliness, room size, breakfast, location and everything else were wonderful and, considering the quality, the cost was quite reasonable.\", 'I stayed at the ambassade in Oct staff: respectful,professional location : ideal room: standard.clean,cosy price:reasonable']}, {'entity_a': '86983', 'entity_b': '87016', 'entity_a_summary': [\"This is a really great little hotel. It isn't a full-on resort but it was nice all the same. There are many things to do within walking distance. The hotel rooms are smaller, but clean and furnished well with antiques for some charm. The breakfast at the hotel was adequate. The coffee was great. There were some items missing and there was a run-down feel here. The carpeting did not help with the worn-down atmosphere. The elevators weren't that big either meaning a surfboard could not even fit in it.\", 'This hotel is currently undergoing renovations so the outside is an eyesore. Air conditioners are outdated and not well maintained too. There are great sights to visit nearby. Some of the rooms were small but nice, others smelled a bit so an upgrade may be necessary to get a nicer experience. The nicer rooms were very clean and decorated beautifully. The breakfast in the atrium is superb when there is enough food for everyone. The rooms could do with some upgrading as some of the carpet has been worn down. Items are sometimes missing from the rooms and the elevator is not big enough for a surfboard.', \"This is a great hotel with nice touches but not a full resort some might look for. It appeared to be having renovation work as there was scaffolding and workmen there. Also, the AC barely worked and was noisy. The hotel is within walking distance to everything such as the International Market Place. Whilst clean and pretty nice the rooms aren't large at all and a little disappointing. Breakfast is average, but it can be enjoyed next to the indoor atrium for guests to enjoy. The carpet is in need of replacement and items in the room such as soap dishes were missing. The elevators were too small as well.\"], 'entity_b_summary': [\"A great stay at this hotel and will keep coming back. It can get really busy here but you wouldn't know it. The rooms in the hotel were luxurious but the walls were very thin. The hotel has good access to lots of local restaurants with a wide variety of choice available. There were some great aspect to this hotel such as the super-pool, although it is recommended you head down for a lounger quite early but this isn't a big deal.\", 'The hotel is very large and can accommodate thousands of guests but it still has that personal touch. It has a lot of shops and a selection of restaurants to attend. A perfect venue for those on their way through Hawaii. Whilst luxurious unfortunately the room has walls that are paper-thin. There is a nice view out to the sea however. You will feel spoiled by the twice-daily maid service provided. There is a good selection of restaurants available at the hotel. It is worth noting that you need to get down to the pool early if you would like a lounger, but it is worth doing.', \"This is one of the busiest hotels on Waikiki beach. During a fully booked 'President's Week' it was busy but did not seem over crowded. The rooms are very luxurious that include stunning views from the small patio. However, the walls are thin so it does get quite noisy. The service provided is exceptional day and night. The hotel offers a choice of restaurants. Get down to the pool early to get a lounger for a day at the pool or get away on a day journey or spend a day at the beach.\"], 'common_summary': [\"This is a hotel resort that's in a good location for seeing the nearby ocean and beach and a good view of Hawaii. The staff at the hotel were very professional. Would definitely recommend the hotel.\", 'This hotel is highly recommended. The location of this hotel is perfect and not only provides great views but also close to the beach. The staff provide a really great friendly but professional service.', 'This hotel is highly recommended. It is just across the road from Waikiki beach. The staff are really helpful and incredibly thoughtful.'], 'entity_a_uid': ['UR993890989', 'UR524243685', 'UR898800181', 'UR237009215', 'UR752639907', 'UR569266566', 'UR643571556', 'UR767209001'], 'entity_b_uid': ['UR152757434', 'UR857416342', 'UR776348320', 'UR376066472', 'UR599313126', 'UR355179625', 'UR373100703', 'UR514810687'], 'entity_a_reviews': [\"Terrible disappointment Maybe a 1 or 2 star, but NOT 4! The staff was exceptional. Very helpful and thoughtful.The rooms were a disappointment. They are all run down (at least the 3 we saw), items are missing and not replaced, i.e. soap dishes, etc. The carpeting is torn and worn. The Air conditioners barely work, and are rusty and noisy. All the rooms we saw smell from odor. We had to pay to Upgrade to the top floor to get a halfway decent room, which is still 2 star in my opinion. The elevator is not large enough for a surfboard to fit in it (kind of ironic don't you think), so you have to leave your board in a lockup room in the lobby.\", \"Great little hotel! We stayed here for two days before leaving the islands after getting married on Kaua`i in August, 2004. We booked with the Entertainment Card discount, so the price ?even with daily parking ?was great. I prefer being at the eastern end of Waikiki (where the Beachside is) and it's proximity to the beach itself, right ACROSS THE STREET, is perfect. The room was small but nice. Upon hearing that we just got married, the desk clerk upgraded us to a full ocean view room and sent up a split of champagne ?a very nice touch. Needless to say, the view was spectacular and we enjoyed having a glass of wine on the balcony before heading out to dinner both nights.\", \"Would recommend this hotel. We stayed at this hotel in October of 2005 for 7 days. The hotel was small but we knew that when we made our reservations. We found that the stafff was extremely helpful and gave us advice on the various activities that we should participate in and would help us to sign up for them. If your looking for full on resort than this is not your place but it was perfect for what we needed. The rooms are small and there is no pool on site. Being across the street from the beach we wouldn't have used the pool anyways. We thought that is was in the perfect location, we were able to walk to everything. I would recommend this hotel and would also stay here again.\", \"Fab Location Literally across the road from Waikik beach, easy walk to all Waikik has to offer. Understand hotel has recently been bought by Aqua chain and looks as if it will be undergoing renovation in the near future - scaffolding all around hotel during my stay with workmen there friom 9 - 5. Interior does need updating and is rather worn and dated - however, location compensates for this.Breakfast is a bit of a joke though and unless you are there when it goes out forget it, my 1st morning there I arrived at about 8.15am to be told there was nothing left! Even when there there is food left it's poor quality muffins only.\", \"Great Staff, superb location - will be back ! First time visit to Hawaii - this hotel's location could not be beaten - just cross the road and you are on Waikiki beach and the International Market Place is a few yards down the road. Staff are very friendly and cannot do enough to help. Rooms are spotlessly clean - will definitely stay there again without hesitation.\", 'Very oriental The rooms are not large, but decorated beautifullly with antiques. Breakfast in the atrium with the Kona coffee was great. Short walk across the stree to the beach. I would recommed it to anyone.', 'Excellent for the price This was taken from the beach, the brown building to the left of the blue signed building is the', 'Small room.Great view View from the balcony.'], 'entity_b_reviews': [\"great place We got back a week ago from a week long stay at the Hilton Hawaiian Village. I read some of the reviews before we left, and cannot understand what all of the complaining was for from some of the reviews that I read. We had an absolutely great time. The hotel was completely booked (President's Week), and we estimated that with 3,000 rooms, there were approximately 10,000 guests that week, but you would never know it. You did need to go down early to get a lounger by the superpool, but that was nothing to complain about. The staff was courteous, the rooms were terrific and the view was to die for! The hotel grounds are beautiful and there really is no reason to leave the hotel grounds. We did go on day journeys but also enjoyed the days sitting by the pool or on the beach (which just happens to be the best part of Waikiki Beach.) I would go back to this hotel in a heartbeat and would recommend it without hesitation.\", \"There's no place like HHV! Just returned from our third visit to Hawaii and the Hilton Hawaiian Village (March 7-13). I cannot imagine staying anywhere other than HHV. It is like visiting an old and cherished friend. Our last two visits have been spent in the Ali Tower and the staff there is wonderful. You can quickly become spoiled to the twice a day maid service and the nightly turn-down service. You would have a wonderful vacation if you never left the Village. Everything you can possibly need or want is there. I even look forward to the almost daily trips to the ABC store! Just steps away from the beach, HHV is truly a part of paradise!\", 'Excellent Stay Spent only 1 night in the Kahlia tower on the executive floor. I found the staff to be top notch, very friendly and professional. The room in the Kahlia tower was newly built and very luxurious, with a small patio and a great view out to sea. The resort is very large with many shops and a great selection of restaurants. We chose to leave the property and go next door for dinner to Kobe Steakhouse, well worth the walk. Over all this is a great resort for either a stop over before your Hawaiian vacation or even a week long visit. Expect resort prices for food and drink, but good quality.', \"Best Hotel on Waikiki Beach! This is my second stay at this hotel. The service is wonderful and they have the nicest, cleanest and widest beach. They try their best to accommodate all guests' requests in spite of being one of the busiest hotels in the area! A wide choice of restaurants and shops. If you have the $$, would definitely recommend it. There's no other hotel like the HHV on Waikiki Beach!\", \"disappointing Was on the 31st floor of the Rainbow tower. Decor and furnishings are right from the 1970s. Walls are paper-thin - was kept awake by a crying baby next door. Hot water took about 20 mins to arrive. Extractor fan in the ceiling was full of hair. If I had been paying any more than the conference rate, I'd be upset! Very disappointing\", 'loved it We stayed only one night after staying on Maui and loved it. The hotel was expensive but we were on the waikiki side on a high floor and the view was incredible. Worth it!', 'Loyal Hilton guest says.nice hotel but average resort Beach and ocean view from the 20th floor of Rainbow Tower', 'The how to save yourself from never leaving the HH Village Guide! Penguins at Hilton Hawaiian']}, {'entity_a': '203083', 'entity_b': '208552', 'entity_a_summary': [\"The hotel is tranquil and clean and overall an enjoyable place to stay whilst in Rome. The hotel is close to a number of local restaurants and the busier areas of Rome. The rooms in the hotel are adequate with spacious bathrooms. The staff leave a chocolate on the beds each night for their guests. The buffet breakfast was very good. The hotel's corridors were quite plain and could benefit from some decoration. The free Wi-Fi worked well and the Bulgari toiletries smelled lovely.\", \"The hotel is peaceful, spotless and comfortable enough. The hotel's location is unbeatable and great if you like the hustle and bustle. You will be able to walk to main places in the city including great historical locations as well as some nice restaurants. The rooms in this hotel are always really nice and have good bathrooms as well. The sheets are always clean and there are delicious chocolates provided on the bed each night. There was the option to have pre-dinner wine while watching the sunset, which was lovely. There was free WiFi as well as gorgeous toiletries provided, which made for lovely soaks in the bathtub. The decoration in the corridors needed a little bit of updating but otherwise facilities were great.\", \"The hotel is in the Via Veneto area and is comfortable and quiet with clean rooms. The location of this hotel in Rome is great. It is close enough to the attractions of Rome to walk to most and there are plenty of really nice places to eat nearby as well. Some of the rooms are on the small side but an upgrade to one of the newly renovated suites will sort this issue. they are spacious and modern and very nice. You can start your day with a very nice buffet breakfast in the morning or having wine before dinner while watching the sun setting on the hotel's rooftop. This hotel has access to many amenities, including free Wi-Fi. Although some of the decor could do with being updated, it's got everything that's needed for a good stay.\"], 'entity_b_summary': [\"The hospitality here at this hotel was so lovely and made the stay really good. There's nothing at all to complain about and cannot recommend this place enough. Everything is so close to this hotel that it's perfect based on location alone. Historical sites aren't too far by foot and places to eat and drink are only 50 metres away, with the river nearby too. The rooms are bursting with character and really lovely with period decoration and style. The bed was large so that is a bonus. Many of staff members were able to provide detailed information about the city and ideas for what to do and where. The hotel provided a breakfast to guests that was adequate, but with a superb coffee available. The top-deck roof garden is really spectacular and live up to the photos provided on the website.\", \"The fantastic stay at the hotel made Rome even more pleasurable and they went out of their way to make the visit special. The hotel is located in the centre of Rome round the corner from the Campo de' Fiori. It is a 20 minute walk to Vatican City and 20 minutes to the Colosseum. The rooms in the hotel were perfectly adequate. They are in a European period style and furnished well. The bed was a good size and there was air con available in the room. Despite the sometimes noisy square nearby, nothing could be heard in the room. All staff members were approachable and kind despite being a wealth of knowledge. The breakfast was filling and plentiful, as well as some great coffee to go along with it. The hotel's roof garden is fantastic and the hotel is exactly as pictured on their website.\", \"The experience at Hotel Campo de ' Fiori was very special and wonderful. The location at this hotel is great for sight seeing. It is near Campo de ' Fiori and near central Rome and is great for food and nightlife. Also within walking distance to the river and many other sites including Vatican City or the Coliseum. Lovely rooms, designed beautifully in a period setting. The rooms are typically small in size, however they are loaded with charm and character that makes up for this, and the bathroom is fantastic. Although the location is noisy, you are unable to hear anything with the windows closed. The staff was knowledgeable about the city and the sights. This hotel offers ample breakfast but also drinks are available on the viewing deck, and the coffee is excellent. The hotel's roof garden is great.\"], 'common_summary': ['The hotel is recommended and the staff were really helpful. The location is just near to the Piazza Navona.', 'This hotel is really recommended because the staff are very friendly.', 'This hotel is highly recommended and most of the staff is very helpful.'], 'entity_a_uid': ['UR80926969', 'UR109152587', 'UR76188254', 'UR124733792', 'UR119004065', 'UR118792784', 'UR84950314', 'UR90640221'], 'entity_b_uid': ['UR43200846', 'UR122464312', 'UR89094854', 'UR68772372', 'UR81233771', 'UR19077879', 'UR117621941', 'UR116622801'], 'entity_a_reviews': ['Like the other reviewers, I have to say this hotel is close to perfect. The rooms aren\\'t as large as I would have liked (we were upgraded for an 8 night stay from a deluxe to one of the Richard Meier ultra-modern rooms on the two \"executive\" floors). I had been to Rome once before and, on the recommendation of friends, stayed in a fancy hotel on the Via Veneto. The Via Veneto area is sterile and not fun and we didn\\'t really enjoy our stay there. But the Raphael, just off Piazza Navona in the historical center, is a whole other story. You walk out the door and you\\'re right there, in the midst of everything. As befits a Relais & Chateaux hotel, everything is elegant and the staff and service are the best. Really, the only problem is paying the bill at the end!', \"Our second stay here in 12 months and the service from this hotel is enough to make me want to return to Rome, just so I can stay here again! The location is second to none and we have been able to walk to all the main sights from here. We have stayed in three different rooms at this hotel and they have all been fabulous. The buffet breakfast is very good and the rooftop is a pleasant area to enjoy a drink or two after a long day of sight seeing. We were left 'tasty treats' on our room every day and we love the adjustable beds.The staff at the front desk are very helpful and friendly and the doorman was a delight! Hopefully we'll see you again next year!\", \"We stayed at the Raphael for 3 nights and we had an enjoyable stay there. Upon arrival we were upgraded to one of the newly renovated Richard Meier rooms, which was very nice, with a spacious bathroom and clever use of the available space. The hotel corridors could benefit from a decoration as they were a bit plain, and the elevator needs a small facelift, but nonetheless it was fuctional and the guest doesn't spend any time there. Breakfast was quite good, especially for Italy, and the location just off piazza Navona, ideal. The only downside is the staff, which while friendly and kind, didn't go beyond their duties for advice etc.\", \"Hotel Raphael is absolutely gorgeous! It is very comfortable, clean and quiet. A reasonable journey from Campiano Airport should cost you no more than 40 euro. Our sheets were changed every day and the delicious chocolates on our bed every night were fantastic. The Bulgari toiletries smell gorgeous so enjoyed several long soaks in the bath. Breakfast is amazing, made extra special by starting the day with a refreshing 'Bucks Fizz' Everything about the hotel is perfect the staff are very courteous and are most helpful. Would highly recommend and would most definately visit again. - Mike and Alison\", \"A beautiful hotel in a very bustling area of Rome. You expect everything to be perfect at an R&C but this is an entire staff taking service to whole new level. Arrangements for cars, tours and restaurants via email.way before you get there. Thanks Anna. A glass of prosecco delivered anywhere in the hotel at the direction of Stephen in the restaurant. I can't say enough about this hotel\", \"Selected hotel via Australian website. Very good value. Great location - could walk to all main places and sights in Rome. Brekky was a good size buffet and on roof top garden at level 6. Rooms not huge but good and nice bathroom. Wifi worked and was free. Loved having pre-dinner wine on roof top while seeing the sun go down on St Peter's basilica.\", 'Highly recommend Hotel Raphael as it was perfect for my solo holiday. Hotel Staff were excellent in making my stay comfortable. The hotel is perfectly situated in Piazza Navona so close to dining and shopping and of course historic sites.', 'We were upgraded to a suite upon our arrival, and it only got better each day. The location is perfect for accessing all the historic sights on foot, and there were tons of fantastic restaurants right nearby.'], 'entity_b_reviews': [\"Stayed here for 4 nights with my partner in August '09. The hotel is located 50m around the corner from the famous Campo De 'Fiori which is a wonderful area for eating and drinking as well as having great nightlife. The room itself was beautifully done in a period setting. Bed was large and aircon was fine. Staff extremely passionate and friendly about when and where to see the sights. Location is excellent as only a 5 minute walk to the piazza navona, 10 min walk to the trevi fountain and pantheon and 15 min walk to Vaticano and Colosseum. Also only a 10 min walk to the river and the wonderful trastevere area of eating/nightlife. There is a viewing deck above the top floor which is great to relax and have a few drinks and offers a really nice view of the area as well which was a bonus! No complaints whatsoever here, had a wonderful stay!\", \"I can't say enough about the wonderful Hotel Campo De Fiori! The location is perfect for sight seeing in Rome. The rooms are typical European sized but beautiful and well-appointed. I was a little concerned about potential noise from the nearby square but with my windows shut I didn't hear a peep. The photos on the web site are accurate and the roof-top deck is a dream! The breakfast was ample with excellent coffee. The best thing about the hotel is the amazing staff - Valentina, Matteo, Barbara, Gabriele, Angelo, Adam, Andrea & Andrew - not only efficient and well-versed on the city, they were kind hearted and lovely. They bent over backwards to make my stay truly special and I can't wait to return!\", \"My wife and I visited Rome for the first time this past November, and we couldn't be happier with our stay at Hotel Campo de Fiori. The location of the hotel is perfect, 5 minute walk to most of the sites, 20 minute walk to the Vatican City and 20 minutes the other way to the Coliseum. The hotel staff is extremely helpful and make good recommendations on restaurants (La Scalla and The Library were two of our favorites, and will go back for sure to both). The rooms were smaller - but they were loaded with character and the bathrooms were superb.\", \"After our port intensive Med cruise it was a relief to have such a haven as this hotel to unwind for three nights. We loved our top floor room with it's own terrace and the access to the fabulous large rooftop terrace was right outside our door. The terrace was not only a great 360 degree view of the historic area of Rome but it was such a great social place to join others over wine in the hours leading up to sunset. Magic. The staff is so helpful and made us feel so welcome there. Highly recommend this boutique hotel.\", \"If you are looking for a place with a central location and superb roofterrace and don't mind being ripped off, this is it. All you need to overlook is the dreadfull breakfast (for instance, the cheese had never seen a cow and the orange juice looks radio-active), the claustrophobic rooms and lack of any extras cq basics in the room (water, toilettries, etc.) that you might expect for the price they charge.\", \"Thank you very much for your hospitality while we stayed with you during Aug 1 - 4, 2008. My wiffe and I were extremely pleased with the hospitable staff, general cleanliness, quiet rooms, delicious breakfast and all. The overall experience at your hotel was very good and this made Rome even better for us. We would look forward to coming back to Rome to stay in the Hotel Campo de' Fiori. Thank you.\", \"Great hotel with very kind and very helpful personnel. The roof garden is absolutely great! Very nice view over Rome. The rooms are lovely! The location is perfect: at the Campo de' Fiori and near the ancient centre of Rome.\", 'I would so recommend this hotel for the location, the accomodations, the friendliness of the staff and the amazing roof garden. I thank Travel Advisors for sending us in the right direction in the first place']}, {'entity_a': '202988', 'entity_b': '233491', 'entity_a_summary': [\"This flawless hotel provided a great stay and it's really recommended. The hotel is closely located to Giotto's Campanile. The rooms in this hotel are really great and quite spacious. There was some outside noise from the bells in the morning however. It was difficult to navigate the hotel due to the floor layout.\", 'The stay at the hotel was a brilliant experience and there were no faults . It was an impeccable choice to stay in Florence and was highly recommended. It is worth noting that you can clearly hear the bells from the Duomo in the morning, which may be a negative for some. Eating lunch on the rooftop terrace is a nice way to get a gorgeous view of the city. There were multiple levels on different levels, which could often make it difficult to get around the hotel.', 'The hotel is simply beautiful and delightful. It was a really nice experience and though it was no Four Seasons it was the excellent. The room was great. The breakfast buffet was great but why not take a picnic to the rooftop terrace for some really nice views.'], 'entity_b_summary': [\"The hotel definitely warrants a repeat visit. It is really quiet on a side-street. There is also a convenient hop-on hop-off tourist bus that isn't too far from the hotel, too, so that's really helpful for sight-seeing. The rooms in the hotel are clean but simple with a view over the rooftops. There was a grand continental breakfast that was really tasty.\", \"This hotels provides a fabulous and wonderful stay and great Italian experience. The location is only a few minutes walk from plenty of restaurants and the Accademia gallery. Close to the hotel there is a bus station, on the Piazza San Marco. There are rooms with a balcony and amazing view of the city here. The decor is a bit basic but it's all very clean. The hotel provides a Continental breakfast with lots to choose from . This can be had from a gorgeous sun-lit breakfast room from two self-service tables. The shower was really good because it was in the American stand-up style.\", 'A wonderful hotel, full of charm and perfect for an Italian experience. The decor is beautiful and the cleanliness is to a high standard. The location is in close proximity to a wide variety of restaurants. Although it is nicely tucked away in a quieter, less touristy area, there are still regular bus lines that run close by to this hotel. The rooms are clean and simple but spacious. This is an old, refurbished building with thin walls but the windows are double-paned so the noise is reduced in the rooms and the bathrooms could use some updating. The breakfast offered by the hotel was excellent and offered a lot of choice and is included in the room price. In close proximity to an excellent four star hotel, with excellent features in the bathroom.'], 'common_summary': [\"The staff at the hotel are very helpful. The location of this hotel is simply superb becaus it's in a central location close to downtown sights and also more representative of locals.\", \"The hotel is wonderfully located only a few minutes' walk to the Duomo, great destinations and popular sites. To add to this the staff are really helpful.\", \"The location is great. It's close to the Duomo, and only a couple of streets away from the piazza and is at the heart of the city. With easy walking distance from some of the major attractions. The staff is friendly.\"], 'entity_a_uid': ['UR777178255', 'UR686217376', 'UR832623175', 'UR910157851', 'UR386605870', 'UR501692172', 'UR756346455', 'UR888442750'], 'entity_b_uid': ['UR568782149', 'UR789880965', 'UR560865850', 'UR981983919', 'UR345691393', 'UR528025758', 'UR503942214', 'UR920953947'], 'entity_a_reviews': [\"Great Location Stayed at the Brunelleschi in late December. The location was terrific, the breakfast hearty, and the rooms large and above average for Italy for the price. Turn two corners and you are in the piazza next to Giotto's campanile. As an american who speaks fluent italian, and a mother of 3, I never go to Italy to sleep in 5 star resort hotels. This hotel could never be compared to the Four Seasons, but, in Florence, it was the perfect place to start and end each day.\", \"Lovely hotel We stayed here for my husband's birthday weekend. We're ususally more 3* hotel people so this was a bit of a treat, but it was worth every penny. The hotel is beautiful - such a lovely building and a GREAT location. The staff were unfailingly polite as we checked in and went to the bar. Our room was a good size with an ENORMOUS bathroom, and views of the campanile. Breakfast was excellent.I found the hotel pretty much faultless. And Florence? Just beautiful.\", 'Great location, great staff! This hotel was a real find! We loved the location and the front desk staff was the friendliest in Italy! The breakfast buffet was also excellent! This hotel was in a quiet alley, just steps from the Duomo and the best shopping in Florence! The only negative was the multiple levels on the different floors, making it difficult to get around in the hotel. A minor inconvenience for an otherwise excellent hotel.', 'Wonderful stay in Florence Hotel Brunelleschi is a lovely hotel in an excellent location in the heart of Florence. The rooms are brilliant , although the bells of the Duomo wake you up early in the morning! All the staff are very helpful and can make good suggestions for eating out - I had the best sea bass I have ever had from one of their recommendations. I would thoroughly recommend a stay at this delightful hotel.', 'great location,if a little noisy lovely hotel,very friendly helpful staffright in the middle of all the actionwe had a suite,which had a separete bedroom(very handy)clean,very good choice on buffet breakfastonly down side was our room was on the front of the hotelwhich is on one of the main streets.so bin men and road sweepers could be heard ealy in the morninggood value more money', 'Great experience! My friend and I stayed for 4 nights. We had no complaints whatsoever. The service, staff, cleanliness, comfort etc were all exemplary. Special tip: bring a picnic lunch up to the rooftop terrace and get a breathtaking view of the city. The view of the Duomo there by sunrise is sublime.', 'only Brunelleschi is the only one who could have build something better! a portion of our large room', 'Brunelleschi was Perfect! View from Rooftop Patio'], 'entity_b_reviews': [\"The Orto de' Medici Hotel, Florence This medium-priced Hotel offers a very good price to service ratio. The rooms are very clean and being an old but refurbished building, it has high and well appointed rooms.The hotel offers - as a garni hotel - an excellent breakfast (self-service from two tables). Being not on a thoroughfare, it is quiet at night. Its situation in relation to the main attraction, the Piazza del Duomo, is a seven to ten minute's walk. There are plenty of restaurants in the vicinity, especially just opposite is the restaurant Il Cardellino. At the reception English and French is spoken. The service personnel is very friendly and is supervised by the proprietor himself.The Hopp on / Hopp-off Bus can be taken from the Piazza San Marco, approximately 200 meters from the hotel Orto de' Medici, where also other regular bus lines part for the hinterland.\", \"A room with a view What a great place! Just returned from 4 nights here and delighted with the choice. Central location - only a few minutes walk from the Accademia, but tucked away in a side street so as quiet as it can be in Florence (or any major city for that matter!). Ask for room 45, on the 4th floor (don't panic there is a lift), if you want a room with a balcony and a view over the roof tops to the Duomo and Campanile. Continental breakfast was light but adequate, but hotel too small to serve dinner - not a problem with so many good restaurants to choose from! Go and enjoy!\", 'Short walk from the Madding crowds of Firenze The website was accurate in its promises. The service to arrange for private pick-up from the train station to the airport was excellent as was the arranging for museum tickets. Contact to confirm reservations was propmpt. The rooms are simple, but clean and we slept well for five restful nights. The common room is very comfortable, as is the breakfast area. The patio serves dynomite gin tonics for happy hour. The hotel is a pleasant walk from the main downtown sights in a less touristy and more local scene. Would definitely stay there again.', 'Good 3 star hotel in Florence Good 3-star hotel in central Florence, very close to the Accademia and to the Duomo. Lots of restaurants nearby. Room is fairly spacious but basic in decor and clean. Bedroom windows are double-paned, so that noise is not a problem. Bathroom could use a little updating but would speculate that it has been updated within last 10 years. Good American style stand-up shower. The breakfast, which is included in the price of the room, is well above average and in a lovely room which also has a very nice terrace. Friendly front desk.', \"Extremely friendly/helpful staff here! The Orto De Medici was a wonderful hotel, perfectly located in Florence. The continental breakfast was grand and offered world travelers a diverse selection of foods and drinks.The hotel is superbly clean and beautifully decorated. The front desk staff was the best I've ever encountered. They were compassionate with our lost luggage situation and gladly booked us reservations for the Uffizi gallery.Although the walls are a bit thin in the room and it seemed a bit noisy at night.I would stay at this hotel a thousand times over.Thanks for a fabulous stay.\", \"Wonderful We had a wonderful week's stay at this charming hotel. The service was first class, the room and bathroom were spacious and immaculately clean.The best part, however was the sun-lit , beautifully appointed breakfast room with, again, perfect service.We would definitely go back when we return to Florence.\", 'Absolutely Lovely! A view from the Bell Tower looking at the Duomo', 'My favorite Italian experience In front of the Hotel Orto De Medici']}, {'entity_a': '313193', 'entity_b': '203093', 'entity_a_summary': [\"This is a great place for a short stay and it will likely make you want to come back again. The hotel isn't really central. The area is quite safe so really the location is pretty good. The rooms in the hotel are modern. Some of the hotel's staff seemed disinterested in helping with an incident at the hotel. It is worth mentioning that you can get a complimentary coffee from the barista. There is a coffee machine supplied here, which is fine. The parking at the hotel costs 12 a night.\", \"The hotel is an ideal place for a short trip. The hotel is not in the centre of Rome. The rooms are mostly very clean and are quite decent with a modern feel to them. A downside was upon opening the window to find a lot of black mould. Some of the staff members didn't respond well to an issue that occurred. They showed no apathy or even any interest after the incident and that really let the staff down. The coffee here at the hotel is good and you can get free cappuccinos from the barista as well. The parking at the hotel can be expensive, costing around 12 per night.\", 'An excellent hotel that comes highly recommended for short stays in Rome. This hotel is not based in the city centre. Well maintained rooms, that are cleaned to a reasonable standard. However, there is an issue with black mould around the windows, and there is no air conditioning available. Generally speaking the staff at this hotel are disinterested and apathetic. The breakfast at the hotel is good and offers a variety of options and you can get a free cappuccino from the barista. Car or van rental is an option but comes with a parking fee of 12 a night. Also, there is a Nescafe coffee machine which is ok but a barista is located nearby.'], 'entity_b_summary': ['The hotel made guests feel safe and comfortable. Everything is accessible from this hotel, which is really useful for exploring the city. There are lots of attractions you can reach by foot. The hotel has adequate rooms with air conditioning and the internet was available. The staff of this hotel allowed a call to the USA using the hotel phones. The complimentary breakfast buffet provided by the hotel was generally good, but the restaurant left a bit to be desired. The temperature at this hotel did not help when trying to sleep and unfortunately the charge for a brief call is really expensive.', \"This is a really comfortable and secure hotel that will provide happiness. The hotel is in a good central location and a short walk to Termini train station. There are several restaurants close to the hotel. The rooms are of a decent size at this hotel and they also feature wired access to the internet. The baths are pretty large in the bathroom. There is a breakfast buffet supplied for free here and it's really good. The restaurant at this hotel could be better though. The temperature within the hotel was not comfortable and the charge for a timed call of two to three minutes could be as much as $40USD.\", \"Guests are made to feel very secure and comfortable at this hotel. The hotel's relatively quiet location is centralized in Rome and close to several other hotels, good restaurants. So much is within easy walking distance and a lot of Rome is very accessible this way. Very spacious rooms for guests to enjoy, with air conditioning for guests to make good use off. This hotel has a fantastic breakfast on offer and it is complimentary though the restaurant could be better. The phone charges for a brief call was over $40.\"], 'common_summary': ['Some of the staff at the hotel were helpful. If you want to go a little further afield there is a train station close-by.', 'The location very close to the train station. You will find the some of the staff at this hotel are super helpful.', 'A great place to stay. The location is cloes to the main Metro train station. Some of the staff were helpful.'], 'entity_a_uid': ['UR7332276', 'UR85762279', 'UR7655957', 'UR5930148', 'UR124060664', 'UR18723067', 'UR6784628', 'UR121114425'], 'entity_b_uid': ['UR65222357', 'UR126477483', 'UR124033192', 'UR123696867', 'UR80465693', 'UR34611916', 'UR115663125', 'UR116317029'], 'entity_a_reviews': ['My wife and I were in November 2006 for one night only and paid with reward points. Wish have stayed longer. Nice and superclean clean modern hotel, superb breakfast with plenty of variety and fresh capuccino made in front of you, and very helpful and polite staff both in reception and breakfast room that makes your stay even more enjoyable. Even thought not in centre of Rome, close enough by public transportation very easy and accesible: bus line 85 runs often one block from hotel, takes you to Colesseum and near Trevi? Metro linea B, about 5 blocks from hotel takes you to centre or Ananigna to take bus to Ciampino, and train to Fiumicino airport 2-3 blocks from hotel: only 5 euros takes you in a bit without stops. Only problem with Metro line B is that stopped working after 9:00PM. Hope it changes soon, but still OK. Would definitely reccomend hotel to anybody and cannot wait to go back now in June for 2 nights.', \"We (a family of 9 including a toddler & an adolescent) went there last October. Having stayed at a new Holiday Inn Express in Milan last year, we were hoping to repeat the same 3-star experience. The receptionists were accomodating/business-like. We rented a van & had to pay 12 parking/night. However, everybody was disappointed with the small room (triple BR), old stained pillows & sheets, cleanliness & service. The only time that we opened our window was on the last day of our stay (it rained) & was shocked to find out that the window sill was full of black molds. My son had his first asthma attack when we went home. I've just read another review from a previous guest abt. 2 months ago stating the same problem with the molds/mildew. Obviously, the hotel didn't do anything about it.\", \"We stayed at the Holiday Inn Express Rome - San Giovanni for 3 nights during our 8 day trip in Italy. On our last morning, we were told to leave our baggage at the lobby while breakfast and we did. When we returned, we sadly found out that one of our baggage, the one containing most of our gifts, was missing. Since we wouldn't be able to go back and get new ones, it was really devastating for us. The staff members were not even slighly interested in the situation. We asked for police assistance but they didn't even bother to call; saying the police could do nothing about it. Nobody asked about what happened or anything; as if nothing had happened. The apathy, the staff members showed, made us regretfully think that some of them may have something to do with the robbery.\", 'We stayed at Holiday Inn Express Rome San Giovanni simply going by what others had to say about the place in Tripadvisor. I am glad I did that. I got a good price on the hiexpress website by booking in advance. Though the hotel is not right in the heart of the city, it is a very convenient to get there by bus. We also used the sub way station but that was a longer walk. The rooms are very clean and modern. The front desk staff are helpful . Breakfast was good with a lot of choice. Would definitely stay there again.', 'I stayed at the hotel from January 26 to January 31 and the service over all is really great, but there is nothing or none that matches service, attention, dedication and compromise with the client than SIMONE DI PORTO and ALESSANDRA COPPOCA, both of them really are committed and love what they do, always aware of what you need and willing to help you. ANd these review is coming from a long term priority club member with Platinum Status, besides the deco of the hotel and overall was good. Hope to go back to the same hotel', 'We Were only in rome for 2 days and 2 nights and found Express a good place for a short stay. At first we thought the area looked a bit Dodgey But compared to Rome centre it is not too bad. There is a nice Restaurant (Sacco) just around the corner which, although a little pricey, is very pleasant. It is very close to the Station, Just a 10 minute walk and another 10 to Termini Station. Also There is free parking just outside reception', \"This is a good hotel, it is very decent , nice rooms(though I'm not sure if it has air conditioning), it is very close to the Metro, which was our main transportation throughout our trip. it also has a bus station a minute away that is also very usefull. Money well spent!\", \"Very clean rooms, super friendly and helpful staff. We checked in early in the morning and were accommodated without charge. The breakfast was perfect. Make sure you get a few free cappuccino's from the Barista. The Nescafe machine is fine but the cappuccino's from the barrista (Coffee Bar) are better.\"], 'entity_b_reviews': ['You will be comfortable at this hotel. The rooms and baths are large; cleaning service is excellent. It is relatively quiet in busy, central Rome, therefore a very good location to stay for sightseeing. The main Metro terminal is a short walk away. Breakfast is entirely adequate and complimentary. There is a free Internet connection in the lobby and rooms are wired for the Internet. One caution: should you need to telephone the USA, the hotel phones offer a \"1508\" access code. While the connection is fast and clear, the charge for a timed brief call of two or theee minutes is over $40 usd. Use your ATT card for international calls and save.', \"having just returned from a weeks stay at the universo hotel,i found it to be good value for money,on our arrival we did not have the room we booked and were disappointed,when we brought this to the hotels attention our room was changed the next day which we were more than happy with,breakfast was also very good with lots to choose from,don't understand the negative comments regarding breakfast on some reviews.i would definately return to this hotel.\", \"Hotel's location is amazing since its 2 mins walk from the main train station that will take u to airport in 25 mins. 10 mins away from downtown (walking) and around 15-20 from Coloseum ! Central location, with lots of hotels around Friendly staff, and really AMAZING breakfast. The restaurant is not the best you can get. Really nice rooms :)\", 'We stayed 4 nights, and felt secure and comfortable. This is a fairly impersonal hotel, where the staff did not speak unless spoken to, although they were helpful when requests were made. The breakfast buffet was excellent. Our room was a loft, with the king bed up the stairs from the sitting area and bathroom. Several good restaurants nearby.', 'Good location if you plan to stay close to Termini rail station is a few minutes walk. Hotel itself not really impressive the rooms are very small with no drawers and a tiny bathroom with a shower only. Does have air conditioning which is about the only good part .Buffet Breakfast was good but overall I wouldnt stay again at this hotel', \"We stayed here twice in May and would happily stay again. The rooms were spacious, the breakfast was yum, and the staff were friendly and helpful. You could walk to a lot of Rome's attractions from here but we chose to use the hop on hop off bus which had a stop just around the corner.\", \"Don't expect t set yur thermostat below 80 degrees. No matter what setting you use, the front desk controls the room temperature and will not set it below 26 Celsius, or 78 Fahrenheit. Disgusting sleeping temperature, and of course does not make for a good vacation. Never again.\", 'We had a great stay. Close to the train station and many attractions. We walked all over Rome from here. Great breakfast, clean rooms, but the staff was makes it extra special.']}]\n",
            "10\n"
          ]
        }
      ],
      "source": [
        "print(dev)\n",
        "print(len(dev))"
      ]
    },
    {
      "cell_type": "code",
      "execution_count": null,
      "metadata": {
        "colab": {
          "base_uri": "https://localhost:8080/"
        },
        "id": "i9sBS5e7vITH",
        "outputId": "da0ddd84-83c0-49d4-c80f-90374852f889"
      },
      "outputs": [
        {
          "output_type": "stream",
          "name": "stdout",
          "text": [
            "[{'entity_a': '296582', 'entity_b': '294609', 'entity_a_summary': ['The hotel is decent and a great choice if looking for a cheap, clean, and secure place to stay. The hotel is close to the Grand Bazaar, Blue Mosque and the tram lines for transport around the city. The rooms are pretty comfortable but this room in particularly constantly had smoke blowing up from the lobby. The staff at the hotel provided a good service. The hotel had breakfast included in the price of the stay. One thing to note with the hotel is that there is only a one way transfer, so you will have to pay for either the pick up or the drop off to the airport.', \"The hotel is cheap, clean and has good security. This hotel is situated in a really convenient location for those who wish to see some of the grand sites this place has to offer, whether it's the bazaar or religious sites. The rooms in the hotel are comfortable, although cigarette fumes often drifted into the surrounding rooms. The staff will provide a really great service at this hotel. The breakfast is included in the excellently valued price. Unfortunately the one-way transfer provided is a slight inconvenience but it's not a big problem because it is actually quite cheap.\", 'This hotel is a great choice for those looking for a cheap stay in a clean and secure hotel/hostel. Excellent location for those wanting to explore. This hotel is not only on a quiet street for those that want to relax, but it is conveniently close to the main sights as well as the seashore, where guests can enjoy a good run. Very comfortable rooms, however there is an issue with cigarette smoke from the lobby drifting into the rooms. Breakfast came with the stay. The airport transfer pickup costs are extra but they are cheap.'], 'entity_b_summary': ['The hotel looks a bit dated but overall a good place to stay. The hotel is located on a hillside and has views of the Bosphorous. The rooms are really big and spacious as well as refurnished and clean. As well as a nice room the bathroom is also of a great size. The staff at the hotel were very attentive. The food is okay enough but there are quite high prices. The hotel does provide internet access for guests, but it is steeply priced at $25 per day.', \"Whilst it looks a little outdated the hotel provides a great experience, therefore it is highly recommended. The hotel's location is pretty good with some good restaurants and shopping nearby. There is a good view and great access to the river, too. The hotel rooms are large and fully furnished . The bathrooms are also spacious with all of the expected amenities. The staff are so attentive and they keep the hotel nice and clean. The hotel has a varied choice of restaurants available , but the coffee shop and food in general are not up to regular Turkish standards. The highlights of this hotel would be the turn-down service in the evenings (they would even provide fresh bathrobes, which is a great added touch.) Whilst the in-room internet service costs a lot of money there are some really great views from the hotel.\", \"A highly recommended hotel that has luxuries such as its own spa for guests to enjoy. A great experience to be had here, although the outside of the hotel could do with being updated. The location at this hotel is great. It sits on a hillside with 60 acres of garden to enjoy and offers fantasic views of the whole Bosphorus as well as being close to several restaurants and shopping. The rooms at this hotel are particularly large and spacious. The bathroom in particular is of a decent size. It has been refurnished and includes all amenities. The staff at this hotel are very good at paying to the needs of their guests, and the on site security make you feel safe with the guard house, barriers and metal detector to get to the reception. The quality of the food at this hotel is good, and there is a good selection of restaurants to choose from. However, the food can be pricey and it doesn't quite meet Turkish standards. The cost of $25 per day for in-room internet service is a drawback.\"], 'common_summary': ['The hotel had a great breakfast provided and the staff were always friendly. The location is ideal.', 'The hotel is located in a great area and the room with a view was overlooking to Bosphorus. On top of this the staff were all friendly and super helpful.', \"The hotel's location is great with its views of the Bosphorus. The breakfast is good, the staff is friendly and helpful and there is free internet.\"], 'entity_a_uid': ['UR24322355', 'UR17610164', 'UR14776113', 'UR21833260', 'UR41005918', 'UR118411141', 'UR56367345', 'UR104347625'], 'entity_b_uid': ['UR110713802', 'UR120182928', 'UR113512283', 'UR125956962', 'UR115016862', 'UR106047101', 'UR49475794', 'UR73202909'], 'entity_a_reviews': [\"I have stayed in this hotel for 10 days for the second time and will definetely be back again! Apart from hotels excellent location ( it's near all sightseeing places ) the rooms were cozy and staff friendly and ready to help me with connecting my laptop to the wireless internet, to give me advice where to go and which trasport to catch. Beside fluent English and Turkish they speak all ex-Yu languages ( Serbian, Croatian, Macedonian, Bosnian ) so it is very convinient for people from these countries to stay there. Room service was quick ( beverages only ) , towels changed daily and room and bathroom kept perfectly clean -spotless! Definetely coming back here when I come back to Istanbul for some leather jackets shopping :) and this time bringing friends as well ! Miljana Jovanovic\", \"Excellent money/value hotel, breakfast included. Location is great just opposite of Grand Bazar in quite street, good for tourist who want to stay close to everything. If you are one of us, looking for a cheap stay, and you look for very clean and secure hotel/hostel this is a great choice. Rooms are comfortable, especially those on 6th floor. The only minus is that you have only one way transfer, if you choose airport pickup as we did, you have to pay for transfer to the airport, but fortunately this is not a big problem while they have pretty cheap taxi's there in Istanbul :-). All in all, really worth every cent. Great job guys. Greetings from Croatia.\", \"We stayed here for several nights in mid March. The rooms were clean and comfortable, free internet access in the lobby and a tasty breakfast in the morning. Great location in the old city. Right near the Grand Bazaar, and walking distance to Haggia Sophia and the Blue Mosque.The only issue we had was the cigarette smoke from the lobby constantly drifted into our room. We had to put a damp towel under the door. For 35 Euro's per night - it was well worth it.\", 'my wife and I stayed 3 weeks there. do we need to add more.? of course you might find better somewhere but more expensive, but you will for sure find lot worst at same price The hotel is very well located , close to grand Bazaar and blue mosque but also seashore where we could go for a run the staff was very friendly and gave us on 6 floor a room with view on the Bosphorus at a attractive price so I will be back there when back to Isatnbul', 'Booked in Inter Hotel last August 2009 but had to cancel after a month due to work load. I just sent them an email and they returned my Deposit of 25 Euros to my credit card. Other hotels will not do that! Will definitely book again in this hotel because I read a lot of satisfied guests. I also want to experience what they experienced from staying in INTER HOTEL. Thank you guys!', 'The hotel is not only a convenient location, but very clean and very comfortable. The staff are friendly and the breakfast delicious. Very reasonable rates and altogether a good place to stay which is situated 5 mins from the Grand Bazaar and the tram. I have been before and will stay there again without a doubt.', 'very good service, staff is very friendly and helping, pick and dropp of when you stay few days, free internet ( for me very important), near to meny historical places.', 'The breakfast was excelent, very friendly and helpful staff, clean rooms, and well worth the price. I would stay here again and again.'], 'entity_b_reviews': ['The hotel is very good located in a large garden. Although being inmidst Istanbul, you can open the window, hear birds singing, breathe fresh air and have a beautiful view into the amazing garden and onto the Bosphorus itself. Most exiting is the roof bar / restaurant from where you have an even more excellent view while receiving very good food, drinks and service. Vety advantage is that you can reach the old town with Topkapi, Blue Mosc and all other attractions by tram. Just take a walk or a quick taxi to the end point of the tram and enjoy riding over the Golden Horn on its own rail not being bothered by any of that really crazy traffic.', 'The hotel is ideally located on a hillside with a 60 acre garden. The views are superb. You can see the sea from everywhere. The rooms are large and the bathrooms of a good size. The spa is very good. Many restaurants & shopping close to the hotel. Old city is only 20 minutes by taxi. The staff is very friendly. The bar is good but the coffee shop is not so good. Food in the hotel is not as per Turkish standards.', \"The hotel had a party of it's own shortly after we arrived but they chose not to warn us that we wouldn't be able to use the outdoor pool for 48 hours or that we wouldn't be able to sleep because of the considerable noise and disruption. This is not a cheap hotel and the charming staff are badly let down by the poor management. I have been staying here, on and off, for nearly twenty years and it used to be very well run.\", \"Stayed for five nights, very attentive staff, very clean and well kept hotel. Breakfast buffet is outstanding. Have good security to drive on property must pass guard house and barrier's, metal detector when accessing lobby. The worst aspect is the cost of internet for your room, about $25 a day.ouch! Location is okay not great depending on what your doing.near river, but a good little walk and uphill coming back. Nice view of river from the lobby lounge area.\", 'Stayed at this hotel for 3 nights during a business trip in Istanbul. From the outside the hotel looks a bit out of date. However, the room are spacious and refurnished. I found the staff friendly and helpful. There is a good choice of restaurants - but beware of high prices. Overall it was a good experience and I would recommend to all business travellers.', 'really the place to stay in Istanbul. perfect, professional and friendly service, great breakfast buffet, beautiful position overlooking the Bosphorus. An oasis of peace in a big garden. Big, clean rooms with all amenities. Great turndown service in the evenings with even bathrobes changed. worth repeating over and over again !', 'The restaurants and the quality of the foods and services were excellent but the whole hotel and the rooms are looking tired and really need a renovation. The spa was fantastic especially the turkish hamam. The location is great with the whole bosphorus view and nearness to the favorite places.', 'I had the best time . Nice room, friendly staff, . It has a great location too, . Highly recommended!']}, {'entity_a': '305947', 'entity_b': '305813', 'entity_a_summary': [\"The facilities of this hotel are really great and therefore it's one of the most enjoyable stays. The location of the hotel was rather disappointing and not a very scenic area of Hong Kong. The hotel's rooms are adequate, although perhaps a little darkly lit. The rooms are clean and quiet, although for a more updated room it is worth booking a room on the Club floor. There is nothing the staff find to be too much trouble. The buffet breakfast is absolutely amazing and really varied. In addition the restaurant provides some really good food that's worth trying. The hotel has a bi-hourly bus shuttle service available to guests. It is not worth getting a hotel with a pool as it is often not the climate for swimming etc.\", \"The Metropark Kowloon is very cost effective and ideal for those who need to crash after a hard day's sightseeing and travelling. This hotel isn't in the best location but there were some bargains to be found at a nearby market. There are bus routes however so that is a bonus. The hotel room was spotless and quiet therefore peaceful. All amenities were sufficient enough for all needs and the size was fine. TThe breakfast buffet provided at the hotel had a lot of variety. The food in the restaurant is good and the Sip Sip bar had a wide range of cocktails on offer. There was free internet connection provided here and the 30 minute minibus service was really great and also free.\", \"This hotel has two restaurants, is perfect for resting, is great quality and a good price. The hotel has a Club area which is comfortable and offers tea or coffee and newspapers on offer. Great for sightseeing or shopping but the facilities at the hotel are good too. The location is okay, it is not the nicest of areas but there are some attractions that are walking distance from the hotel. This hotel's rooms are clean and comfortable and include amenities in the bathrooms. The lighting isn't as bright as it could be. The hotel buffet looks very nice and the breakfast was plentiful. Coffee, tea, and drinks were also available and the restaurant food was delicious. The hotel provides many amenities for its guests, including free Wi-Fi and a mini bus shuttle service.\"], 'entity_b_summary': [\"This is such a great hotel it's highly recommended and you won't regret booking again and again. The rooms are a good size and with a good view. Some of the staff were not highly trained or had a bad attitude. The multicultural food was really welcomed as it was of great quality and taste. The hotel provided free DVDs for guests.\", 'The hotel was a great place to stay and comes highly recommended. The spa was incredible. The area the hotel is located in is not very nice to walk in. Generally a really nice room with great views. The bed was a bit firm but the room itself was lovely. It is clear that some of the staff need more training and a more professional attitude in dealing with problems. The food at the hotel offered a multi cultural selection .', 'Langham Place does not disappoint with its new shopping mall and spa. This hotel is attached to the mall and cinema which was great because sometimes this location has unpredictable weather. Medium sized rooms that are to a high standard with excellent views. Rooms are well maintained, with standard beds. Some of the staff was lack training. A buffet style dinner is offered every evening, and the quality of the multi cultural cuisine is generally well liked amongst guests that visit. The food options can get repetitive if staying for a longer trip, however your money goes a long way when eating at this hotel. The daily cocktail hour is also worth a visit, alongside daily nibbles provided by the hotel. The hotel provided free DVDs for guests to watch.'], 'common_summary': ['The staff at the hotel were generally friendly and helpful.', 'The staff could not have been more helpful.', 'The staff at the hotel were mostly helpful.'], 'entity_a_uid': ['UR73560234', 'UR6784461', 'UR87971551', 'UR33683613', 'UR118698370', 'UR128633829', 'UR80720189', 'UR120274112'], 'entity_b_uid': ['UR426621627', 'UR889070422', 'UR822207890', 'UR396530489', 'UR731453084', 'UR696543924', 'UR462188982', 'UR403460271'], 'entity_a_reviews': [\"The Metropark Kowloon is a good hotel with very good price-quality ratio. Make sure you get a room in the Club floor, as some of the lower levels seem to be a bit outdated. The rooms are clean, comfortable and we couldn't hear any noises at any point so it was perfect for resting. Kowloon wasn't a beautiful area of Hong Kong, going back we would stay somewhere else, particularly if you are not into shopping (and you prefer cultural and walking activities). The staff weren't overly nice but they were helpful and alerted us that we were leaving our phone behind in the room straight away, which was particularly efficient. We found the shuttle bus to Mongkok and the harbour area extremely helpful and convenient and saved us a lot of time an money. Knowing more about Hong Kong now, I would not book a hotel with a swimming pool given the weather doesn't always permit swimming or sunbaking.\", \"Stayed at this hotel for a week and apart from the location, which was a bit disappointing, I have no real complaints about the hotel. Upon arrival the staff were very helpful and took care of our luggage whilst we went to check in, at which we were quickly dealt with. The double room we stayed in was clean and the size was comfortable. We visited the hotel's two restaurants. The food in the restaurant was excellent and varied and is worth trying. The Sip Sip bar (which had a sporty theme) offered a good variety of cocktails and provided an opportunity to catch up with Premiership football matches. One tip I would suggest is that if you ever get a taxi back to the hotel make sure you tell the driver that you want to go to the Metropark Hotel Kowloon, as there is another Metropark Hotel nearby.\", \"Right from the check-in to check-out, the staff and their service was prompt and excellent. The staff's compliance to our special requests within the reasonable limits is very highly commendable. The rooms were adequate except in the lighting level which we have found even in highly priced hotels - our personal preference is well/brightly lit room. The amenities in the bathroom/toilet was sufficient. The buffet breakfast included in the package was a nice spread and more than adequate to start the day off. Hats off to their free shuttle service to the main points from where we could get the MTR to any place we needed to go. Overall the best hotel at the best price for the one who needs to shower and hit the bed after a full day of sightseeing/shopping.\", 'The staff were very helpful and the complimentary breakfasts for the period we were there were an unexpected bonus. The Internet connection wasa free as was the excellent 30 minute mini-bus service. We did not eat at the hotel except for breakfast prefering to take in the local eateries. We found that Langham Place in Mong Kok was quite good and was only a pleasant walk from the hotel although the hotel bus route took us close. The Ladies Market is in the same location as Langham Place and made for some happy bargaining. All in all, we enjoyed our stay there.', 'On our first trip to Hong Kong we stayed here at the Metro Park Kowloon, we only had a few days so spent most of it out of hotel, but the facilities seemed very good, lost available shop/florist/bar/snacks/pool. Buffet was very well presented and had wonderful variety. Rooms well kept, clean and modern. Air conditioning worked well, sometimes a little too well in the public places such as reception/lobbies etc, bit chilly compared to the humdity outside. Interesting Hong Kong traditions such as not using floor 13.i like superstitions!', \"Stayed for 3 nights in march and 1 night in april 2012. I stayed in the Club area of the hotel and found the lounge to be very quite and comfortable with coffee/tea and newspapers and a 'happy hour' each evening with drinks and snacks. Buffet breakfast was excellent with a wide range of choices available. Staff were very friendly. Hotel is located slightly away from the the CBD but was easily reached by MTR.\", 'Cannot fault hotel in any way. Breakfast very good, lots of variety. Hotel shuttle bus is brilliant. First visit to Hong Kong for my 83yr old mother so we made good use of the shuttle bus. Would definitely stay here again and have no hesitation in recommending this hotel.', \"Avoid if you can. It's not in a good location, it's smelly and a bit scruffy.\"], 'entity_b_reviews': [\"Best Hotel we have stayed in! We stayed at the Langham Place for 5 nights in August and were not disappointed. My wife and I both agreed that is probably the best hotel we have ever stayed in.Hotel staff could not be more helpful and the standards of cleanliness in the rooms and elsewhere was excellent.Rooms are not huge but of a very high standard.Food quality is also superb and multi-cultural.The only slight negative point was the hotel's location, in that it is in a working class area of Kowloon that is not the most pleasant area to walk around (especially late at night). The MTR (Tube) is very close and efficient and Hong Kong island is about 15 minutes away.We booked one of the Club Rooms which are high up and give an excellent view of the City. Also the Club Rooms enable 24hr access the Hotel's Club lounge which entitles you to free breakfast (which is excellent) and free snacks and drinks at any time.\", \"Is O K The room booked were for a family of three, they called them Kowloon Room, which supposed to be a bit bigger than the standard room in the Hotel. I still found it to be small for three peoples.The advertised blissful bed were no better than any other hotel bed, hence firm and not too comfy.The Hotel is O K as a 4 star Hotel with over priced buffet meals and breckfest.The buffet in the morning and dinner times are more or less the same every night and you soon get sick of what's there.I would recommand to sample the local eateria and your money will go a long way.The gym and swimming pool are very good, especially the spa facilities, you will get all the steam room and sauna with in the changing room area and also a hot tub, all in all the spa facilities make the stay a bit special.\", \"5 star hotel 2 star attitude Good Hotel to start with, but was astonished when they could not accept my visa debit card and instead wanted a credit card.! Debit card means you have the money in bank and not taking a loan like credit card.! Had to keep a 1000$ security deposit instead.Excellent room, good service and though staff's are not highly trained but very much co-operative. My hassle was to pay them all bills at the end of the day throughout my 7 days stay, as due to some strange reasons they were unable to believe that I do not carry a credit card, and probably wanted to make sure that I do not catch my flight back to Dubai after seven days with all bills unpaid.I have stayed in Conrad and Peninsula in HK on my earlier visits, and have never faced such a issue.\", \"recommend Worth booking into the club floor for the daily cocktail hour,internet access and all day nibbles.Staff excellent and the spa amazing and not 'over the top' expensive.Great couples facilities for massage and treatmentsGreat shopping mall attached and centrally located to other attractions.Beware the taxi drivers who take you the extra long route to destinations\", \"Heaven! The hotel was perfect, really well looked after and the room was lovely with a good view. Free dvds and internet access were also provided. The weather was quite mixed so direct access to the mall and cinema next door proved very useful! Slightly expensive but i'd definitely stay again.\", \"Loved The Langham Great hotel.Staff excellent can't do enough for you.Lovely room great view.Try the Spa is really lush.Reccommend to all.\", 'Loved the Langham place hotel Attached to Langham Place Hotel is the brand new Langham place shopping mall', 'Upgrade to Club - you know your worth it! A typical Club Room']}, {'entity_a': '94371', 'entity_b': '111418', 'entity_a_summary': [\"A unique hotel that provides a similarly unique and unforgettable experience. It can't be recommended highly enough for the convenience and friendliness here. The location is superb. It had absolutely in the center of everything you could need. The hotel rooms are decorated sophistically, although the TV was very small. Exceptional service; every member of staff on front of house were super polite, courteous and so thoughtful. Brasserie Jo, the restaurant attached to the hotel, is excellent with delicious food, charming atmosphere , and the best service. There's a good gym in this hotel. It is on the fifth floor and features some cardio machines.\", \"The Colonnade Hotel is a great place to stay and highly recommended. A comfortable and unique atmosphere. The hotel is situated centrally in Boston for activities. It is in close proximity to a number of locales, such as a T connection and the Hynes Convention Centre. The rooms in this hotel are really comfortable with nice features such as feather pillows and comforter. The television was however on the small side. The hotel's staff are fantastic, from arrival to departure. They are helpful and a good face for the hotel. The front desk staff, the concierge Jerry Good and the doorman Norman Maines are of particular note. The restaurant, Brasserie Jo is excellent with delicious food. The hotel has a gym that is usable for guests.\", \"This hotel comes highly recommended, leaving visitors wanting to come and stay again. From the beginning to the end of a visit, this hotel provides an exceptional experience in every aspect. The hotel is close to the central activities of the city with the Convention Center nearby. The decor of the rooms are to a good standard, with very comfortable bedding. However, the size of the TV is quite small in comparison to other hotels. From check-in to check out the staff was fantastic. They were thoughtful, and polite and always courteous. Norman, the doorman, Jerry, the concierge right through to the front desk staff were all particularly outstanding. The hotel's restaurant, Brasserie Jo, is very good . It has a great atmosphere and food is provided with great service. This hotel provides a decent sized gym which has a variety of cardio machines on offer for a varied work out.\"], 'entity_b_summary': [\"This is a perfect hotel for any type of stay and you will want to keep coming back for the tranquillity, unbeatable price and the quality. The hotel is very close to the Boston public gardens and the Arlington stop of the T line. The rooms are smaller in size but are decorated with a homely charm. The staff at the hotel were professional and also rectified any problems that occurred. The hotel 's Christmas Tea was particularly enjoyable, as well as the famous seafood available in the restaurant. The hotel itself has elevators that malfunctioned repeatedly while staying here, including stopping between floors after electricity completely cut out.\", \"The hotel was available with a deal through Priceline, but there were some maintenance issues that tarnished the stay a little. In general, a great place to stay for a trip to Boston. The location of the hotel is great for accessing nearby attractions and places to eat. Newly updated rooms, with upgrades on offer for guests to choose if they want to. The upgraded rooms in particular are an excellent size and there is wireless internet for guests to enjoy. Staff at the hotel is very helpful and always available to answer questions. They are very professional and make you feel comfortable. There are plenty of food choices here including seafood. There is lunch provided in the hotel's restaurant too. The hotel's elevators seemed to be malfunctioning a lot.\", \"This hotel is perfect for a mixed business/pleasure stay in Boston at any time of the year or season. It is reminiscent of vintage class when quality was key and mattered most. Travel the world and come back, this may be the favorite place. With a central location, the hotel is really convenient for the Arlington subway stop, and the Boston Common. If you politely request you can get a really great room on the eighth floor which is a King room. It's really big and has free breakfasts and appetisers as well as WiFi internet. Reasonable service at this hotel, with many members of staff very attentive to their guests. The security team were not so helpful but overall the staff seemed quite professional. Food-wise, the hotel does have, The Whiskey Bar, a hotel restaurant and seafood. They also had a special treat of Christmas Tea. The elevators were not working properly and kept getting stuck between floors.\"], 'common_summary': ['The rooms in the hotel are clean and comfortable and the staff were friendly and helpful. The location is also ideal.', 'The rooms are perfectly spacious, clean and comfortable. The hotel is well-located as it is within walking distance to some good sights. Finally, the staff were always friendly and helpful too.', 'The rooms in this hotel are very clean and comfortable and the staff are helpful and friendly. The hotel is close to numerous restaurants and two shopping plazas.'], 'entity_a_uid': ['UR124615873', 'UR116564478', 'UR3984454', 'UR54912132', 'UR119561795', 'UR125539455', 'UR122793292', 'UR109742962'], 'entity_b_uid': ['UR56942449', 'UR94849210', 'UR5339391', 'UR19621355', 'UR10453833', 'UR77590523', 'UR46670397', 'UR43341366'], 'entity_a_reviews': ['On a recent extended visit to Boston (2+ weeks), we were lucky enough to stay at the Colonnade Hotel. This hotel is head and shoulders above other area hotels! The rooms are decorated with a quiet sophistication that is very comfortable (feather pillows and comforter, wool throw blanket), and every person we encountered on the staff - from housekeeping to the front desk - was helpful, courteous, and kind. The attached restaurant, Brasserie Jo, not only has very delicious food and a charming atmosphere, but also some of the best service we have encountered anywhere. As a whole, the service in the hotel was exceptional, and we want to thank in particular the front desk staff, concierge Jerry Good, and doorman Norman Maines. This hotel is superb in every respect, we could not recommend it more highly - we would never think of staying anywhere else in Boston.', 'The service was outstanding from check-in to check-out. The room service was outstanding, along with the guys up front, class act. The location is so nice and very easy to move around the City. So many great places to eat around the hotel. Nice size gym on the 5th floor with several carido machines. The Colonnade made my first stay in Boston a unique one and i will be back with my family. I felt very safe at all times and i felt like i was in the center of all activity with that location.', 'I stayed here for a wedding. While the wedding party was treated well, I was often treated poorly and spoken to as if I were trespassing on the property. The room was average and the shower was VERY bad. The water pressure was painful and I felt that the shower head was going to fall off. The TV was the smallest hotel TV I have ever seen. Upon checkout, the front desk left me on hold for a long time to answer a simple question. I would not recommend this hotel to anyone.', \"My husband and I first stayed here for our wedding weekend and enjoyed it so much we returned for our first anniversary. The rooms are spacious, clean, and very comfortable-ditto the bathrooms. The staff are polite, courteous, a thoughtful-we even received a fruit and cheese plate in honor of our anniversary. We also love the location-within walking distance to Back Bay and the South End-both great walking neighborhoods. And the T is right out front if you're going further afield.\", \"Let's make this simple from the very first greeting from Norman Maines the exceptional greeter/doorman/guest advocate my entre stay this was an exceptional experience. With Norman setting the standard each and every time I entered and exited it was not surprising to find the entire team above the norm and the rooms and service to match. This is one boutique that gets it and knows how imortant the selection of team mebers is.\", 'We had a great week in Boston staying at the Colonnade. It was very clean and comfortable and the bathroom was excellent. The hotel staff were very helpful and polite, especially Norman. If I visited Boston again, I would definately stay at the Colonnade Hotel and would recommend it to my friends.', 'I stayed at the Colonnade for four nights for a recent conference. It is immediately adjacent to numerous things: a T connection, two fair-sized shopping plazas, several restaurants, and the Hynes Convention Center. Further, the staff was super friendly and super helpful. Thanks!', 'In Boston for a graduation and combined leisure trip. The Colonnade was very comfortable, convenient and friendly. Highly recommend and would go back. Restaurant excellent.'], 'entity_b_reviews': [\"In any season, this is one beautiful place. The hotel is vintage class from a time when quality mattered. The staff is professional, helpful and always available to answer questions or make you comfortable. I have stayed here more times than I can count and it has been consistently wonderful for many years. So close to the never ending beauty of Boston Common and some of the best shopping within walking distances, restaurants abound and there is a local flavor that mixes easily with a world class feel. Boston is rich in American history.be sure to immerse and educate yourself. From Paul Revere to famous seafood this place has it all. I have traveled the world, the comfort of this hotel appeals to my sense of tranquility. Tho the rooms are small, they render a feeling like going home to visit Grandmom.it's my favorite place in the world.\", 'We were very pleased for the most part with our stay during the holiday which included an extra night due to the winter storm. The front desk staff were professional and very helpful, as were the staff in the breakfast restaurant , tea and lounge bar. The rooms were nice, updated some. There is wireless in the lobby area though there is a charge for it in the room and some services in the business center. We were able to fax at the front desk without a charge. The Whiskey Bar was not a positive experience and will not be revisited. The location was perfect for our needs and we enjoyed staying in the historic hotel. The Christmas Tea was a treat and enjoyed by all. All in all we would most likely return.', \"The park plaza was very nice,one block from the subway, and only 15-20min to the hotel via subway. We asked the front desk for a renovated room and we recieved a king on the 8th floor. the room was small but adequate and very clean. The beds were very comfortable, and there were many channels to choose from an the tv. Room service food was not good, however the front desk promptly apologized and credited our account. Mccormicks and schmiidt was good (the cowder, and fish n' chips). What made our stay even better is that we got it for $100 dollars a night through Priceline's name your own price deal!\", \"When I found an online price for the well-known Boston Park Plaza Hotel for $149/night, I thought there must be a mistake. Or they were doing construction next door. But I never found any problems and got a wonderful rate for a fine hotel at a great location near the Boston Garden near the Arlington St. subway stop. In fact, we were upgraded for free to the Towers floor and got a huge room, access to a lounge with free breakfast and evening appetizers and to wireless internet. This was a great place to stay for a mixed business/pleasure trip to Boston. I'd have been happy even if I had to pay more for the room.\", 'All three of the south bank of elevators malfunctioned the entire four days we were there! One group of guests was stuck in elevator #3 for over an hour and a half. My wife and I got stuck between floors twice in elevators #1 and 2 two days in a row when the electronics suddenly just went dead. After fiddling with the buttons it started up again each time after about five minutes. I believe these sorts of maintenance/safety issues are unforgivable in a hotel this expensive and we will not be staying there again!', \"This hotel was very near the Public Gardens, convenient to the Arlington stop on the T and in a central location. The rooms were very nice and spacious. The staff was friendly and helpful. My only complaint is that the walls were paper thin and we had very noisy neighbors who didn't sleep much on Saturday night. We called security but that was not much help. The hotel did compensate us for this inconvenience with lunch in the hotel restaurant. Otherwise it was a pleasant experience and a good value\", 'The room is fine but they need to finish the remodel with new baths. Providing robes would be nice also (like other fine hotels). The location is good for walking tours of the Back Bay and, across the park, Beacon Hill. We also did the Freedom Trail on foot. An easy and excellent restaurant is across the street (Via Matta) but avoid ordinary Legal Seafoods unless you like boring food. We got a $220 rate (total w/tax) from 1800hotels.', 'Although the location is great, we found the room very small, and not soundproof. There are no coffee makers. Would not stay there again.']}, {'entity_a': '614392', 'entity_b': '280922', 'entity_a_summary': [\"Highly recommended hotel that you will want to come back to because it is definitely five-star. The hotel is only a minute from the beach in both directions. The hotel also has a rooftop pool with a view of the sea too. The hotel is located near to the Port Olympic and Barcelonetta. There is also a fitness park a two minute walk away. The hotel room had a good bathroom, but the pillows and linen were a bit uncomfortable. The bed was a good size and there was a large TV, WiFi etc. The room was specious and clean and also had a sea view. The food was really good here especially the breakfast. Sometimes the restaurant did not open for dinner but the chef would be flexible for a small party, which is great. The pools were a great addition to this hotel as well at the fitness centre. There's even a Jacuzzi on the rooftop, which was really fun.\", \"The hotel is definitely worth its five star rating, although it is expensive. The hotel is ideal for a combined city and beach holiday. This hotel is set so close to the beach that you will not need to walk too far. Additionally there are wonderful views from the top of the hotel, reminding you of what a great location you are staying in. The bed in the room didn't have the softest linen and the pillows weren't great either, but the bed itself was comfortable and everything was in good condition. There is WiFi in the room as well as a nice big television.The hotel had a lovely bar/restaurant overlooking Barcelona, but be warned that it can be expensive. Also note that the restaurant is not available every day, but they can be flexible in providing catering on request. The hotel has some great facilities. There are two pools, a rooftop Jacuzzi and a fitness centre all within the hotel.\", \"The hotel is worth the higher price. It has a rooftop pool as well as a ground-level pool and is perfect for either a beach vacation or city break. Great location only a minute or so from beaches in both directions and close to Port Olympic as well as a fitness park two minutes away from the hotel. Beautiful, luxurious bathrooms that are in an excellent condition. All amenities are available in the rooms, and those on the higher floors have the luxury of stunning sea views. Wow! The food was really nice with affordable breakfast available at a nearby cafe if you prefer. The restaurant wasn't always open but breakfast was lovely. The hotel has two pools a fitness centre and also a jacuzzi on the rooftop.\"], 'entity_b_summary': ['The hotel is good value for money and in a secure part of the city. The hotel is in an industrial but safe area not too far from the city centre. The hotel had air conditioned rooms with a mini bar and a view of the Sagrada Familia, but they needed a small touch up. The cleaning staff made the hotel an incredibly clean environment. There was a complimentary mini bar included, although it was not restocked. The breakfast served a selection of pastries, cheese and breads. The towels in the hotel are too firm.', \"This hotel will provide a pleasant experience at a four-star rate as expected. It is good value for money and it delivers on every stay. This is an optimal location because you can easily access restaurants by foot as well as public transport for quicker access further afield. Inside the room there are great views and it is of a medium size. There is a free minibar included as well as air conditioning to make the room even more comfortable. The morning buffets were really tasty and featured plenty of pastries, breads and cheeses. You will find there are plenty of choices for even fussiest of eaters. If you don't mind cardboard towels and industrialized areas, this is the hotel for you.\", \"This is an excellent hotel with good value and you get a 4-star hotel experience. The area feels very safe as well. . The location isn't particularly nice to look at it as it's industrial, however it is short walking distance to many of the main attractions in this area and the metro. The city centre is in close proximity also, when using public transport. These rooms are to a high quality. great for comfort and they have excellent views from the window. Everything needed is there to enjoy a quick stay. The cleaning staff were really great at what they do as they leave all areas immaculate they're so thorough. Good breakfast buffet that offers a selection of foods to start your day, catering for even the most fussy of eaters. Decent hotel, however the towels provided are of a poor quality and there are little views on offer due to it being in an industrial area.\"], 'common_summary': ['The staff of the hotel were very helpful and the rooms are comfortable.', 'The hotel staff always provided a great service and were very knowledgeable so super helpful.', 'The rooms are large and and comfortable and the staff are all very helpful.'], 'entity_a_uid': ['UR125875341', 'UR115086102', 'UR123069786', 'UR76017895', 'UR24865171', 'UR126986096', 'UR113675688', 'UR98083392'], 'entity_b_uid': ['UR7634322', 'UR115022170', 'UR91658183', 'UR102638327', 'UR68812108', 'UR96973821', 'UR126908422', 'UR13894569'], 'entity_a_reviews': [\"This is my second stay at the Pullman Hotel. Billed as a five star hotel. My view is its more like a 4* hotel, well situated in Barcelona, not too far from the 5 star establishment , the Arts Hotel. It's a functional business Hotel with all the room amenities, ( fast wi-fi in room, multi channel TV, Bath and shower, modern ( art deco) , nice roomy lobby etc. on most nights the restaurant was not open for dinner though the chef was flexible to prepare dinner for a small party per- arranged. We were not disappointed with the food. Tasty and well presented with generous portions Rooms are mid size and comfortable, but pricey ( it was GSM congress week, I guess).\", \"A great hotel for a weekend break. We thought the breakfast spread was excellent. Our room with a balcony and sea view was perfect and the sea breeze was lush. Everything was in good condition - smart bathrooms and good facilities. Only gripe would be crappy pillows and not the softest linen on the beds but i suppose one can always find something to complain about (or at least i can!) The kids with the families tended to stay downstairs in the lower pool area leaving the younger set (us) to chill by the more modern pool on the roof. The location was great as it's a minute form the beach and it's a short walk or cab into town. well recommended\", 'Very good hotel close to the party-beach-area: 1 minute walking! We got a room with sea view at 5th floor left wing which is great since the sun stays very long on the balcony. Distance to old town (picasso museum) is about 15 minutes onwards. Staff is superior: very friendly and very helpful! Fitness: fitness centre in the hotel is tiny but there is a fitness park about 2 minutes walking distance for 16eur/day which provide a good facility. Fun: we were using the jacuzzi on the roof top few times. Very cool sitting there, enjoy a glass of wine and overlooking Barcelona. I will be here again!', \"Stayed at the hotel or 4 nights in August 2010. Everything about this hotel is 5 star and is a def hotel I wold stay in again if i stayed in barcelona. Breakfast was lovely and catered for all people(very impressed). Hotel has 2 pools which were fantastic My only negatives were 1. No English tv stations 2. Mini bar was very expensive so avoid at all costs FYI - If you don't want to be ripped off with expensive meals then avoid the sea front! We paid 55 euros for 2 pasta dishes and 2 fizzy drinks!\", 'This is a thru 5 star hotel with excellent service. I can really recommend this hotel. It has very attentive staff. I had a great room (first floor 116), quiet, spacy, clean and very nicely decorated. This hotel has 2 great pools; 1 roof top pool with bar and 1 pool on the ground level. It is situated close to the Port Olympic, the Beach and Barcelonetta. So a great location. It is a great hotel for a combined city / beach vacation.', \"A beautiful hotel next to the beach with impeccable customer service. The rooms are nice, the pool is great, but the hotel's greatest asset is the staff, who really go out of their way to treat all of their guests like they are special. Even though we are definitely not one of their high-revenue customers, everyone in the hotel treated us like we were royalty. I highly recommend the Pullman Skipper.\", \"Though one short block off the actual sand, the place has great beaches in both directions. If you don't want the beach, there's a very fine rooftop pool with views of the sea. There's also a nice cafe right beside it with good, affordable breakfast. It's not cheap, but very nice.\", 'Hotel was very trendy, loved the bathroom which was utterly luxurious:) large tv and comfortable bed. Breakfast was good too. Staff were extremely helpful with advice and hints on getting around the city.'], 'entity_b_reviews': [\"I struggled to get accommodation for our wedding anniversary as it clashed with the Spanish Grand Prix. I found the Pere IV on one of my many trawls, so was a bit suspicious that they still had availability. What a lucky girl I am! The receptionist gave us the 'most romantic room' - a lovely 9th floor room with a terrace and a complimentary bottle of beautiful cava to help us celebrate our anniversary. The staff could not not have been more helpful and kind, willing to give advice on sights, restaurants, bars etc. Having a pool, jacuzzi and sauna was great after a days sightseeing, although the pool was a wee bit cool! The only downside was that it was a 10 min walk to get to the main tourist areas, although taxis are plentiful and fairly cheap and there is a metro station round the corner. An extremely good value for money hotel which we would definitely use again.\", 'An excellent hotel that delivers every time. The location is away from the city centre but by using the metro (Bogatell located around the block) you can be any where in the city in a very little time. Use the T10 card and the metro is a cheap way to travel. The reception staff are exceptional,Crisanta, Yvonne,David and the other reception staff cannot do enough to make your stay an enjoyable one. The cleaning staff also deserve recognition the rooms and public areas are immaculately clean. Breakfast in a lovely bright room caters for the most fussy of eaters the choices available are so varied you cannot fail to leave the room satisfied and content ready to start your sightseeing day. My room(double for single use) was of a medium size but had everything required for an enjoyable stay. I look forward to seeing Magnuss and his team again next year.', 'We loved this hotel, the spa is excellent (despite the additional cost) and the hotel is only a short walk from the metro, and the city centre (Ramblas etc) is only one or two stops away. The area is not as pristine and smart as the rest of the city, but it is very safe to walk late at night, it appears to be an area that is not fully residential, however taxis are plentiful and bars / restaurants are within easy walking. La Sagrada Familia was the view from our window, how brilliant to wak up to that! The staff and reception were incredibly friendly, and the hotel is very smart and clean. We will definately stay here again when we visit in 2011.', 'Went to this hotel with a group of 18 of us. The hotel is lovely, the rooms were big and very clean. The hotel staff were helpful and seemed really organised, they put our rooms next to each other on the same floor which was great and even let us check in early The breakfast was lovely lots to choose from, when we were going home there was a safe locked room to put your cases. We all said we would definately stay at this hotel when we come again. Just a warning got a taxi from the hotel to the airport which was 24 going and for some reason 43 going back.', \"Me and my boyfreind stayed here for 3 nights and it was one of the comfiest sleeps ever. The bed was two double beds pushed together so it was really big! There was a complimentary mini bar, not alcoholic though and there were only a few drinks and they don't top them up either but meh! The breakfast was awesome buffet with lots of pastries, bread and cheeses:D The only things is that it's quite a walk into town. To wall to port olympic it's about 15 mins down a looong road. Then from Port Olympic it's another 15-20 mins to port vell.\", 'This hotel iseverything you expect frrom a 4 star hotel. Very clean and comfortable rooms and good service with a smile from all the staff. The area is mainly industrial but my wife and I walked everywhere and never felt any threat whatsoever. It is about 10 mins walk to the port, 10 mins to Sagrada Familia and 15 mins to Ramblas.', 'Stayed for one night in the summer. Well air conditioned comfortable room with free mini bar. The room needed a few touch ups, but on the whole was decent for a quick sleep and off out again. Breakfast was very basic continental. A pleasant experience, did the job.', 'The staff are very nice but the place is very grubby and old fashioned. The towels are like cardboard! The area is not nice, a bit industrial. Would not stay there again. More like a 3 star.']}, {'entity_a': '1389502', 'entity_b': '87603', 'entity_a_summary': ['The hotel was great and comes highly recommended. The hotel is close to transport networks. The modern rooms were really clean. What really stood out was the thermostat that controls the heat and coolness of the room. The complimentary breakfast provided by the hotel was substandard. The hotel has a thermostat control.', \"You could stay here for pleasure or otherwise because it's such a great hotel. The public transportation is incredibly close. The hotel has modern rooms, even having a thermostat control for the room's temperature. Whilst the breakfast was free it felt a lot more like a soup kitchen with massive lines and nowhere to even sit. There was a thermostat that was useful for controlling how hot or cool you would like it to be.\", \"Brilliant hotel, whether you're visiting for business or pleasure. Public transportation is also easily accessible for guests to go and explore further. The rooms at this hotel are very clean and modern. \"], 'entity_b_summary': ['This hotel was not worth the price paid for it. The hotel is situated in an excellent location on the river. The rooms were very large with a great view of the Chicago River although at times smelt unsavoury and had a dirty bathroom. The hotel did not have a drinks vending machine or fridge and the toilet paper was of a poor quality.', \"Considering what you pay for this hotel your expectations might be a little too high because it only provides typical accommodations. The hotel provides a great view of the city. Additionally there is a lovely river nearby as well, which gives the best view of the river. Also included is a huge bathroom with separate sinks as well as separate bathtub and shower. The deluxe room itself was particularly big. Sadly there was no mini fridge available to eat and drink anything in the room and there also wasn't any vending machines for snacks or drink. The toilet paper at this hotel seems quite cheap.\", \"Considerably expensive for what was provided, however overall it is a beautiful place to visit. The location is being near the river and it offers great views of the city. Large, spacious rooms with excellent views of the Chicago River in some. However, the cleanliness isn't a high quality and could be improved. There were no vending machines with soda and no mini-fridge. \"], 'common_summary': ['The hotel is in a good location. You can also walk to a lot of places in the city. The staff were very helpful. Would definitely recommend to stay at the hotel again.', 'This hotel is perfectly located in Chicago which is really close to att the attractions. Not only that but the staff are hugely helpful and always so friendly. You will definitely want to stay here again.', \"This hotel's location is perfect with attractions close by. The staff is very helpful and friendly and you'll want to stay again.\"], 'entity_a_uid': ['UR81217565', 'UR86104496', 'UR116102636', 'UR113409279', 'UR72236445', 'UR125022168', 'UR83176488', 'UR107862303'], 'entity_b_uid': ['UR114613441', 'UR114118977', 'UR125709199', 'UR75755138', 'UR119954489', 'UR83314104', 'UR115446579', 'UR68596071'], 'entity_a_reviews': ['My husband, son and daughter-in-law recently stayed four nights here and EVERYTHING was just great! We flew into Midway, caught the EL in and walked 1 1/2 blocks to the hotel. We were guided each time out to what was the fastest/easiest way to either bus, train or told to take a taxi by the hotel staff. We loved every minute of our stay. The ONLY snafu was the outside flags mounted to the window of the room during a really windy time around 3-4am kept banging. Everything was clean, neat and the folks were super, super nice!', 'Traveled to Chicago for baseball, Cubs vs Giants. After an exhaustive search chose the La Quinta for both location and cost. We were not disappointed. Clean modern rooms, breakfast buffet and business center all exceeded our expectations for mid-level chain hotel. Public transportation is readily assessable and the hotel is within walking distance to most sights within the downtown loop. Would definitely stay there again.', 'Love, loved this place! Great location.it was within walking distance to the Taste of Chicago and other attractions. The rooms were updated and clean. Pretty spacey.the bathroom was HUGE! They also served continental breakfast which is always a plus in my book. There was a lot of food choices and the staff was SO friendly! Definately will stay again!', 'We spent 3 nights at this hotel. Staff were helpful and relatively friendly, breakfast was very good and our room was very comfortable. Not too far from the downtown area, it can be walked in about 20 mins or there is easy transport within a block or two. Would stay there again . . and Chicago was great!', 'Hotel was very crowded, people dogs everywhere elevators were painfully slow, and the free breakfast was more like a soup kitchen, big lineups no were to sit, and I went back 3 times with no luck. so I just gave up after awhile and went out for food.', 'the staff were all very courteous and helpful the complimentary breakfast was very good, lots of good choices, the food/beverages are all laid out well for people to walk through out the room the room was fine, one stand out would be the thermostat control for heat/cool.', 'Stayed at this hotel for a weekend vacation. Rooms were clean. The front desk staff for the most part were friendly and helpful. The hotel is located in an excellent location. Close to many area attractions such as the Willis Tower.', 'I stayed 2 nights for business and my conference was 3 blocks away. I could not have asked for a better hotel for my top 3 concerns: Clean, Price, and Location. I would stay here again even for pleasure.'], 'entity_b_reviews': ['We stayed here for one night with our two kids, as they hotel could not accommodate both nights of our stay during a recent road trip. Like just about everything else in Chicago, the prices were steep. We were expecting more for the price we paid, but found only typical accommodations. We liked the location, the friendly and helpful bellhops, the views from our room and the top floor ballroom, and in and out privileges for the parking. We missed not having a mini fridge, and felt that having only one chair in a deluxe room with two queen beds was a miss even though there was plenty of room for more comfortable seating. The valet staff was slow to bring our car at checkout. There were no others waiting, and no new arrivals, yet it took them 20 minutes to get our car to us.', \"Stayed here in middle of June 2011. My partner was in Chicago on business and I tagged along for fun. We had both been to Chicago before. Things I really liked about the hotel: the location was amazing and the view was really nice; the bed was very comfortable; the staff was pleasant and helpful; the business center had a printer which was great for printing boarding passes. Our remote controls never really worked, and the noise level from the hallways was surprising. I found the bathroom wasn't very clean when we arrived (hairs in the bathtub, etc) and we sometimes found certain parts of our deluxe room a little unsavoury smelling. For parking, you do have in-and-out privileges, which is quite nice.\", 'We stayed 3 nights in this beautiful hotel and enjoyed every minute of it. Our room located on the 25th floor gave us a wonderful view of the Chicago River. This was my kids first time seeing snow fall, so the river was a nice backdrop. Two minor drawbacks: no soda vending machines and the toilet paper seemed a little cheap for such a nice hotel. Also, if you want a refrigerator make sure you request it. Not all rooms have them. The front desk clerks were warm and friendly.', \"Were hoping for the best since this isn't a 'brand' name but SOOO HAPPY we tried this boutique hotel. STAFF was GREAT as well as EVERYTHING ABOUT THIS PLACE! LOCATION LOCATION LOCATION! Celebrating friends 50th the LADIES had a fab time all around and such a GREAT view of the City! As one other reviewer stated - it would be nice to have a mini fridge but all in all THUMBS UP UP UP!\", 'Hotel 71 a great place to stay very close to all attractions lovely situation on the river.Very pleasant and helpful staff.Enjoyed my stay immensly.Windows can be opened to let in fresh air not like the New York hotel we stayed in very stuffy with the air conditioning .If going to Chicago stay here.Also found a great diner on Clarke st Ronneys Steak House very reasonable and great eggs and bacon', \"Great Chicago Location. View of the river was beautiful. The rooms were huge, especially compared to other Chicago hotels. The rooms were clean and the staff was friendly. Only negative is the wait for the 1 elevator.sometimes up to 10 minutes. As long as you plan ahead, it isn't too big of a problem. Will stay here again!\", 'We booked this hotel through TravelZoo, and we had a very nice stay there. Our room had a huge bath with both a shower and a separate tub - plus two separate sinks. Everything was very clean. The check-in process was very smooth, and our room was available for us even at 1 PM. Would definitely stay here again.', 'Stayed here for 2 nights for the Neocon conference. The location is excellent for business or pleasure and at a price much less than other hotels nearby. Would definitely stay again.']}, {'entity_a': '304824', 'entity_b': '294658', 'entity_a_summary': [\"It's a good hotel and would definitely recommend as well as return for another stay. The hotel is in a perfect location in the old quarter of Istanbul. The hotel is within minutes of the Blue Mosque and the Grand Bazaar, along with many other traditional and historic places in Sultanahmet. The rooms here are cosy and on the small side but always very clean and comfortable enough. The staff were knowledgeable about the local area. The breakfast was fit for a king so that's definitely recommended. There was nothing not to like especially with breakfast on an open terrace. The hotel provides complimentary internet access in the reception.\", 'The hotel was a wonderful boutique style and there were some pleasant surprises provided such as wines, fresh fruits and transport provided to the hotel. Highly recommended. Everything is within walking distance from the hotel here including the public transportation, which you can take to get to the main street. The rooms in the hotel were a little small but clean and comfortable. There is no WiFi available in the room and not a lot of room for storage. The staff are so helpful and always willing to help out with their polite manners. The hotel provides a great breakfast and both breakfast and dinner can be enjoyed at the rooftop dining area. There was an unexpected bonus to this hotel and that is the reception area provides guests with free internet access.', \"A highly recommended hotel that goes above and beyond for its customers, including arranged transfers to the airport and fruits and wine. With only a 5 minute walk to places like the Grand Bazzar or the center of Istanbul's old city, views of the Bosphorus this hotel sits in the old quarter and isn't far from popular tourist spots. It's rooftop terrace also offers views of the Golden Horn and the Blue Mosque and the sunsets are amazing from there. Although the size of the rooms here are small, they are well furnished, clean and comfortable. The only downside to the rooms at this hotel are that there is no wireless internet available unless you're in the lobby, and the rooms can seem quite dark to be in. The staff was okay. They were polite and helpful when they needed to be. The breakfast was Kingly. Very good. Having free WiFi in the lobby was a pleasant surprise.\"], 'entity_b_summary': [\"This is the perfect hotel for both leisure and business stays and is a welcome breath of fresh air for the hospitality industry. You can walk across the park near the hotel to a number of restaurants. The hotel's rooms are modern, adequately sized.and competitively priced. It is even possible to see the Bosphorous from some of the rooms. The staff based at the hotel were generally good, but there were some instances of unprofessional conduct. Unfortunately the dial-up service to access the internet is a paid service. Additionally the gym is pretty small but it's fine for a quick workout.\", 'The Conrad hotel warmly greets its guests upon arrival and are far beyond the expected norms when it comes to hospitality. The hotel is just across a park from many popular restaurants. At this hotel the rooms are of a decent size with modern facilities and look. The views are good from the room and the price was a competitive rate. For the most part the staff at this hotel are really great and make you feel very welcome, especially with personalised messages and general friendliness. They handled any requests efficiently and had plenty of recommendations for resources. All meals here were delicious however they shut down the bar at a designated hour. The hotel has a small gym on site which is ideal for a workout. Some of the floors on the hotel you will need to pay for dial-up internet.', \"The Conrad hotel is great for business or pleasure and the staff greets its guests with personalized attention the moment they arrive which is so rare these days. This location is quite out of the way so it is best to book somewhere close to where you plan to visit. The area's small restaurants are local university students' favourites so that is something to bear in mind. The rooms at this hotel are modern, clean, and nice. Views of the courtyard are lacking inspiration where the picturesque scenery of the Bosphorous was lovely. The staff offered a very friendly service along with a personalized message from the manager to warmly welcome visitors to The Conrad, Istanbul. They were efficient and quick and informative about everything available to guests of the hotel. Delicious food that you can enjoy while looking over at some fantastic views of the Bosporus. This hotel provides a small gym that can be convenient for those wanting to complete a quick work out. Although the location of the hotel is slightly out of the way, it is still suitable for those visiting for business.\"], 'common_summary': ['The hotel is definitely recommended.', 'This is a recommended hotel.', 'This hotel is highly recommended.'], 'entity_a_uid': ['UR47579108', 'UR46360954', 'UR38559972', 'UR105820478', 'UR113354113', 'UR56035478', 'UR96395419', 'UR32370072'], 'entity_b_uid': ['UR89325717', 'UR116227695', 'UR128187728', 'UR119838088', 'UR29165399', 'UR6694192', 'UR128296882', 'UR37728519'], 'entity_a_reviews': ['Ideally located, within minutes of the Blue Mosque, Grand Bazaar etc and in the heart of the old City of Istanbul, close to tram and autobus and the main street in Sultanahmet. Stunning views of the Bosphorus, sunrise and sunset from the rooftop bar area and dining room. Breakfast and dinner can also be taken in the rooftop area which has a glorious panoramic view of the City, especially after dark. Caner, our host on arrival at reception was very knowledgeble and gave good advice re places to visit, all hotel staff were very friendly. Free internet access in the reception area was an unexpected bonus. The bedroom was a little dark and not a lot of space if you have large suitcases, we were here for 7 nights, plenty to chose from at breakfast, although pretty much the same every day, lots of fruit, cheeses, breads, choice of eggs, teas and coffees etc. Overall a fantastic boutique style hotel, THANK YOU CANER, regards, Lyn & Shahbaz', \"We spent there 3 nights (celebrated my birthday)- and liked everything: very clean and cosy rooms, breakfast on open terrace with breathtaking views of the city&sea. Location is perfect ,managers are very professional and hospitable (special thanks to Mr. Ali Aldemir). We were happy to have some pleasant suprises from the hotel: wine, fruits, transfer to airport :) I'm glad that we stayed at Mina hotel. Absolutely recommended!\", \"Excellent situation close to blue mosque at the heart of Sultan Ahmet district. We were lucky to get a good deal in high season. Room size is small but well furnished. There's a beautiful roof top and terrace facing the golden horn and the blue mosque; Wonderful night view. The reception staff were polite and room service was acceptable. They also offered us free shuttle service back to the airport.\", 'i liked this hotel a lot.the reception was perfect, the room good but not spacey( no 208 or 209 i think.also the management should think to put a brush in the toilet for the .you know. there was no brush.a last thing that i d like to say is that the staff of the restaurant wasnt very smiley with you if you didnt leave a tip.', \"Great location 5 minutes walk to the Grand Bazzar and many other historic and traditional places in Sultanahmet. The breakfast is buffet and it's good not too bad. The staff very friendly and always trying to help. The only disadvantage we faced is that there is no wireless internet in the rooms, only in the looby.\", 'Lovely hotel in the heart of Sultanahmet with spectacular views from the roof terrace. Excellent value for money with friendly and accommoating staff. Rooms were clean and comfortable, all thats required when visiting a city. I would recommend this hotel to anyone, and i would definately stay at the Mina hotel again.', 'This hotel is in the old quarter of Istanbul-it is short walk to all the tourist spots.The rooms are small but clean-breakfast is buffet style and delicious.The view from the breakfast area is fantastic.Reception staff are ready to answer any questions you have about the area.We would definitely go back to the Hotel Mina again!', 'Not a negative to this place. Easy stay, with a breakfast fit for a king!'], 'entity_b_reviews': ['Nowadays, it is so rare that those in the hospitality industry aspire to go above and beyond what is expected. I was warmly greeted with such personalized attention the second I stepped outside the car. I was immediately escorted to a private check-in floor while my bags were being taken to my room. When I entered, I had a personalized message from the manager welcoming me to The Conrad, Istanbul, which just reiterated the same warm verbal welcome I received from the bellman and the staff associated who informed me of the great number of resources available to me while I was a guest of the hotel. While I had a postcard view of the Bosphorous from my room, I could further embrace that beauty and enjoy drinks, snacks, reading material and conversation with fellow guests. The Conrad, Istanbul was a breath of fresh air when it comes to the hospitality industry. My requests were handled to my satisfactions, quickly and it was flattering to know that President Obama had also stayed at the hotel in April 2009. The one and only criticism I have of the hotel and its services is the exorbitant in-room internet fees. Hopefully those either have been or will be readjusted to a more industry competitive rate.', 'I stayed here on a business trip. The hotel has a very good location, very close to the shores of the Bosphorus, 5 minutes from Yildiz Park. The room was very competitively priced relative to other hotels that one might consider for a business trip. My room was fine, although the view of the courtyard was less than inspiring. Explains the cheap (for Istanbul) room rate. The facilities are great for a business traveller - great gym etc, quick, efficient and very friendly service. Would recommend the hotel.', 'Stayed here on business for three nights. Reception very efficient and welcoming. Rooms are a nice size with all facilities you would expect and housekeeping was perfect. The bar on the 14th floor has great views of the Bosporus - you must go up there. Breakfast was plentiful but very busy at peak times. Gym is small but sufficient for a quick work out. The area was a bit out of the way but fine for work. Meeting rooms were good and wifi worked ! I would be happy to visit again.', 'The hotel has beautiful public spaces, and the meals were delicious. You can walk across the park to many small restaurants favored by young people and university students. The rooms are modern with bathtubs. Istanbul is a huge city and traffic is awful so it is best to stay in a hotel near where you plan to visit. I wanted to go to a Catholic Church (St. Anthony of Padua) and it took me 40 minutes by cab.', 'We stayed on the 15th floor. Great view. great food. they do shut down the bar and food right at the designated hour. we were a couple mins late and everything was gone. taking the metro to the golden horn is very easy. I recommend buying an Akbill to make it very simple.', 'Ohh my God.I never seen in my life Hotel General Manager yelling his Staff. Checking in and out was very ruff. Until 8 floor ,you have to pay for dialup service for internet. And Construction noise. Ohh my God.Dont stay here.', 'Thia hotel needs a renovation! Is very very old (my room smells cigaret and the carpet is terrible! My lugagge taks 1:30 to go to my room', 'Good location. Perfect staff. Excellent hotel for leisure and business']}, {'entity_a': '238569', 'entity_b': '503506', 'entity_a_summary': ['The price of staying at this hotel was reasonable. The hotel is located in the city centre and right next to a canal. The rooms of the hotel can be small and with little beds. The rooms are good value and are clean and well furnished. The continental breakfast was a bit limited but it did taste great and it was provided by the hotel for free. The hotel did provide free internet access. However, be warned of the steep stairs if you have heavy luggage. The hotel is gay friendly, but there are homosexual pornographic materials left out in public areas.', 'This hotel is reasonably priced and has great style to it. It will provide a perfect stay. The hotel is centrally located therefore close to everything and for the price it really makes this hotel great. The rooms are very nice and clean but be sure to book a large room or you will end up with small beds. The hotel provided a complimentary Continental breakfast with hot drinks available at all times. Food is served in a reserved dining room. Hotels here are not cheap and very often are quite small. In this hotel there are quite steep stairs that make large suitcases quite hard work.', \"A really nice hotel with ok prices and a unique style. The location is idyllic for those wanting to explore the area, as it is in close proximity to the city centre and station, with many of the main attractions only walking distance from the hotel. The room is nice but a little small. They are of a good value though and features nice high-quality furnishings. A great continental breakfast provided at this hotel, with a varied selection of foods. Although not quite a buffet style breakfast that some may prefer, all food and drink comes free as part of the guest's stay here. Not cheap, smallish rooms and steep stairs so take care.\"], 'entity_b_summary': ['Overall the stay was pleasant enough at this unusual stand-out hotel. Would recommend and also come back again. This hotel is perfectly situated for access to the main city as well as for a peaceful walk or job along the waterfront nearby. Additionally there are some restaurants and deli shops not far away that many locals tend to visit. Some rooms in the hotel have an open toilet in the room which may be an issue for some. There is complimentary internet provided in rooms. The staff at the hotel were often unfriendly and did not finish tasks. The restaurant at the hotel is good, but the wines can be expensive by the glass.', 'The hotel was a unique, historical building and different from your standard fare. It is worth noting that the walls and floors were damaged though. The hotel is a few stops on the tram to the centre of the city. There are restaurants, shops and delis all close to the hotel. Whilst the quirky room had decent, working and free internet, it did not make up for how dirty the room was overall. The staff are sometimes helpful and sweet but forget to finish tasks and can be unfriendly at times. The hotel restaurant has a nice choice of wines but the meals cost a bit too much. It was ok. There is a very nice fish shop in the mall though. This hotel is unfortunately really expensive especially when compared to the performance of the hotel.', \"The hotel is in an old building. The walls and floors were damaged but it was still nice. The hotel's location is close to the tram line and train station which can take you into the city. There are many restaurants and grocery stores and delis to visit if you want to see some of the local life. The waterfront is also close by for a walk or run. The rooms at this hotel are okay. Free Wi-Fi is on offer, and they are large and very comfortable. The main issue with these rooms is that they have an open toilet, which isn't idea when there is more than one person occupying a room. They could also do with being cleaned more regularly as they are quite dirty. The service is to an average standard. Staff are not always friendly and there can be a language barrier. The restaurant at this hotel serves reasonable food, however it can be quite expensive. Thievery occurred from locked luggage.\"], 'common_summary': ['Some of the staff at the hotel were helpful and amiable to guests.', 'The staff at the hotel were compassionate and helpful.', 'The staff at the hotel are very helpful and friendly.'], 'entity_a_uid': ['UR5711537', 'UR14071531', 'UR117371435', 'UR114869814', 'UR6595196', 'UR117311974', 'UR101559181', 'UR12402232'], 'entity_b_uid': ['UR120001082', 'UR116020720', 'UR10043914', 'UR106192226', 'UR61272255', 'UR101508237', 'UR118356485', 'UR114467217'], 'entity_a_reviews': ['Returned yesterday from a 2 night stay at the Hotel New Amsterdam with my wife and 11 year old son and have to say what a joy it was,from the initial welcoming cup of tea to the final goodbye it was a superb experience. The hotel is very centrally located just a 10 minute walk from the Central Station and next to a charming canal and although the rooms are on the small side(we had the mini-suite in the loft which had a tricky low ceiling! and generally traditional Amsterdam hotels are on the small side) they are beautifully decorated and very cosy with high quality furnishings.Just look out for the steep stairs if you have large suitcases it can be hard work! The breakfast was typically continental with cold meats,cereals and a lovely selection of bread ,fresh juice and good coffee etc.served in a smart little dining room with a tv showing BBC news. What set this place apart for me was the service from all the staff who went out of their way to help and make us feel special-we have used many hotels in the US and Europe and can honestly say this hotel is right at the top when it comes to service,nothing was too much trouble. Would not hesitate in returning to this hotel.', \"The hotel is located in Jordaan, beautiful district with very cozy restaurants. The hotel has modern looks, great breakfast, and the staff are nice and friendly. I stayed in room 342, which is in the third floor, and has two twin beds. The room was OK, but I do have to say that each bed was extremely small! 68 cm wide (which is very small) I actually asked the staff if this was normal, and they said that in Amsterdam hotels it is normal. Apart from this, I would recommend the hotel, but I would make sure, before making the reservation that they book you a room with normal sized beds. Oh, also, the room rate doesn't include breakfast (which was 7 euros, more or less)\", 'I was in this hotel during 4 days, and it was perfect. Staff is really kind,they help us in any moment. Breakfast for free and also tea and coffe. Internet too for free. The hotel is only 5 minutes from central station, and it is placed in the best area of Amsterdam, in the city center.Very nice room, so clean and beatifull with canal view. In my opinion, the hotel style is great, it is different, and prices are ok.', 'Hotels in Amsterdam is not cheap. This hotel has a reasonable price and has an excellent location near the central station but still in a very nice area, Jordaan. The rooms (we chose a L) are of a good size and reasonably clean. The \"continental breakfast\" was toast and jam, with coffee or tea, which was kind of a let down. But, at this price and location, it\\'s a great hotel.', 'The staff were friendly and helpful. The room was comfortable but small. We believe they cater for a gay market, whilst this does not bother us at all, we did find the explicit gay pornography left in the common areas offensive and gave the hotel a seedy element. We would feel the same way about heterosexual material being availabe in the same way. Would not stay there again based on this.', 'This is a small hotel located about a 5 minute walk from the Central Station in a quiet neighborhood in Amsterdam. The staff is friendly and the rooms are simple and clean. Most rooms tend to be a little small but are generally a pretty good value. They provide a breakfast which unfortunately is only bread/toast and jelly/jam but there are plaves to eat nearby. They also offer free wireless internet.', \"I stayed at this just last week. Great place to stay, free breakfast and internet. Just have to wait for everyone to log off so you can get on. Even books to read if you don't want to sightsee in a number of languages. Coffee and tea available all the time as well - free! Really close to everything as well.\", 'very good value for money. great location, great service, great room, great breakfast wish there was one of these hotels in every city'], 'entity_b_reviews': ['Other reviews already pointed out some of the unusual features of this hotel, which is located on the quiet water front close to the cruise ship terminal, an ideal location for an overnight stay before and after the cruise. The staff was friendly & helpful. Internet in the room was free and worked without any problem. The restaurant downstairs, with a good choice of wine by the glass, served tasty but pricey meals. However, there are several restaurants, grocery stores and deli shops in the neighbourhood frequented by the locals. One fish shop in the mall down the street, with a long queue at lunch hour, served a variety of seafood take-outs at reasonable prices, and the herring I tried that day was probably as good as it can be. For those who are health conscious, a morning stroll/jog along the water front would definitely help to kick off the day in the right mood.', \"Firstly the good thing about the hotel is cultural and clean, but it doesn't really feel much like a hotel, instead, a B&B. The overall service is just fair, we booked it in advance through zuji, but when we arrived, they had no record and we need to wait for an hour for checking in. In the first day out, we left the wallets inside a luggage which is locked. Of course it may be not wise to do it, but it was too late when we found 300 euro was gone when we back while everything seems fine in the appearance. Probably it was stolen by the clean-up staff. We were very disappointed with this hotel and would not recommend to travelers.\", 'This is an unusual hotel, different from the normal run of the mill. I had a large and comfortable room, minimalist design which actually turned out to be quite relaxing! Its a few stops on the tram from the city, the road is reasonably quiet. The tram stop is close by, as is the canal hopper service. If you like design, or want to try something different then this might be for you.', 'I was there for 4 days. So all i have to say is that all we got were damaged walls and floors. the rooms are very manky. The toilets and showers were separately, but they were usually too dirty. The service often forget to finish their work. Only the location was good, there is a tram directly to the near Central Train Station', 'strengths: - nice old building with history (old prison) weaknesses: - too expensive (very bad price performance) 150 a for a two star room ! - bad tv reception - rooms looks like hospital/prison - old towels - lousy unfriendly service - addtional extra fees: parking 22 a, touristfee 7 a, breakfast17 a - to far form the center - noisy', 'I did enjoy the stay, I will list the pros and the cons Pro -nice price -close to the trams -helpful staff -sweet to be able to order food in the middle of the night (it was possible in the hotel) -cool rooms cons -It was to far away from the city center to be able to walk.', 'The concept of having 1* to 5* rooms is great. Translation is another thing though because the service does not span that range. Definitely quirky rooms but many have an open toilet, which is fine if you are single occupant. Restaurant not great.', 'I return from a weekend at the LLOYD hotel, it is a very good hotel, not useull, stuff are very freindly, room very nice (2 stars) I would come back again and again!']}, {'entity_a': '781650', 'entity_b': '1022738', 'entity_a_summary': ['The hotel is situated about five minutes away from the airport and offers a free shuttle service to the downtown area at twenty minutes past the hour. The two-bedroom suite in this hotel was stunning and really impressive. There were lots of nice features such as granite worktops, marble flooring, stainless steel appliances for guest use, and the bathroom featured Jacuzzi tubs and a really big walk-in shower. The breakfast passes only included the fruit and bread. The parking facility at the hotel cost $18 which is expensive, and the water at the hotel was discoloured and riddled with seaweed.', 'The hotel in Key West has lots of water activities to take part in. There is a small sandy beach nearby but as this hotel is not in the heart of all the action the hotel themselves provide a free shuttle service downtown. The rooms of the hotel were really good. They had a view of the water across two balconies. The rooms had a large living area, dining area and kitchen facility. The kitchen has granite counters and stainless steel appliances, all high end. The bathroom was fantastic with jetted hot tubs and a walk-in shower. The staff were good at this hotel and very accommodating to you. The breakfast was pretty limited as a Rewards member who receives a breakfast pass - the hotel only supplied fruit and bread areas without even including the typical powdered eggs. The parking is $18 at this hotel and its water looks dirty, even full of seaweed.', 'This Marriott is nice and comfortable. There are lots of water activities but no private beach. Perfectly located to the airport as it is just a quick car ride away. Although it is not in the heart of the city, there is regular transportation via the free shuttle service. Remarkable rooms that provide stunning waterfront views. Each room is extremely spacious and there is the option of a Jacuzzi bath tub as well as a shower. The rooms are quite pricey, and it is worth upgrading to experience the luxury of a beach facing or poolside room with a balcony. The staff was very nice and the management was extremely courteous. Highly priced parking at this hotel, and the water provided is particularly dirty.'], 'entity_b_summary': ['The resort will have you wanting to keep coming back because it is really relaxing and welcoming. The hotel was a short taxi ride away from the town centre. It was quite a drive to Duval Street and this was rather expensive in a taxi. The room was beautiful and has amazing views. With regards to the bed in the room it had great quilted bedding. You could not wish for better staff service here because it is five-star. They were really helpful as well as friendly and welcoming. There are some great salt pools where you can sip some cocktails and achieve some peace and tranquillity. The price is quite steep however there are four amazing pools and an outdoor bar, so would definitely come back again.', \"The hotel resort is incredibly relaxing and a home away from home. The only downside is that it is quite expensive. This is a great tropical location but a taxi ride is usually required to get to most places. The hotel provides an ocean view to rooms on the upper floor. Also worth noting is the quality of the room's bedding. The staff were very welcoming and courteous and are highly recommended. The hotel provides cocktails in one of their three salt pools. The hotel has some pleasing features such as four swimming pools and porches areas, but the price can be expensive even if booked in advance.\", 'A resort with the perfect mix of relaxation, and a chance to catch up on some well needed sleep. This hotel is situated a short drive away from the busier, tourist areas that can be taken via taxi. However, the taxi to the downtown area is quite expensive. Ocean views were only available from the upper rooms due to the foliage but the cottages are great with really impressive bedding and the grounds are gorgeous. There are even little porches to enjoy. The staff was great. They were friendly and very helpful and went out of their way to make their guests feel at home. The hotel has little porches and you can relax in one or all of the four pools which also include an outdoor bar.'], 'common_summary': ['This hotel is really enjoyable and definitely recommended. The rooms of the hotel are clean and spacious.', 'A highly recommended hotel. The rooms here were always clean and spacious as well, featuring some nice furnishings.', 'The rooms are nicely furnished and spacious. Highly recommended for stays, weddings, or last-minute bookings'], 'entity_a_uid': ['UR115572028', 'UR74444513', 'UR103081787', 'UR126366012', 'UR113146588', 'UR22446276', 'UR120751114', 'UR119970445'], 'entity_b_uid': ['UR120527285', 'UR108252946', 'UR87502270', 'UR71554582', 'UR96233880', 'UR122691784', 'UR116350995', 'UR121886991'], 'entity_a_reviews': [\"The rooms are clean and spacious, and furnished with nice pieces that truly demonstrate their concern with quality. The only problem is that the beach is not really a beach, but a 30 feet stretch of sand where they park a couple of dirty kayaks and 2 or three jet skis . The water looks dirty and it filled with seaweed. The rest of the waterfront is not for swming as there is 5 feet concrete wall drop . I even saw what I think its a grey water discharge pipe . Bottom line is that if you want a nice comfortable hotel and don't care about the private beach, this is for you . If you are looking to get wet in the blue waters of key west while in hotel grounds, look for other options. Also parking is $18 . They will not tell you . You will see it in your credit card later.\", 'Awesome rooms, made me feel right at home, Make sure you get a poolside or beach facing room the others just dont make the cut, we were first checked into what I would call a closet for $190 a night, which is still quite expensive, and we upgraded to a poolside for $50 more and it was well worth it, Just absolutely adored the room, had a kitchen, the best bathroom and a balcony view of the pool, Only flipside like other travellers say there is no real beach and you cant swim its just a stretch of sand to sun yourself so dont be fooled by the beach! Key West has a lot of water activities so we didnt really miss the beach!', 'We stayed at this Marriott for our wedding. We stayed three nights. It was amazing. The hotel room was beautiful. Granite countertops, stainless steel appliances, marble floor, jetted tubs, walk in shower, etc. I really enjoyed our stay. The hotel is not in the heart of Key West, but they offer a free shuttle service to downtown every 30 minutes and return shuttle every 20 minutes after the hour. The staff was nice, our room was clean and the decor was great. I would highly recommend staying there!', 'Had a great weekend stay at the marriott in Key west. The rooms are fantastic. Two bedroom suite was wonderful. The staff was very accomodating, and they offer free transportation form the hotel every hour to downtown key west. the bus drops you right off at margaritaville, The hotel pool and bar was very spacious, and they have a small sand beach also. The hotel restaurant was jammed saturday night, and it is 5 minutes from the airport. I higly recommedn this hotel.', \"First time to Key West and stayed here using Marriott points. Room was stunning. Waterfront view, 2 balconies, huge living room/dining room/kitchen. 1 1/2 baths-jacuzzi tub and spacious stand up shower. Shuttle service to Duval was nice but would have been nicer to have been within walking distance. Shuttle back to hotel at night was full of rowdy drinkers. Received breakfast passes since I'm a Rewards member-it only included fruit/bread area-not even the usual Marriott powdered eggs-that section was $4 extra per person.\", 'We were all set to go and just the night before came under the weather with flu and had to cancel the booking. Normally the hotel charges $150 as a penalty but upon learning about our situation the hotel management happily agreed to waive the penalty. This was the week after Thanksgiving, so it was not as if they were heavily booked and would find last minute reservations. Very few times have I seen such a courteous hotel management.', 'This is a wonderful property located right as you enter the island. The lobby and restaurant are beautiful and the pool and poolbar are a blast. Rooms are very nice and comfortable, and the staff is great. Definitely a great option for your trip to Key West!', \"We've stayed here two times in the past 3 years. I've got to say that the accomodations are still excellent and service from the staff is outstanding!\"], 'entity_b_reviews': [\"I have stayed at parrot key before and was very impressed, so i booked agian, for fantasy fest, we stayed a total of three nights, I will say the location is not in the heart of downtown but that was one of my favorite things about the hotel, a short taxi ride away from the choas of downtown was our quite, spacious room. Where we could catch some well needed sleep. Last time we stayed we stayed we were so impressed with the quilty bedding we spent the next day shopping for new sheets for our house, sleeping at parrot key is like sleeping on a cloud, I can't say enough about this place, staff is top- notch,\", \"From the very first time I stayed there on a short pleasure weekend I feel in love with the resort. I was looking to get away to a tropical place not far from my home in Fort Lauderdale and I found it. Relaxing in the pool, working out or sipping cocktails in one of the three great salt pools took me where I wanted to go to peace and tranquility yet only three hours from home. I have been back now two more times and it's becoming my home away from home. I hghly recommend the resort and all of the staff memebers Sean was the best ask for him when making your reservation. go and enjoy stop reading now. trust me!\", \"I stayed at Parrot Key once before when it first opened and loved it, so I chose this property again when I needed a room in Key West for Fantasy Fest. The grounds look even more lush and beautiful than before. From the road it's hard to tell what paradise awaits you as you step into the property. My sister and I had a two-level suite that was fantastic. The front desk gave us all the inforamtion we needed on the events and how to get to and from Duval during this busy time. We absolutely loved it and will stay at Parrot Key again next year!\", \"We stayed two nights in June. The resort was excellent! Staff and service was impeccable. The resort is the right mix of relaxation. We spent most of our days relaxing in the 4 beautiful pools and sitting by the outdoor bar. It is a bit of a drive away from duval street but we weren't too keen on the drunks and parties that you find there so we were quite happy to relax at the resort. We were upgraded to a two bedroom cottage and it was spectacular! I would definitely go back to the parrot key resort again!\", 'We had the 3 bedroom ocean view cottage. Due to the lush foliage, the ocean is only visible from the decks off the upper rooms. The rooms are spacious and well furnished. The only thing lacking is a washer/dryer and you could live there. The only reason I would not go back is the price - including the resort fee, the lowest rate available in February was just under $600 per night when booked months in advance. We enjoyed our stay, but will try to find something less expensive next time.', 'From the moment we checked in we were greeted by very friendly and helpful staff. Oriana, Rutanya, and Shenali (sp) overextended themselves and made us feel more than welcome, like we were at home. We are down for a birthday and the staff was helpful enough to recommend a bakery for a cake and set up the room fit for royalty. The atmosphere is beyond anything we expected. The property is lush and exotic. The rooms are very clean. We will definitely be back =)', 'We loved Parrot Key. The rooms and grounds were absolutely beautiful. We especially loved the little porches. Everything was very clean and the staff was extremely helpful and friendly. We also enjoyed the onsite jet ski tour! The only down side of Parrot Key is that the cab ride to Duval street/ mallory square was about $15 each way which got pretty expensive. We would defiantly stay at Parrot Key again.', 'Great staff, wonderful grounds, and the pools are amazing! Would def go back! Trying to plan another trip for January!']}, {'entity_a': '278196', 'entity_b': '289202', 'entity_a_summary': ['This lovely and charming hotel can be busy during September time. This hotel is nicely located in quiet neighborhood and also close to the best things to do in Venice. The room were clean but it seems more like a dorm than a hotel room. You need to spend extra 20 euro for an upgrade. Very friendly owners. While the breakfast is basic here the breakfast area is quite small and it gets filled up fast, there are lots of places near by; the staff will even make a reservation for you. The local boat trip to Murano is worth it but the advice would be to go on the normal boat.', 'The hotel is generally good but may be a little difficult to find. The hotel really nicely located off the beaten path, hidden away in a quiet neighborhood. It is great once you get your bearings in Venice and is close to everything but the trip to Murano, though free, is not good. The room was clean with a good price for Venice. It was more of a dorm room than a hotel room away from the main hotel but we were eventually able to get a lovely room for an additional cost. The owners of this hotel were very friendly. The hotel offers a basic breakfast but the room is too small and fills quickly. There are places to eat nearby but you can also book a place in the restaurant. One boat tried was the size of a box so if going to Murano, go on the normal boat.', \"This is a charming hotel with several factories and shops nearby to give you choices in your shopping experience. Even during the busy September season, it is a enjoyable experience. And don't worry about being able to find it. It's no drama to locate and everyone will enjoy their stay. The hotel was well located and right on the Grand Canal. The hotel was located off of the beaten path so you can avoid a lot of tourists. The location was central for the main water boat routes too. The room was lovely, although across from the main hotel. It was a second floor corner room that was a bit smaller than anticipated, but at a good price and very clean. The owners of the hotel were welcoming. The hotel's breakfast was adequate although a little basic. The hotel can book the restaurant for you at your preferred time. The best way for hotel guests to go to Murano is by normal boat.\"], 'entity_b_summary': ['The hotel is definitely recommended for others, but it is a little remote for some. The hotel is located on the Grand Canal and opposite the Santa Lucia train station. It is in a less buys part of the city but a gentle walk to all of the tourist sights and boat routes. The rooms in the hotel have a view of the canal. The rooms are light and well maintained. The bathrooms have twin basins which is ideal for a couple. The staff at the hotel were helpful and knowledgeable. The breakfast provided by the hotel was adequate. The elevator in this hotel was small but it was really well-maintained.', \"The hotel is great and very recommendable. It is a little bit of a distance from St Mark's but otherwise very good. The location of this hotel is great. It's within walking distance of most tourist attractions but isn't far from the railway station if it's needed. It is close to the main boat routes as well. Views of the canal from the rooms are amazing. The rooms are gorgeous and the room also had a twin basin bathroom which was a great bonus. The staff will make any visit to this hotel really memorable. Every member of staff have loads of great advice and recommendations for the local area from sight-seeing to restaurants, and even provided a map with best routes, Here at the hotel the breakfast food that's served is okay. The hotel had a small elevator but it was in good condition.\", \"This is a gem of a hotel that is highly recommended if you want a memorable stay. It is easy enough to walk to main tourist attractions from this hotel but there are transport links that are close to the hotel should your feet get tired. Overall this is a great and lovable location. There were great views from the blue room in this hotel and it had plenty of room inside. There are gorgeous chandeliers provide a luxurious touch. The staff are very welcoming here, and are well equipped to provide guests with directions and recommendations. Very helpful at all times, and do everything they can to make each guests's stay memorable. The breakfast food at the hotel was okay. A small, yet well maintained elevator in this hotel.\"], 'common_summary': ['The staff at the hotel are friendly and helpful with a great breakfast provided. The rooms in the hotel are small but clean.', 'The hotel whilst small did boast greatly friendly and helpful staff. The hotel rooms were really clean and morning buffet breakfast was always excellent.', 'This is a friendly small hotel with very nice and helpful staff.'], 'entity_a_uid': ['UR6109834', 'UR60099205', 'UR10040499', 'UR42395251', 'UR73571982', 'UR56659720', 'UR125599506', 'UR10151117'], 'entity_b_uid': ['UR4069022', 'UR6232922', 'UR5602503', 'UR10721583', 'UR83506882', 'UR5813853', 'UR3998784', 'UR99144485'], 'entity_a_reviews': ['My wife and I booked here during the last week in October 2006 for a total of 4 nights and were very happy, well looked after and would definitely book again. Our room was first class. The hotel was excellent value, the breakfast buffet was unlimited and varied and the service could not be bettered. The situation for a tourist could not be more convenient as it is so central and most sites can be walked to within minutes. When transport is required the Grand Canal is 5 minutes away. As the hotel has no restaurant it is necessary to eat out (no bad thing when visiting a new city) and the recommendations of the concierge can be trusted. We followed their advice and were very happy indeed. It helps to allow them to book the restaurants, as they managed to get us in at our preferred time, when we could not. Tony Brazier', 'we had a wonderful 5 days in venice, and the hotel is really nice and well located. when we arrived they tried to put us in an attic room, which was really small and full of low beams and dark too. we eventually got a lovely room and had to pay an extra 20 euro a day for the pleasure. the breakfast is great. the trip to murano is not good, they offer free transport to the factory, and when you get there they really push you to buy very expensive glass. i would advise anybody going to murano to go on the normal boat and then you have choice, because there are several factories and thousands of shops and all much cheaper than the one we were sent to.', \"We stayed at this hotel in a busy September time. It was quiet and quaint and the hotel staff was very friendly. We first got taken to a room across the bridge from the main hotel (1st floor) that seemed more like a dorm room than a hotel room. We asked to be changed into the main hotel and they showed us two rooms to look at. The first one was the size of a box but the second one was great. The location is great once you get your bearings in Venice. I would stay here again. Don't get room 107 though as it is literally in the breakfast area. We were on the second floor in a corner room.\", \"When we found this hotel on internet we couldn't even look at others. their website looks great and I was looking forward to discover if the reality raises up to the expectations. And it did. We had a room with a mezzanine, the rooms were spacious, 2 TVs (we never used them though), nice clean bathroom with bathtub, king size bed, pretty special atmosphere overall.\", 'Loved that it was hidden off the beaten path in a quiet neighborhood, yet so close to everything. Our rooms were very clean and the staff was very nice to my husband and I our two sons and my parents. I thought the Hotel was charming. We all enjoyed our stay there.', 'This is a lovely hotel and despite some of the reviews saying it was difficult to find, we had no dramas at all. The staff were very friendly and the room was clean and comfortable. There are lots of places to eat near by and getting St marks takes 5 minutes.', 'Small hotel but in an ideal location to see sights. Breakfast basic and in a very small room which filled up quickly. Take comfy walking shoes to get around and plenty of money as the pound is not very strong against Euro and it is expensive to eat in and around venice', 'The location was great, very close to San Marco piazza, which was an excellent place to spend an evening. The owners were friendly, the rooms were clean, and the price was good (for Venice).'], 'entity_b_reviews': ['My mother and I stayed here for 3 nights as part of our tour of Europe and were so impressed with this hotel. All the staff could not have been more helpful with directions, sight seeing recommendations and restaurants. We had a blue room as we felt we needed a little bit of room and preferred a view of the Grand Canal We were certainly not disappointed. After a busy day shopping and sighteeing we would arrive back to our beautiful room with a bottle of vino, open our windows to the Grand Canal and watch Venetian life pass by, it was brilliant! The twin basin bathroom with beautiful chandeliers was a little luxury also when there is two of you. After choosing this hotel from many on tripadvisor we were so relieved to find it was everything we had hoped, read and wished for. Thank you Alessandro and Gianni for a memorable stay! I hope to one day return with my husband!', 'The Huddos. Paynesville. Victoria. Australia We have returned to Australia after 6 weeks travelling overseas, we stayed at some wonderful places but our favorite place was Hotel Antiche Figure in Venice. Our stay was made so memorable by the receptionist who made us so welcome and looked after all our needs, the position right on the Grand Canal and the service. We stayed with two other couples and all agreed that we would recommend this hotel to all our friends back in Australia. The breakfast was fine and the rooms were very clean, one of our group had upgraded to a balcony room looking over the canal and l would recommend that it is well worth paying the extra for the view of all the activity that happens on the Grand Canal.', 'The Hotel Antiche lives up to all of the positive reviews that have been written abuot it. The main advantage as far as I am concerned is its location right on the Grand Canal directly opposite the Santa Lucia railway station and within 100 metres or so of the main (only!) bus station. When you arrive in Venice the vast majority of travellers will arrive at one of these two locations. Then you are set loose into the MAZE that is Venice! When you witness the poor travellers who go round in circles trying to find their hotel, it is comforting to have a hotel that is located in such fine position. As for the accomodation itself, it has all been said previously.', \"The hotel is located near the railway station on the relatively peaceful side of the canal. We loved the location because we could wander the back streets and avoid the hordes of day trippers and other tourists. We also used the vaporettos to explore Lido/Murano etc If you are mainly interested in St Mark's etc the hotel may feel a little remote. The corner canal view room we had was light, airy and exceptionally well maintained. Breakfast was great. The staff were first class. Another small elevator, however it seemed very well maintained - I took the stairs anyway !\", 'Upon checking in we were offered a choice of rooms and chose to stay in a corner bedroom on the top floor overlooking the Grand Canal which was awesome. The room was spacious clean and tidy with coffee/tea making facilities. The staff were extremely helpful and upon arrival gave us a map with ideas of places to visits and the best routes to take to the various sites. An excellent buffet breakfast was included. The hotel is situated opposite the Railway station with just one bridge to walk across with our luggage which was ideal. Would highly recommend this hotel', 'We stayed in this delightful hotel for 4 nights, as an 18th birthday treat for my daughter. We had two lovely canal view rooms and the view was fascinating. The location was amazing. It was an easy walk to all of the main tourist attractions and when the feet were tired, it was central for the main water boat routes. It was extremely pleasant to sit outside in the evenings to enjoy a drink and to watch the gondoliers. I would have no hesitation at all in recommending this gem of a hotel.', 'Fine hotel.very close to the train station which is great. Pretty far from the main tourist sights (i.e. San Marco Piazza). You can go to Murano and watch glass blowing completely free of charge through the hotel. Small hotel, small room, and small bathrooms.', 'Can not think of anything negative to say. Staff are all friendly and helpful. Room was excellent, comfortable and warm.']}, {'entity_a': '294931', 'entity_b': '1948202', 'entity_a_summary': [\"The hotel is a tranquil escape from the bustle of the Old Town. It is decorated in a modest and antiquated fashion. If you ask at this hotel you can get an amazing room with a sea-view. The bathroom seems updated and features a really great pressure shower. The continental-style breakfast was really good and served on the rooftop terrace. There are really great views at this hotel. Additionally found that their slippers are really comfortable and don't feel cheap.\", 'This hotel provides a lovely and thoroughly enjoyable stay. The rooms in the hotel are comfortable and some rooms can have a sea view. The bathroom was modern with a great pressure shower. The continental breakfast served on the roof is delicious. Drinks are a good price and served until 11pm on the roof terrace. The slippers provided by the hotel are long-lasting and very comfortable.', 'This excellent hotel with the antique style decor is full of charm. Very enjoyable. The location is next to loudspeakers of multiple mosques. The rooms were clean and some offered views of the sea. They were comfortable for adults and young children and had a modern bathroom with great water pressure. Breakfast is a nice buffet continental style meal and drinks are available on the roof terrace until 11pm. The room came with really nice slippers.'], 'entity_b_summary': ['The hotel is simplistic and clean and a quaint family run establishment in Istanbul. The rooms were a good size with comfortable beds that were not cheap. The staff spoke excellent English. The hotel provided a varied selection at breakfast amidst a lovely atmosphere. Once the roof terrace work is finished on the hotel it will be even better.', \"This hotel presented itself as brand new, excellently clean and is a lovely family-run affair. It is definitely recommended on any visit here. There are a selection of restaurants within walking distance and a short taxi ride away from the Chora church, Spice Bazaar etc. The rooms at this hotel are well-sized and always clean. The beds are expensive and really comfortable. Despite not having an actual restaurant the hotel provides a breakfast that's really diverse and full. There will be a roof terrace to this hotel that will make the hotel itself even better than it already is.\", 'A simple, family run hotel that offers brand new facilities and is well maintained to a very high standard. There are many restaurants to choose from as well. Rooms were particularly spacious and you can tell they are well maintained and cleaned regularly. All staff speak excellent English and are always there for a conversation. The hotel does not have a restaurant but does have a cozy breakfast room with plenty of good food. A new roof terrace is soon to be available at this hotel, providing guests with a beautiful area to rest during their stay.'], 'common_summary': [\"The hotel is in close proximity to all of the tourist sights and it definitely recommended. The staff are friendly and couldn't seem to do enough to help with anything.\", 'This hotel has a superb location for accessing major tourist sights of the city. The staff are also really friendly. They offered local knowledge for the places to visit a nd were incredibly accommodating', 'The location of the hotel is great as is close to the Blue Mosque and other sights and the staff is friendly. The staff at this hotel are brilliant and very knowledgeable. They are always on hand to offer suggestions and answer questions from guests.'], 'entity_a_uid': ['UR70356908', 'UR86293303', 'UR60832305', 'UR119487131', 'UR114593671', 'UR37030554', 'UR106005900', 'UR22821589'], 'entity_b_uid': ['UR120460830', 'UR102816166', 'UR128208969', 'UR124407840', 'UR111140648', 'UR118311564', 'UR120025815', 'UR117271130'], 'entity_a_reviews': [\"We stayed for 3 nights in June and then 1 night in July. The location is great, walk to all major sights in Sultanahmet (e.g. Blue Mosque, Haghia Sofia, Hippodrome.) or you can just want up the street to catch the tram if you feel a little bit tired of walking. The building is very well maintained, kept the old charm but with modern amenities (e.g. there is a lift). Rooftop is a great place to have breakfast and some snacks/drinks, with great views of the Bosphorous and the surrounding neighourbood. Front desk guys are very very helpful and polite all the time. For the first stay, the room was directly opposite the lift with a sea view, it is fairly small and comfortable; for the second stay, the room was at the corner directly above the entrance side, this room is much bigger, in much better condition, and we are treated with Turkish Delights on a silver plate,placed on the bed, very very nice. The hotel slippers are very comfortable, they will last and they are not made of paper like the cheaper ones. One last thing to comment is the inconsistency sometimes we experience in the housekeeping e.g. blanket will be taken away after a night use, one room has shoe horn and sink plug and the other doesn't have both, these are just small issues, nothing to dampen our good feeling towards this hotel that we highly recommend you to stay.\", 'The Dersaadet Hotel is an excellent hotel sitauted within walking distance of the major attractions in Sultanahmet (Old CIty). The hotel has an authentic Ottoman feel to it, the staff could not have been more helpful and all of our needs were catered for. The buffet breakfast is continental in style and served on the roof terrace which had lovely views over the Bosphorous and of the Blue Mosque. Drinks were served on the roof terrace at a reasonable price until 11pm. I would happily recommend this hotel to anyone wishing to visit Istanbul. I struggle to think of any negative points to mention.', 'Dersaadet offers complimentary airport pickup with I think a 3 night stay. Located by the Blue Mosque, it is more or less in the center of things as a short walk will get you to the key sites. Be prepared for the call to prayer though as this hotel is right next to loudspeakers for one, if not two, mosques. 5 times a day. And certainly loud enough.Great rooftop restaurant. View is terrific. Service was great. Be prepared for plenty of tauts - especially for rugs!', \"We are a family of three adults and stayed seven nights in the hotel. All that we have to say in praise of the hotel has been well said by other reviewers. They have rightly emphasized the hotel's many winning qualities: its closeness to key Istanbul sites, the pleasures of its rooftop dining area, the unstinting help of the staff, and the reasonableness of its room costs. There are innumerable hotels in Istanbul in every price range. You cannot go wrong in choosing the Dersaadet.\", 'Dersaadet is in the old city where most of the sites are and a quick walk to all of them. The hotel is decorated in an antique style that is very quaint and charming. The bathroom is modern with excellent pressure showers. Friendly staff and breakfast on the roof is spectacular. Remember, you get 10% off if you pay for your room in cash!', 'Room clean and comfortable; delightful rooftop terrace with great breakfast and views of the city and sea. Ask for a room with a sea view. Close to all the historical sites. My daughter checked in early without difficulty; they arranged airport pick-up for me. We enjoyed our stay- and I would stay here again if I wanted to stay in the old city.', \"We stayed there for one week and loved it. Myself, my wife and one year old had an amazing room and the staff were wonderfull. They couldn't be more helpfull particularly Umit. This place is in a great location, just round the corner from the blue mosque and I can't rate it enough.\", 'The Dersaadet is an excellent hotel which provides a great (and peaceful) refuge from the hectic Old Town. The service was exemplary and staff were always willing to go that extra mile. The breakfast was very pleasant and the room and other facilities were of a very good standard.'], 'entity_b_reviews': ['Stayed at Hotel Basileus for 7 nights in early November during our first visit to Istanbul. A fairly priced, clean, and well maintained three story property with good size rooms. No restaurant (has breakfast room with good food) or elevator, but well worth the money. Located near all the major sights in Sultanhamet. A 10 minute uphill walk to the, Blue Mosque, Aya Sophia, Basilica Cistern, a small bazaar, tramway, ATMs and money exchanges. A 15-20 minute walk to Grand Bazaar and main shopping streets. Many restaurants within a 5-20 minute walk include Seven Hills (fish restaurant with rooftop dining and outstanding views), Armada (good views of Blue Mosque, Aya Sophia, and the Bosphorus), Sokullu (warm, cozy neighborhood place), Amedros (outdoor dining, Turkish cuisine), and Cesme (a refuge across street from hotel). A 20 minute taxi ride to Chora church and Asitane restaurant (both well worth the ride) , Spice Bazaar and other sights. Staff is terrific. All speak excellent English and everyone is friendly, knowledgeable, and very helpful.', 'We visited istanbul from greece, with a couple of friends for four days. What makes this hotel really special, is the staff. They make you feel very welcome because they are very friendly, but not in a weird or uncomfortable way. We are greatfu fot their help in planning our days in the vast city of istanbul. Also the breakfast was a nice surprise, because it was plentyful in a cosy environment. Personally, I found the beds very helpful, because you could tell they were the expensive and anatomic kind that bend only around your body and not in half. resting is very important in istanbul. mark my words. Finally, it was brand new and really clean.', 'we spent 4 days at the Basileus, Yusef greeted us as if he had known us for a long time. He showed us where we would see the sights and some great places to walk, any questions we had he would answer or find out the answer. the breakfast was gigantic and tasty, we enjoyed it every morning, Great location, just 10 minutes from the Grand Bazaar, Blue Mosque etc. and the Tram was there too. Very safe area. The owners and staff were always there to chat, they enjoyed their guests as much as we enjoyed them.', 'The Basileus Hotel is a well-maintained compact hotel located within easy 10-minute walk of major visitor sites; Blue Mosque, Topkapi Palace, Haghia Sophia, etc. If you stay three nights, free airport pickup is included. The hotel staff provides the very best personalized service and will eagerly point out visiting options and restaurants. Lobby has public computer available for internet use.', \"This is a lovely little family run hotel that is neat, simple and clean. Ekhrim and his family are gently welcoming and will give advice, book tickets. You couldn't ask for more. In time, they may finish their roof terrace which will make it even better.\", 'I had an awesome experience in Basileus hotel. the room, staff, food everything there is top notch, i would always stay in this hotel whenever I visit Istanbul again, InshaAllah. I would recommend all to make their stay in this hotel during their visit in Istanbul.', 'Good place, good price, clearn, very friendly and helpful staff. Close to lots of things, would highly recommend this as a hotel for a couple or for business.', \"Incredible staff, couldn't have asked for more. A perfect hotel in a great location. Worth every penny.\"]}, {'entity_a': '306156', 'entity_b': '306173', 'entity_a_summary': [\"The hotel is particularly good value for money. The location is central and close to the City Hall. There is also a Burger King and a 7 Eleven convenience store nearby. The rooms in the hotel were clean but the decor was a little outdated and the rooms were too cold. The buffet breakfasts and dinners in this hotel is absolutely superb and there is even an a la carte lunch option. If that wasn't enough there is a great bar on the ground floor with really good tasty food, too. The internet provided at the hotel was of poor quality because it was so unreliable and you had to put a down-payment just to connect. However, there is a pool here at the hotel and that's really clean and of good quality.\", 'The hotel has good but not great amenities but it is okay value for money. It provides a clean, roomy, and comfortable stay. This hotel is located in a great spot and there was good access to all you could need. The rooms are cold and even the non-smoking room smelled of smoke. The hotel has a good selection of food available. From the breakfast buffet, a la carte lunch menu and buffet dinner, there is a lot to choose from and reasonably priced too. Some hotel packages include meals in the Brasserie too. The hotel is situated quite high up so can be exhausting. The pool in the hotel is very clean. There is a $10 charge for use of the internet.', \"Good hotel for a reasonable price, compared to others in the area. Well maintained for guests and is currently being upgraded to a higher standard. The hotel's location is spot on. It's sclose to everything including a 7 Eleven convenience store and a Burger King. Reasonably sized rooms that have been cleaned to a good standard. The main issue however is that these rooms are noticeably colder than what would be comfortable for guests to stay in. There is a great buffet for breakfast and dinner available and the bar on the ground floor has nice food. A smart, well maintained hotel. However, there is a down payment for the internet which doesn't provide the most reliable service.\"], 'entity_b_summary': ['This stunning hotel will blow your mind because it is so majestic and great. If you stay here you will want to return again and again. The location here is great especially because the subway is easy to reach on foot. The rooms of the hotel were adequate but the toilet, bed and television were on the upper floor of the room. The free-flowing champagne provided during tea made up for the disappointing food. The exterior of the Fullerton Hotel is particularly beautiful at night.', 'The exterior of the Fullerton Hotel is picturesque and often the focal point for passers by and photo opportunists. The hotel constantly meets expectations. The hotel is located in the business centre and one of the few hotels to be situated in the financial district. The rooms are to a high standard, and are medium sized. However, the facilities and TV are all inconveniently on the upper levels which can be frustrating. The food is not great but there is free champagne available. This hotel is spectacular and beautiful all the way from the lobby to the guestrooms.', \"From the outside the hotel is beautiful. Inside the lobby and the rooms are great. Overall it is cheap for all you get. The location of this hotel is excellent, as it is central to the financial district. It is one of very few hotels in this area, so it is an excellent base for those needing to be in close proximity to the business centre. The rooms aren't exceptionally big but they are good enough. The food at this hotel is mediocre and quite bland. The decor used for this hotel on both the indoor and outdoor is beautiful, and really stands out. Marina Bay is also walking distance away and is a great way to start the day.\"], 'common_summary': ['The hotel is closely located to the MRT. The service from the staff here is unbeatable as they are all very friendly and love to offer suggestions when asked. ', 'This hotel is superbly located and close to the MRT system. The staff at the hotel were incredibly helpful and friendly.', 'This hotel is located very near the MRT. The staff at this hotel were great. They were helpful, friendly, and offered great suggestions when asked.'], 'entity_a_uid': ['UR16076201', 'UR21665169', 'UR123352070', 'UR100722350', 'UR75856922', 'UR18557592', 'UR98181258', 'UR118045925'], 'entity_b_uid': ['UR122447166', 'UR46520956', 'UR126469468', 'UR101403153', 'UR116771948', 'UR118352504', 'UR105749873', 'UR68811203'], 'entity_a_reviews': ['This is the third time over the past 10 years we have stayed here, and although not particularly fancy, I think it is pretty reasonable for the money compared to most hotels, hence the above average rating because of value for money. That aside it is probably a middle of the road property. Pretty good location, and have never had any problems with the staff, cleanliness of rooms etc. Only continuing problem is the strip of marble on the floor separating the main room with the bathroom. It is quite high and is a real killer on the toes if you are not careful ! If we go back to Singapore we will stay here again as long as the Singapore Stopover continues to be a good deal.', \"Stayed here as a Singapore Airlines stopover on the way to Europe and was happy with the hotel. When we arrived early in the morning we had to wait for a few hours until checkin, but were still allowed to checkin around 9am which was quite a few hours before their official time. Room aircon was quite cold and the room was quite reasonably sized and clean. Was close to all attractions, and there was a 7-11 just next door for some cheap drinks other than the mini bar. Didn't eat in any of the restaurants as other alternatives close by. Overall quite a good hotel for the money, certainly not luxurious but either was the price.\", \"My family and I stayed at this hotel for under a week and the hotel amenities were ok but not great. One of the things that really annoyed me was the use of the internet in which you had to put a down payment of $10 on a LAN line cable to connect to a port hole with unreliable service, spending at least an hour just to connect! Not only that, the rooms would always be too cold once we got back even though the key wasn't plugged into the power system. Most of the staff were nice and friendly and offered great eatery suggestions if you asked.\", \"I stayed in the grand pacific for 5 nights. The hotel is smart.and clean. They are cleaning and upgrading the exterior which looks good but I felt the room I was in was still dated. I was in a no smoking room but the room clearly had been smoked in for a long time previously as you could still smell it. The pool is wonderful and very clean. The staff were very friendly. I didn't use the restraint but the bar on the ground floor was good with nice food. Overall a nice hotel about 2 minutes walk from raffles but needs the rooms to be modernised.\", 'I stayed at this hotel after picking it from many I reviewed on Travel Advisor. I arrived on Mon pm from a flight from Beijing and was quickly processed into my room. I was extremely happy with my room. I had meals in The Brasserie because this is what my Package included. The service was prompt and the staff eager to help and also very friendly. The hotel is central and close to MRT stations at Bungis and City Hall. There is a Burger King and a 7 Eleven store nearby so this is also a bonus.', \"This hotel was very clean, roomy and comfortable. Excellent buffet for breakfast & dinner and a la carte lunch available, all at very reasonable prices and much-needed air-conditioned comfort! 7Eleven store right next door sold bottled water at half the price in the hotel itself (a 'must' in the humidity ). Had very cheap umbrellas for the afternoon rains as well ! The only disappointment after a long flight was the fact that only two teabags were supplied- any more was charged at $1 per bag!\", 'We would recommend this hotel to anyone, we stayed for 8 nights and received the best quality service from happy , helpful staff. All staff members from any department were excellent, we can not say enought about how good this hotel is. Location in Singapore was ideal, close to every thing.', 'This hotel is well positioned near Raffles Centre and the MRT. I have been staying here over the last 15 years and the rooms really need renovating.You need to get it at a good price.'], 'entity_b_reviews': ['I stayed in one of the loft suites in Fullerton Hotel Singapore. It looks majestic on the exterior and many couples love to take their wedding photos there. The room is not exceptionally big compared to other suites in Singapore. One has to climb up the stairs to use the restroom which is on the upper level, where the bed is too. I guess that is the only inconvenient part. My husband and I ended up spending most of our time on the upper level as the TV is there too. The food there during tea is not really that fantastic, but they offer free flow of champange. Serivce is really good, as the staff responded really fast.', 'The Hotel is the former main post office building and has a huge atrium, with rooms running on the outside of the site. The location is fantastic, with subway entrance 50 yards away (important in Singapore where taxis can be a nightmare) and all the key businesses down the street. Staff very helpful, but as with nearly all five star Asian hotels, they try to compensate real \"know how\" with sheer numbers. Check out can be a problem as, again infuriatingly and in common with similar standard hotels in Asia, you have to have your credit card imprint taken again. Well worth staying and you will not in better in Singapore.', 'I have stayed at the Fullerton Hotel on 4 seperate occasions and it always meets my expectations. The rooms are good and the lobby is grand. The staff are wonderful and I enjoy staying here. It is my first choice in Singapore. It is one of the few hotels right in the financial district and is an excellent base. A lap around Marina Bay in the morning is a great way to start the day.', 'The outside of the Fullerton hotel is stunning (and even more at night) and on the inside, from the lobby to the rooms it will just blow your mind. Its very well located, and from walking distance from the great MRT system. The rooms are large enough and extremely comfortable, there is a good variety of restaurants (I seriously recommend the Jade) and great staff.', 'The hotel is conveniently located in the business centre of Singapore. It has good internet connectivity from all over the hotel with good speed. Unfortunately what let it down is the food is very blunt, as already mentioned by some other visitors.', 'loved the breakfast buffet and rooms, disliked the taxi queues - a real drag waiting. The Swimming pool could do with being better attended when people are there - service was really slow and expensive!', 'Stunning service, location, rooms, smiles, cleanliness and old world charm. You will be surprised and charmed at every turn.', 'Clean environment, efficient and kind personnel, gourmet cousine. Quite cheap compared with what you get.']}, {'entity_a': '306176', 'entity_b': '1770798', 'entity_a_summary': [\"The hotel's furnishings is a bit outdated and need updating but it was very clean. This hotel has great central location; it is very close to many attractions, like MRT, Clarke Quay , and the National Museum. The bed was comfortable and the full size bath was a nice bonus. The isolation is bad so the elevator and neighbor speaking could be heard very clearly. The other downside is the lack of style and no wifi in the room. Disappointing breakfast. Very limited choices with no fresh fruit. This hotel has a very small pool.\", \"The hotel is clean but is perhaps in need of a restoration, as the furnishings and general decor are a bit old fashioned. The hotel has a great centralized location and conveniently close to MRT, Clarke Quay and the National Museum. The room was next to a noisy area near the elevator and though the bed was comfortable the bathroom was so small only one person could fit in it at a time but it did offer a full-sized bath for relaxing in. Some rooms have not yet been renovated and are run down and there was no wifi in the room. Particular mention should go to Ms Kripa at the club floor. Aside from bananas and apples, the hotel's breakfast choices were limiting and disappointing as they had no other fresh fruit on offer. The hotel has a very small pool.\", \"This hotel is central and ideal for travelling and though it is a little outdated and absent of style, it is clean in the rooms and restaurants. It's a great place to stay three or even four times a year or even for a first trip to the city. A central location and conveniently located. to MRT, Clarke Quay and the National Museum. The hotel bedroom has a comfortable king size bed, but the decor is a bit lacking. The bathroom was small and there was no wifi in the room. Some of the rooms in the hotel have not been renovated and are run down. The hotel provides a limited breakfast option, with a small selection of fresh fruits. The hotel has a small pool which is adequate.\"], 'entity_b_summary': [\"The hotel is an amazing 'Las Vegas style' building, with a shopping centre and convention centre attached to it. The hotel is definitely recommended, but there are possibly more personal venues to stay at whilst in Singapore. The location is pretty great with a mall close-by too. The club room was quite fantastic although a little bit noisy because of the traffic, however the decor was contemporary and room nice and spacious. The bathroom was also really big including the bath. The staff allowed for early check-in and also the check-out process was really easy and quick. Overall the staff service is really satisfying. The food is good here but a little bit overpriced. The hotel has live music in the fuse lounge. The pool is not very private and the foyer is too busy.\", 'This is a highly recommended Vegas-style hotel that even has a shopping mall attached. Not only that but it has a simply amazing rooftop pool, which adds to how special this hotel is. The building itself is quite a marvel. The hotel is located near to the Gardens by the Bay, but make sure to check that the venue is open when you stay. The hotel has large rooms with a large en-suite and modern decor. The premium rooms are more expensive. Overall the rooms are excellent. The hotel staff allowed for early check in and an efficient check out. The food hall in the hotel was a little disappointing. It was too crowded and the quality was okay. In the evening there was live music playing. Sometimes there were queues for checking in and checking out, though.', 'There may be more personable hotels in Singapore but this building is amazing. It is a must-see and has a rooftop infinity pool, a shopping mall and convention centre attached to the hotel. The location was okay. The pool complex is great and the Skypark is always busy and wonderful. It is a very special experience. The rooms were large with contemporary decoration and had a large bathroom and a separate shower. Nice rooms. The food at this hotel is generally okay, however the foodhall can become very busy and is overpriced for what you get. There is little privacy for the guests staying at this hotel who want to go for a swim, as visitors to surrounding areas can easily look through to the pool.'], 'common_summary': ['The hotel is located close to the MRT and the staff are friendly. There is a great city view from this hotel.', 'The location of this hotel is really convenient and their staff were wonderfully friendly. The hotel has beautiful views. ', 'The staff at this hotel is very friendly. The hotel has a beautiful view. '], 'entity_a_uid': ['UR82081584', 'UR13925805', 'UR122305063', 'UR120857541', 'UR45713813', 'UR119783551', 'UR39542295', 'UR52889297'], 'entity_b_uid': ['UR125614761', 'UR119916911', 'UR93913941', 'UR126818218', 'UR98042025', 'UR124554465', 'UR122212681', 'UR126093015'], 'entity_a_reviews': ['I recently travelled to Singapore and ended up to the Grand Hall City Park as booking late on a busy weekend, the rest was either sold out or too expensive. I had a corporate rate, and must say it was good value for money, given the quite central location. The service was good and the hotel staff very friendly. On the negative side, the hotel is a bit outdated and lacking style. I got a room close to the elevator, which turned out to be very noisy, and got waken up in the middle of the night by people spekaing loud (isolation is really bad, and that is the main reason why i would not recommend this hotel). Also breakfast was disappointing with very limited choices and no fresh fruit apart from apples and bananas. There is a pool, which is ok, but very very small. Perhaps a better room would make me change my opinion, but still it was lacking style and personality.', 'I am a first time traveller overseas with my husband, therefore we are comparing to 5 star accomodation in Australia. We read the reviews on all the hotels in Singapore and decided this was the hotel for us. The hotel was very clean, although the furnishings are getting old and need updating in the rooms and eating areas. We found the staff very accomodating and the buffet breakfast and dinner meals changed all the time. The hotel was central for all our travelling. The only bad comment, we were on a non smoking floor, yet the wardrobes smelt smoky. There was a cross section of travellers. When we go back to Singapore, we would stay again as good value for the price Over 50s from Adelaide', 'We were very impressed by the standard of service we received from all the staff, especially Ms Kripa at the club floor. The staff were friendly and keen to ensure we enjoyed our stay at the hotel. The location is great, close to MRT, Clarke Quay, the National Museum etc - all walking distances. Our king size bed was very comfortable but the bathroom was a little small and only one person at a time can fit, but having a full size bath was very nice to relax in. We would stay at this Hotel again.', 'for the last 3 years have been staying 3to 4times a year for periods of up to 2 weeks in this hotel. plusses: great location with short walk to mrt, staff very friendly and helpfull.minus is no wifi in rooms.rooms at floor which are not yet removated are run down.', 'Went to Singapore for the Grand Prix and this hotel was just 2 minutes away from Gate 4. The hotel staff were very helpful and the whole hotel we found to be very pleasant and would definitely go back again to stay.', 'This is my first time in the hotel. I found it conveniently located, very nice and friendly staff, excellend dining and a very nice fitness Center. I look forward to returning.', 'This is a very central, large good value hotel in Singapore. Maybe the rooms are not as grand as the reception area, but overall I would recommend it to most travellers', 'Great location, excellent service, beautiful view, nice staffs. The price is quite high but worth it.'], 'entity_b_reviews': [\"I was completely blown away by the whole complex of Marina sands but just let me share my thoughts. Skypark is a must we went up at dusk and watched the city light up - best views of Singapore. Feel very sorry for the residents of this hotel, as they swim in the pool the visitors to the skypark are continually looking through every available area. The foyer of the hotel is a bit like a first class airline checkin area but queues to check in or out - people everywhere just milling around. Foodhall downstairs is overpriced very busy and not very good - ate there twice and wished I hadn't both times. Did live in Singapore for 4 years and there are plenty of excellent hawkers around a shame this wasn't one of them. Without a doubt it is an amazing building and a must see in Singapore.\", \"Check in was efficient, and the welcome drink was a nice touch. They allowed me to check in slightly early which was great as I was travelling with a small child. Rooms are large and very nice. Loads of facilities, shopping etc in and around the complex, we spent an entire day just exploring the area (ice skating, sampan rides, skypark, infinity pool etc). Check out was also efficient. I had read a lot of bad reviews, but didn't have any negative experiences during my stay here. Absolutely recommend staying here!\", \"I have read the negative reviews here and had some mixed feelings before I checked in. But I have to admit that there was nothing that was really bad. I used the laundry service and some other Concierge services and they were all satisfying. The staff was also friendly, so all-in-all very ok. The only thing is the location. Marina Bay Sands is a bit from the city and I haven't found a convenience store at the mall just next to the hotel.\", 'Room was very spacious and decor contemporary. The kids love the Skypark pool and the bathtub in the room. View was good; better to come when the Gardens by the Bay is open. Linked to shopping mall of designer brands. Mall layout is kinda confusing though. Only tried the Fuse lounge for a nightcap, where there was live music. Relaxing. Very conveniently linked to Bayfront MRT station.', 'its one of the best hotel i have ever seen. Simply amazingly made. specially the shape massive rooms awesome food classy sky bar at the top floor from there we can see whole Singapore incredible and so polite staff and the shopping area is huge with all possible world best brands and the casino is mind boggling with all games.i wish to visit twice a year.', 'We were lucky to score a free up grade to a club room which was a bit noisey from traffic alongside but overall the room was fantastic. Allowed late chck out and a glass of champagne leaving the hotel. Obviously the pool complex is one of the main draw cards for this hotel.', 'Big \"Vegas Style\" hotel with the shopping mall and convention centre attached. I paid a little more for the premium room but it was worth it for the city view. Room was large with big bathroom and separate shower. Always busy, especially the skypark over the hotel which was wonderful', 'went there because of the breathtaking rooftop infinity pool which is really special. the hotel itself is modern, huge, bright, has friendly staff but the hotel is too big and therefore much too impersonal. You have to do it once - but there are more personal hotels in Singapore.']}, {'entity_a': '256595', 'entity_b': '256544', 'entity_a_summary': [\"This hotel may not be the right option for some. The hotel is only a five minute walk from the Town Hall rail station and you can also walk to shopping and tourist attractions from the hotel. The hotel is also close to Darling Harbour. The corner-room was of an okay size and really cleaned to a high level. Check-in to your room can be earlier if you ask. The staff were quite nice overall but sometimes seemed to be put off and lacking. The breakfast provided by the hotel was Continental., but there were problems with not being on the necessary list. The hotel's restaurant was good., but slightly expensive. The hotel were very helpful with pre-booking information, but check out of the stay was drawn out and frustrating.\", \"Everything you could need is only a short walk away from this hotel so it is is located in a great spot. There is also a rail station nearby as well if choosing to go further afield. The rooms are quite large . They are also spotless , quiet and really comfortable. The staff of the hotel were generally helpful and courteous, although the reception was sometimes less professional when dealing with issues. The restaurant provides really good meals even if the prices are a bit high. You can ask about checking in early but bear in mind that this hotel's checking out seemed to be quite long.\", \"Brilliant location for those looking to sight see, with most of the main attractions only walking distance from the hotel. The room had a great view of the city and some even had balconies. Not all of the rooms aren't big but are clean and comfortable. In general, the staff at this hotel are very nice and helpful. However, at times the service can be disappointing and customers can be made to feel like they are an inconvenience. Although the prices are quite expensive for the food at this hotel, it is a decent quality. Breakfast comes included in the rate which is a positive, however it is only the basic continental that you would get at many other hotels and nothing different or exciting to look forward to. The hotel offered a nice response when asked about early check-in, however, signing out took far too long and was frustrating.\"], 'entity_b_summary': ['The room lacked some personality and was pretty small and plain, but it did have a big bed and some nice toiletries available. The hotel has a buffet breakfast and you can enjoy a cocktail overlooking the harbour. The WiFi was surprisingly a paid service but on the positive side the pool area on the roof is really pretty. Another positive is that the gym is perfectly adequate even if it is small.', 'The hotel is at the lower price point for a Four Seasons hotel. The location is basically perfect because there are great transport links and really nice views from the hotel. The rooms in the hotel are very small, but the beds are huge and large plush robes are provided. Service from the staff was absolutely excellent. The breakfast buffet was absolutely superb. Additionally the evening cocktails overlooking the harbour are really recommended, too. The pool and gym facilities at the hotel were great but unfortunately the WiFi available had a charge.', \"An expensive hotel and doesn't seem quite up to par with other Four Seasons hotels. The location is one of the perks to staying at this hotel, with public transportation very close by for guests to go and sight see without the stress. The rooms in this hotel were too small and lacking in character or were plain although the bed was large and the views were very nice. The buffet breakfast was very nice. A variety of amenities on offer, including a swimming pool and gym, for the guests' pleasure. The pool in particular is delightful as it is based on the roof of the hotel. However, this hotel doesn't offer free Wi-Fi, which is inconvenient as many other hotels are starting to offer it in this day and age.\"], 'common_summary': ['This was a really enjoyable hotel to stay in and would choose it again for sure. The hotel is highly recommended.', 'Overall an enjoyable stay. This is a very recommended hotel.', 'It is worth it for the enjoyable stay. This hotel is highly recommended.'], 'entity_a_uid': ['UR20384136', 'UR10687212', 'UR50577467', 'UR108896773', 'UR127177828', 'UR121090123', 'UR104859437', 'UR24890228'], 'entity_b_uid': ['UR116218531', 'UR39016181', 'UR4730151', 'UR6719833', 'UR55974598', 'UR39911562', 'UR125364568', 'UR103172165'], 'entity_a_reviews': ['We had three nights at the Swissotel Sydney On Market Street and enjoyed our stay. We had a corner room with views out across the city. Rooms are not huge but are comfortable, clean and quiet. Breakfast was included in our three-day rate and it was excellent. We also had one evening meal at the hotel. While the meal was good, the prices were a little more than we expected. Location is excellent and in walking distance of tourist attractions, shopping and underground rail. It is a quaint hotel in that the hotel is built above Myer shopping emporium and to check in means taking dropping suitcases with a porter at the small off-street entry and taking a lift to the 8th floor which opens out onto an elegant lobby and reception. Staff were courteous and help-yourself bowls of Granny Smith apples near the lifts were appreciated. Happy to recommend the hotel.', \"we stayed for 5 nights in the swissotel sydney. It is a great hotel with a great location. Town hall station in a 5 minute walk, St James station is about 3 mins away. If there are two or more people it is probably cheaper to get a taxi from the airport. Our room was massive, modern and spotlessly clean. the only downside was having paid the hotel bill in full before our arrival, the reception proceeded to charge my credit card again. This was a major inconvience as we were at the end of our 3 week holiday and my credit card was near it's limit. The problem was eventually sorted after a few days but it prevented me from using my card during this time. Although helpful, I didn't even get an apology from the staff!\", 'I stayed at this Hotel for 6 nights, and not sure if I would return again if in Sydney. The location is excellent and the concierge know their stuff, but sadly I think it ends there. When I checked in I was informed that I had been upgraded, but on further inspection it was the room that I had actually paid for in advance. The room itself had a balcony (for which I paid extra), but no views as such, not like it was described on their website. The Hotel was busy and I was told to check on a daily basis if I wanted to change rooms. I was hassled most mornings at breakfast, because my name did not appear on the list which it should have been. Definitely not a 5 Star Hotel.Internet charges outrageous.', 'we booked to stay here through wotif.com after initially looking to rent a self catered apartment from which to explore sydney we found this to be a very good price for us to have a very comfortable room, our flight landed at 0530 the day we were checking in so i wrote to the hotel to ask how early we could check in not expecting a positive response but we got a nice reply and when we arrived after a 24hr flight from france we were given our room at 6am!, very good. staff very nice would reccommend here for a good base in sydney.', 'Hotel room was nicely appointed and with a good city view. For a Sunday night though the food on offer was limited - as was the service. Staff had to be asked for drinks and to order food - and it did seem to be an inconvenience that we wanted service. Breakfast was the standard continental or hot and nothing very exciting. Once again the staff seemed to be inconvenienced by our presence. Given the nice rooms and good location it was disappointing that the service was so slack and uninspiring.', 'the hotel itself is a bit difficult to find, and apparently not well known. location is supreme however in between george and pitt street. also very near darling harbour and town hall rail station. service was not much above average. the biggest disgust experienced was indeed the exceedingly high cost of internet and difficulty accessing once you have registered. during my trips back to sydney, i will definitely compare other hotels before here, such as Hilton or Marriot.', 'I experianced a most enjoyable stay with a nice room the location to my business appointment was just ideal and the service in the resturant caould not be faulted. Nice and friendly. Unfortunately the sign out was very frustrating - too long.', 'Restaurant very good. Problem with bathroom was resolved very quickly.'], 'entity_b_reviews': [\"My husband surprised me with a night at the Four Seasons and dinner at nearby Quay in November 2010. It was everything you'd expect from a five-star hotel - huge bed, plush robes, gorgeous toiletries and a view to die for - it just lacked the personality you'd get from a smaller boutique hotel. The wi-fi wasn't free - which surprises me in this day and age - should you not expect it from a hotel when you're paying top dollar? We didn't spend a lot of time in the room - we enjoyed everything the Sydney Harbour foreshore had to offer - drinks, dinner, walks along the promenade. It's a good place to stay in terms of location - if you're close to Circular Quay you can get anywhere you like on buses, trains, ferries and even water taxis.\", \"Stayed here for few nights when we went to sydney. Location - it's good if you want to be near the rocks, but very far from china town or other pubs if you are into night life. View - we paid extra for the opera house/harbour bridge view room but it was partially blocked by nearby buildings. We could hardly see the bridge. Room - it was very tiny, no slippers. Overall it was worse than the Four Seasons I'd stayed in shanghai few years ago. Overall i wouldn't recommend this place to anyone, not up to standard in comparison with other Four Seasons around the world.\", 'The room was fairly small and plain, lacking the \"wow\" factor we\\'ve experienced at some other Four Seasons properties. (But it was also the least expensive Four Seasons we\\'ve stayed at). The view was fantastic -the Opera House, Circular Quay, Harbour Bridge, and Rocks District. Our room package included a buffet breakfast each morning, and it was wonderful. Highly recommended. The gym is small but adequate and was never crowded when we were there. The pool area up on the roof is pretty. The service was excellent - unfailingly prompt and helpful.', 'I recently spent 4 nights of my honeymoon at this hotel. My first impression was this is an average hotel and not up to a four seasons standard. The rooms were too small and very bland. The pool and gym were good. The best part of this hotel is the location, and i guess that is what I paid for. There are so many other great hotels in the same vicinity that are much cheaper that I would stay in the next time i went.', 'I booked my reservations through Amex (Platinum card)on line with the promise of an upgraded room, breakfast and other amenities. Upon arrival I was told the booking did not count as an Amex booking (Amex logo all over the form) and I would receive nothing extra. Both Amex and the Four Seasons are quilty of a \"Bait and Switch\" scam', \"Everything was simply perfect, the staffs, the room, the location, the room (with a 52' flat screen), the mini-bar was unbelivable and not too over-priced. If I have to go again for leisure, I will defintely choose that hotel.\", \"We loved it! Perfect location and staff. We upgraded to Executive Level- great decision! Do that if you can and have a cocktail every night looking over the harbor. Can't recommend it enough!\", 'This hotel has a very good location, near the ferry terminal and darling harbour is a 15 minute walk, the staff and service are excellent. Really enjoyed my stay there .']}, {'entity_a': '285271', 'entity_b': '940178', 'entity_a_summary': [\"This is a perfect hotel for a short stay and highly recommended because of the great value for money. The hotel is in a great location if you're looking to visit the Musee d'Orsay or Saint Germain area . Firstly the rooms are designed to be really unique and it shows, but this doesn't compromise the plethora of mod-cons supplied such as iPod dock, minibar, a flat-screen television. There is nothing you could need that isn't available. Whilst very lux inside the room it's very relaxing and charming. The staff at this hotel are really caring with a great attitude. The breakfast provided by the hotel was suitable stocked with fresh, organic produce and there was plenty of food available. The ticket provided by the hotel allows for skipping the line at designated venues.\", \"The hotel is great value and ideal for a short stay. The hotel is very close to the Musee d'Orsay and is within walking distance of the Saint Germain part of Paris. The design of the hotel rooms was stylish and colourful. The room was relaxing and included all the extras such as flat screen television, iPod docking station, safe etc. A clean and elegant room. The staff at the hotel had a compassionate attitude to guests. The bountiful breakfast had generous offerings which even included organic products. The hotel provides a ticket to skip the queue, which is a great bonus.\", \"This is a really nice, beautiful hotel for short stays and is a great value. This hotel is in a great, central location to some of the main attractions. Although the Christian Lacroix designs are dramatic and will not suit everyone's taste, each room is unique, stylish and has all the mod cons needed for a comfortable stay. The rooms are on the smaller side, however they are spacious enough and provide convenience and charm, making this a lovely room to stay in. The hotel had very caring staff. This hotel provides organic breakfast options. Tickets from the hotel mean you don't have to wait in the line.\"], 'entity_b_summary': [\"The stay at this hotel was really great and enjoyable. It was a memorable experience at what seemed to be a totally new hotel. This location was pleasant and located in a tree-lined avenue that was used by locals. The hotel room had a lovely view of the canal, with the rotunda and Stalingrad station in the background. A decent sized room with a large bathroom, although without a bath. Clean and tidy room with a comfy bed. Some of the staff at the hotel were helpful, but some had an unprofessional attitude. The hotel served simple French cuisine with a view of the canal, but the breakfast's hot items would go quickly. The hotel has secure parking available below the complex. It is worth nothing that one of the lifts may be out of order, so it takes a little longer to get the other lift.\", \"This hotel seems like it is brand new which is a plus. It is in a picturesque setting and is simplistically clean. The hotel is situated in a good location just outside Paris with two cafe bars nearby. The super clean room had incredible views of the canal and the boats there. Not only that but the beds were both large and really cosy. There was every facility you need apart from having a shower instead of a bath, but that's fine for most people. The staff are pretty helpful and at times they were extraordinary. The hotel offered a basic breakfast. There is secure parking underneath the hotel. There are also lifts provided, which can be a bit of a wait but there are also stairs to use.\", 'This hotel is a great option for those visiting Paris with a specific price range in mind, as it is a gem in what can be pretty bad accommodation in regards to this standard. The setting is lovely and really suited to its surroundings, making it a simple yet effective choice. Ideal location just on the outskirts of the main city, with multiple cafe bars close by for guests to enjoy if they fancy leaving the hotel. However, it is not in walking distance from the main station which can be off putting for some. The views from the rooms overlook the canals with its boats and looking onwards to the rotunda near the metro station in Stalingrad. There is also a good-sized bathroom with a great shower, though no bath and the room itself was clean and very large. The bed is comfortable and the rooms included all the expected facilities, an internet connection, and coffee or tea. The service was okay, as the staff generally try to be helpful where they can. But it could be better at times. The French food served nearby the hotel was simple but proper, it was a great place to eat. Sadly the hot but standard breakfast options were gone by a certain time in the morning. The hotel has the option of parking beneath the hotel and it is secured and although there were issues with the lift, stairs were available for use.'], 'common_summary': ['The hotel is in a great location, close to the metro and highly recommended. The staff were friendly too.', 'This is a well-located hotel that is close to a Metro station, which is very convenient. It is highly recommended for a weekend get away and boasts highly friendly but professional staff.', 'This hotel in Paris is highly recommended and the staff are friendly.'], 'entity_a_uid': ['UR27530547', 'UR53728738', 'UR20533044', 'UR64107500', 'UR59421297', 'UR122466836', 'UR120605813', 'UR118182230'], 'entity_b_uid': ['UR72292331', 'UR120983134', 'UR30661898', 'UR113690822', 'UR59937766', 'UR114819905', 'UR36907989', 'UR119195194'], 'entity_a_reviews': [\"Wow! What a beautiful hotel this is. No attention to detail has been spared in its decor, the staff are professional and friendly and the whole place exudes class and style. We were in a 'discovery room' decked out with flock wallpaper, beautiful yellow drapes and lovely large bath. Even though the decor was dramatic, the room was very easy to relax in and had all the mod cons needed to do so. The room came with a flat screen tv, ipod dock, safe, minibar and fluffy bathrobes. All in all a prefect romantic weekend hotel. It's in a great part of town - right behind the Musee D'Orsay (and its railway station) and surrounded by many great restaurants and pattiseries.\", \"I stayed at Hotel le Bellechasse during the second half of my trip to Paris in October 2009. I absolutely loved being steps away from the D'Orsay and the Seine. The Christian Lacroix designs were probably too haute couture for my tastes but the bed was comfortable, sheets were luxe, and the room was spacious enough. Loved having a bath tub but one should note that the shower head is a hand held. I had breakfast twice and both times, I was the only one dining in the breakfast room. If you plan on visiting the D'Orsay (which you should), be sure to secure your ticket at the front desk. The hotel ticket allows you to skip the line.\", \"Excellent hotel for a short stay (2-4 nights). Great spot, great value for money, very stylish. Advice: If you ring them they will give you the room you want, some are a little 'too' stylish than others. The one with the pink stripes at the front of the building was excellent. Downfall: Room was a tad small, but made up for it in covenience and charm. I wouldn't let that put you off for a short stay.\", \"I love the work of the french designer Christian Lacroix, each room is different, full of warm colors, specially the red ones. The hotel is situated just near the Musee d'Orsay and few minutes walk from Saint Germain area. I can recommend it for business stay or for lovers, the staff is very helpfull and friendly for giving advices or nice places to visit in Paris. Try to take at least once, the breakfast, generous and full of organic products.\", 'This hotel is being advertised as \"entirely decorated by the famous designer Christian Lacroix\". except bizarre wallpapers I really don\\'t know why this hotel would be named \"chic and trendy\". It\\'s absolutely overpriced, with small rooms and cheep bathrooms. Except excellent location this hotel doesn\\'t have anything to brag about. Reviews and photos online can be absolutely misleading.', 'Very disapointed in our stay here This hotel is looking tired inside and is in need of a revamp Bathroom fitout is inadequate and rally surprised how this can get a 4 star rating in current condition Only thing going for this place is its location Suggest look around elsewhere , have stayed in far better hotels in Paris for much better rate', 'Lovely rooms, clean, friendly and helpful service. Location was perfect and close to a metro too. Great value, especially in Paris! Will stay here again.', \"An excellent location near Le Pont Neuf, the staff's attitude was caring. Highly recommended.\"], 'entity_b_reviews': [\"Just spent one night at the Holiday Inn, and to be honest, it's the best option on that price range. Lovely setting, and the Pompidou 'Paris Plages' really suited the setting. Chilled out area by the canal with a fab place to eat opposite the entrance, that served proper French simple food. Room spotless, and although when we went to bed we could still hear music, it didn't really bother us. The breakfast was standard, and there were hot options, they were gone by the time we went down. A previous poster mentioned one of the lifts being shut off, and we experienced this, but it didn't impede our stay any - who cares about waiting an extra minute for a lift - if you're that bothered, then use the stairs! Paris can be pretty bad for accommodation of this standard, and this is a gem. The Metro is less than 5 minutes away, and it's nice to be in a part of Paris that is not touristyy at all.\", 'The hotel is 4 minutes from the metro with a handy all night store en route. The staff were very friendly and efficient and I would recommend thi hotel with its lovely views and large comfortable rooms. My room looked all the way up the canal towards the rotunda near the Stalingrad metro station and overlooked the houseboats moored in the canal basin. The tree lined avenue alongside was used by the locals to play boules and the two cafe bars nearby were ideal for a late night drink/coffee. Easy access to Paris by metro and a real feeling that you were not surrounded by tourists but were seing a genuine slice of French life. I would not hesitate to recommend the hotel although some people might not like the walk from the station at night as it is quite dark (albeit it is past the police station).', 'My wife and myself spent 5 days in this hotel from 12th May 2009 and found it to be an exceptional hotel in a lovely location just outside Paris. Our delightful room was overlooking the canal with a view of boats as they plied their way down he canal. Brilliant shower in the good size bathroom, no bath, but this not important to ourselves. Large and very comfortable bed and room had all the facilities you would expect from this hotel group including internet connection, tea and coffee etc. Very adequate breakfast served in dining room and staff were very helpful. We used the excellent public transport system, always a good way to get about Paris, and there was a very convenient Metro station close to the hotel.', \"We booked a room 2 months ago. When we arrived last saterday, they were suddenly 'overbooked'. They said the'll send us to a different hotel, they gave us a map en showed us how to walk. When we came to the other hotel, they didn't no nothing about us. The hotelstaff send us to the wrong hotel! After a whole afternoon walking around the nieghbourhood, we finally checked in at the right hotel. A waste of our afternoon, since we stayed only a view days in Paris. We are certainly not happy with the serive at the hotel, you don't treat your guest like that and only say a simple 'sorry' afterwards.\", 'My wife and I stayed at this hotel for a weekend for our anniversary. The hotel was well located to experience Paris without paying the high prices. We purchased a 3 day Visite Paris pass which allowed us unlimited travel on the metro, RER, Bus etc. to visit all the main attractions. The pass also entitled us to a 20% discount on the Euro Disney tickets and the travel there and back! I highly recommend this hotel for a great weekend away.', 'This seemed a brand new hotel. Location is nice. The room has a view over the canal. By metro you is quickly in the centre of Paris. Secured parking below the hotel. There were not enough seats in the restaurant, so be ready to wait for some time during rush hour.', 'Who would have thought that a H.I. Express could be so enjoyable. The staff were extraordinary, the setting on the canal was really nice and the Metro was real close. We enjoyed our stay here prior to meeting at another hotel for a Globus tour.', \"Had a beautiful time in Paris thanks to this hotel as well. Staff very helpful , metro close by and the view of the canal it's very romantic. Went there with my partner and loved it. Simple, clean and effective . Thank you .\"]}, {'entity_a': '254348', 'entity_b': '183258', 'entity_a_summary': ['After booking directly with the hotel it was really impressive and made for a very special weekend. This is the place to be. The hotel was situated close to a metro station, allowing travel to the restaurants of Old Montreal and within walking distance of the Montreal Jazz Festival. The rooms are adequately sized but are clean and with elegant furnishings. The rooms retain some history from its previous incarnation as a bank. The rooms have free WiFi available with lovely modern art too. The hotel has a good bar that is ideal for relaxing whilst listening to some live music. The hotel had no street noise at all and on Friday and Saturday evenings there was a music group playing at the bar area.', 'The hotel is decorated with lots of desirable artwork. There is also a lobby that is home to live bossa nova music and a good bar for guests. This hotel is ideally situated to explore the Old Town on foot and the metro stop is easily accessible by walking a few blocks, which can take you to some great shopping locations as well as restaurants. The tall ceilings in the rooms provide a larger feel to an otherwise average-sized room. However the furnishings are elegant and stylish therefore provide quite a charming feel to the room. This hotel is a great place to drink some wine and appreciate the great music they play here. The atmosphere at the hotel was very good as there was no street noise. There was also a bossa nova group that played the hotel on weekend evenings too.', 'This is a great hotel to stay at over and over. They have live bossa-nova music, a bar, and very impressive art on display worthy of being in a museum. The lobby is welcoming and lovely but the hotel overall is very special. This hotel is conveniently located within walking distance of shops, the restaurants of Old Montreal and even the subway. The Montreal Jazz Festival, as well as the entire Old Town, are also located within easy walking distance. This hotel was formally a bank. Rooms differ from one another but retain the elegant touches of its past. They are clean, comfortable and individual but not large, though the high ceilings give the illusion of spaciousness. There is free WiFi and comfortable beds and have been decorated with modern art. Have a seat, listen to some music, and drink some wine. Excellent. No street noise but the bar area comes alive with a bossa nova group on Friday and Saturday nights.'], 'entity_b_summary': [\"This hotel never disappoints during your stay, whether it's for a shopping weekend or something else it's a great place to stay. The hotel is in the centre of Montreal's shopping district. It is close to McGill University as well as Ogilvy in a safe part of the city. There are some really cool and handy features and amenities included in the rooms such as iPod docking station, a pressure shower, DVD player and television and Jacuzzi tub in the bathroom was great. The rooms were spacious and luxurious at the same time. The breakfast provided via room service was really tasty. There was a garage to park your car.\", \"The Hotel Vogue is the perfect hotel for a shopping weekend in Montreal or a romantic trip with a loved one. This is a hotel located in a safe area within walking distance of pretty much everything you could need. The rooms in the hotel are a good size, with lots of amenities such as iPod docking stations, a television and even a Jacuzzi hot tub. The executive suites are particular spacious with two televisions too. The breakfast food provided by the hotel's room service was very good. You can park your car in the garage if you prefer to drive here. The shower was a little old but the water pressure was great.\", \"The Hotel Vogue does not disappoint for shopping or romantic getaways and is well maintained. The Vogue is in a great location at the heart of Montreal's shopping district and within walking distance to so much more. Lovely rooms that are fully equipped with all amenities and luxuries. The bathrooms are superb and come with tv and Jacuzzi tub. They are spacious, and the beds are comfortable. The hotel does have a very nice breakfast.\"], 'common_summary': ['The staff at the hotel were accommodating to guests.', 'The staff are really welcoming and friendly at this hotel.', 'The service provided at this hotel is of a very high quality, and the staff are always very friendly.'], 'entity_a_uid': ['UR10664243', 'UR97284865', 'UR117365407', 'UR115634262', 'UR6627791', 'UR8525383', 'UR115324832', 'UR3817666'], 'entity_b_uid': ['UR92373474', 'UR19348213', 'UR15292707', 'UR11594204', 'UR10751859', 'UR7725127', 'UR36062146', 'UR121103494'], 'entity_a_reviews': ['We were searching for a place to stay, having never been to Montreal before. After reading several reviews we opted for this hotel and contacted them directly for a booking. At this time they beat the expedia rate and offered us a 10% CAA discount. That took our room rate to $117/night for Thurs - Sun. The hotel is a converted bank and is located in central Old Montreal. There is a metro stop within a couple blocks, which easily gets you some prime shopping and restaurant areas. The staff were very helpful, recommending great restaurants and providing directions. The rooms are not large, but the very high ceilings make the rooms feel roomy. And, the lobby bar has 2 for 1 drinks every evening. We would stay here again.', 'This hotel is a real treasure. It is a very short walk from the subway and the restaurants of Old Montreal. The greeting upon our arrival was very warm and we found all staff (Cleaning Lady to Bartender) bent over backwards to make us feel welcome. The lobby is very comfortable with free WiFi. The rooms are elegant with free WiFi and comfortable beds. The bathroom is nice and it and the bedroom were very clean. There was no street noise. We unfortunately had noisy, inconsiderate neighbours the first night however the hotel staff immediately offered to move us. This boutique hotel made our weekend getaway very special.', 'Fabulous location, & wonderful service in an extraordinary hotel environment. Lovely warm lobby with live bossa-nova music , a nice bar and impressive art. The rooms are charming, comfy,& with beautifully design antique furniture. Formerly an 18 century bank , each room is slightly different with some elegant remnants of its bank days:( suite 318 is the old vault. renovated) The art throughout the halls are worthy of any Contemporary or Modern art museum. We look forward to a return visit to Montreal and to the charming L Hotel.', \"My Partner and I stayed 7 nights at L'Hotel in Montreal. The service was impeccable, the rooms very comfortable, the staff very attentive and hospitable, and the location was perfect. The artwork contained within the hotel put the Museum of Contemporary Art to shame! If you are traveling to Montreal, this is the hotel to stay at. Friday and Saturday evening had a bosso nova group in the bar area.a great place to have a glass or two of wine and listen to some great music.\", 'This is a nice hotel in the Old Port part of Montreal. Rooms are nice, everything is very clean, breakfast (included in some room rates) is rather good, valet parking is convenient (included in some room rates). Service is friendly (wiill help with restaurant bookings, etc). Have stayed there several time and will happily stay there again.', \"This was an extremely well-located hotel. We were there during the Montreal Jazz Festival and could walk to it as well as to everywhere in the entire Old Town and it's also close to the subway. The staff was friendly, rooms very nice, and breakfast very good. There really wasn't anything to complain about.\", 'Great boutique hotel and perfect location in old montreal.Very friendly and helpful staff.Rooms are unique ,comfortable and if you appreciate modern art its like staying in an art gallery.', 'The hotel had huge rooms that were very clean and comfortable. The staff was friendly and helpful and their breakfasts were wonderful!'], 'entity_b_reviews': ['The Vogue is well located, across from Ogilvy (the nicest department store in the city in my opinion) which also means very close to Ste. Catherine, Sherbrooke and Crescent Streets. I stayed in a very spacious executive suite with bathtub, two TVs (better choice of channels should be available), very comfortable bed, nice bathrooms. Shower pressure was good but shower itself a bit old fashioned even if well maintained. Service a bit uneven but in general very good. Good room service but a bit expensive. Bar at the lobby looks dated. I have to say that overall it does not feel like a 5 star hotel but still quite good. Recommended.', \"What a wonderfu, friendly and beautiful botique hotel right in the middle of Montreal's shopping district and nearby McGill Univ. The only negative thing to mention about the hotel is the carpeting in our room definitely needs to be replaced! The staff, service, etc. are all excellent. Leave your car at home or if you drive, park it in the garage. You are in walking distance of everything. You will need to take a cab to old Montreal. So much to see and do there too. A very safe city to walk around. Montreal is very very expensive due to the low value of the US dollar, but it was still worth the tri\", \"I stayed at Hotel Vogue for a shopping weekend in Montreal and it did not disappoint. From the lobby to my room itself it is probably the nicest and most luxurious hotels I've stayed in. The bathroom was a dream equipped with tv and jacuzzi tub. The service was excellent when the moment I stepped in. Everyone was very friendly and polite. I ordered room service for dinner and the food was delicious. shopping is just steps away which is great. nice to have a dvd in the room too. For a luxury shopping weekend in Montreal or a romantic getaway I would definitely recommend Hotel Vogue.\", \"What a great hotel in a wonderful location. We have stayed here many times over the past few years and have never been disappointed. The rooms are spacious and VERY quiet and the bathroom has a separate walk-in shower. Everything is spotless and the service (from the front desk to room service to the doorman and valet) is top notch. We return to find the same friendly faces working in this hotel, which definitely says something about the way Loews treats their employees. We can't wait to go back! Superb.\", \"This is a potentially great boutique hotel - great rooms, excellent staff, very comfortable BUT I resent having to pay extra for water and internet which other comparable hotels (The Nelligan, Le Germain) throw in. It just feels like I'm being nickled and dimed to death. Other posters have made the same comments and I'm hoping that Le Vogue is listening - I'm heading back there tonight. Otherwise it's a terrific hotel in a great location whether you're in Montreal for business or pleasure.\", \"We just loved our recent stay at the Vogue! The service is always very good, the location is great and they have those small attentions that make a difference (they let a bag in our car with 2 apples and 2 bottles of water for the road). The breakfast (room service) was delicious. We just can't wait to go back!\", 'Great rooms, big marble bathroom, ipod docking and all the other amenties that you would expect. But it was the staff that really made us feel welcome from the moment we arrived. Thanks to everyone for a fun weekend in Montreal.', \"Great room and very good service. Nicely located in Montreal. We've stayed there the last 3 or 4 times we were in Montreal and will visit again.\"]}, {'entity_a': '636215', 'entity_b': '574376', 'entity_a_summary': [\"The hotel was a bargain and comes highly recommended. The hotel is located centrally to the main strip and generally everything is within walking distance. It is a minute's walk to beach and nearby 4th street has a selection of local restaurants too. The rooms were clean and well maintained. They were reasonably priced and the deluxe options have a balcony overlooking 5th Avenue. The staff are incredibly knowledgeable about the local area and will happily spend some time advising on the best places to see. They were even gracious enough to book taxis to the airport, which is a great touch. The hotel is near to Rancho Punto Venado, which provides facilities for many outdoor activities such as horseback riding and ATV driving\", \"This hotel is highly recommended because not only is it a bargain but it's beautiful, bright, comfortable and above all else it's clean. Everything is super close to this hotel as it is in a great location; the beach is only one minute's walk away, there are great locals' restaurants 100 yards from the beach as well so that adds to the experience. The larger deluxe rooms have a nice partial view of the ocean because of the balcony, and the room was really clean and well-kept. The hotel staff were very helpful. They booked local restaurants and transport to the airport and made the stay more pleasurable. The breakfasts served here were really nice. There are great activities close to this hotel to participate in, which really adds to a trip.\", \"Highly recommended, and great value for money. Everything needed to make it a good visit is available to guests. Hotel Cielo's location is only a minute's walk from the beach and within walking distance to nearly everything. Beautiful rooms that are reasonably priced and well maintained. Stunning views from the room's balcony are available to those willing to pay slightly more. The staff here were amazing and took care of every need, from sorting out restaurants and taxies to offering tips and advice on travel which improved the overall quality of the trip greatly. The breakfast served here is of very good quality. Off the hotel grounds, there are activities such as horseback riding, beaches, and jeeps along with ATV's and at Rancho Punto Venado, a bar and buffet.\"], 'entity_b_summary': [\"The hotel even has a kids' club. The hotel is conveniently near the tram system and there are great views of the coast. An ideal choice for a quieter place to stay. One of the hotel rooms is a suite that is simply superb. The staff were generally friendly, but requests were not always met efficiently. The hotel provides great food, although some of the dishes are perhaps not too authentic to the region. The hotel provides internet access for guests. The hotel premises also have a pool and seating around it. If you upgrade to stay in a Casitas there is a view to the ponds of the grounds.\", 'This is a really great and fabulous hotel that will have you coming back again and again. This is a conveniently located hotel because there are trams nearby to take you to restaurants, while the hotel is a good distance away from the craziness of the city. Requests made to staff and even management are not always followed through despite repeating them. Overall though the staff are friendly and try to help out as much as they can. Whilst the food served in this hotel is undeniably tasty they should reconsider whether some of the items on offer are really authentic Mexican dishes. The hotel provides access to the internet and the pools are really great.', 'Wonderful hotel with various activities available for kids via the kids club. Away from the hustle-bustle of Cancun with trams available when necessary and close to restaurants and the coast. A really great location. The suite in this hotel was fantastic. In general, the staff is very friendly and helpful but management could work on their follow-through. The food here is good but not always authentic Mexican food. There are plenty of lounge chairs available at the many pools. And you can rent a car to experience driving in Mexico.'], 'common_summary': ['The hotel is in a good location and has friendly and helpful staff there.', 'Everyone here are really friendly and always so helpful without being intrusive. The rooms are simple but comfortable and spacious, additionally the location is amazing.', 'The hotel is in a great location and the staff are most helpful and friendly.'], 'entity_a_uid': ['UR25517817', 'UR17179913', 'UR23496931', 'UR58260691', 'UR22454532', 'UR125056421', 'UR103823862', 'UR100022902'], 'entity_b_uid': ['UR117835190', 'UR116284283', 'UR126039320', 'UR66874185', 'UR123854236', 'UR68617267', 'UR123684224', 'UR57265172'], 'entity_a_reviews': ['My girlfriend and I booked Hotel Cielo for a quick 3 night escape of the Boston winter. The hotel was in the most perfect location to explore Playa del Carmen as well as the Yucatcan. We were given the deluxe room for 105/night, which had a balcony that overlooked 5th ave and a partial view of the ocean. I think the number one reason to stay is for the helpful staff, simple rooms, and amazing locations. We also thought that Carboncitos is also the best mexican food in the area. Thanks to everyone at Hotel Cielo and we will be back hopefully for an extended stay next year. One note: bring your own shampoo as it is not provided.', \"We were a group of 4 and enjoyed our stay at Hotel Cielo! The hotel is conveniently located within walking distance of everything. Everyone at the hotel is helpful and friendly. Henri, the concierge, has lots of good information and is always willing to answer questions, arrange for transportation, etc. Breakfasts at the restaurant were delicious. We also enjoyed swimming in a cenote, and horseback riding at Rancho Punto Venado, which also offers a lovely beach, buffet, bar, ATV's, and jeeps. (Henri assisted with the reservation.)\", 'My husband and I just stayed here and it was perfect for a young couple. The staff especially Henry and Roberto were amazing. They took care of everything you needed from great local restaurants to setting up taxis to the airport. The rooms were very clean and a great price. The rooftop has an awesome sunset view and just a great hang out spot. You are right in the middle of the main strip and a minute walk from the beach. It was a great location and I would go back in a heart beat!', 'This trip was a culmination of all the \"side trips\" we\\'ve taken around Playa Del Carmen which ended at Hotel Cielo. I wouldnt have it any other way. Beautiful, clean, bright and comfortable. Henery (and everyone else) was friendly and helpful but never were intu rusive and let us enjoy peace and quiet. Carboncitos, the eatery downstairs was tasty with excellent service. Fun location with charm of its own. You wont forget this place any time soon. Thanks Henery, see you next year!', 'My wife and I recently visited Playa for the first time and had a wonderful time. Hotel Cielo is perfectly located for just about everything and the staff was phenonmenal in meeting our every need. The rooms were clean and well kept and very reasonably priced. Being first time visitors, the tips and travel advice offered by the hotel staff was invaluable and greatly enhanced the quality of our trip. We will definitely return at some point in the future and have mentioned the hotel to all our friends in Boise, Idaho.', \"This was our 2nd stay at Cielo. For slightly more $, you can get one is the larger rooms which we enjoyed. This is an excellent location as 4th street has some of the best non tourist restaurants and is about 100 yards from the beach. While breakfast isn't a big deal me, my wife enjoyed it very much. This place is a bargain.\", 'had a great time , no need for one of those giant hotels, they have it all here.i would recommend to everyone.', 'Friendly , convient, close to everything. resturant on site, little noisy, take your ear plugs.'], 'entity_b_reviews': ['We stayed at the Fairmont Mayakoba at the end of June, the hotel is wonderful. We have 2 small children and they loved the kids club. We came to the Fairmont with a large group to celebrate 3 birthdays, we had asked before hand for a surprise in each room for the birthday guest. This did not happen, after repeated requests nothing was done and no explanation. My 5 year old son whose birthday present was this trip was upset but we made the most of the resort. The pools are amazing, each one offers something different. The room are very well kept, we stayed at the casita and felt like we were living in the rain forest. I would reccomend this resort but I wish management would follow through with requests made.', 'We have stayed at least three times at the Fairmont Mayakoba and all of them have proviede us with distinguished experiences. Though a little bit expensive, when in Cancun or Playa del Carmen, this hotel brings you real comfort and amazing views both of the hotel and of the coastal zone. Food is really good, but not all of the dishes served there are to be considered as real Mexican. Generally speaking, personnel is friendly and would help you very much with everything. If money is not an issue for you, do try to stay in any of the Casitas with view to the ponds. Only one major piece of advice: if your go on a honeymoon or so, avoid holiday seasons in Mexico.', \"Like most upscale Mexican resorts the landscaping is exceptional. The reception area is open and ample staff is there to greet you and expedite the check-in process. The rooms are very nice and spacious. Internet access is available. The restaurants are convenient from the trams that move everyone around the resort property on a regular basis. We did not play golf but the course looked terrific. There are several pools for all ages as well as plenty of lounge chairs. After my stay, I arranged for my daughter's honeymoon here and they had a terrific time too.\", \"We spent 8 days at the Fairmont Mayakoba with a 3 year old and a 12 year old, and had an absolutely fantastic stay. Our suite was amazing. The pools and grounds were incredible. And the staff, the staff was was best of any Fairmont hotel that I have stayed at. We loved it! We'll be back again next year. If you can deal with driving in Mexico, I would recommend renting a car if you plan to leave the resort frequently.\", 'This was a very nice location, the food was great, and the staff was very nice, friendly, and helpful. If you like to be away from the craziness of Cancun, then this would be a great choice. If you like to be surrounded with more things to do, then closer to the tourist part of Cancun would be the better choice. The beach is very narrow, but it is fairly clean.', 'I stayed at the hotel for a week in April 2010 for a conference. The hotel has a beautiful property surrounded by lakes and a PGA standard Golf course. The rooms were comfortable with good views all around. The property is huge and we needed special carts to take us around to resteraunts and beach. All in all a great hotel but slightly on the pricier side.', 'The Fairmont resort has written service all over it! People are so friendly, and really helpful, that you feel at home from the first day and onwards. Too bad our stay was only for 1 week.', 'Fabulous Hotel! Impeccable service, fabulous rooms, amazing walking boardwalk throughout the property. From the Welcome Drink until the check-ou, everything was Amazing! Would love to go back!']}, {'entity_a': '482693', 'entity_b': '1547281', 'entity_a_summary': ['The hotel was a unique experience with traditional and modern features. A stay at the hotel comes highly recommended. The hotel is situated in an excellent location on the Grand Canal, only a couple of stops to San Marco Square and near to the Salute Church. It is close to a number of art galleries and the Vaporetto. The hotel has rooms overlooking the canal that are nice and clean. The hotel has a simple menu which can be served wherever you like. The minibar is always stocked for guests. Despite being a bit overpriced the hotel did live up to that expectation, so it was worth it.', \"This is a great stylish contemporary hotel that pays attention to every detail and one that cannot be recommended enough. This boutique hotel is perfectly located because it is on the edge of one of the greatest areas and away from tourist hordes, making it quiet. Despite the calm location it isn't too far away from good sight-seeing spots and there is no problem getting around the city. The rooms are well-maintained and clean, but there is quite a walk up to the room if staying on the top floor. . The breakfast is of the highest quality, and there is the option to eat in either the breakfast room or the roof terrace. The stay at the hotel was a little expensive.\", 'This is an exquisite hotel that is highly recommended. The decor has an excellent mix of contemporary and traditional design that will appeal to the majority. They have paid attention to every detail when designing this hotel. Great location for those wanting a good base to go on and sight see, as it is close to many of the tourist attractions. Most sites are walking distance from the hotel, yet the hotel itself is in a more remote location that offers guests peace and quiet if they choose it. The rooms are very well maintained and clean and though not as distinct as the public areas is unique in its own right. Some overlook the canal.Breakfast is little bit lacking but tasted good.'], 'entity_b_summary': ['This is a beautiful hotel and possibly one of the best out there. The rooms in the hotel are decorated in a typical Venetian style, but with modern design twist, such as mirrors housing televisions. The highest room available in the hotel has a sky window which was very quiet too. The breakfasts at the hotel were made fresh and could be enjoyed on the terrace. This is a hotel of high standards and qualities and everything seems to be really thought through such as where the plug sockets are place and even the light switch.', \"The hotel setting is beautiful but it's an uncomfortable boat ride to get there. Good location with walking paths in close proximity to the hotel. Free water taxis can be taken also, however they are not highly recommended. The Venetian-style rooms are absolutely beautiful and had a sky-window to allow you to view the sky at nighttime. There are flat-screen televisions hidden behind mirrors which is a unique touch. Some of the staff were unhelpful, The complimentary breakfast can be eaten on the terrace and it is an absolute gem. The croissants are clearly made fresh and so they tasted amazing. The hotel will look after guests late at night if you need collection for a charge. The attention to detail goes all the way down simple fixtures like light fittings etc.\", 'This is an average hotel to stay at, however it is in a beautiful area that has lots for tourists to see. The hotel was a little difficult to get to but they will provide a nicely detailed map for walking paths nearby, because it is located in a lovely place. The rooms are to a very high standard, with exceptional views overlooking some of the popular attractions in this area. The upgraded rooms in particular are wonderful, with a sky window that opens up at night. They are beautifully decorated and provide all amenities for a good stay. The staff occasional go above and beyond to help their guests. The food was delicious. Freshly made croissants and a free bottle of Prosecco, excellent. A bargain hotel that provides good quality service. You can see there has been great efforts put in place to decorate all aspects of this hotel, down to the small details.'], 'common_summary': ['The staff were very helpful to guests.', 'The staff are all so helpful and great here.', 'The staff at this hotel are very helpful.'], 'entity_a_uid': ['UR30135578', 'UR4328785', 'UR4462165', 'UR10355450', 'UR6623675', 'UR62349429', 'UR4998469', 'UR107878866'], 'entity_b_uid': ['UR117387352', 'UR50326769', 'UR115165365', 'UR94940115', 'UR79532970', 'UR118468512', 'UR54953715', 'UR94189282'], 'entity_a_reviews': [\"The decoration and design is excellent, as are the staff. The roof terrace, lounge and breakfast room have real distinction. The public areas are small. There is a simple lunch menu that they don't publicise and which you can eat in the breakfast room or roof terrace. The location is excellent and on the edge of one of the best areas of Venice and is well removed from the tourist hordes. The room was less distinct than the public areas but that is not to complaint. In many other hotels it would be excellent. It is expensive for it's size and services though, but I'm still very glad I stayed there. Don't pre book their river taxi from the airport: it is too expensive and a far more complex arrangement than simply getting a private water taxi at the airport on arrival. This is an excellent hotel.\", \"Good location; enough off the beaten track to be quiet and relaxing but a great short walk to Accademia and other sites. If you like exploring places on foot its ideal. If you don't, the Vaporetto is on the door step and we had no problem getting anywhere in the city and the islands using it. Hotel was our kind of place; good style mixture of contemporary blending with the traditional with a couple of quirky bits thrown in (the light sconces in the lounge!). Very friendly and helpful, low key staff. Room was well maintained, clean and pleasant. Breakfast was simple but excellent (and filling). Would definitely go back there if staying in Venice again.\", 'The Ca Maria Adele is ideal in every respect. It sits on a quiet little canal just behind the magnificent Chiesa di Santa Maria and not far from the Accademia. The staff was very friendly, treated its guests with real coridality and were brimming with suggestions and assistance. Breakfast was especially satisfying in a tall room that spangled with Venetian ornament. The hotel felt very personal, it was like staying at the home of a friend. Who should stay here? Couples, old or young, families, no matter the size, single folk, businessmen. I look forward to going back to Venice and when I do so staying at the Ca Maria Adele. Recommended without any reservation whatever.', 'Just stop searching for the perfect hotel in Venice because this is the one. Right next to the Salute is an idyllic spot with just twelve rooms. The staff are without exception helpful and no request is too small. The breakfast is a delight and can be served wherever suits your mood and the hotel has wonderful touches throughout. Each room is individualised and ours overlooked the canal. A minute from the vaparetto stop and close to a number of super Art Galleries . Lovely little restaurant was recommended and did not disappoint. Take the Water Taxi transfer - the only way to travel.Just ignore the tariff it is worth every penny. Enjoy.', 'Loved this small hotel, with a great location on the Grand Canal and right next door to the Salute Church. The staff were polite and very helpful, no problems with the English language. Will never forget the Saturday night when the Salute bells were ringing followed by all the church bells around Venice. Close to San Marco Square. If you stay on the top floor be ready for a walk up the stairs to your room.', 'Paying attention to every detail, this hotel was an experience of its own. The White Room on the bottom floor was spectacular, the room service was top notch, the views from all points of the hotel were nearly fantastical! Breakfast was delicious (though one staff member seemed absolutely miserable with her job) and the always stocked minibar was so refershing during the hot summer days!', 'We loved the Ca Maria Adele. The hotel staff and owner were so attentive. The room was incredible and so so charming. We were greeted by champagne and passion fruit within 5 minutes of walking into our hotel. The breakfast room and the meal itself were just great. All the recommendations given by the hotel staff were awesome. Would LOVE LOVE to go back.', 'This is one of the best deals in Venice. The price is a little high, but well worth it. This boutique hotel is in a relatively quite spot and still only a stop or 2 from San Marco.'], 'entity_b_reviews': [\"Everything is of superb quality in this hotel and you can really see the thoughts they put into each detail - from the light switch to where the sockets are placed. We went for the highest room (Casa Nova) in the hotel which has a sky window that opens up to see the sky at night, it was very romantic. Breakfast was truly a gem - the croissants are made fresh and they tasted super delicious. There are only two tables that are out on the balcony so people have to wait for the outdoor tables. They offer free water taxi rides to the glass factory on Murano island, but it was a complete waste of time. Transport organized by the hotel to the island was perfect, but the hotel didn't arrange our transportation back and we were stuff with like 10 other people in small boat which made us completely soaked on our way back. The boat did not stop back at our hotel but just dropped us off, all soaked, at St. Mark's Square. It was the worst boat ride. Avoid the hotel's free ticket to Murano at all, you can better spend your time in Venice doing something else.\", \"We had originally booked our rooms at the Hotel Antiche Figure, however when we arrived at the hotel the manager told us that he had another hotel that they were attempting to fill with guests right down the street, it was another property that they owned that had recently opened up. .He told us that if we wanted to stay there instead of the Antiche Figure he would upgrade everyone's rooms. When we saw the property and the rooms, we just couldn't say no. The manager put us in four incredible rooms beautifully decorated in an antique Venetian style, yet with very modern facilities. ie Wireless. flat screen tv's hidden behind mirrors etc, plus the rooms had amazing views onto the canal, or the square. which was wonderfully quiet. This place is beautiful. I would highly reccomend staying here. especially if you are American. the service of the staff is completely up to par with American standards. and on that matter they excel on sevice standards.\", 'I love it when Tripadvisor reviews point me in the right direction. Venice was one of the stops on my honeymoon and the staff, amenities, and location of Hotel Canal Grande does not disappoint! From the check-in, Gianni welcomed us with a detailed map, suggested walking paths, and a little joke: \"call this number and we can come get you. free! if you call after 10pm, we will think you are drunk and we will come get you.for a charge.\" Here are other highlights: - free wifi - free bottle of prosecco on the house - free hotel breakfast (which you can eat on the terrace, watching the boats go by) - modern amenities which complement seamlessly with the rococco interiors - excellent service (when we couldn\\'t find the local laundromat, they sent an employee of a *sister* hotel to check that it was open and then escort us there- fabulous!)', \"Convenient location to everything and easy to find. Make sure to print out directions to the hotel for your arrival. The rooms were elegant and comfortable. Nice breakfast in the morning. The staff were pleasant and very helpful. Our last night there our neighbours were noisy and vulgar, the staff did try and control the situation and more than compensated us the next day. Despite this we wouldn't hesitate to stay again.\", '.what the other reviewers say. Just book & enjoy, if you can. The only negative experiences from our 2 nights in the Doge room was a somewhat unpleasant and unhelpful interaction with the night clerk, and a another situation in which some other employee spent ages finding information on the vaporetti schedule that in the end were just plain wrong. Still 4/5 for service, as the rest of the staff were marvelous.', 'I stayed 3 nights in Canal Grande. A gem in Venice, near Piazzale Roma where i parked my car, near a vaporetto stop, great staff, great breakfast and great room \" Accademia\". If you are looking for a hotel to stay in Venice, dont think about it.Stay in Canal Grande. Perfect!', \"Simply the best hotel we've ever stayed at! Great location, great room, great view, great breakfast. Unbelievable value. The management and staff made us feel so welcome, without a doubt we would return again. Thank you.\", \"just brilliant, can't spot one error. every need is looked after a bargain of a hotel and gr8 stuff.\"]}, {'entity_a': '292894', 'entity_b': '239263', 'entity_a_summary': ['It was such a comfortable experience here at this hotel and nice bonus there was classical music that came from a nearby opera school. Excellent location for that is on a quiet street, but also allow easy reach for principal city sights; the metro and city tour bus stop are really close. Clean and large room with a great renovated bathroom. The staff are a wealth of knowledge about the nearby restaurants , side trips, which was was super helpful. The breakfast not only has lots of choice but the quality of the continental foods and drinks on offer was great. They also provide take away breakfast. No wireless internet in the rooms, only available in the lobby.', \"The Oceania is a 2 - 3 star hotel but where it lacks in its grandeur it makes up for it with its staff. There is also the enjoyable music in the air from the nearby opera school and the hotel is not only comfortable but clean. The hotel's location is excellent. It lies just off of the Piazza della Repubblica on a quiet street and is close to buses and trains to allow reaching the city and sights easily. The hotel had a spotlessly clean, old double room with a great renovated bathroom. Breakfast was an ample continental breakfast with bread, pastries, juices, and coffee. it was lovely and you can get it to take away if you need to leave early. The Internet was only available in the lobby.\", \"The Hotel Oceania has classical music from the opera school below drifting up, which is very beautiful and atmospheric. The hotel is in an excellent location. It is situated on a quite side street close to Piazza della Repubblica, the metro and the principal sights of the city. The hotel's rooms are clean, spacious and with a renovated bathroom. A continental breakfast including breads, pastries, juices and coffee. There is the option to take away if needed. The hotel provided internet in the lobby,\"], 'entity_b_summary': ['The hotel seems to be missing the personal details and it is perhaps slightly overrated. This hotel is beautifully set for walking to great sites of the city as well as shops and outdoor restaurants located close-by. The small complex that the hotel is located within had some beautiful orange trees as well, adding to the colourful neighbourhood. The rooms here are really lovely although were a bit noisy with doors banging. The breakfast buffet was really tasty if a little bit basic. The scrambled eggs are highly recommended. There was some noise coming from the bells of the nearby church therefore it is recommended to bring earplugs.', \"This hotel provides a wonderful, cosy and convenient place to stay. It is a little pricey however it's really charming. The hotel is ideally situated for local restaurants, being only a stone's throw from Santa Maria Maggiore and Ponte Sisto too. The hotel is close to a tram link to the airport, Tivoli and other areas in Rome. It was great that the rooms opened onto the courtyards but this and the tiled floors made them rather noisy. The hotel's breakfast was adequate but was nice to enjoy in a courtyard of orange trees. It is worth mentioning that the bell chimes from a nearby church can clearly be heard in the rooms, which may be a negative for some guests.\", 'This hotel is a very nice and convenient base to explore Rome and the Vatican from but lacks a personal touch. It is cozy and charming but maybe overrated a little. This hotel is ideal for restaurants and in the middle of Trastevere and is only a block away from Santa Maria Maggiore and Ponte Sisto and within walking distance of the center of Rome, Campo Fiore and Janiculum. It is also not far from the tram with connections to the airport and there are lots of shops and beautiful colorful neighborhoods all around. The rooms are lovely in that there is the option for them to be opened out into the open air with the courtyards. However, the rooms can be become rather noisy due to the tilen floors and the doors that bang. There were not many staff here. Generally a very good buffet breakfast that offers scrambled eggs and cappuccino amongst other things. There is also access to the lovely courtyard that is covered in orange trees for when you want to eat your breakfast. The bells from the nearby church could cause sleep issues.'], 'common_summary': ['The rooms of the hotel are clean and the staff are helpful.', 'This hotel features nice clean rooms and very helpful staff.', 'This hotel has very helpful staff and the rooms are very clean.'], 'entity_a_uid': ['UR114093264', 'UR37650228', 'UR8703059', 'UR3925793', 'UR11027429', 'UR128066405', 'UR29857063', 'UR122756295'], 'entity_b_uid': ['UR55381933', 'UR112721290', 'UR7839302', 'UR95184087', 'UR54908740', 'UR3294271', 'UR4477840', 'UR3015805'], 'entity_a_reviews': ['We spent two nights here in May, 2011 and really enjoyed it. The location is excellent, on a quiet side street just off the Piazza della Repubblica, close to the metro and a step-on, step-off city tour bus stop. We were able to easily reach the principal city sights from there. Our room was large and very well appointed (and I love that 1940s style elevator to get you there!) The staff was excellent, very helpful. (I had trouble backing up some photos from my camera to a flash drive and they assisted me.) There are a number of very good restaurants nearby so you dont have to fight the tourist hordes around the Spanish Steps or the Fountain of Trevi. Well go back when were in Rome.', 'This is a cozy, tucked-away retreat from the busy streets of Rome. Our room was quiet and the owner was attentive and helpful (spoke English well). The breakfast room is a warm and inviting setting with a decent variety of food. The bed was not very comfortable (although I am extremely picky) but every other part of our stay was enjoyable. We stayed at this location three nights and were able to walk comfortably to all major sights without problem. I will not rave about this hotel, but I found nothing materially wrong with it either. This is a typical 2-3 star hotel and makes up for its lack of \"grandness\" by having a fantastically helpful and friendly staff.', 'We stayed two nights at this hotel. We found the staff very friendly, and helpful. Our room was clean and of a good size. If you want to experience true italian culture, then this family is for you. The breakfast was continental, and very good and ample. If you want scrambled eggs and bacon when you are in Europe, then stay home. If you want to enjoy the culture you are in then ask this facility for recommendations for restaurants, side trips, etc., they are more than accommodating. We will definately use this hotel on our next visit.', \"We couldn't have been more pleased with our stay in Oceania. We had a double room that was spotless and also quite spacious. The staff were all very friendly and helpful and answered any questions we had on places to visit etc. The internet access was very useful and was free. Breakfast was lovely - breads, pastries, juices and coffee. The hotel is in an ideal location, close to all the main sites and on a nice quiet street. Would love to go back!\", \"I booked a 3 night stay at Hotel Oceania based on a recommendation from Rick Steves. The location is definately convienent as it is a short walk from the train station which is also thier main center for Rome's subway and bus systems. Internet was available in the lobby, but was not available in the room since the wireless was not working correctly. The room was clean and the hotel was nice but our overall experience was just ok.\", \"We had a wonderful experience at the Hotel Oceania. The location is excellent with public transportation, great restaurants and shopping very nearby. The rooms were quiet and clean. The staff was very gracious and helpful and the serve really delicious coffee! Rick Steves (2012) certainly didn't disappoint.\", \"We stayed just one night but will surely stay here when again in Rome. Large old room with great renovated bathroom. Very clean and comfortable. Staff couldn't be nicer or more helpful. Even packed us a take away breakfast because we had to leave early.\", 'We would stay here again. Great location, spacious rooms, good, friendly service. A bonus was classical music drifting up from the opera school on the level below.'], 'entity_b_reviews': ['I feel the hotel is slightly overrated. The setting is fine, and there are lovely orange trees in the nice court yards of the smallish complex. However the rooms are noisy with tilen floors and banging doors. The room window gives unto the open tilen pathway leading past the doors. Breakfast is ok but basic. There is free internet available amidst the breakfast tables. Staff seems a little scarce, with the couple serving breakfast later in the day cleaning the rooms. What is missing however is the loving hand. For instance all flowers are made of plastic, even the azaleas and cyclamen outside in the garden. The personal touch somehow seems missing, and that really is a pity.', 'Hotel Santa Maria is a delightful, cheery & quiet place to stay, tucked away in a small street in Trastevere, Antonio (manager) is molto simpatico - friendly and very helpful. The hotel is not a fancy place, but quite comfy enough, with a good breakfast buffet, which you can eat in the lovely courtyard full of orange trees. The colorful neighborhood is great for walking around, lots of shops & outdoor restaurants that stay open late. You can easily walk to other sites in the city, though we mostly took cabs to centro to save time.', 'I found this area of Rome to be very special and the Hotel Santa Maria was more than I had expected. I enjoyed the peace and serentity with the safety gates, beautiful breakfast which could be taken either in the eating area or courtyard and a nice wine bar with appetizers. The rooms were clean and well maintained. Personnel were outstanding to work with. The Trastevere area is near all of the major attractions and yet, it is magical to stroll through a maze of fascinating medieval streets with some of the best restaurants in Rome.', \"Wonderful place to stay! An intimate, cozy place-loved the orange-tree courtyard. Front desk personnel was most helpful. Cleaning/cooking staff wonderful-very clean rooms. Breakfasts very filling and tasty-the scrambled eggs and cappuccino were my favorites. Neighborhood not touristy. 15-minute walk to the Colosseum; 25 min. to St. Peter's. They arranged driver for airport pickup and dropoff. Bells of neighboring Church could be sleep-disruptive for light sleepers, but earplugs blocked the noise.\", 'Accomodating people who are always pleasent. Good breakfast. A block from Santa Maria Maggiore and Ponte Sisto but tucked away from all bustle. We walked to the center of Rome, Campo Fiore, Janiculum, all over Trastevere. Close to #8 tram with connections to airport, Tivoli and all of Rome. Private courtyard through gated drive. A good refuge for tired feet and bodies. We would go back.', \"We stayed here for five nights. a great base for exploring Rome; thank heavens we took a taxi - we'd never have found it by ourselves! Right in the middle of Trastevere, ideal for restaurants etc. Nice room, pity next doors plumbing is so noisy though, otherwise very peaceful. Very nice staff - would stay here again.\", 'Spent 4 restful nights at a lovely oasis of calm in Trastevere. Very well looked after, nothing was too much trouble. Very convenient for all parts of Rome and Vatican. Lovely that rooms opened out into open air of courtyards.', 'This was a charming, albeit somewhat pricey, refuge from the overload of Rome. The employees were wonderful and the setting very peaceful. The location was also very handy, and I would definitely stay here again.']}]\n",
            "18\n"
          ]
        }
      ],
      "source": [
        "print(test)\n",
        "print(len(test))"
      ]
    },
    {
      "cell_type": "code",
      "execution_count": null,
      "metadata": {
        "colab": {
          "base_uri": "https://localhost:8080/"
        },
        "id": "dayz45IrvnY_",
        "outputId": "80817696-fdaa-4deb-81f4-96165d01bc5b"
      },
      "outputs": [
        {
          "data": {
            "text/plain": [
              "{'entity_a': '254461',\n",
              " 'entity_b': '185747',\n",
              " 'entity_a_summary': ['The hotel has conference rooms available to rent out for conferences and corporate events. The location of this hotel makes it easy to access restaurants, the river and shops. The rooms are a good size and well decorated. The bathroom in the hotel was large and with a large bathtub. Small touches like a chocolate on the pillow are also nice. The hotel has a roof terrace for drinks. Unfortunately the hotel is missing the availability of a pool.',\n",
              "  \"This is a lovely place that was wonderful in all ways. It is definitely a place you will want to return again. The hotel is in walking condition to local restaurants, bars and even the Mont Royal. Beautifully decorated hotel rooms that are well designed and comfortable for all occasions. Very spacious in size with luxurious amenities in the bathroom, and it's the little touches such as chocolates on the pillow that make these rooms even more memorable. The hotel features some good places to have drinks and food, and there were even great chocolates left on the pillow. This hotel could do with a pool as that is the only thing it is really lacking.\",\n",
              "  \"The hotel, Le Place D'Armes, is amazing. It is elegant. The rooms are very nice and upgrades are available. This is a great place to stay on business as well. The hotel is within easy walking distance to restaurants, bars, and shopping. You can also walk to the Mont Royal or the river. Fantastic location. The rooms are nice and spacious with good decoration too. The bathrooms are really great because there are massive bathtubs and lovely rainfall showers. A nice touch is the turn-down service with cute chocolates left on the pillows. The staff at Le Place D'Armes is great. Really good service overall. The two restaurants at this hotel are highly recommended, and there is also the option to eat and have a few drinks on the roof terrace to enjoy the views. \"],\n",
              " 'entity_b_summary': [\"The hotel is especially memorable during a winter stay. The room was okay but on the small side including the bathroom as well. After upgrading rooms to a suite this was absolutely fine and had a great view with modern decor. Whilst the breakfast and dinners are both quite expensive they're really great and tasty. But a coffee maker and coffee was not free of charge, which is unusual. Whilst the toiletries were really great there was an issue with the toilet.\",\n",
              "  \"This is neither a disappointing hotel or one that will exceed expectations. It can be magical in the winter time and it is definitely a nice hotel, it just won't blow you away. A very convenient location. The bathrooms in the hotel room are quite small but the room itself is clean and modern . The hotel serves very good food at both breakfast and dinner. It is a little expensive but you definitely get what you pay for. The hotel uses Miller Harris citron toiletries which is a nice touch.\",\n",
              "  \"This is a generally good hotel that is slightly expensive but highly recommended for a memorable visit to the area. It is also in close proximity to the city centre, so a lovely place to go for nice walks. This hotel is located in a really convenient area here. The rooms at this hotel are smaller than expected and the toilets are inadequately sized and too small for comfortable use. An upgrade might be an option to consider though as the suites are very nice. The quality of the breakfasts and dinners at this hotel are great. However, they are quite expensive and the coffee in the rooms don't come free as charge like most other hotels.\"],\n",
              " 'common_summary': ['The staff at the hotel were incredibly accommodating and the hotel was well located.',\n",
              "  'At this hotel you will find the staff are really accommodating and friendly. The hotel is also a well-located place to stay in Montreal with some great things to do nearby.',\n",
              "  'The staff at the hotel are friendly and helpful and the beds are great.'],\n",
              " 'entity_a_uid': ['UR119801869',\n",
              "  'UR108457071',\n",
              "  'UR125621536',\n",
              "  'UR116213406',\n",
              "  'UR64866156',\n",
              "  'UR23919613',\n",
              "  'UR85589113',\n",
              "  'UR4736328'],\n",
              " 'entity_b_uid': ['UR94330536',\n",
              "  'UR117656941',\n",
              "  'UR119964745',\n",
              "  'UR116518066',\n",
              "  'UR52258443',\n",
              "  'UR96905140',\n",
              "  'UR89862189',\n",
              "  'UR118511479'],\n",
              " 'entity_a_reviews': [\"Our company has rented conference rooms and held many meetings and corporate events at Place D'Armes and we were extremely satisfied with their service. There was always someone to greet and help with the setup and make sure we have everything we needed. More importantly, technical service was efficient and really went out of their way (even when it is your own equipment). The rooms are clean and beautiful and staff is great. The only negative thing is that they charge for the conference room for the whole day regardless if you only need it for half a day or an hour.\",\n",
              "  \"The hotel is located in the OLD Town part of Montreal by the Notre Dame Cathedral and short walking distance to the rivers edge. This hotel was a great value and the staff and location were excellent. There are 2 restaurants in the hotel that are very highly rated. The staff and service were excellent. The rooms are specious and nicely decorated The bathrooms are very nice with very big bathtubs. There is also a roof terrace to have drinks and enjoy the views. Couldn't use because it was raining.\",\n",
              "  'We just returned from a mid-winter weekend get away to Montreal. We picked this hotel due to its location in Old Montreal, close to restaurants, Notre Dame and the cobblestone streets. From the moment we arrived when the valet service looked after the car until we checked out the service of the staff was top notch. The rooms were nice with hardwood floors and exposed brick. The bar, Suite701, is the perfect spot for a night cap. We would definately return.',\n",
              "  'Absolutely one of the best places to stay while visiting old city Montreal. Staff was very friendly and accommodating. The rooftop bar and restaurant was beautiful with a view of Notre Dame Basilica. We stayed in Junior Suite 3402 and really appreciated the ambiance and decor. If I were to visit again I would think of staying in 3602 (second digit is the floor). The street noise was not bad however you will have early morning local truck deliveries.',\n",
              "  'Lovely hotel in an historic building with a fantastic location. Nice rooms, very friendly and service-oriented staff. Great little touches like chocolates on the pillow and turn-down service. Very helpful concierge. I was in Laval for business and went to Montreal for the weekend. I walked to restaurants, bars, the river, shopping. Close enough to walk to Mont Royal.',\n",
              "  'Stayed in one of the Suites which we got using one of the major credit card upgrades. Amazing bathroom with rain shower and a large tub. Modern room, clean bathroom, great service, great beds and blankets. The only thing that it lacks it is a pool but it can be overlooked. Location is great, the old Montreal.',\n",
              "  \"Le Place D'Armes is an amazingly elegant hotel with staff that have a beautiful authenticity about them. The comfort and design of the rooms is worth the price and is a great fit for both business or personal occasions. If you are planning a trip to Montreal you simply need to check out this hotel.\",\n",
              "  \"Well I have nothing but good things to say about this hotel, it was just wonderful in every way. Perfect location, spotless, nice staff. Possibly the nicest place I have ever stayed. If you go to montreal and dont stay here you're missing out!\"],\n",
              " 'entity_b_reviews': [\"My stay at the Fairmont Queen Elizabeth didn't exceed my expectations, and also didn't disappoint. It was a nice hotel, but didn't blow me away. My room was slightly smaller than average although it was clean and with a slightly more modern decor than a typical Fairmont. My one gripe is with the toilet. It's basically the kind of toilet you'd find in a public bathroom, with a flush that's located under the counter and hard to get to. I do enjoy the Miller Harris citron toiletries, so that is a plus. Overall I'd rather be more centrally located to the main downtown area or closer to Old Montreal. It was fine for business travel and a short trip, but if I was visiting for vacation with the same budget, I'd likely go elsewhere.\",\n",
              "  \"I stayed here whilst attending a conference in the hotel. Arriving from Toronto by train was just about as convenient as it could possibly be since the station is directly beneath the hotel. The room was fine, with a fabulous view up the hill to Mont Royal from the top floor. Service from the check-in staff was polite and efficient and they rapidly corrected some incorrect charges for using the mini bar which I had not done. The hotel does look a little dated and not much of the glamour from when John and Yoko staged their bed in remains, but all in all it's a good value and well-located place to stay in Montreal. Make sure you join the President's club via the fairmont website before arriving so that you get free wi-fi access.\",\n",
              "  'This is a very nice older, upper end, well maintained hotel. The front desk and concierge staff were very helpful and the housekeeping staff exceptionally friendly and accomodating. John Lennon and Yoko Ono had a suite on the 16th floor that has a plaque that says \"Give Peace A Chance\". The bed was comfortable. The bathroom was too small. I personally hate any bathroom where my knees block the door from closing when seated. I continually worried that my toiletries would slide off the small shelf for toiletries into the toilet or jewlery would head south for the sink. I had some allergies which I suspect may have been an a/c ducting issue. Beyond these comments it is a nice hotel with very pleasant and helpful staff.',\n",
              "  'We spent a night at the Queen E with our grandchildren - it is a very nice place to stay - somewhat expensive but right in the center of Montreal. We upgraded to a suite which turned out to be very nice. The restuarant serves great breakfasts and dinners - again a bit expensive but very well done (the liver is great!). We visited the Biodome (lots of fun) and wondered around old Montreal area. Montreal has some great shopping areas we found.',\n",
              "  'I have been to this hotel countless time as part of frequent business travel. The location is great for business (right in financial centre) and for leisure (5 min walk to St Catherine Street where the shopping and restaurants are). I had an encounter of very bad service once. I took the matter to customer service aftewards and was impressed they listened and offered to upgrade my room next time I stay. Overall it is a good hotel and I would recommand to others.',\n",
              "  'I recently stayed a w.end at this Hotel,and I could not beleive that at the price they charge they put the coffee maker and the coffee as part of the mini bar!come on,most hotel,leave the coffee maker and the coffee free of charge in the room!',\n",
              "  'Was able to upgrade to the Gold floor and worth every penny. Had dinner at the Beaver club and enjoyed the excellent service. It made our stay very memorable. The hotel is beautiful in the winter, a magical place.',\n",
              "  \"I've stayed here a number of times and this visit was no exception. I find the staff helpful and enjoy the history of the hotel. As well I find the location very convenient.\"]}"
            ]
          },
          "execution_count": 13,
          "metadata": {},
          "output_type": "execute_result"
        }
      ],
      "source": [
        "dev[0]"
      ]
    },
    {
      "cell_type": "code",
      "execution_count": null,
      "metadata": {
        "id": "m426KTnJPTpY"
      },
      "outputs": [],
      "source": [
        "import bert_score"
      ]
    },
    {
      "cell_type": "code",
      "execution_count": null,
      "metadata": {
        "colab": {
          "base_uri": "https://localhost:8080/",
          "height": 249,
          "referenced_widgets": [
            "9c463cc2922b4e4dbacc772c7b94afe4",
            "b063a52ef7f4442f87168f60236b50b1",
            "4f487276e7a048bfb63683b27839a319",
            "0c8865d839e3400b9eb01f606399882f",
            "fb98b6744b3545df8f51b2c58393fcfc",
            "1cf1711d44bd44eba6c5fc3a01f8657a",
            "c2b4c5aedf6b4f6a9c60a9da8e3846d9",
            "e1340cf3b66a448eb00bffd29fc8baee",
            "66fe2c46b24b41c69152d950e404ad6f",
            "1169c847b2e849e5ab8b1638c3720774",
            "654608ee446a41f6974c4b6ee365280b",
            "5596c52bcd844cd5ad9bc7ff47a4e6ba",
            "399faf505d32428d8d726e30893c5ed1",
            "47f29c1655c748b2936a8b5b644a259d",
            "43dc1cb369e4479ca11218fda5e0a850",
            "5f381973d937425f847010d89d76a16b",
            "d112f14f11f94bb7a57ed26aebc4f8a5",
            "04eede43d20c443bbe467d656802abfe",
            "7911da65fd784624858b201f34b791b7",
            "0e4efaf8643a42ea97e15da934639703",
            "45693a05676e466aa08762730d583172",
            "0138f52df77c4ccdaae51d5718e13c28",
            "13fd315c85cb4d65955e3c5946dd060c",
            "5cd899703dee4a4db79ec5414a054159",
            "d266e36f196447ea992ded588beaceb5",
            "f3e52fa0ad21401bb0083a3f85ff3064",
            "c2f44f8c503241688bf94df5b8c9a0b2",
            "d677e39f9d084ad7ad4acc16939dac8d",
            "6d75829ba3ed473eae8d536e2268d3b4",
            "19482b3b2d6040a18fe9f614c7198fe6",
            "8c875f279111410685ec7482b68b5b18",
            "796bf441ef524219b26a7c31829da4f9",
            "0401b17457eb4afe9c1d6bf312f1752c",
            "d78978f7ce6940e0b54c61036c78e3f9",
            "1db2e241de784bad9fac331b35cb7aa7",
            "0ec456d51ed3422c8ec542832f583d28",
            "a28564c8154244d2887ddbf1f24c95cd",
            "88a171676f11457c809d6d616dc9994c",
            "8db45a14061a49a292151a098a1f2ecb",
            "e532d9c813bb4e94b251dd093410bfe9",
            "5a7147207672488896c3b6d3e8b2047d",
            "564af7b0088745c7840e6837388a2ca1",
            "ebf89532daa445ceaa7a540e50783830",
            "4b5499f55e75492fb9a37cf3b4b5f280",
            "9c08272b38a74d87a3d2c752732fbd63",
            "1b9942d4ea104415b22e7696607b56ab",
            "45b3212224e84ba0b455fc378523b563",
            "24af4f2794784479aa91bfc4a778d249",
            "1d5609b1083c457f97287db4f8fce326",
            "113cefe96ee446fca6726204c2a7fbef",
            "af9e547e431b4f31bb377459917752f8",
            "15d13ea3780740e0a98ad4701189881c",
            "d4108db71d9b47b29cbda5de0c62a00b",
            "4f2415eb269448f1a6dc2ce9470f2c99",
            "00cc1b7c403c47a6b2767321f8b0b363"
          ]
        },
        "id": "Jrxwip72PfYc",
        "outputId": "e7ee0c34-7028-4b7c-bd50-3c2f7cbd6865"
      },
      "outputs": [
        {
          "output_type": "display_data",
          "data": {
            "text/plain": [
              "Downloading (…)okenizer_config.json:   0%|          | 0.00/52.0 [00:00<?, ?B/s]"
            ],
            "application/vnd.jupyter.widget-view+json": {
              "version_major": 2,
              "version_minor": 0,
              "model_id": "9c463cc2922b4e4dbacc772c7b94afe4"
            }
          },
          "metadata": {}
        },
        {
          "output_type": "display_data",
          "data": {
            "text/plain": [
              "Downloading (…)lve/main/config.json:   0%|          | 0.00/792 [00:00<?, ?B/s]"
            ],
            "application/vnd.jupyter.widget-view+json": {
              "version_major": 2,
              "version_minor": 0,
              "model_id": "5596c52bcd844cd5ad9bc7ff47a4e6ba"
            }
          },
          "metadata": {}
        },
        {
          "output_type": "display_data",
          "data": {
            "text/plain": [
              "Downloading (…)olve/main/vocab.json:   0%|          | 0.00/899k [00:00<?, ?B/s]"
            ],
            "application/vnd.jupyter.widget-view+json": {
              "version_major": 2,
              "version_minor": 0,
              "model_id": "13fd315c85cb4d65955e3c5946dd060c"
            }
          },
          "metadata": {}
        },
        {
          "output_type": "display_data",
          "data": {
            "text/plain": [
              "Downloading (…)olve/main/merges.txt:   0%|          | 0.00/456k [00:00<?, ?B/s]"
            ],
            "application/vnd.jupyter.widget-view+json": {
              "version_major": 2,
              "version_minor": 0,
              "model_id": "d78978f7ce6940e0b54c61036c78e3f9"
            }
          },
          "metadata": {}
        },
        {
          "output_type": "display_data",
          "data": {
            "text/plain": [
              "Downloading (…)\"pytorch_model.bin\";:   0%|          | 0.00/3.04G [00:00<?, ?B/s]"
            ],
            "application/vnd.jupyter.widget-view+json": {
              "version_major": 2,
              "version_minor": 0,
              "model_id": "9c08272b38a74d87a3d2c752732fbd63"
            }
          },
          "metadata": {}
        },
        {
          "output_type": "stream",
          "name": "stderr",
          "text": [
            "Some weights of the model checkpoint at microsoft/deberta-xlarge-mnli were not used when initializing DebertaModel: ['pooler.dense.bias', 'classifier.bias', 'pooler.dense.weight', 'classifier.weight']\n",
            "- This IS expected if you are initializing DebertaModel from the checkpoint of a model trained on another task or with another architecture (e.g. initializing a BertForSequenceClassification model from a BertForPreTraining model).\n",
            "- This IS NOT expected if you are initializing DebertaModel from the checkpoint of a model that you expect to be exactly identical (initializing a BertForSequenceClassification model from a BertForSequenceClassification model).\n"
          ]
        }
      ],
      "source": [
        "SCORER = bert_score.BERTScorer(model_type=\"microsoft/deberta-xlarge-mnli\", lang=\"en\", rescale_with_baseline=True)"
      ]
    },
    {
      "cell_type": "markdown",
      "source": [
        "first column: precision\n",
        "\n",
        "second column: recall\n",
        "\n",
        "third column: f1 score"
      ],
      "metadata": {
        "id": "mKqaPSDSPWn8"
      }
    },
    {
      "cell_type": "code",
      "execution_count": null,
      "metadata": {
        "colab": {
          "base_uri": "https://localhost:8080/"
        },
        "id": "qgNuzXL84n4_",
        "outputId": "e0ab4694-b8f3-47ed-b659-7ea745e4d7c4"
      },
      "outputs": [
        {
          "name": "stdout",
          "output_type": "stream",
          "text": [
            "(tensor([0.2437]), tensor([0.2230]), tensor([0.2364]))\n"
          ]
        }
      ],
      "source": [
        "scores = SCORER.score([dev[0]['entity_b_summary'][0]],[dev[0]['entity_b_summary'][1]])\n",
        "print(scores)"
      ]
    },
    {
      "cell_type": "code",
      "source": [
        "for i in dev:\n",
        "\n",
        "  matrix = []\n",
        "\n",
        "  for j in range(len(i['entity_a_summary'])-1):\n",
        "\n",
        "    scores = SCORER.score([i['entity_a_summary'][j]], [i['entity_a_summary'][j+1]])\n",
        "\n",
        "    print(scores)\n"
      ],
      "metadata": {
        "colab": {
          "base_uri": "https://localhost:8080/"
        },
        "id": "Qt_p3UTtwQvZ",
        "outputId": "9bdc1335-ea6a-4d50-fea9-24bd7a4018c0"
      },
      "execution_count": null,
      "outputs": [
        {
          "output_type": "stream",
          "name": "stdout",
          "text": [
            "(tensor([0.4175]), tensor([0.2840]), tensor([0.3502]))\n",
            "(tensor([0.3138]), tensor([0.3323]), tensor([0.3257]))\n",
            "(tensor([0.5898]), tensor([0.5222]), tensor([0.5571]))\n",
            "(tensor([0.5183]), tensor([0.5108]), tensor([0.5165]))\n",
            "(tensor([0.4317]), tensor([0.3926]), tensor([0.4143]))\n",
            "(tensor([0.4098]), tensor([0.3753]), tensor([0.3948]))\n",
            "(tensor([0.3855]), tensor([0.4234]), tensor([0.4066]))\n",
            "(tensor([0.3847]), tensor([0.3046]), tensor([0.3462]))\n",
            "(tensor([0.3911]), tensor([0.4728]), tensor([0.4331]))\n",
            "(tensor([0.4423]), tensor([0.5364]), tensor([0.4900]))\n",
            "(tensor([0.4264]), tensor([0.3945]), tensor([0.4127]))\n",
            "(tensor([0.4180]), tensor([0.3716]), tensor([0.3969]))\n",
            "(tensor([0.3484]), tensor([0.3008]), tensor([0.3269]))\n",
            "(tensor([0.3388]), tensor([0.3664]), tensor([0.3551]))\n",
            "(tensor([0.5218]), tensor([0.4331]), tensor([0.4783]))\n",
            "(tensor([0.4069]), tensor([0.4066]), tensor([0.4091]))\n",
            "(tensor([0.4566]), tensor([0.3639]), tensor([0.4112]))\n",
            "(tensor([0.2052]), tensor([0.3666]), tensor([0.2840]))\n",
            "(tensor([0.4670]), tensor([0.4267]), tensor([0.4488]))\n",
            "(tensor([0.4099]), tensor([0.4002]), tensor([0.4074]))\n"
          ]
        }
      ]
    },
    {
      "cell_type": "code",
      "source": [
        "for i in dev:\n",
        "\n",
        "  matrix = []\n",
        "\n",
        "  for j in range(len(i['entity_a_summary'])-1):\n",
        "\n",
        "    scores = SCORER.score([i['entity_b_summary'][j]], [i['entity_b_summary'][j+1]])\n",
        "\n",
        "    print(scores)"
      ],
      "metadata": {
        "colab": {
          "base_uri": "https://localhost:8080/"
        },
        "id": "zfAlKOMN0lU_",
        "outputId": "193d2131-eb49-4fb2-bb1d-e64187716c27"
      },
      "execution_count": null,
      "outputs": [
        {
          "output_type": "stream",
          "name": "stdout",
          "text": [
            "(tensor([0.2437]), tensor([0.2230]), tensor([0.2364]))\n",
            "(tensor([0.3017]), tensor([0.2887]), tensor([0.2980]))\n",
            "(tensor([0.3269]), tensor([0.3137]), tensor([0.3230]))\n",
            "(tensor([0.3022]), tensor([0.2845]), tensor([0.2961]))\n",
            "(tensor([0.3834]), tensor([0.2915]), tensor([0.3387]))\n",
            "(tensor([0.2810]), tensor([0.3596]), tensor([0.3219]))\n",
            "(tensor([0.2742]), tensor([0.3199]), tensor([0.2995]))\n",
            "(tensor([0.4158]), tensor([0.4256]), tensor([0.4230]))\n",
            "(tensor([0.4079]), tensor([0.3416]), tensor([0.3765]))\n",
            "(tensor([0.3479]), tensor([0.3212]), tensor([0.3371]))\n",
            "(tensor([0.5234]), tensor([0.5482]), tensor([0.5376]))\n",
            "(tensor([0.5782]), tensor([0.5433]), tensor([0.5623]))\n",
            "(tensor([0.3938]), tensor([0.3557]), tensor([0.3770]))\n",
            "(tensor([0.3413]), tensor([0.3207]), tensor([0.3336]))\n",
            "(tensor([0.3837]), tensor([0.4094]), tensor([0.3989]))\n",
            "(tensor([0.4313]), tensor([0.4313]), tensor([0.4336]))\n",
            "(tensor([0.4181]), tensor([0.3135]), tensor([0.3664]))\n",
            "(tensor([0.3336]), tensor([0.3274]), tensor([0.3332]))\n",
            "(tensor([0.3830]), tensor([0.3900]), tensor([0.3889]))\n",
            "(tensor([0.4667]), tensor([0.4511]), tensor([0.4610]))\n"
          ]
        }
      ]
    },
    {
      "cell_type": "markdown",
      "metadata": {
        "id": "z2Mbf31K3M1J"
      },
      "source": [
        "# Dev BERTscore on contrastive summaries"
      ]
    },
    {
      "cell_type": "code",
      "execution_count": null,
      "metadata": {
        "colab": {
          "base_uri": "https://localhost:8080/"
        },
        "id": "86VNpeWZRk-8",
        "outputId": "2eb1e8c1-d24a-4564-ec7e-bc8edab221d3"
      },
      "outputs": [
        {
          "output_type": "stream",
          "name": "stdout",
          "text": [
            "(tensor([0.1910]), tensor([0.2082]), tensor([0.2027]))\n",
            "(tensor([0.2375]), tensor([0.1339]), tensor([0.1869]))\n",
            "(tensor([0.2278]), tensor([0.2232]), tensor([0.2286]))\n",
            "(tensor([0.2206]), tensor([0.2175]), tensor([0.2222]))\n",
            "(tensor([0.2464]), tensor([0.2384]), tensor([0.2454]))\n",
            "(tensor([0.2393]), tensor([0.2990]), tensor([0.2714]))\n",
            "(tensor([0.1593]), tensor([0.1758]), tensor([0.1708]))\n",
            "(tensor([0.2956]), tensor([0.2545]), tensor([0.2776]))\n",
            "(tensor([0.2376]), tensor([0.1571]), tensor([0.1993]))\n",
            "(tensor([0.2258]), tensor([0.2503]), tensor([0.2410]))\n",
            "\n",
            "\n",
            "[0.22808082 0.21577902 0.2245957 ]\n"
          ]
        }
      ],
      "source": [
        "matrix = []\n",
        "\n",
        "for i in dev:\n",
        "\n",
        "  ent_a = [\" \".join(i['entity_a_summary'])]\n",
        "  ent_b = [\" \". join(i['entity_b_summary'])]\n",
        "\n",
        "  scores = SCORER.score(ent_a, ent_b)\n",
        "\n",
        "  matrix.append([i.detach().numpy()[0] for i in scores])\n",
        "\n",
        "  print(scores)\n",
        "\n",
        "print('\\n')\n",
        "print(np.mean(matrix, axis = 0))"
      ]
    },
    {
      "cell_type": "code",
      "execution_count": null,
      "metadata": {
        "colab": {
          "base_uri": "https://localhost:8080/"
        },
        "id": "9P2mLHRwrNGd",
        "outputId": "d57c43ad-41e0-4d90-f8ef-ed5f7a3f1af4"
      },
      "outputs": [
        {
          "output_type": "stream",
          "name": "stdout",
          "text": [
            "[0.22584058 0.22435777 0.22738032]\n",
            "[0.32790336 0.24727774 0.28920972]\n",
            "[0.2491021  0.24407077 0.24949266]\n",
            "[0.24724782 0.25372034 0.25266013]\n",
            "[0.288537   0.26173154 0.2764436 ]\n",
            "[0.25386858 0.3159006  0.28692687]\n",
            "[0.20055248 0.22011745 0.21340156]\n",
            "[0.34415212 0.29303244 0.32051143]\n",
            "[0.3144218  0.2419573  0.27921635]\n",
            "[0.23526616 0.2811431  0.26052746]\n",
            "\n",
            "\n",
            "[0.26868922 0.2583309  0.265577  ]\n"
          ]
        }
      ],
      "source": [
        "total = []\n",
        "\n",
        "for i in dev:\n",
        "\n",
        "  matrix = []\n",
        "\n",
        "  for j in range(len(i['entity_a_summary'])):\n",
        "\n",
        "    scores = SCORER.score([i['entity_a_summary'][j]], [i['entity_b_summary'][j]])\n",
        "\n",
        "    # print([i.detach().numpy()[0] for i in scores])\n",
        "\n",
        "    matrix.append([i.detach().numpy()[0] for i in scores])\n",
        "\n",
        "  print(np.mean(matrix, axis = 0))\n",
        "\n",
        "  total.append(np.mean(matrix, axis = 0))\n",
        "\n",
        "print('\\n')\n",
        "print(np.mean(total, axis = 0))\n"
      ]
    },
    {
      "cell_type": "markdown",
      "metadata": {
        "id": "FiIaN7y-3S_J"
      },
      "source": [
        "# Dev BERTScore on contrastive and common summaries"
      ]
    },
    {
      "cell_type": "code",
      "execution_count": null,
      "metadata": {
        "colab": {
          "base_uri": "https://localhost:8080/"
        },
        "id": "kafH99MD3R8Z",
        "outputId": "ed117089-f822-4786-906c-b1c0cc419baf"
      },
      "outputs": [
        {
          "output_type": "stream",
          "name": "stdout",
          "text": [
            "(tensor([0.0185]), tensor([0.3160]), tensor([0.1527]))\n",
            "(tensor([0.1208]), tensor([0.1668]), tensor([0.1468]))\n",
            "(tensor([-0.0991]), tensor([0.1991]), tensor([0.0340]))\n",
            "(tensor([0.0567]), tensor([0.2388]), tensor([0.1444]))\n",
            "(tensor([0.0756]), tensor([0.3390]), tensor([0.1969]))\n",
            "(tensor([0.1624]), tensor([0.3890]), tensor([0.2691]))\n",
            "(tensor([-0.0144]), tensor([0.1925]), tensor([0.0835]))\n",
            "(tensor([-0.0797]), tensor([0.2819]), tensor([0.0768]))\n",
            "(tensor([0.1293]), tensor([0.2220]), tensor([0.1772]))\n",
            "(tensor([-0.0071]), tensor([0.2205]), tensor([0.0993]))\n",
            "\n",
            "\n",
            "[0.0363     0.25656748 0.13808215]\n"
          ]
        }
      ],
      "source": [
        "matrix = []\n",
        "\n",
        "for i in dev:\n",
        "\n",
        "  ent_a = [\" \".join(i['entity_a_summary'])]\n",
        "  comm = [\" \". join(i['common_summary'])]\n",
        "\n",
        "  scores = SCORER.score(ent_a, comm)\n",
        "\n",
        "  matrix.append([i.detach().numpy()[0] for i in scores])\n",
        "\n",
        "  print(scores)\n",
        "\n",
        "print('\\n')\n",
        "print(np.mean(matrix, axis = 0))\n"
      ]
    },
    {
      "cell_type": "code",
      "source": [
        "total = []\n",
        "\n",
        "for i in dev:\n",
        "\n",
        "  matrix = []\n",
        "\n",
        "  for j in range(len(i['entity_a_summary'])):\n",
        "\n",
        "    scores = SCORER.score([i['entity_a_summary'][j]], [i['common_summary'][j]])\n",
        "\n",
        "    # print([i.detach().numpy()[0] for i in scores])\n",
        "\n",
        "    matrix.append([i.detach().numpy()[0] for i in scores])\n",
        "\n",
        "  print(np.mean(matrix, axis = 0))\n",
        "\n",
        "  total.append(np.mean(matrix, axis = 0))\n",
        "\n",
        "print('\\n')\n",
        "print(np.mean(total, axis = 0))\n"
      ],
      "metadata": {
        "colab": {
          "base_uri": "https://localhost:8080/"
        },
        "id": "ROYxRh4SiUDh",
        "outputId": "caf5f665-2526-44e8-d0b8-18c407689a58"
      },
      "execution_count": null,
      "outputs": [
        {
          "output_type": "stream",
          "name": "stdout",
          "text": [
            "[0.08670902 0.44160867 0.2430046 ]\n",
            "[0.22087598 0.24860348 0.23763166]\n",
            "[0.03465864 0.42027164 0.20131934]\n",
            "[0.09991661 0.34383142 0.21125372]\n",
            "[0.1183707  0.4310118  0.25943246]\n",
            "[0.21233265 0.46943477 0.33173963]\n",
            "[0.09489763 0.35610405 0.21544631]\n",
            "[0.04836041 0.39026454 0.1988622 ]\n",
            "[0.2060671  0.28721383 0.24772048]\n",
            "[0.08355713 0.36677337 0.21237384]\n",
            "\n",
            "\n",
            "[0.12057459 0.37551177 0.23587842]\n"
          ]
        }
      ]
    },
    {
      "cell_type": "code",
      "execution_count": null,
      "metadata": {
        "colab": {
          "base_uri": "https://localhost:8080/"
        },
        "id": "yJwasmLD3iJ5",
        "outputId": "dbd7779f-a019-429a-82b2-475ec977ff8b"
      },
      "outputs": [
        {
          "output_type": "stream",
          "name": "stdout",
          "text": [
            "(tensor([-0.0153]), tensor([0.2761]), tensor([0.1162]))\n",
            "(tensor([0.0635]), tensor([0.1798]), tensor([0.1224]))\n",
            "(tensor([-0.0522]), tensor([0.2693]), tensor([0.0903]))\n",
            "(tensor([0.0642]), tensor([0.2646]), tensor([0.1596]))\n",
            "(tensor([-0.0132]), tensor([0.2790]), tensor([0.1186]))\n",
            "(tensor([0.2135]), tensor([0.3873]), tensor([0.2977]))\n",
            "(tensor([0.0587]), tensor([0.2868]), tensor([0.1656]))\n",
            "(tensor([-0.0972]), tensor([0.2128]), tensor([0.0404]))\n",
            "(tensor([0.1035]), tensor([0.2978]), tensor([0.1964]))\n",
            "(tensor([0.0115]), tensor([0.1994]), tensor([0.1016]))\n",
            "\n",
            "\n",
            "[0.03371315 0.2652931  0.1408825 ]\n"
          ]
        }
      ],
      "source": [
        "matrix = []\n",
        "\n",
        "for i in dev:\n",
        "\n",
        "  ent_b = [\" \".join(i['entity_b_summary'])]\n",
        "  comm = [\" \". join(i['common_summary'])]\n",
        "\n",
        "  scores = SCORER.score(ent_b, comm)\n",
        "\n",
        "  matrix.append([i.detach().numpy()[0] for i in scores])\n",
        "\n",
        "  print(scores)\n",
        "\n",
        "print('\\n')\n",
        "print(np.mean(matrix, axis = 0))\n"
      ]
    },
    {
      "cell_type": "code",
      "source": [
        "total = []\n",
        "\n",
        "for i in dev:\n",
        "\n",
        "  matrix = []\n",
        "\n",
        "  for j in range(len(i['entity_b_summary'])):\n",
        "\n",
        "    scores = SCORER.score([i['entity_b_summary'][j]], [i['common_summary'][j]])\n",
        "\n",
        "    matrix.append([i.detach().numpy()[0] for i in scores])\n",
        "\n",
        "  print(np.mean(matrix, axis = 0))\n",
        "\n",
        "  total.append(np.mean(matrix, axis = 0))\n",
        "\n",
        "print('\\n')\n",
        "print(np.mean(total, axis = 0))"
      ],
      "metadata": {
        "colab": {
          "base_uri": "https://localhost:8080/"
        },
        "id": "u3NDeLsqieg5",
        "outputId": "08c1ed03-97d9-440f-9a63-ef9abc929107"
      },
      "execution_count": null,
      "outputs": [
        {
          "output_type": "stream",
          "name": "stdout",
          "text": [
            "[0.05969964 0.35059762 0.19050808]\n",
            "[0.15674217 0.2675501  0.21285327]\n",
            "[0.07549372 0.5072181  0.2599982 ]\n",
            "[0.15160638 0.40778878 0.26975062]\n",
            "[0.0528021  0.34465727 0.18339439]\n",
            "[0.25067356 0.4542259  0.34768823]\n",
            "[0.15285839 0.41690525 0.27447072]\n",
            "[0.02123119 0.41383573 0.19019705]\n",
            "[0.191275   0.37345123 0.27774474]\n",
            "[0.10493366 0.35554162 0.22126438]\n",
            "\n",
            "\n",
            "[0.12173158 0.38917717 0.24278696]\n"
          ]
        }
      ]
    },
    {
      "cell_type": "markdown",
      "metadata": {
        "id": "5haAk_iX3wLW"
      },
      "source": [
        "#Test BERTScore on contrastive summaries"
      ]
    },
    {
      "cell_type": "code",
      "execution_count": null,
      "metadata": {
        "colab": {
          "base_uri": "https://localhost:8080/"
        },
        "id": "Nv8FofaVpk7W",
        "outputId": "b979eaf0-4a88-40af-d0fe-099d3bc2ec6a"
      },
      "outputs": [
        {
          "output_type": "stream",
          "name": "stdout",
          "text": [
            "(tensor([0.2690]), tensor([0.2404]), tensor([0.2576]))\n",
            "(tensor([0.2065]), tensor([0.2476]), tensor([0.2298]))\n",
            "(tensor([0.2591]), tensor([0.2397]), tensor([0.2523]))\n",
            "(tensor([0.2316]), tensor([0.2202]), tensor([0.2290]))\n",
            "(tensor([0.1972]), tensor([0.1312]), tensor([0.1667]))\n",
            "(tensor([0.2349]), tensor([0.2236]), tensor([0.2323]))\n",
            "(tensor([0.2594]), tensor([0.2242]), tensor([0.2446]))\n",
            "(tensor([0.2319]), tensor([0.2365]), tensor([0.2373]))\n",
            "(tensor([0.2031]), tensor([0.2697]), tensor([0.2386]))\n",
            "(tensor([0.2905]), tensor([0.2454]), tensor([0.2705]))\n",
            "(tensor([0.2180]), tensor([0.2374]), tensor([0.2307]))\n",
            "(tensor([0.2088]), tensor([0.1974]), tensor([0.2063]))\n",
            "(tensor([0.1936]), tensor([0.2185]), tensor([0.2091]))\n",
            "(tensor([0.2844]), tensor([0.2000]), tensor([0.2439]))\n",
            "(tensor([0.2322]), tensor([0.2626]), tensor([0.2503]))\n",
            "(tensor([0.1970]), tensor([0.2292]), tensor([0.2160]))\n",
            "(tensor([0.2471]), tensor([0.2203]), tensor([0.2366]))\n",
            "(tensor([0.2645]), tensor([0.2555]), tensor([0.2630]))\n",
            "\n",
            "\n",
            "[0.2349359  0.22773105 0.23414284]\n"
          ]
        }
      ],
      "source": [
        "matrix = []\n",
        "\n",
        "for i in test:\n",
        "\n",
        "  ent_a = [\" \".join(i['entity_a_summary'])]\n",
        "  ent_b = [\" \". join(i['entity_b_summary'])]\n",
        "\n",
        "  scores = SCORER.score(ent_a, ent_b)\n",
        "  matrix.append([i.detach().numpy()[0] for i in scores])\n",
        "\n",
        "  print(scores)\n",
        "\n",
        "print('\\n')\n",
        "print(np.mean(matrix, axis = 0))"
      ]
    },
    {
      "cell_type": "code",
      "execution_count": null,
      "metadata": {
        "colab": {
          "base_uri": "https://localhost:8080/"
        },
        "id": "p6ykocq516jI",
        "outputId": "0e2c3641-5154-4b52-f290-ed074cfc2c18"
      },
      "outputs": [
        {
          "output_type": "stream",
          "name": "stdout",
          "text": [
            "[0.2994331  0.29057434 0.29695532]\n",
            "[0.22842397 0.32763448 0.2783643 ]\n",
            "[0.28987142 0.2750453  0.28527793]\n",
            "[0.22617643 0.24031554 0.23580773]\n",
            "[0.20132548 0.16603999 0.18574071]\n",
            "[0.2542734  0.25195315 0.2559809 ]\n",
            "[0.28450596 0.25478828 0.2722931 ]\n",
            "[0.253826   0.24112563 0.24993479]\n",
            "[0.20231552 0.27263162 0.23956156]\n",
            "[0.32528967 0.2731913  0.300331  ]\n",
            "[0.23101223 0.27146053 0.25390926]\n",
            "[0.26353323 0.22689004 0.24782239]\n",
            "[0.23776382 0.3203238  0.2805014 ]\n",
            "[0.31828275 0.25197896 0.28657106]\n",
            "[0.25125757 0.32595226 0.2898148 ]\n",
            "[0.24382973 0.26654756 0.25790855]\n",
            "[0.26357016 0.25563022 0.26252148]\n",
            "[0.3093826  0.27602792 0.29488304]\n",
            "\n",
            "\n",
            "[0.2602263  0.26600614 0.26523218]\n"
          ]
        }
      ],
      "source": [
        "total = []\n",
        "\n",
        "for i in test:\n",
        "\n",
        "  matrix = []\n",
        "\n",
        "  for j in range(len(i['entity_a_summary'])):\n",
        "\n",
        "    scores = SCORER.score([i['entity_a_summary'][j]], [i['entity_b_summary'][j]])\n",
        "\n",
        "    # print([i.detach().numpy()[0] for i in scores])\n",
        "\n",
        "    matrix.append([i.detach().numpy()[0] for i in scores])\n",
        "\n",
        "  print(np.mean(matrix, axis = 0))\n",
        "\n",
        "  total.append(np.mean(matrix, axis = 0))\n",
        "\n",
        "print('\\n')\n",
        "print(np.mean(total, axis = 0))\n"
      ]
    },
    {
      "cell_type": "markdown",
      "metadata": {
        "id": "iTnRDp-L32RP"
      },
      "source": [
        "# Test BERTScore on contrastive and commmon"
      ]
    },
    {
      "cell_type": "code",
      "execution_count": null,
      "metadata": {
        "colab": {
          "base_uri": "https://localhost:8080/"
        },
        "id": "GSaEQNBl4Abq",
        "outputId": "aec0b6e1-07ff-48e6-a0ca-a3ce35a4cabb"
      },
      "outputs": [
        {
          "output_type": "stream",
          "name": "stdout",
          "text": [
            "(tensor([0.0448]), tensor([0.2717]), tensor([0.1511]))\n",
            "(tensor([-0.2079]), tensor([0.1328]), tensor([-0.0615]))\n",
            "(tensor([0.0665]), tensor([0.3248]), tensor([0.1857]))\n",
            "(tensor([-0.1460]), tensor([0.1651]), tensor([-0.0089]))\n",
            "(tensor([0.1471]), tensor([0.2656]), tensor([0.2068]))\n",
            "(tensor([-0.3043]), tensor([0.2543]), tensor([-0.0954]))\n",
            "(tensor([-0.1673]), tensor([0.1901]), tensor([-0.0141]))\n",
            "(tensor([-0.0972]), tensor([0.1615]), tensor([0.0209]))\n",
            "(tensor([-0.0702]), tensor([0.2195]), tensor([0.0600]))\n",
            "(tensor([0.1446]), tensor([0.2121]), tensor([0.1807]))\n",
            "(tensor([0.0426]), tensor([0.2695]), tensor([0.1489]))\n",
            "(tensor([-0.0134]), tensor([0.2799]), tensor([0.1189]))\n",
            "(tensor([-0.1512]), tensor([0.1071]), tensor([-0.0338]))\n",
            "(tensor([0.0529]), tensor([0.2872]), tensor([0.1624]))\n",
            "(tensor([-0.1544]), tensor([0.2817]), tensor([0.0256]))\n",
            "(tensor([-0.0415]), tensor([0.3065]), tensor([0.1109]))\n",
            "(tensor([-0.2287]), tensor([0.1468]), tensor([-0.0709]))\n",
            "(tensor([-0.0627]), tensor([0.3906]), tensor([0.1257]))\n",
            "\n",
            "\n",
            "[-0.06368427  0.23704332  0.06740192]\n"
          ]
        }
      ],
      "source": [
        "matrix = []\n",
        "\n",
        "for i in test:\n",
        "\n",
        "  ent_a = [\" \".join(i['entity_a_summary'])]\n",
        "  comm = [\" \". join(i['common_summary'])]\n",
        "\n",
        "  scores = SCORER.score(ent_a, comm)\n",
        "  matrix.append([i.detach().numpy()[0] for i in scores])\n",
        "\n",
        "  print(scores)\n",
        "\n",
        "print('\\n')\n",
        "print(np.mean(matrix, axis = 0))"
      ]
    },
    {
      "cell_type": "code",
      "source": [
        "total = []\n",
        "\n",
        "for i in test:\n",
        "\n",
        "  matrix = []\n",
        "\n",
        "  for j in range(len(i['entity_a_summary'])):\n",
        "\n",
        "    scores = SCORER.score([i['entity_a_summary'][j]], [i['common_summary'][j]])\n",
        "\n",
        "    matrix.append([i.detach().numpy()[0] for i in scores])\n",
        "\n",
        "  print(np.mean(matrix, axis = 0))\n",
        "\n",
        "  total.append(np.mean(matrix, axis = 0))\n",
        "\n",
        "print('\\n')\n",
        "print(np.mean(total, axis = 0))"
      ],
      "metadata": {
        "id": "7O8n7rDTqnG_",
        "outputId": "97679b4e-5234-4dc5-e07a-b1ef44e06192",
        "colab": {
          "base_uri": "https://localhost:8080/"
        }
      },
      "execution_count": null,
      "outputs": [
        {
          "output_type": "stream",
          "name": "stdout",
          "text": [
            "[0.133578  0.4495139 0.2747922]\n",
            "[-0.07920736  0.31972095  0.09011476]\n",
            "[0.1750408  0.49649915 0.31992117]\n",
            "[-0.01509001  0.33719334  0.1391796 ]\n",
            "[0.18764438 0.34185052 0.26160356]\n",
            "[-0.18181801  0.44061065  0.05102593]\n",
            "[-0.03726581  0.36425635  0.13348338]\n",
            "[0.04568987 0.34426513 0.1801117 ]\n",
            "[0.00420204 0.44122064 0.18795805]\n",
            "[0.17985605 0.27024698 0.22646487]\n",
            "[0.0892334  0.36382428 0.21439451]\n",
            "[0.08422249 0.43627986 0.2394542 ]\n",
            "[-0.07477324  0.27682337  0.07823265]\n",
            "[0.12445273 0.48341975 0.28128454]\n",
            "[-0.03856296  0.38580725  0.14073132]\n",
            "[0.05935545 0.46674895 0.23394334]\n",
            "[-0.08776325  0.32103518  0.08432252]\n",
            "[0.03075231 0.51499796 0.23223068]\n",
            "\n",
            "\n",
            "[0.03330816 0.39190638 0.18718049]\n"
          ]
        }
      ]
    },
    {
      "cell_type": "code",
      "execution_count": null,
      "metadata": {
        "colab": {
          "base_uri": "https://localhost:8080/"
        },
        "id": "6PLQlFDd4Abu",
        "outputId": "baf7efdd-f0e7-46a9-a7e2-1781ccde1d58"
      },
      "outputs": [
        {
          "output_type": "stream",
          "name": "stdout",
          "text": [
            "(tensor([0.0346]), tensor([0.3382]), tensor([0.1713]))\n",
            "(tensor([-0.1417]), tensor([0.1703]), tensor([-0.0042]))\n",
            "(tensor([0.0198]), tensor([0.3114]), tensor([0.1518]))\n",
            "(tensor([-0.1193]), tensor([0.2267]), tensor([0.0310]))\n",
            "(tensor([0.0527]), tensor([0.2152]), tensor([0.1319]))\n",
            "(tensor([-0.2969]), tensor([0.0796]), tensor([-0.1410]))\n",
            "(tensor([-0.2012]), tensor([0.2000]), tensor([-0.0341]))\n",
            "(tensor([-0.0517]), tensor([0.2066]), tensor([0.0666]))\n",
            "(tensor([0.0505]), tensor([0.3270]), tensor([0.1768]))\n",
            "(tensor([0.1441]), tensor([0.2703]), tensor([0.2073]))\n",
            "(tensor([0.0561]), tensor([0.2601]), tensor([0.1530]))\n",
            "(tensor([-0.0308]), tensor([0.2723]), tensor([0.1050]))\n",
            "(tensor([-0.1224]), tensor([0.1197]), tensor([-0.0110]))\n",
            "(tensor([-0.0144]), tensor([0.2789]), tensor([0.1179]))\n",
            "(tensor([-0.0647]), tensor([0.2693]), tensor([0.0822]))\n",
            "(tensor([0.0047]), tensor([0.2722]), tensor([0.1272]))\n",
            "(tensor([-0.2275]), tensor([0.1935]), tensor([-0.0549]))\n",
            "(tensor([-0.1557]), tensor([0.2964]), tensor([0.0294]))\n",
            "\n",
            "\n",
            "[-0.05910511  0.2393225   0.07256602]\n"
          ]
        }
      ],
      "source": [
        "matrix = []\n",
        "\n",
        "for i in test:\n",
        "\n",
        "  ent_b = [\" \".join(i['entity_b_summary'])]\n",
        "  comm = [\" \". join(i['common_summary'])]\n",
        "\n",
        "  scores = SCORER.score(ent_b, comm)\n",
        "  matrix.append([i.detach().numpy()[0] for i in scores])\n",
        "\n",
        "  print(scores)\n",
        "\n",
        "print('\\n')\n",
        "print(np.mean(matrix, axis = 0))"
      ]
    },
    {
      "cell_type": "code",
      "source": [
        "total = []\n",
        "\n",
        "for i in test:\n",
        "\n",
        "  matrix = []\n",
        "\n",
        "  for j in range(len(i['entity_b_summary'])):\n",
        "\n",
        "    scores = SCORER.score([i['entity_b_summary'][j]], [i['common_summary'][j]])\n",
        "\n",
        "    matrix.append([i.detach().numpy()[0] for i in scores])\n",
        "\n",
        "  print(np.mean(matrix, axis = 0))\n",
        "\n",
        "  total.append(np.mean(matrix, axis = 0))\n",
        "\n",
        "print('\\n')\n",
        "print(np.mean(total, axis = 0))"
      ],
      "metadata": {
        "colab": {
          "base_uri": "https://localhost:8080/"
        },
        "id": "xJszHFHsqbBF",
        "outputId": "8dd4c077-a508-46ba-f9c0-7a66a4be4e9b"
      },
      "execution_count": null,
      "outputs": [
        {
          "output_type": "stream",
          "name": "stdout",
          "text": [
            "[0.14609236 0.49030957 0.2992694 ]\n",
            "[0.01670466 0.39379275 0.17970274]\n",
            "[0.13882138 0.4707928  0.28743494]\n",
            "[-0.00474281  0.39072275  0.16510369]\n",
            "[0.12656295 0.2636046  0.19452198]\n",
            "[-0.17774057  0.3078008   0.01535079]\n",
            "[-0.04711453  0.4643116   0.15938051]\n",
            "[0.06888772 0.3544548  0.19781451]\n",
            "[0.11718401 0.52521604 0.29296872]\n",
            "[0.17151116 0.29632172 0.23313256]\n",
            "[0.14960913 0.36036694 0.24952114]\n",
            "[0.07376062 0.40704992 0.2222455 ]\n",
            "[-0.02808152  0.2662405   0.10416243]\n",
            "[0.06380589 0.45666942 0.22961998]\n",
            "[0.03846977 0.4000272  0.1958168 ]\n",
            "[0.0963643  0.5133232  0.27401266]\n",
            "[-0.09545127  0.34210345  0.08631491]\n",
            "[-0.01921845  0.46820998  0.1807934 ]\n",
            "\n",
            "\n",
            "[0.04641249 0.39840657 0.1981759 ]\n"
          ]
        }
      ]
    },
    {
      "cell_type": "code",
      "execution_count": null,
      "metadata": {
        "id": "lg_NJ9HkzDDo"
      },
      "outputs": [],
      "source": [
        "from bert_score import plot_example\n",
        "\n",
        "\n",
        "plot_example(dev[0]['entity_b_summary'][0],dev[0]['entity_b_summary'][1], model_type=\"microsoft/deberta-xlarge-mnli\",rescale_with_baseline = True, lang=\"en\")"
      ]
    }
  ],
  "metadata": {
    "accelerator": "GPU",
    "colab": {
      "provenance": []
    },
    "gpuClass": "standard",
    "kernelspec": {
      "display_name": "Python 3",
      "name": "python3"
    },
    "language_info": {
      "name": "python"
    },
    "widgets": {
      "application/vnd.jupyter.widget-state+json": {
        "9c463cc2922b4e4dbacc772c7b94afe4": {
          "model_module": "@jupyter-widgets/controls",
          "model_name": "HBoxModel",
          "model_module_version": "1.5.0",
          "state": {
            "_dom_classes": [],
            "_model_module": "@jupyter-widgets/controls",
            "_model_module_version": "1.5.0",
            "_model_name": "HBoxModel",
            "_view_count": null,
            "_view_module": "@jupyter-widgets/controls",
            "_view_module_version": "1.5.0",
            "_view_name": "HBoxView",
            "box_style": "",
            "children": [
              "IPY_MODEL_b063a52ef7f4442f87168f60236b50b1",
              "IPY_MODEL_4f487276e7a048bfb63683b27839a319",
              "IPY_MODEL_0c8865d839e3400b9eb01f606399882f"
            ],
            "layout": "IPY_MODEL_fb98b6744b3545df8f51b2c58393fcfc"
          }
        },
        "b063a52ef7f4442f87168f60236b50b1": {
          "model_module": "@jupyter-widgets/controls",
          "model_name": "HTMLModel",
          "model_module_version": "1.5.0",
          "state": {
            "_dom_classes": [],
            "_model_module": "@jupyter-widgets/controls",
            "_model_module_version": "1.5.0",
            "_model_name": "HTMLModel",
            "_view_count": null,
            "_view_module": "@jupyter-widgets/controls",
            "_view_module_version": "1.5.0",
            "_view_name": "HTMLView",
            "description": "",
            "description_tooltip": null,
            "layout": "IPY_MODEL_1cf1711d44bd44eba6c5fc3a01f8657a",
            "placeholder": "​",
            "style": "IPY_MODEL_c2b4c5aedf6b4f6a9c60a9da8e3846d9",
            "value": "Downloading (…)okenizer_config.json: 100%"
          }
        },
        "4f487276e7a048bfb63683b27839a319": {
          "model_module": "@jupyter-widgets/controls",
          "model_name": "FloatProgressModel",
          "model_module_version": "1.5.0",
          "state": {
            "_dom_classes": [],
            "_model_module": "@jupyter-widgets/controls",
            "_model_module_version": "1.5.0",
            "_model_name": "FloatProgressModel",
            "_view_count": null,
            "_view_module": "@jupyter-widgets/controls",
            "_view_module_version": "1.5.0",
            "_view_name": "ProgressView",
            "bar_style": "success",
            "description": "",
            "description_tooltip": null,
            "layout": "IPY_MODEL_e1340cf3b66a448eb00bffd29fc8baee",
            "max": 52,
            "min": 0,
            "orientation": "horizontal",
            "style": "IPY_MODEL_66fe2c46b24b41c69152d950e404ad6f",
            "value": 52
          }
        },
        "0c8865d839e3400b9eb01f606399882f": {
          "model_module": "@jupyter-widgets/controls",
          "model_name": "HTMLModel",
          "model_module_version": "1.5.0",
          "state": {
            "_dom_classes": [],
            "_model_module": "@jupyter-widgets/controls",
            "_model_module_version": "1.5.0",
            "_model_name": "HTMLModel",
            "_view_count": null,
            "_view_module": "@jupyter-widgets/controls",
            "_view_module_version": "1.5.0",
            "_view_name": "HTMLView",
            "description": "",
            "description_tooltip": null,
            "layout": "IPY_MODEL_1169c847b2e849e5ab8b1638c3720774",
            "placeholder": "​",
            "style": "IPY_MODEL_654608ee446a41f6974c4b6ee365280b",
            "value": " 52.0/52.0 [00:00&lt;00:00, 1.20kB/s]"
          }
        },
        "fb98b6744b3545df8f51b2c58393fcfc": {
          "model_module": "@jupyter-widgets/base",
          "model_name": "LayoutModel",
          "model_module_version": "1.2.0",
          "state": {
            "_model_module": "@jupyter-widgets/base",
            "_model_module_version": "1.2.0",
            "_model_name": "LayoutModel",
            "_view_count": null,
            "_view_module": "@jupyter-widgets/base",
            "_view_module_version": "1.2.0",
            "_view_name": "LayoutView",
            "align_content": null,
            "align_items": null,
            "align_self": null,
            "border": null,
            "bottom": null,
            "display": null,
            "flex": null,
            "flex_flow": null,
            "grid_area": null,
            "grid_auto_columns": null,
            "grid_auto_flow": null,
            "grid_auto_rows": null,
            "grid_column": null,
            "grid_gap": null,
            "grid_row": null,
            "grid_template_areas": null,
            "grid_template_columns": null,
            "grid_template_rows": null,
            "height": null,
            "justify_content": null,
            "justify_items": null,
            "left": null,
            "margin": null,
            "max_height": null,
            "max_width": null,
            "min_height": null,
            "min_width": null,
            "object_fit": null,
            "object_position": null,
            "order": null,
            "overflow": null,
            "overflow_x": null,
            "overflow_y": null,
            "padding": null,
            "right": null,
            "top": null,
            "visibility": null,
            "width": null
          }
        },
        "1cf1711d44bd44eba6c5fc3a01f8657a": {
          "model_module": "@jupyter-widgets/base",
          "model_name": "LayoutModel",
          "model_module_version": "1.2.0",
          "state": {
            "_model_module": "@jupyter-widgets/base",
            "_model_module_version": "1.2.0",
            "_model_name": "LayoutModel",
            "_view_count": null,
            "_view_module": "@jupyter-widgets/base",
            "_view_module_version": "1.2.0",
            "_view_name": "LayoutView",
            "align_content": null,
            "align_items": null,
            "align_self": null,
            "border": null,
            "bottom": null,
            "display": null,
            "flex": null,
            "flex_flow": null,
            "grid_area": null,
            "grid_auto_columns": null,
            "grid_auto_flow": null,
            "grid_auto_rows": null,
            "grid_column": null,
            "grid_gap": null,
            "grid_row": null,
            "grid_template_areas": null,
            "grid_template_columns": null,
            "grid_template_rows": null,
            "height": null,
            "justify_content": null,
            "justify_items": null,
            "left": null,
            "margin": null,
            "max_height": null,
            "max_width": null,
            "min_height": null,
            "min_width": null,
            "object_fit": null,
            "object_position": null,
            "order": null,
            "overflow": null,
            "overflow_x": null,
            "overflow_y": null,
            "padding": null,
            "right": null,
            "top": null,
            "visibility": null,
            "width": null
          }
        },
        "c2b4c5aedf6b4f6a9c60a9da8e3846d9": {
          "model_module": "@jupyter-widgets/controls",
          "model_name": "DescriptionStyleModel",
          "model_module_version": "1.5.0",
          "state": {
            "_model_module": "@jupyter-widgets/controls",
            "_model_module_version": "1.5.0",
            "_model_name": "DescriptionStyleModel",
            "_view_count": null,
            "_view_module": "@jupyter-widgets/base",
            "_view_module_version": "1.2.0",
            "_view_name": "StyleView",
            "description_width": ""
          }
        },
        "e1340cf3b66a448eb00bffd29fc8baee": {
          "model_module": "@jupyter-widgets/base",
          "model_name": "LayoutModel",
          "model_module_version": "1.2.0",
          "state": {
            "_model_module": "@jupyter-widgets/base",
            "_model_module_version": "1.2.0",
            "_model_name": "LayoutModel",
            "_view_count": null,
            "_view_module": "@jupyter-widgets/base",
            "_view_module_version": "1.2.0",
            "_view_name": "LayoutView",
            "align_content": null,
            "align_items": null,
            "align_self": null,
            "border": null,
            "bottom": null,
            "display": null,
            "flex": null,
            "flex_flow": null,
            "grid_area": null,
            "grid_auto_columns": null,
            "grid_auto_flow": null,
            "grid_auto_rows": null,
            "grid_column": null,
            "grid_gap": null,
            "grid_row": null,
            "grid_template_areas": null,
            "grid_template_columns": null,
            "grid_template_rows": null,
            "height": null,
            "justify_content": null,
            "justify_items": null,
            "left": null,
            "margin": null,
            "max_height": null,
            "max_width": null,
            "min_height": null,
            "min_width": null,
            "object_fit": null,
            "object_position": null,
            "order": null,
            "overflow": null,
            "overflow_x": null,
            "overflow_y": null,
            "padding": null,
            "right": null,
            "top": null,
            "visibility": null,
            "width": null
          }
        },
        "66fe2c46b24b41c69152d950e404ad6f": {
          "model_module": "@jupyter-widgets/controls",
          "model_name": "ProgressStyleModel",
          "model_module_version": "1.5.0",
          "state": {
            "_model_module": "@jupyter-widgets/controls",
            "_model_module_version": "1.5.0",
            "_model_name": "ProgressStyleModel",
            "_view_count": null,
            "_view_module": "@jupyter-widgets/base",
            "_view_module_version": "1.2.0",
            "_view_name": "StyleView",
            "bar_color": null,
            "description_width": ""
          }
        },
        "1169c847b2e849e5ab8b1638c3720774": {
          "model_module": "@jupyter-widgets/base",
          "model_name": "LayoutModel",
          "model_module_version": "1.2.0",
          "state": {
            "_model_module": "@jupyter-widgets/base",
            "_model_module_version": "1.2.0",
            "_model_name": "LayoutModel",
            "_view_count": null,
            "_view_module": "@jupyter-widgets/base",
            "_view_module_version": "1.2.0",
            "_view_name": "LayoutView",
            "align_content": null,
            "align_items": null,
            "align_self": null,
            "border": null,
            "bottom": null,
            "display": null,
            "flex": null,
            "flex_flow": null,
            "grid_area": null,
            "grid_auto_columns": null,
            "grid_auto_flow": null,
            "grid_auto_rows": null,
            "grid_column": null,
            "grid_gap": null,
            "grid_row": null,
            "grid_template_areas": null,
            "grid_template_columns": null,
            "grid_template_rows": null,
            "height": null,
            "justify_content": null,
            "justify_items": null,
            "left": null,
            "margin": null,
            "max_height": null,
            "max_width": null,
            "min_height": null,
            "min_width": null,
            "object_fit": null,
            "object_position": null,
            "order": null,
            "overflow": null,
            "overflow_x": null,
            "overflow_y": null,
            "padding": null,
            "right": null,
            "top": null,
            "visibility": null,
            "width": null
          }
        },
        "654608ee446a41f6974c4b6ee365280b": {
          "model_module": "@jupyter-widgets/controls",
          "model_name": "DescriptionStyleModel",
          "model_module_version": "1.5.0",
          "state": {
            "_model_module": "@jupyter-widgets/controls",
            "_model_module_version": "1.5.0",
            "_model_name": "DescriptionStyleModel",
            "_view_count": null,
            "_view_module": "@jupyter-widgets/base",
            "_view_module_version": "1.2.0",
            "_view_name": "StyleView",
            "description_width": ""
          }
        },
        "5596c52bcd844cd5ad9bc7ff47a4e6ba": {
          "model_module": "@jupyter-widgets/controls",
          "model_name": "HBoxModel",
          "model_module_version": "1.5.0",
          "state": {
            "_dom_classes": [],
            "_model_module": "@jupyter-widgets/controls",
            "_model_module_version": "1.5.0",
            "_model_name": "HBoxModel",
            "_view_count": null,
            "_view_module": "@jupyter-widgets/controls",
            "_view_module_version": "1.5.0",
            "_view_name": "HBoxView",
            "box_style": "",
            "children": [
              "IPY_MODEL_399faf505d32428d8d726e30893c5ed1",
              "IPY_MODEL_47f29c1655c748b2936a8b5b644a259d",
              "IPY_MODEL_43dc1cb369e4479ca11218fda5e0a850"
            ],
            "layout": "IPY_MODEL_5f381973d937425f847010d89d76a16b"
          }
        },
        "399faf505d32428d8d726e30893c5ed1": {
          "model_module": "@jupyter-widgets/controls",
          "model_name": "HTMLModel",
          "model_module_version": "1.5.0",
          "state": {
            "_dom_classes": [],
            "_model_module": "@jupyter-widgets/controls",
            "_model_module_version": "1.5.0",
            "_model_name": "HTMLModel",
            "_view_count": null,
            "_view_module": "@jupyter-widgets/controls",
            "_view_module_version": "1.5.0",
            "_view_name": "HTMLView",
            "description": "",
            "description_tooltip": null,
            "layout": "IPY_MODEL_d112f14f11f94bb7a57ed26aebc4f8a5",
            "placeholder": "​",
            "style": "IPY_MODEL_04eede43d20c443bbe467d656802abfe",
            "value": "Downloading (…)lve/main/config.json: 100%"
          }
        },
        "47f29c1655c748b2936a8b5b644a259d": {
          "model_module": "@jupyter-widgets/controls",
          "model_name": "FloatProgressModel",
          "model_module_version": "1.5.0",
          "state": {
            "_dom_classes": [],
            "_model_module": "@jupyter-widgets/controls",
            "_model_module_version": "1.5.0",
            "_model_name": "FloatProgressModel",
            "_view_count": null,
            "_view_module": "@jupyter-widgets/controls",
            "_view_module_version": "1.5.0",
            "_view_name": "ProgressView",
            "bar_style": "success",
            "description": "",
            "description_tooltip": null,
            "layout": "IPY_MODEL_7911da65fd784624858b201f34b791b7",
            "max": 792,
            "min": 0,
            "orientation": "horizontal",
            "style": "IPY_MODEL_0e4efaf8643a42ea97e15da934639703",
            "value": 792
          }
        },
        "43dc1cb369e4479ca11218fda5e0a850": {
          "model_module": "@jupyter-widgets/controls",
          "model_name": "HTMLModel",
          "model_module_version": "1.5.0",
          "state": {
            "_dom_classes": [],
            "_model_module": "@jupyter-widgets/controls",
            "_model_module_version": "1.5.0",
            "_model_name": "HTMLModel",
            "_view_count": null,
            "_view_module": "@jupyter-widgets/controls",
            "_view_module_version": "1.5.0",
            "_view_name": "HTMLView",
            "description": "",
            "description_tooltip": null,
            "layout": "IPY_MODEL_45693a05676e466aa08762730d583172",
            "placeholder": "​",
            "style": "IPY_MODEL_0138f52df77c4ccdaae51d5718e13c28",
            "value": " 792/792 [00:00&lt;00:00, 24.9kB/s]"
          }
        },
        "5f381973d937425f847010d89d76a16b": {
          "model_module": "@jupyter-widgets/base",
          "model_name": "LayoutModel",
          "model_module_version": "1.2.0",
          "state": {
            "_model_module": "@jupyter-widgets/base",
            "_model_module_version": "1.2.0",
            "_model_name": "LayoutModel",
            "_view_count": null,
            "_view_module": "@jupyter-widgets/base",
            "_view_module_version": "1.2.0",
            "_view_name": "LayoutView",
            "align_content": null,
            "align_items": null,
            "align_self": null,
            "border": null,
            "bottom": null,
            "display": null,
            "flex": null,
            "flex_flow": null,
            "grid_area": null,
            "grid_auto_columns": null,
            "grid_auto_flow": null,
            "grid_auto_rows": null,
            "grid_column": null,
            "grid_gap": null,
            "grid_row": null,
            "grid_template_areas": null,
            "grid_template_columns": null,
            "grid_template_rows": null,
            "height": null,
            "justify_content": null,
            "justify_items": null,
            "left": null,
            "margin": null,
            "max_height": null,
            "max_width": null,
            "min_height": null,
            "min_width": null,
            "object_fit": null,
            "object_position": null,
            "order": null,
            "overflow": null,
            "overflow_x": null,
            "overflow_y": null,
            "padding": null,
            "right": null,
            "top": null,
            "visibility": null,
            "width": null
          }
        },
        "d112f14f11f94bb7a57ed26aebc4f8a5": {
          "model_module": "@jupyter-widgets/base",
          "model_name": "LayoutModel",
          "model_module_version": "1.2.0",
          "state": {
            "_model_module": "@jupyter-widgets/base",
            "_model_module_version": "1.2.0",
            "_model_name": "LayoutModel",
            "_view_count": null,
            "_view_module": "@jupyter-widgets/base",
            "_view_module_version": "1.2.0",
            "_view_name": "LayoutView",
            "align_content": null,
            "align_items": null,
            "align_self": null,
            "border": null,
            "bottom": null,
            "display": null,
            "flex": null,
            "flex_flow": null,
            "grid_area": null,
            "grid_auto_columns": null,
            "grid_auto_flow": null,
            "grid_auto_rows": null,
            "grid_column": null,
            "grid_gap": null,
            "grid_row": null,
            "grid_template_areas": null,
            "grid_template_columns": null,
            "grid_template_rows": null,
            "height": null,
            "justify_content": null,
            "justify_items": null,
            "left": null,
            "margin": null,
            "max_height": null,
            "max_width": null,
            "min_height": null,
            "min_width": null,
            "object_fit": null,
            "object_position": null,
            "order": null,
            "overflow": null,
            "overflow_x": null,
            "overflow_y": null,
            "padding": null,
            "right": null,
            "top": null,
            "visibility": null,
            "width": null
          }
        },
        "04eede43d20c443bbe467d656802abfe": {
          "model_module": "@jupyter-widgets/controls",
          "model_name": "DescriptionStyleModel",
          "model_module_version": "1.5.0",
          "state": {
            "_model_module": "@jupyter-widgets/controls",
            "_model_module_version": "1.5.0",
            "_model_name": "DescriptionStyleModel",
            "_view_count": null,
            "_view_module": "@jupyter-widgets/base",
            "_view_module_version": "1.2.0",
            "_view_name": "StyleView",
            "description_width": ""
          }
        },
        "7911da65fd784624858b201f34b791b7": {
          "model_module": "@jupyter-widgets/base",
          "model_name": "LayoutModel",
          "model_module_version": "1.2.0",
          "state": {
            "_model_module": "@jupyter-widgets/base",
            "_model_module_version": "1.2.0",
            "_model_name": "LayoutModel",
            "_view_count": null,
            "_view_module": "@jupyter-widgets/base",
            "_view_module_version": "1.2.0",
            "_view_name": "LayoutView",
            "align_content": null,
            "align_items": null,
            "align_self": null,
            "border": null,
            "bottom": null,
            "display": null,
            "flex": null,
            "flex_flow": null,
            "grid_area": null,
            "grid_auto_columns": null,
            "grid_auto_flow": null,
            "grid_auto_rows": null,
            "grid_column": null,
            "grid_gap": null,
            "grid_row": null,
            "grid_template_areas": null,
            "grid_template_columns": null,
            "grid_template_rows": null,
            "height": null,
            "justify_content": null,
            "justify_items": null,
            "left": null,
            "margin": null,
            "max_height": null,
            "max_width": null,
            "min_height": null,
            "min_width": null,
            "object_fit": null,
            "object_position": null,
            "order": null,
            "overflow": null,
            "overflow_x": null,
            "overflow_y": null,
            "padding": null,
            "right": null,
            "top": null,
            "visibility": null,
            "width": null
          }
        },
        "0e4efaf8643a42ea97e15da934639703": {
          "model_module": "@jupyter-widgets/controls",
          "model_name": "ProgressStyleModel",
          "model_module_version": "1.5.0",
          "state": {
            "_model_module": "@jupyter-widgets/controls",
            "_model_module_version": "1.5.0",
            "_model_name": "ProgressStyleModel",
            "_view_count": null,
            "_view_module": "@jupyter-widgets/base",
            "_view_module_version": "1.2.0",
            "_view_name": "StyleView",
            "bar_color": null,
            "description_width": ""
          }
        },
        "45693a05676e466aa08762730d583172": {
          "model_module": "@jupyter-widgets/base",
          "model_name": "LayoutModel",
          "model_module_version": "1.2.0",
          "state": {
            "_model_module": "@jupyter-widgets/base",
            "_model_module_version": "1.2.0",
            "_model_name": "LayoutModel",
            "_view_count": null,
            "_view_module": "@jupyter-widgets/base",
            "_view_module_version": "1.2.0",
            "_view_name": "LayoutView",
            "align_content": null,
            "align_items": null,
            "align_self": null,
            "border": null,
            "bottom": null,
            "display": null,
            "flex": null,
            "flex_flow": null,
            "grid_area": null,
            "grid_auto_columns": null,
            "grid_auto_flow": null,
            "grid_auto_rows": null,
            "grid_column": null,
            "grid_gap": null,
            "grid_row": null,
            "grid_template_areas": null,
            "grid_template_columns": null,
            "grid_template_rows": null,
            "height": null,
            "justify_content": null,
            "justify_items": null,
            "left": null,
            "margin": null,
            "max_height": null,
            "max_width": null,
            "min_height": null,
            "min_width": null,
            "object_fit": null,
            "object_position": null,
            "order": null,
            "overflow": null,
            "overflow_x": null,
            "overflow_y": null,
            "padding": null,
            "right": null,
            "top": null,
            "visibility": null,
            "width": null
          }
        },
        "0138f52df77c4ccdaae51d5718e13c28": {
          "model_module": "@jupyter-widgets/controls",
          "model_name": "DescriptionStyleModel",
          "model_module_version": "1.5.0",
          "state": {
            "_model_module": "@jupyter-widgets/controls",
            "_model_module_version": "1.5.0",
            "_model_name": "DescriptionStyleModel",
            "_view_count": null,
            "_view_module": "@jupyter-widgets/base",
            "_view_module_version": "1.2.0",
            "_view_name": "StyleView",
            "description_width": ""
          }
        },
        "13fd315c85cb4d65955e3c5946dd060c": {
          "model_module": "@jupyter-widgets/controls",
          "model_name": "HBoxModel",
          "model_module_version": "1.5.0",
          "state": {
            "_dom_classes": [],
            "_model_module": "@jupyter-widgets/controls",
            "_model_module_version": "1.5.0",
            "_model_name": "HBoxModel",
            "_view_count": null,
            "_view_module": "@jupyter-widgets/controls",
            "_view_module_version": "1.5.0",
            "_view_name": "HBoxView",
            "box_style": "",
            "children": [
              "IPY_MODEL_5cd899703dee4a4db79ec5414a054159",
              "IPY_MODEL_d266e36f196447ea992ded588beaceb5",
              "IPY_MODEL_f3e52fa0ad21401bb0083a3f85ff3064"
            ],
            "layout": "IPY_MODEL_c2f44f8c503241688bf94df5b8c9a0b2"
          }
        },
        "5cd899703dee4a4db79ec5414a054159": {
          "model_module": "@jupyter-widgets/controls",
          "model_name": "HTMLModel",
          "model_module_version": "1.5.0",
          "state": {
            "_dom_classes": [],
            "_model_module": "@jupyter-widgets/controls",
            "_model_module_version": "1.5.0",
            "_model_name": "HTMLModel",
            "_view_count": null,
            "_view_module": "@jupyter-widgets/controls",
            "_view_module_version": "1.5.0",
            "_view_name": "HTMLView",
            "description": "",
            "description_tooltip": null,
            "layout": "IPY_MODEL_d677e39f9d084ad7ad4acc16939dac8d",
            "placeholder": "​",
            "style": "IPY_MODEL_6d75829ba3ed473eae8d536e2268d3b4",
            "value": "Downloading (…)olve/main/vocab.json: 100%"
          }
        },
        "d266e36f196447ea992ded588beaceb5": {
          "model_module": "@jupyter-widgets/controls",
          "model_name": "FloatProgressModel",
          "model_module_version": "1.5.0",
          "state": {
            "_dom_classes": [],
            "_model_module": "@jupyter-widgets/controls",
            "_model_module_version": "1.5.0",
            "_model_name": "FloatProgressModel",
            "_view_count": null,
            "_view_module": "@jupyter-widgets/controls",
            "_view_module_version": "1.5.0",
            "_view_name": "ProgressView",
            "bar_style": "success",
            "description": "",
            "description_tooltip": null,
            "layout": "IPY_MODEL_19482b3b2d6040a18fe9f614c7198fe6",
            "max": 898825,
            "min": 0,
            "orientation": "horizontal",
            "style": "IPY_MODEL_8c875f279111410685ec7482b68b5b18",
            "value": 898825
          }
        },
        "f3e52fa0ad21401bb0083a3f85ff3064": {
          "model_module": "@jupyter-widgets/controls",
          "model_name": "HTMLModel",
          "model_module_version": "1.5.0",
          "state": {
            "_dom_classes": [],
            "_model_module": "@jupyter-widgets/controls",
            "_model_module_version": "1.5.0",
            "_model_name": "HTMLModel",
            "_view_count": null,
            "_view_module": "@jupyter-widgets/controls",
            "_view_module_version": "1.5.0",
            "_view_name": "HTMLView",
            "description": "",
            "description_tooltip": null,
            "layout": "IPY_MODEL_796bf441ef524219b26a7c31829da4f9",
            "placeholder": "​",
            "style": "IPY_MODEL_0401b17457eb4afe9c1d6bf312f1752c",
            "value": " 899k/899k [00:00&lt;00:00, 7.88MB/s]"
          }
        },
        "c2f44f8c503241688bf94df5b8c9a0b2": {
          "model_module": "@jupyter-widgets/base",
          "model_name": "LayoutModel",
          "model_module_version": "1.2.0",
          "state": {
            "_model_module": "@jupyter-widgets/base",
            "_model_module_version": "1.2.0",
            "_model_name": "LayoutModel",
            "_view_count": null,
            "_view_module": "@jupyter-widgets/base",
            "_view_module_version": "1.2.0",
            "_view_name": "LayoutView",
            "align_content": null,
            "align_items": null,
            "align_self": null,
            "border": null,
            "bottom": null,
            "display": null,
            "flex": null,
            "flex_flow": null,
            "grid_area": null,
            "grid_auto_columns": null,
            "grid_auto_flow": null,
            "grid_auto_rows": null,
            "grid_column": null,
            "grid_gap": null,
            "grid_row": null,
            "grid_template_areas": null,
            "grid_template_columns": null,
            "grid_template_rows": null,
            "height": null,
            "justify_content": null,
            "justify_items": null,
            "left": null,
            "margin": null,
            "max_height": null,
            "max_width": null,
            "min_height": null,
            "min_width": null,
            "object_fit": null,
            "object_position": null,
            "order": null,
            "overflow": null,
            "overflow_x": null,
            "overflow_y": null,
            "padding": null,
            "right": null,
            "top": null,
            "visibility": null,
            "width": null
          }
        },
        "d677e39f9d084ad7ad4acc16939dac8d": {
          "model_module": "@jupyter-widgets/base",
          "model_name": "LayoutModel",
          "model_module_version": "1.2.0",
          "state": {
            "_model_module": "@jupyter-widgets/base",
            "_model_module_version": "1.2.0",
            "_model_name": "LayoutModel",
            "_view_count": null,
            "_view_module": "@jupyter-widgets/base",
            "_view_module_version": "1.2.0",
            "_view_name": "LayoutView",
            "align_content": null,
            "align_items": null,
            "align_self": null,
            "border": null,
            "bottom": null,
            "display": null,
            "flex": null,
            "flex_flow": null,
            "grid_area": null,
            "grid_auto_columns": null,
            "grid_auto_flow": null,
            "grid_auto_rows": null,
            "grid_column": null,
            "grid_gap": null,
            "grid_row": null,
            "grid_template_areas": null,
            "grid_template_columns": null,
            "grid_template_rows": null,
            "height": null,
            "justify_content": null,
            "justify_items": null,
            "left": null,
            "margin": null,
            "max_height": null,
            "max_width": null,
            "min_height": null,
            "min_width": null,
            "object_fit": null,
            "object_position": null,
            "order": null,
            "overflow": null,
            "overflow_x": null,
            "overflow_y": null,
            "padding": null,
            "right": null,
            "top": null,
            "visibility": null,
            "width": null
          }
        },
        "6d75829ba3ed473eae8d536e2268d3b4": {
          "model_module": "@jupyter-widgets/controls",
          "model_name": "DescriptionStyleModel",
          "model_module_version": "1.5.0",
          "state": {
            "_model_module": "@jupyter-widgets/controls",
            "_model_module_version": "1.5.0",
            "_model_name": "DescriptionStyleModel",
            "_view_count": null,
            "_view_module": "@jupyter-widgets/base",
            "_view_module_version": "1.2.0",
            "_view_name": "StyleView",
            "description_width": ""
          }
        },
        "19482b3b2d6040a18fe9f614c7198fe6": {
          "model_module": "@jupyter-widgets/base",
          "model_name": "LayoutModel",
          "model_module_version": "1.2.0",
          "state": {
            "_model_module": "@jupyter-widgets/base",
            "_model_module_version": "1.2.0",
            "_model_name": "LayoutModel",
            "_view_count": null,
            "_view_module": "@jupyter-widgets/base",
            "_view_module_version": "1.2.0",
            "_view_name": "LayoutView",
            "align_content": null,
            "align_items": null,
            "align_self": null,
            "border": null,
            "bottom": null,
            "display": null,
            "flex": null,
            "flex_flow": null,
            "grid_area": null,
            "grid_auto_columns": null,
            "grid_auto_flow": null,
            "grid_auto_rows": null,
            "grid_column": null,
            "grid_gap": null,
            "grid_row": null,
            "grid_template_areas": null,
            "grid_template_columns": null,
            "grid_template_rows": null,
            "height": null,
            "justify_content": null,
            "justify_items": null,
            "left": null,
            "margin": null,
            "max_height": null,
            "max_width": null,
            "min_height": null,
            "min_width": null,
            "object_fit": null,
            "object_position": null,
            "order": null,
            "overflow": null,
            "overflow_x": null,
            "overflow_y": null,
            "padding": null,
            "right": null,
            "top": null,
            "visibility": null,
            "width": null
          }
        },
        "8c875f279111410685ec7482b68b5b18": {
          "model_module": "@jupyter-widgets/controls",
          "model_name": "ProgressStyleModel",
          "model_module_version": "1.5.0",
          "state": {
            "_model_module": "@jupyter-widgets/controls",
            "_model_module_version": "1.5.0",
            "_model_name": "ProgressStyleModel",
            "_view_count": null,
            "_view_module": "@jupyter-widgets/base",
            "_view_module_version": "1.2.0",
            "_view_name": "StyleView",
            "bar_color": null,
            "description_width": ""
          }
        },
        "796bf441ef524219b26a7c31829da4f9": {
          "model_module": "@jupyter-widgets/base",
          "model_name": "LayoutModel",
          "model_module_version": "1.2.0",
          "state": {
            "_model_module": "@jupyter-widgets/base",
            "_model_module_version": "1.2.0",
            "_model_name": "LayoutModel",
            "_view_count": null,
            "_view_module": "@jupyter-widgets/base",
            "_view_module_version": "1.2.0",
            "_view_name": "LayoutView",
            "align_content": null,
            "align_items": null,
            "align_self": null,
            "border": null,
            "bottom": null,
            "display": null,
            "flex": null,
            "flex_flow": null,
            "grid_area": null,
            "grid_auto_columns": null,
            "grid_auto_flow": null,
            "grid_auto_rows": null,
            "grid_column": null,
            "grid_gap": null,
            "grid_row": null,
            "grid_template_areas": null,
            "grid_template_columns": null,
            "grid_template_rows": null,
            "height": null,
            "justify_content": null,
            "justify_items": null,
            "left": null,
            "margin": null,
            "max_height": null,
            "max_width": null,
            "min_height": null,
            "min_width": null,
            "object_fit": null,
            "object_position": null,
            "order": null,
            "overflow": null,
            "overflow_x": null,
            "overflow_y": null,
            "padding": null,
            "right": null,
            "top": null,
            "visibility": null,
            "width": null
          }
        },
        "0401b17457eb4afe9c1d6bf312f1752c": {
          "model_module": "@jupyter-widgets/controls",
          "model_name": "DescriptionStyleModel",
          "model_module_version": "1.5.0",
          "state": {
            "_model_module": "@jupyter-widgets/controls",
            "_model_module_version": "1.5.0",
            "_model_name": "DescriptionStyleModel",
            "_view_count": null,
            "_view_module": "@jupyter-widgets/base",
            "_view_module_version": "1.2.0",
            "_view_name": "StyleView",
            "description_width": ""
          }
        },
        "d78978f7ce6940e0b54c61036c78e3f9": {
          "model_module": "@jupyter-widgets/controls",
          "model_name": "HBoxModel",
          "model_module_version": "1.5.0",
          "state": {
            "_dom_classes": [],
            "_model_module": "@jupyter-widgets/controls",
            "_model_module_version": "1.5.0",
            "_model_name": "HBoxModel",
            "_view_count": null,
            "_view_module": "@jupyter-widgets/controls",
            "_view_module_version": "1.5.0",
            "_view_name": "HBoxView",
            "box_style": "",
            "children": [
              "IPY_MODEL_1db2e241de784bad9fac331b35cb7aa7",
              "IPY_MODEL_0ec456d51ed3422c8ec542832f583d28",
              "IPY_MODEL_a28564c8154244d2887ddbf1f24c95cd"
            ],
            "layout": "IPY_MODEL_88a171676f11457c809d6d616dc9994c"
          }
        },
        "1db2e241de784bad9fac331b35cb7aa7": {
          "model_module": "@jupyter-widgets/controls",
          "model_name": "HTMLModel",
          "model_module_version": "1.5.0",
          "state": {
            "_dom_classes": [],
            "_model_module": "@jupyter-widgets/controls",
            "_model_module_version": "1.5.0",
            "_model_name": "HTMLModel",
            "_view_count": null,
            "_view_module": "@jupyter-widgets/controls",
            "_view_module_version": "1.5.0",
            "_view_name": "HTMLView",
            "description": "",
            "description_tooltip": null,
            "layout": "IPY_MODEL_8db45a14061a49a292151a098a1f2ecb",
            "placeholder": "​",
            "style": "IPY_MODEL_e532d9c813bb4e94b251dd093410bfe9",
            "value": "Downloading (…)olve/main/merges.txt: 100%"
          }
        },
        "0ec456d51ed3422c8ec542832f583d28": {
          "model_module": "@jupyter-widgets/controls",
          "model_name": "FloatProgressModel",
          "model_module_version": "1.5.0",
          "state": {
            "_dom_classes": [],
            "_model_module": "@jupyter-widgets/controls",
            "_model_module_version": "1.5.0",
            "_model_name": "FloatProgressModel",
            "_view_count": null,
            "_view_module": "@jupyter-widgets/controls",
            "_view_module_version": "1.5.0",
            "_view_name": "ProgressView",
            "bar_style": "success",
            "description": "",
            "description_tooltip": null,
            "layout": "IPY_MODEL_5a7147207672488896c3b6d3e8b2047d",
            "max": 456318,
            "min": 0,
            "orientation": "horizontal",
            "style": "IPY_MODEL_564af7b0088745c7840e6837388a2ca1",
            "value": 456318
          }
        },
        "a28564c8154244d2887ddbf1f24c95cd": {
          "model_module": "@jupyter-widgets/controls",
          "model_name": "HTMLModel",
          "model_module_version": "1.5.0",
          "state": {
            "_dom_classes": [],
            "_model_module": "@jupyter-widgets/controls",
            "_model_module_version": "1.5.0",
            "_model_name": "HTMLModel",
            "_view_count": null,
            "_view_module": "@jupyter-widgets/controls",
            "_view_module_version": "1.5.0",
            "_view_name": "HTMLView",
            "description": "",
            "description_tooltip": null,
            "layout": "IPY_MODEL_ebf89532daa445ceaa7a540e50783830",
            "placeholder": "​",
            "style": "IPY_MODEL_4b5499f55e75492fb9a37cf3b4b5f280",
            "value": " 456k/456k [00:00&lt;00:00, 3.97MB/s]"
          }
        },
        "88a171676f11457c809d6d616dc9994c": {
          "model_module": "@jupyter-widgets/base",
          "model_name": "LayoutModel",
          "model_module_version": "1.2.0",
          "state": {
            "_model_module": "@jupyter-widgets/base",
            "_model_module_version": "1.2.0",
            "_model_name": "LayoutModel",
            "_view_count": null,
            "_view_module": "@jupyter-widgets/base",
            "_view_module_version": "1.2.0",
            "_view_name": "LayoutView",
            "align_content": null,
            "align_items": null,
            "align_self": null,
            "border": null,
            "bottom": null,
            "display": null,
            "flex": null,
            "flex_flow": null,
            "grid_area": null,
            "grid_auto_columns": null,
            "grid_auto_flow": null,
            "grid_auto_rows": null,
            "grid_column": null,
            "grid_gap": null,
            "grid_row": null,
            "grid_template_areas": null,
            "grid_template_columns": null,
            "grid_template_rows": null,
            "height": null,
            "justify_content": null,
            "justify_items": null,
            "left": null,
            "margin": null,
            "max_height": null,
            "max_width": null,
            "min_height": null,
            "min_width": null,
            "object_fit": null,
            "object_position": null,
            "order": null,
            "overflow": null,
            "overflow_x": null,
            "overflow_y": null,
            "padding": null,
            "right": null,
            "top": null,
            "visibility": null,
            "width": null
          }
        },
        "8db45a14061a49a292151a098a1f2ecb": {
          "model_module": "@jupyter-widgets/base",
          "model_name": "LayoutModel",
          "model_module_version": "1.2.0",
          "state": {
            "_model_module": "@jupyter-widgets/base",
            "_model_module_version": "1.2.0",
            "_model_name": "LayoutModel",
            "_view_count": null,
            "_view_module": "@jupyter-widgets/base",
            "_view_module_version": "1.2.0",
            "_view_name": "LayoutView",
            "align_content": null,
            "align_items": null,
            "align_self": null,
            "border": null,
            "bottom": null,
            "display": null,
            "flex": null,
            "flex_flow": null,
            "grid_area": null,
            "grid_auto_columns": null,
            "grid_auto_flow": null,
            "grid_auto_rows": null,
            "grid_column": null,
            "grid_gap": null,
            "grid_row": null,
            "grid_template_areas": null,
            "grid_template_columns": null,
            "grid_template_rows": null,
            "height": null,
            "justify_content": null,
            "justify_items": null,
            "left": null,
            "margin": null,
            "max_height": null,
            "max_width": null,
            "min_height": null,
            "min_width": null,
            "object_fit": null,
            "object_position": null,
            "order": null,
            "overflow": null,
            "overflow_x": null,
            "overflow_y": null,
            "padding": null,
            "right": null,
            "top": null,
            "visibility": null,
            "width": null
          }
        },
        "e532d9c813bb4e94b251dd093410bfe9": {
          "model_module": "@jupyter-widgets/controls",
          "model_name": "DescriptionStyleModel",
          "model_module_version": "1.5.0",
          "state": {
            "_model_module": "@jupyter-widgets/controls",
            "_model_module_version": "1.5.0",
            "_model_name": "DescriptionStyleModel",
            "_view_count": null,
            "_view_module": "@jupyter-widgets/base",
            "_view_module_version": "1.2.0",
            "_view_name": "StyleView",
            "description_width": ""
          }
        },
        "5a7147207672488896c3b6d3e8b2047d": {
          "model_module": "@jupyter-widgets/base",
          "model_name": "LayoutModel",
          "model_module_version": "1.2.0",
          "state": {
            "_model_module": "@jupyter-widgets/base",
            "_model_module_version": "1.2.0",
            "_model_name": "LayoutModel",
            "_view_count": null,
            "_view_module": "@jupyter-widgets/base",
            "_view_module_version": "1.2.0",
            "_view_name": "LayoutView",
            "align_content": null,
            "align_items": null,
            "align_self": null,
            "border": null,
            "bottom": null,
            "display": null,
            "flex": null,
            "flex_flow": null,
            "grid_area": null,
            "grid_auto_columns": null,
            "grid_auto_flow": null,
            "grid_auto_rows": null,
            "grid_column": null,
            "grid_gap": null,
            "grid_row": null,
            "grid_template_areas": null,
            "grid_template_columns": null,
            "grid_template_rows": null,
            "height": null,
            "justify_content": null,
            "justify_items": null,
            "left": null,
            "margin": null,
            "max_height": null,
            "max_width": null,
            "min_height": null,
            "min_width": null,
            "object_fit": null,
            "object_position": null,
            "order": null,
            "overflow": null,
            "overflow_x": null,
            "overflow_y": null,
            "padding": null,
            "right": null,
            "top": null,
            "visibility": null,
            "width": null
          }
        },
        "564af7b0088745c7840e6837388a2ca1": {
          "model_module": "@jupyter-widgets/controls",
          "model_name": "ProgressStyleModel",
          "model_module_version": "1.5.0",
          "state": {
            "_model_module": "@jupyter-widgets/controls",
            "_model_module_version": "1.5.0",
            "_model_name": "ProgressStyleModel",
            "_view_count": null,
            "_view_module": "@jupyter-widgets/base",
            "_view_module_version": "1.2.0",
            "_view_name": "StyleView",
            "bar_color": null,
            "description_width": ""
          }
        },
        "ebf89532daa445ceaa7a540e50783830": {
          "model_module": "@jupyter-widgets/base",
          "model_name": "LayoutModel",
          "model_module_version": "1.2.0",
          "state": {
            "_model_module": "@jupyter-widgets/base",
            "_model_module_version": "1.2.0",
            "_model_name": "LayoutModel",
            "_view_count": null,
            "_view_module": "@jupyter-widgets/base",
            "_view_module_version": "1.2.0",
            "_view_name": "LayoutView",
            "align_content": null,
            "align_items": null,
            "align_self": null,
            "border": null,
            "bottom": null,
            "display": null,
            "flex": null,
            "flex_flow": null,
            "grid_area": null,
            "grid_auto_columns": null,
            "grid_auto_flow": null,
            "grid_auto_rows": null,
            "grid_column": null,
            "grid_gap": null,
            "grid_row": null,
            "grid_template_areas": null,
            "grid_template_columns": null,
            "grid_template_rows": null,
            "height": null,
            "justify_content": null,
            "justify_items": null,
            "left": null,
            "margin": null,
            "max_height": null,
            "max_width": null,
            "min_height": null,
            "min_width": null,
            "object_fit": null,
            "object_position": null,
            "order": null,
            "overflow": null,
            "overflow_x": null,
            "overflow_y": null,
            "padding": null,
            "right": null,
            "top": null,
            "visibility": null,
            "width": null
          }
        },
        "4b5499f55e75492fb9a37cf3b4b5f280": {
          "model_module": "@jupyter-widgets/controls",
          "model_name": "DescriptionStyleModel",
          "model_module_version": "1.5.0",
          "state": {
            "_model_module": "@jupyter-widgets/controls",
            "_model_module_version": "1.5.0",
            "_model_name": "DescriptionStyleModel",
            "_view_count": null,
            "_view_module": "@jupyter-widgets/base",
            "_view_module_version": "1.2.0",
            "_view_name": "StyleView",
            "description_width": ""
          }
        },
        "9c08272b38a74d87a3d2c752732fbd63": {
          "model_module": "@jupyter-widgets/controls",
          "model_name": "HBoxModel",
          "model_module_version": "1.5.0",
          "state": {
            "_dom_classes": [],
            "_model_module": "@jupyter-widgets/controls",
            "_model_module_version": "1.5.0",
            "_model_name": "HBoxModel",
            "_view_count": null,
            "_view_module": "@jupyter-widgets/controls",
            "_view_module_version": "1.5.0",
            "_view_name": "HBoxView",
            "box_style": "",
            "children": [
              "IPY_MODEL_1b9942d4ea104415b22e7696607b56ab",
              "IPY_MODEL_45b3212224e84ba0b455fc378523b563",
              "IPY_MODEL_24af4f2794784479aa91bfc4a778d249"
            ],
            "layout": "IPY_MODEL_1d5609b1083c457f97287db4f8fce326"
          }
        },
        "1b9942d4ea104415b22e7696607b56ab": {
          "model_module": "@jupyter-widgets/controls",
          "model_name": "HTMLModel",
          "model_module_version": "1.5.0",
          "state": {
            "_dom_classes": [],
            "_model_module": "@jupyter-widgets/controls",
            "_model_module_version": "1.5.0",
            "_model_name": "HTMLModel",
            "_view_count": null,
            "_view_module": "@jupyter-widgets/controls",
            "_view_module_version": "1.5.0",
            "_view_name": "HTMLView",
            "description": "",
            "description_tooltip": null,
            "layout": "IPY_MODEL_113cefe96ee446fca6726204c2a7fbef",
            "placeholder": "​",
            "style": "IPY_MODEL_af9e547e431b4f31bb377459917752f8",
            "value": "Downloading (…)&quot;pytorch_model.bin&quot;;: 100%"
          }
        },
        "45b3212224e84ba0b455fc378523b563": {
          "model_module": "@jupyter-widgets/controls",
          "model_name": "FloatProgressModel",
          "model_module_version": "1.5.0",
          "state": {
            "_dom_classes": [],
            "_model_module": "@jupyter-widgets/controls",
            "_model_module_version": "1.5.0",
            "_model_name": "FloatProgressModel",
            "_view_count": null,
            "_view_module": "@jupyter-widgets/controls",
            "_view_module_version": "1.5.0",
            "_view_name": "ProgressView",
            "bar_style": "success",
            "description": "",
            "description_tooltip": null,
            "layout": "IPY_MODEL_15d13ea3780740e0a98ad4701189881c",
            "max": 3035556896,
            "min": 0,
            "orientation": "horizontal",
            "style": "IPY_MODEL_d4108db71d9b47b29cbda5de0c62a00b",
            "value": 3035556896
          }
        },
        "24af4f2794784479aa91bfc4a778d249": {
          "model_module": "@jupyter-widgets/controls",
          "model_name": "HTMLModel",
          "model_module_version": "1.5.0",
          "state": {
            "_dom_classes": [],
            "_model_module": "@jupyter-widgets/controls",
            "_model_module_version": "1.5.0",
            "_model_name": "HTMLModel",
            "_view_count": null,
            "_view_module": "@jupyter-widgets/controls",
            "_view_module_version": "1.5.0",
            "_view_name": "HTMLView",
            "description": "",
            "description_tooltip": null,
            "layout": "IPY_MODEL_4f2415eb269448f1a6dc2ce9470f2c99",
            "placeholder": "​",
            "style": "IPY_MODEL_00cc1b7c403c47a6b2767321f8b0b363",
            "value": " 3.04G/3.04G [01:59&lt;00:00, 60.9MB/s]"
          }
        },
        "1d5609b1083c457f97287db4f8fce326": {
          "model_module": "@jupyter-widgets/base",
          "model_name": "LayoutModel",
          "model_module_version": "1.2.0",
          "state": {
            "_model_module": "@jupyter-widgets/base",
            "_model_module_version": "1.2.0",
            "_model_name": "LayoutModel",
            "_view_count": null,
            "_view_module": "@jupyter-widgets/base",
            "_view_module_version": "1.2.0",
            "_view_name": "LayoutView",
            "align_content": null,
            "align_items": null,
            "align_self": null,
            "border": null,
            "bottom": null,
            "display": null,
            "flex": null,
            "flex_flow": null,
            "grid_area": null,
            "grid_auto_columns": null,
            "grid_auto_flow": null,
            "grid_auto_rows": null,
            "grid_column": null,
            "grid_gap": null,
            "grid_row": null,
            "grid_template_areas": null,
            "grid_template_columns": null,
            "grid_template_rows": null,
            "height": null,
            "justify_content": null,
            "justify_items": null,
            "left": null,
            "margin": null,
            "max_height": null,
            "max_width": null,
            "min_height": null,
            "min_width": null,
            "object_fit": null,
            "object_position": null,
            "order": null,
            "overflow": null,
            "overflow_x": null,
            "overflow_y": null,
            "padding": null,
            "right": null,
            "top": null,
            "visibility": null,
            "width": null
          }
        },
        "113cefe96ee446fca6726204c2a7fbef": {
          "model_module": "@jupyter-widgets/base",
          "model_name": "LayoutModel",
          "model_module_version": "1.2.0",
          "state": {
            "_model_module": "@jupyter-widgets/base",
            "_model_module_version": "1.2.0",
            "_model_name": "LayoutModel",
            "_view_count": null,
            "_view_module": "@jupyter-widgets/base",
            "_view_module_version": "1.2.0",
            "_view_name": "LayoutView",
            "align_content": null,
            "align_items": null,
            "align_self": null,
            "border": null,
            "bottom": null,
            "display": null,
            "flex": null,
            "flex_flow": null,
            "grid_area": null,
            "grid_auto_columns": null,
            "grid_auto_flow": null,
            "grid_auto_rows": null,
            "grid_column": null,
            "grid_gap": null,
            "grid_row": null,
            "grid_template_areas": null,
            "grid_template_columns": null,
            "grid_template_rows": null,
            "height": null,
            "justify_content": null,
            "justify_items": null,
            "left": null,
            "margin": null,
            "max_height": null,
            "max_width": null,
            "min_height": null,
            "min_width": null,
            "object_fit": null,
            "object_position": null,
            "order": null,
            "overflow": null,
            "overflow_x": null,
            "overflow_y": null,
            "padding": null,
            "right": null,
            "top": null,
            "visibility": null,
            "width": null
          }
        },
        "af9e547e431b4f31bb377459917752f8": {
          "model_module": "@jupyter-widgets/controls",
          "model_name": "DescriptionStyleModel",
          "model_module_version": "1.5.0",
          "state": {
            "_model_module": "@jupyter-widgets/controls",
            "_model_module_version": "1.5.0",
            "_model_name": "DescriptionStyleModel",
            "_view_count": null,
            "_view_module": "@jupyter-widgets/base",
            "_view_module_version": "1.2.0",
            "_view_name": "StyleView",
            "description_width": ""
          }
        },
        "15d13ea3780740e0a98ad4701189881c": {
          "model_module": "@jupyter-widgets/base",
          "model_name": "LayoutModel",
          "model_module_version": "1.2.0",
          "state": {
            "_model_module": "@jupyter-widgets/base",
            "_model_module_version": "1.2.0",
            "_model_name": "LayoutModel",
            "_view_count": null,
            "_view_module": "@jupyter-widgets/base",
            "_view_module_version": "1.2.0",
            "_view_name": "LayoutView",
            "align_content": null,
            "align_items": null,
            "align_self": null,
            "border": null,
            "bottom": null,
            "display": null,
            "flex": null,
            "flex_flow": null,
            "grid_area": null,
            "grid_auto_columns": null,
            "grid_auto_flow": null,
            "grid_auto_rows": null,
            "grid_column": null,
            "grid_gap": null,
            "grid_row": null,
            "grid_template_areas": null,
            "grid_template_columns": null,
            "grid_template_rows": null,
            "height": null,
            "justify_content": null,
            "justify_items": null,
            "left": null,
            "margin": null,
            "max_height": null,
            "max_width": null,
            "min_height": null,
            "min_width": null,
            "object_fit": null,
            "object_position": null,
            "order": null,
            "overflow": null,
            "overflow_x": null,
            "overflow_y": null,
            "padding": null,
            "right": null,
            "top": null,
            "visibility": null,
            "width": null
          }
        },
        "d4108db71d9b47b29cbda5de0c62a00b": {
          "model_module": "@jupyter-widgets/controls",
          "model_name": "ProgressStyleModel",
          "model_module_version": "1.5.0",
          "state": {
            "_model_module": "@jupyter-widgets/controls",
            "_model_module_version": "1.5.0",
            "_model_name": "ProgressStyleModel",
            "_view_count": null,
            "_view_module": "@jupyter-widgets/base",
            "_view_module_version": "1.2.0",
            "_view_name": "StyleView",
            "bar_color": null,
            "description_width": ""
          }
        },
        "4f2415eb269448f1a6dc2ce9470f2c99": {
          "model_module": "@jupyter-widgets/base",
          "model_name": "LayoutModel",
          "model_module_version": "1.2.0",
          "state": {
            "_model_module": "@jupyter-widgets/base",
            "_model_module_version": "1.2.0",
            "_model_name": "LayoutModel",
            "_view_count": null,
            "_view_module": "@jupyter-widgets/base",
            "_view_module_version": "1.2.0",
            "_view_name": "LayoutView",
            "align_content": null,
            "align_items": null,
            "align_self": null,
            "border": null,
            "bottom": null,
            "display": null,
            "flex": null,
            "flex_flow": null,
            "grid_area": null,
            "grid_auto_columns": null,
            "grid_auto_flow": null,
            "grid_auto_rows": null,
            "grid_column": null,
            "grid_gap": null,
            "grid_row": null,
            "grid_template_areas": null,
            "grid_template_columns": null,
            "grid_template_rows": null,
            "height": null,
            "justify_content": null,
            "justify_items": null,
            "left": null,
            "margin": null,
            "max_height": null,
            "max_width": null,
            "min_height": null,
            "min_width": null,
            "object_fit": null,
            "object_position": null,
            "order": null,
            "overflow": null,
            "overflow_x": null,
            "overflow_y": null,
            "padding": null,
            "right": null,
            "top": null,
            "visibility": null,
            "width": null
          }
        },
        "00cc1b7c403c47a6b2767321f8b0b363": {
          "model_module": "@jupyter-widgets/controls",
          "model_name": "DescriptionStyleModel",
          "model_module_version": "1.5.0",
          "state": {
            "_model_module": "@jupyter-widgets/controls",
            "_model_module_version": "1.5.0",
            "_model_name": "DescriptionStyleModel",
            "_view_count": null,
            "_view_module": "@jupyter-widgets/base",
            "_view_module_version": "1.2.0",
            "_view_name": "StyleView",
            "description_width": ""
          }
        }
      }
    }
  },
  "nbformat": 4,
  "nbformat_minor": 0
}