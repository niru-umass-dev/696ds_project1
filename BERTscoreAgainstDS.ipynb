{
 "cells": [
  {
   "cell_type": "code",
   "execution_count": 14,
   "id": "17c7eea3-7505-4c9f-99bb-969f1c5a51f8",
   "metadata": {},
   "outputs": [],
   "source": [
    "import numpy as np\n",
    "import torch\n",
    "import nltk\n",
    "import json\n",
    "import bert_score\n",
    "import rouge\n",
    "from collections import Counter\n",
    "import matplotlib.pyplot as plt\n",
    "from statistics import stdev\n",
    "from scipy.stats import spearmanr\n",
    "\n",
    "%matplotlib inline"
   ]
  },
  {
   "cell_type": "markdown",
   "id": "4b2082ae-0df9-493d-bdd7-a112f3778950",
   "metadata": {},
   "source": [
    "## Compute"
   ]
  },
  {
   "cell_type": "code",
   "execution_count": 28,
   "id": "3a0c2d64-8b54-4f3b-8905-8798c1b7d019",
   "metadata": {},
   "outputs": [],
   "source": [
    "with open(\"data/combined.json\") as f:\n",
    "    data = json.load(f)"
   ]
  },
  {
   "cell_type": "code",
   "execution_count": 29,
   "id": "4456f0ab-8ff2-4ce4-bed0-1f94df3e025b",
   "metadata": {},
   "outputs": [
    {
     "name": "stderr",
     "output_type": "stream",
     "text": [
      "Some weights of the model checkpoint at microsoft/deberta-xlarge-mnli were not used when initializing DebertaModel: ['pooler.dense.bias', 'classifier.bias', 'classifier.weight', 'pooler.dense.weight']\n",
      "- This IS expected if you are initializing DebertaModel from the checkpoint of a model trained on another task or with another architecture (e.g. initializing a BertForSequenceClassification model from a BertForPreTraining model).\n",
      "- This IS NOT expected if you are initializing DebertaModel from the checkpoint of a model that you expect to be exactly identical (initializing a BertForSequenceClassification model from a BertForSequenceClassification model).\n"
     ]
    }
   ],
   "source": [
    "scorer = bert_score.BERTScorer(model_type=\"microsoft/deberta-xlarge-mnli\", lang=\"en\", rescale_with_baseline=True)"
   ]
  },
  {
   "cell_type": "code",
   "execution_count": 30,
   "id": "28892ee6-f34f-4782-870d-8b6f785abcc3",
   "metadata": {},
   "outputs": [],
   "source": [
    "evaluator = rouge.Rouge(metrics=[\"rouge-n\", \"rouge-l\"], max_n=2, limit_length=False, apply_avg=True, stemming=True, ensure_compatibility=True)"
   ]
  },
  {
   "cell_type": "code",
   "execution_count": 31,
   "id": "6277ef58-dbd8-4b1b-9594-5522c74789dc",
   "metadata": {},
   "outputs": [],
   "source": [
    "def stem(x):\n",
    "    return Counter(evaluator.stem_tokens(evaluator.tokenize_text(x.lower())))\n",
    "\n",
    "\n",
    "def calc_ds(summ_a, summ_b, summ_comm):\n",
    "    s_a, s_b, s_c = stem(summ_a), stem(summ_b), stem(summ_comm)\n",
    "    nr = sum((s_a & s_b).values()) + sum((s_a & s_c).values()) + sum((s_b & s_c).values()) - 2.0 * sum((s_a & s_b & s_c).values())\n",
    "    dr = sum((s_a | s_b | s_c).values())\n",
    "    return 1.0 - (nr / dr)\n",
    "\n",
    " \n",
    "def calc_bs(summ_a, summ_b, summ_comm):\n",
    "    ab = [s.detach().numpy()[0] for s in scorer.score([summ_a], [summ_b])]\n",
    "    ba = [s.detach().numpy()[0] for s in scorer.score([summ_a], [summ_b])]\n",
    "    a_comm = [s.detach().numpy()[0] for s in scorer.score([summ_a], [summ_comm])]\n",
    "    comm_a = [s.detach().numpy()[0] for s in scorer.score([summ_comm], [summ_a])]\n",
    "    b_comm = [s.detach().numpy()[0] for s in scorer.score([summ_b], [summ_comm])]\n",
    "    comm_b = [s.detach().numpy()[0] for s in scorer.score([summ_comm], [summ_b])]\n",
    "    a_b = (np.array(ab) + np.array(ba)) / 2.0\n",
    "    a_c = (np.array(a_comm) + np.array(comm_a)) / 2.0\n",
    "    b_c = (np.array(b_comm) + np.array(comm_a)) / 2.0\n",
    "    return (a_b + a_c + b_c) / 3.0"
   ]
  },
  {
   "cell_type": "code",
   "execution_count": 39,
   "id": "50fd8d87-fdfc-4052-82a5-a571af82a429",
   "metadata": {},
   "outputs": [
    {
     "name": "stdout",
     "output_type": "stream",
     "text": [
      "0\n",
      "1\n",
      "2\n",
      "3\n",
      "4\n",
      "5\n",
      "6\n",
      "7\n",
      "8\n",
      "9\n"
     ]
    }
   ],
   "source": [
    "dev_bs = list()\n",
    "dev_ds = list()\n",
    "for idx, d in enumerate(data['dev']):\n",
    "    print(idx)\n",
    "    for a_summ in d['entity_a_summary']:\n",
    "        for b_summ in d['entity_b_summary']:\n",
    "            for comm_summ in d['common_summary']:\n",
    "                dev_bs.append(calc_bs(a_summ, b_summ, comm_summ))\n",
    "                dev_ds.append(calc_ds(a_summ, b_summ, comm_summ))"
   ]
  },
  {
   "cell_type": "code",
   "execution_count": 45,
   "id": "e7f97e8d-73c0-4e8a-b7a0-efb8a2b9cb55",
   "metadata": {},
   "outputs": [],
   "source": [
    "dev_bs_json = [[float(y) for y in list(x)] for x in dev_bs]\n",
    "with open(\"data/dev_bs.json\", \"w\") as f:\n",
    "    json.dump(dev_bs_json, f, indent=4)\n",
    "with open(\"data/dev_ds.json\", \"w\") as f:\n",
    "    json.dump(dev_ds, f, indent=4)"
   ]
  },
  {
   "cell_type": "code",
   "execution_count": 46,
   "id": "a3813b76-b715-411f-bcb3-e815855f113e",
   "metadata": {},
   "outputs": [
    {
     "name": "stdout",
     "output_type": "stream",
     "text": [
      "0\n",
      "1\n",
      "2\n",
      "3\n",
      "4\n",
      "5\n",
      "6\n",
      "7\n",
      "8\n",
      "9\n",
      "10\n",
      "11\n",
      "12\n",
      "13\n",
      "14\n",
      "15\n",
      "16\n",
      "17\n"
     ]
    }
   ],
   "source": [
    "test_bs = list()\n",
    "test_ds = list()\n",
    "for idx, d in enumerate(data['test']):\n",
    "    print(idx)\n",
    "    for a_summ in d['entity_a_summary']:\n",
    "        for b_summ in d['entity_b_summary']:\n",
    "            for comm_summ in d['common_summary']:\n",
    "                test_bs.append(calc_bs(a_summ, b_summ, comm_summ))\n",
    "                test_ds.append(calc_ds(a_summ, b_summ, comm_summ))"
   ]
  },
  {
   "cell_type": "code",
   "execution_count": 48,
   "id": "089a46c4-2f58-4ea7-b81f-12431f67db0f",
   "metadata": {},
   "outputs": [],
   "source": [
    "test_bs_json = [[float(y) for y in list(x)] for x in test_bs]\n",
    "with open(\"data/test_bs.json\", \"w\") as f:\n",
    "    json.dump(test_bs_json, f, indent=4)\n",
    "with open(\"data/test_ds.json\", \"w\") as f:\n",
    "    json.dump(test_ds, f, indent=4)"
   ]
  },
  {
   "cell_type": "code",
   "execution_count": 33,
   "id": "4ba7f7a2-a9d3-462b-be9e-33dcf12ff9b8",
   "metadata": {},
   "outputs": [
    {
     "name": "stdout",
     "output_type": "stream",
     "text": [
      "0\n",
      "1\n",
      "2\n",
      "3\n",
      "4\n",
      "5\n",
      "6\n",
      "7\n",
      "8\n",
      "9\n"
     ]
    }
   ],
   "source": [
    "dev_gen_bs = list()\n",
    "dev_gen_ds = list()\n",
    "for idx, d in enumerate(data['dev']):\n",
    "    print(idx)\n",
    "    a_summ = d['gen_cont_a']\n",
    "    b_summ = d['gen_cont_b']\n",
    "    comm_summ = d['gen_comm_a']  # assuming comm summary is same for entitiy a and entity b\n",
    "    dev_gen_bs.append(calc_bs(a_summ, b_summ, comm_summ))\n",
    "    dev_gen_ds.append(calc_ds(a_summ, b_summ, comm_summ))"
   ]
  },
  {
   "cell_type": "code",
   "execution_count": 34,
   "id": "ac72d643-538d-49b5-8c43-f144ddaa50bf",
   "metadata": {},
   "outputs": [],
   "source": [
    "dev_gen_bs_json = [[float(y) for y in list(x)] for x in dev_gen_bs]\n",
    "with open(\"data/dev_gen_bs.json\", \"w\") as f:\n",
    "    json.dump(dev_gen_bs_json, f, indent=4)\n",
    "with open(\"data/dev_gen_ds.json\", \"w\") as f:\n",
    "    json.dump(dev_gen_ds, f, indent=4)"
   ]
  },
  {
   "cell_type": "code",
   "execution_count": 36,
   "id": "bfd7ae83-fa20-4d8c-92eb-eb5151432d0d",
   "metadata": {},
   "outputs": [
    {
     "name": "stdout",
     "output_type": "stream",
     "text": [
      "0\n",
      "1\n",
      "2\n",
      "3\n",
      "4\n",
      "5\n",
      "6\n",
      "7\n",
      "8\n",
      "9\n",
      "10\n",
      "11\n",
      "12\n",
      "13\n",
      "14\n",
      "15\n",
      "16\n",
      "17\n"
     ]
    }
   ],
   "source": [
    "test_gen_bs = list()\n",
    "test_gen_ds = list()\n",
    "for idx, d in enumerate(data['test']):\n",
    "    print(idx)\n",
    "    a_summ = d['gen_cont_a']\n",
    "    b_summ = d['gen_cont_b']\n",
    "    comm_summ = d['gen_comm_a']  # assuming comm summary is same for entitiy a and entity b\n",
    "    test_gen_bs.append(calc_bs(a_summ, b_summ, comm_summ))\n",
    "    test_gen_ds.append(calc_ds(a_summ, b_summ, comm_summ))"
   ]
  },
  {
   "cell_type": "code",
   "execution_count": 37,
   "id": "7a6fe8fc-9d09-4764-9091-a19847f73ba5",
   "metadata": {},
   "outputs": [],
   "source": [
    "test_gen_bs_json = [[float(y) for y in list(x)] for x in test_gen_bs]\n",
    "with open(\"data/test_gen_bs.json\", \"w\") as f:\n",
    "    json.dump(test_gen_bs_json, f, indent=4)\n",
    "with open(\"data/test_gen_ds.json\", \"w\") as f:\n",
    "    json.dump(test_gen_ds, f, indent=4)"
   ]
  },
  {
   "cell_type": "code",
   "execution_count": 10,
   "id": "cd95c40f-5257-44c8-b6f3-01c1d6585fb3",
   "metadata": {},
   "outputs": [],
   "source": [
    "# def calc_data/umm_1, summ_2):\n",
    "#     s_1, s_2 = stem(summ_1), stem(summ_2)\n",
    "#     return 1.0 - (sum((s_1 & s_2).values()) / sum((s_1 | s_2).values()))\n",
    "\n",
    "\n",
    "# dev_scores = dict(\n",
    "#     ab=list(),\n",
    "#     ba=list(),\n",
    "#     comm_a=list(),\n",
    "#     a_comm=list(),\n",
    "#     comm_b=list(),\n",
    "#     b_comm=list(),\n",
    "#     gen_ab=list(),\n",
    "#     gen_ba=list(),\n",
    "#     gen_comm_a=list(),\n",
    "#     gen_a_comm=list(),\n",
    "#     gen_comm_b=list(),\n",
    "#     gen_b_comm=list()\n",
    "# )\n",
    "# dev_ds = dict(\n",
    "#     ab=list(),\n",
    "#     ba=list(),\n",
    "#     comm_a=list(),\n",
    "#     a_comm=list(),\n",
    "#     comm_b=list(),\n",
    "#     b_comm=list(),\n",
    "#     gen_ab=list(),\n",
    "#     gen_ba=list(),\n",
    "#     gen_comm_a=list(),\n",
    "#     gen_a_comm=list(),\n",
    "#     gen_comm_b=list(),\n",
    "#     gen_b_comm=list()\n",
    "# )\n",
    "\n",
    "# for d in data['dev']:\n",
    "#     for a_summ in d['entity_a_summary']:\n",
    "#         for b_summ in d['entity_b_summary']:\n",
    "#             dev_scores['ab'].append(scorer.score(a_summ, b_summ))\n",
    "#             dev_scores['ba'].append(scorer.score(b_summ, a_summ))\n",
    "#             dev_ds['ab'].append(calc_ds(a_summ, b_summ))\n",
    "#             dev_ds['ba'].append(calc_ds(b_summ, a_summ))\n",
    "#     for comm_sum in d['common_summary']:\n",
    "#         for a_summ in d['entity_a_summary']:\n",
    "#             dev_scores['comm_a'].append(scorer.score(comm_summ, a_summ))\n",
    "#             dev_scores['a_comm'].append(scorer.score(a_summ, comm_summ))\n",
    "#             dev_ds['comm_a'].append(calc_ds(comm_summ, a_summ))\n",
    "#             dev_ds['a_comm'].append(calc_ds(a_summ, comm_summ))\n",
    "#         for b_summ in d['entity_b_summary']:\n",
    "#             dev_scores['comm_b'].append(scorer.score(comm_summ, b_summ))\n",
    "#             dev_scores['b_comm'].append(scorer.score(b_summ, comm_summ))\n",
    "#             dev_ds['comm_b'].append(calc_ds(comm_summ, b_summ))\n",
    "#             dev_ds['b_comm'].append(calc_ds(b_summ, comm_summ))\n",
    "#     gen_a = d['gen_cont_a']\n",
    "#     gen_b = d['gen_cont_b']\n",
    "#     gen_comm = d['gen_comm_a']  # assuming comm summary is same for entitiy a and entity b\n",
    "#     dev_scores['gen_ab'].append(scorer.score(gen_a, gen_b))\n",
    "#     dev_scores['gen_ba'].append(scorer.score(gen_b, gen_a))\n",
    "#     dev_ds['gen_ab'].append(calc_ds(gen_a, gen_b))\n",
    "#     dev_ds['gen_ba'].append(calc_ds(gen_b, gen_a))\n",
    "#     dev_scores['gen_comm_a'].append(scorer.score(gen_comm, gen_a))\n",
    "#     dev_scores['gen_a_comm'].append(scorer.score(gen_a, gen_comm))\n",
    "#     dev_ds['gen_comm_a'].append(calc_ds(gen_comm, gen_a))\n",
    "#     dev_ds['gen_a_comm'].append(calc_ds(gen_a, gen_comm))\n",
    "#     dev_scores['gen_comm_b'].append(scorer.score(gen_comm, gen_b))\n",
    "#     dev_scores['gen_b_comm'].append(scorer.score(gen_b, gen_comm))\n",
    "#     dev_ds['gen_comm_b'].append(calc_ds(gen_comm, gen_b))\n",
    "#     dev_ds['gen_b_comm'].append(calc_ds(gen_b, gen_comm))"
   ]
  },
  {
   "cell_type": "markdown",
   "id": "ee8d2a8f-defd-48dd-aaee-3c0be8f191cb",
   "metadata": {},
   "source": [
    "## Analysis"
   ]
  },
  {
   "cell_type": "code",
   "execution_count": 38,
   "id": "3a5f8050-ac10-48e5-ae91-dd2c5347e555",
   "metadata": {},
   "outputs": [],
   "source": [
    "with open(\"data/dev_ds.json\") as f:\n",
    "    dev_ds = json.load(f)\n",
    "with open(\"data/test_ds.json\") as f:\n",
    "    test_ds = json.load(f)\n",
    "ds_raw = dev_ds + test_ds"
   ]
  },
  {
   "cell_type": "code",
   "execution_count": 39,
   "id": "507cff8d-1a62-4de3-91e7-e4dddeb5f1c1",
   "metadata": {},
   "outputs": [
    {
     "data": {
      "text/plain": [
       "0.7200195598353595"
      ]
     },
     "execution_count": 39,
     "metadata": {},
     "output_type": "execute_result"
    }
   ],
   "source": [
    "np.array(ds_raw).mean()"
   ]
  },
  {
   "cell_type": "code",
   "execution_count": 40,
   "id": "d0fd38b3-64e9-4ac4-9da9-0ccb8a3414d4",
   "metadata": {},
   "outputs": [],
   "source": [
    "with open(\"data/dev_bs.json\") as f:\n",
    "    dev_bs = json.load(f)\n",
    "with open(\"data/test_bs.json\") as f:\n",
    "    test_bs = json.load(f)\n",
    "bs_raw = dev_bs + test_bs"
   ]
  },
  {
   "cell_type": "code",
   "execution_count": 41,
   "id": "2b4b9c1f-f159-4043-86d2-e0b9d47f875b",
   "metadata": {},
   "outputs": [
    {
     "data": {
      "text/plain": [
       "array([0.23753944, 0.23753193, 0.22441989])"
      ]
     },
     "execution_count": 41,
     "metadata": {},
     "output_type": "execute_result"
    }
   ],
   "source": [
    "np.array(bs_raw).mean(axis=0)"
   ]
  },
  {
   "cell_type": "code",
   "execution_count": 42,
   "id": "6baf5152-0df4-4ebc-ac97-2eb4cf9d8172",
   "metadata": {},
   "outputs": [],
   "source": [
    "with open(\"data/dev_gen_ds.json\") as f:\n",
    "    dev_gen_ds = json.load(f)\n",
    "with open(\"data/test_gen_ds.json\") as f:\n",
    "    test_gen_ds = json.load(f)\n",
    "ds_gen_avg = dev_gen_ds + test_gen_ds"
   ]
  },
  {
   "cell_type": "code",
   "execution_count": 43,
   "id": "68caf6ed-1739-478f-996b-cc746fbcac5c",
   "metadata": {},
   "outputs": [
    {
     "data": {
      "text/plain": [
       "0.731580709766537"
      ]
     },
     "execution_count": 43,
     "metadata": {},
     "output_type": "execute_result"
    }
   ],
   "source": [
    "np.array(ds_gen_avg).mean()"
   ]
  },
  {
   "cell_type": "code",
   "execution_count": 51,
   "id": "18bb482e-9794-48db-beca-de7e2e4d5605",
   "metadata": {},
   "outputs": [],
   "source": [
    "with open(\"data/dev_gen_bs.json\") as f:\n",
    "    dev_gen_bs = json.load(f)\n",
    "with open(\"data/test_gen_bs.json\") as f:\n",
    "    test_gen_bs = json.load(f)\n",
    "bs_gen_avg = dev_gen_bs + test_gen_bs\n",
    "bs_gen_avg = [s[2] for s in bs_gen_avg]"
   ]
  },
  {
   "cell_type": "code",
   "execution_count": 53,
   "id": "5f5a4da5-eb8e-4ed6-bb0d-77429168c7c7",
   "metadata": {},
   "outputs": [
    {
     "data": {
      "text/plain": [
       "0.28414532489010264"
      ]
     },
     "execution_count": 53,
     "metadata": {},
     "output_type": "execute_result"
    }
   ],
   "source": [
    "np.array(bs_gen_avg).mean()"
   ]
  },
  {
   "cell_type": "code",
   "execution_count": 47,
   "id": "08a06e15-f7d2-4a19-9c04-6dc0ab0da3ae",
   "metadata": {},
   "outputs": [],
   "source": [
    "ds_avg = list()\n",
    "bs_avg = list()\n",
    "for i in range(28):\n",
    "    ds_avg.append(np.array(ds_raw[i*27:i*27 + 27]).mean())\n",
    "    bs_avg.append(np.array(bs_raw[i*27:i*27 + 27]).mean(axis=0)[2])  # considering only f1 bert_score"
   ]
  },
  {
   "cell_type": "code",
   "execution_count": 56,
   "id": "a6e9cbd7-3395-41f2-bee8-6adc333198f7",
   "metadata": {},
   "outputs": [
    {
     "data": {
      "text/plain": [
       "0.22441988882840308"
      ]
     },
     "execution_count": 56,
     "metadata": {},
     "output_type": "execute_result"
    }
   ],
   "source": [
    "np.array(bs_avg).mean()"
   ]
  },
  {
   "cell_type": "code",
   "execution_count": 48,
   "id": "730e0fc9-01d9-4592-9be7-6091b2560f71",
   "metadata": {},
   "outputs": [],
   "source": [
    "def compare_ds(x, y, desc):\n",
    "    print()\n",
    "    print(desc.upper())\n",
    "\n",
    "    plt.scatter(x, y)\n",
    "    plt.show()\n",
    "\n",
    "    r = np.corrcoef(x, y)\n",
    "\n",
    "    rankcorr = spearmanr(x, y)\n",
    "\n",
    "    diffs = [x[i] - y[i] for i in range(len(x))]\n",
    "    mean = np.mean(diffs)\n",
    "    std_dev = stdev(diffs)\n",
    "\n",
    "    print(f\"rank correlation = {rankcorr}\", '\\n')\n",
    "    print(f\"correlation = {r[0,1]}\", '\\n')\n",
    "    print(f\"mean = {mean} | std_dev = {std_dev}\", '\\n')"
   ]
  },
  {
   "cell_type": "code",
   "execution_count": 49,
   "id": "2910e362-a19e-4084-bb9c-af581715406a",
   "metadata": {},
   "outputs": [
    {
     "name": "stdout",
     "output_type": "stream",
     "text": [
      "\n",
      "DS - GENERATED VS. REFERENCE\n"
     ]
    },
    {
     "data": {
      "image/png": "[encoded data removed]",
      "text/plain": [
       "<Figure size 640x480 with 1 Axes>"
      ]
     },
     "metadata": {},
     "output_type": "display_data"
    },
    {
     "name": "stdout",
     "output_type": "stream",
     "text": [
      "rank correlation = SignificanceResult(statistic=0.07717569786535304, pvalue=0.6962853459956213) \n",
      "\n",
      "correlation = 0.13510749550559314 \n",
      "\n",
      "mean = 0.011561149931177458 | std_dev = 0.0329389912824427 \n",
      "\n"
     ]
    }
   ],
   "source": [
    "compare_ds(np.array(ds_gen_avg), np.array(ds_avg), \"DS - GENERATED vs. REFERENCE\")"
   ]
  },
  {
   "cell_type": "code",
   "execution_count": 54,
   "id": "539ac90b-e4b9-44d0-9344-ea74994feb35",
   "metadata": {},
   "outputs": [
    {
     "name": "stdout",
     "output_type": "stream",
     "text": [
      "\n",
      "BERTSCORE - GENERATED VS. REFERENCE\n"
     ]
    },
    {
     "data": {
      "image/png": "[encoded data removed]",
      "text/plain": [
       "<Figure size 640x480 with 1 Axes>"
      ]
     },
     "metadata": {},
     "output_type": "display_data"
    },
    {
     "name": "stdout",
     "output_type": "stream",
     "text": [
      "rank correlation = SignificanceResult(statistic=-0.01751505199781062, pvalue=0.9295095031118134) \n",
      "\n",
      "correlation = -0.08312343575260399 \n",
      "\n",
      "mean = 0.059725436061699555 | std_dev = 0.06794383403105855 \n",
      "\n"
     ]
    }
   ],
   "source": [
    "compare_ds(np.array(bs_gen_avg), np.array(bs_avg), \"BERTscore - GENERATED vs. REFERENCE\")"
   ]
  },
  {
   "cell_type": "code",
   "execution_count": null,
   "id": "ccb08c53-d991-49ac-9e53-dcc97a7929a8",
   "metadata": {},
   "outputs": [],
   "source": []
  }
 ],
 "metadata": {
  "kernelspec": {
   "display_name": "ecps",
   "language": "python",
   "name": "ecps"
  },
  "language_info": {
   "codemirror_mode": {
    "name": "ipython",
    "version": 3
   },
   "file_extension": ".py",
   "mimetype": "text/x-python",
   "name": "python",
   "nbconvert_exporter": "python",
   "pygments_lexer": "ipython3",
   "version": "3.10.7"
  }
 },
 "nbformat": 4,
 "nbformat_minor": 5
}
