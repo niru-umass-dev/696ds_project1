{
 "cells": [
  {
   "cell_type": "code",
   "execution_count": 30,
   "id": "17c7eea3-7505-4c9f-99bb-969f1c5a51f8",
   "metadata": {},
   "outputs": [],
   "source": [
    "import numpy as np\n",
    "import torch\n",
    "import nltk\n",
    "import json\n",
    "import bert_score\n",
    "import rouge\n",
    "from collections import Counter"
   ]
  },
  {
   "cell_type": "code",
   "execution_count": 27,
   "id": "3a0c2d64-8b54-4f3b-8905-8798c1b7d019",
   "metadata": {},
   "outputs": [],
   "source": [
    "with open(\"data/combined.json\") as f:\n",
    "    data = json.load(f)"
   ]
  },
  {
   "cell_type": "code",
   "execution_count": 4,
   "id": "4456f0ab-8ff2-4ce4-bed0-1f94df3e025b",
   "metadata": {},
   "outputs": [
    {
     "name": "stderr",
     "output_type": "stream",
     "text": [
      "Some weights of the model checkpoint at microsoft/deberta-xlarge-mnli were not used when initializing DebertaModel: ['classifier.bias', 'classifier.weight', 'pooler.dense.bias', 'pooler.dense.weight']\n",
      "- This IS expected if you are initializing DebertaModel from the checkpoint of a model trained on another task or with another architecture (e.g. initializing a BertForSequenceClassification model from a BertForPreTraining model).\n",
      "- This IS NOT expected if you are initializing DebertaModel from the checkpoint of a model that you expect to be exactly identical (initializing a BertForSequenceClassification model from a BertForSequenceClassification model).\n"
     ]
    }
   ],
   "source": [
    "scorer = bert_score.BERTScorer(model_type=\"microsoft/deberta-xlarge-mnli\", lang=\"en\", rescale_with_baseline=True)"
   ]
  },
  {
   "cell_type": "code",
   "execution_count": 5,
   "id": "28892ee6-f34f-4782-870d-8b6f785abcc3",
   "metadata": {},
   "outputs": [],
   "source": [
    "evaluator = rouge.Rouge(metrics=[\"rouge-n\", \"rouge-l\"], max_n=2, limit_length=False, apply_avg=True, stemming=True, ensure_compatibility=True)"
   ]
  },
  {
   "cell_type": "code",
   "execution_count": 37,
   "id": "6277ef58-dbd8-4b1b-9594-5522c74789dc",
   "metadata": {},
   "outputs": [],
   "source": [
    "def stem(x):\n",
    "    return Counter(evaluator.stem_tokens(evaluator.tokenize_text(x.lower())))\n",
    "\n",
    "\n",
    "def calc_ds(summ_a, summ_b, summ_comm):\n",
    "    s_a, s_b, s_c = stem(summ_a), stem(summ_b), stem(summ_comm)\n",
    "    nr = sum((s_a & s_b).values()) + sum((s_a & s_c).values()) + sum((s_b & s_c).values()) - 2.0 * sum((s_a & s_b & s_c).values())\n",
    "    dr = sum((s_a | s_b | s_c).values())\n",
    "    return 1.0 - (nr / dr)\n",
    "\n",
    " \n",
    "def calc_bs(summ_a, summ_b, summ_comm):\n",
    "    ab = [s.detach().numpy()[0] for s in scorer.score([summ_a], [summ_b])]\n",
    "    ba = [s.detach().numpy()[0] for s in scorer.score([summ_a], [summ_b])]\n",
    "    a_comm = [s.detach().numpy()[0] for s in scorer.score([summ_a], [summ_comm])]\n",
    "    comm_a = [s.detach().numpy()[0] for s in scorer.score([summ_comm], [summ_a])]\n",
    "    b_comm = [s.detach().numpy()[0] for s in scorer.score([summ_b], [summ_comm])]\n",
    "    comm_b = [s.detach().numpy()[0] for s in scorer.score([summ_comm], [summ_b])]\n",
    "    a_b = (np.array(ab) + np.array(ba)) / 2.0\n",
    "    a_c = (np.array(a_comm) + np.array(comm_a)) / 2.0\n",
    "    b_c = (np.array(b_comm) + np.array(comm_a)) / 2.0\n",
    "    return (a_b + a_c + b_c) / 3.0"
   ]
  },
  {
   "cell_type": "code",
   "execution_count": 39,
   "id": "50fd8d87-fdfc-4052-82a5-a571af82a429",
   "metadata": {},
   "outputs": [
    {
     "name": "stdout",
     "output_type": "stream",
     "text": [
      "0\n",
      "1\n",
      "2\n",
      "3\n",
      "4\n",
      "5\n",
      "6\n",
      "7\n",
      "8\n",
      "9\n"
     ]
    }
   ],
   "source": [
    "dev_bs = list()\n",
    "dev_ds = list()\n",
    "for idx, d in enumerate(data['dev']):\n",
    "    print(idx)\n",
    "    for a_summ in d['entity_a_summary']:\n",
    "        for b_summ in d['entity_b_summary']:\n",
    "            for comm_summ in d['common_summary']:\n",
    "                dev_bs.append(calc_bs(a_summ, b_summ, comm_summ))\n",
    "                dev_ds.append(calc_ds(a_summ, b_summ, comm_summ))"
   ]
  },
  {
   "cell_type": "code",
   "execution_count": 45,
   "id": "e7f97e8d-73c0-4e8a-b7a0-efb8a2b9cb55",
   "metadata": {},
   "outputs": [],
   "source": [
    "dev_bs_json = [[float(y) for y in list(x)] for x in dev_bs]\n",
    "with open(\"data/dev_bs.json\", \"w\") as f:\n",
    "    json.dump(dev_bs_json, f, indent=4)\n",
    "with open(\"data/dev_ds.json\", \"w\") as f:\n",
    "    json.dump(dev_ds, f, indent=4)"
   ]
  },
  {
   "cell_type": "code",
   "execution_count": 46,
   "id": "a3813b76-b715-411f-bcb3-e815855f113e",
   "metadata": {},
   "outputs": [
    {
     "name": "stdout",
     "output_type": "stream",
     "text": [
      "0\n",
      "1\n",
      "2\n",
      "3\n",
      "4\n",
      "5\n",
      "6\n",
      "7\n",
      "8\n",
      "9\n",
      "10\n",
      "11\n",
      "12\n",
      "13\n",
      "14\n",
      "15\n",
      "16\n",
      "17\n"
     ]
    }
   ],
   "source": [
    "test_bs = list()\n",
    "test_ds = list()\n",
    "for idx, d in enumerate(data['test']):\n",
    "    print(idx)\n",
    "    for a_summ in d['entity_a_summary']:\n",
    "        for b_summ in d['entity_b_summary']:\n",
    "            for comm_summ in d['common_summary']:\n",
    "                test_bs.append(calc_bs(a_summ, b_summ, comm_summ))\n",
    "                test_ds.append(calc_ds(a_summ, b_summ, comm_summ))"
   ]
  },
  {
   "cell_type": "code",
   "execution_count": 48,
   "id": "089a46c4-2f58-4ea7-b81f-12431f67db0f",
   "metadata": {},
   "outputs": [],
   "source": [
    "test_bs_json = [[float(y) for y in list(x)] for x in test_bs]\n",
    "with open(\"data/test_bs.json\", \"w\") as f:\n",
    "    json.dump(test_bs_json, f, indent=4)\n",
    "with open(\"data/test_ds.json\", \"w\") as f:\n",
    "    json.dump(test_ds, f, indent=4)"
   ]
  },
  {
   "cell_type": "code",
   "execution_count": 10,
   "id": "cd95c40f-5257-44c8-b6f3-01c1d6585fb3",
   "metadata": {},
   "outputs": [],
   "source": [
    "# def calc_data/umm_1, summ_2):\n",
    "#     s_1, s_2 = stem(summ_1), stem(summ_2)\n",
    "#     return 1.0 - (sum((s_1 & s_2).values()) / sum((s_1 | s_2).values()))\n",
    "\n",
    "\n",
    "# dev_scores = dict(\n",
    "#     ab=list(),\n",
    "#     ba=list(),\n",
    "#     comm_a=list(),\n",
    "#     a_comm=list(),\n",
    "#     comm_b=list(),\n",
    "#     b_comm=list(),\n",
    "#     gen_ab=list(),\n",
    "#     gen_ba=list(),\n",
    "#     gen_comm_a=list(),\n",
    "#     gen_a_comm=list(),\n",
    "#     gen_comm_b=list(),\n",
    "#     gen_b_comm=list()\n",
    "# )\n",
    "# dev_ds = dict(\n",
    "#     ab=list(),\n",
    "#     ba=list(),\n",
    "#     comm_a=list(),\n",
    "#     a_comm=list(),\n",
    "#     comm_b=list(),\n",
    "#     b_comm=list(),\n",
    "#     gen_ab=list(),\n",
    "#     gen_ba=list(),\n",
    "#     gen_comm_a=list(),\n",
    "#     gen_a_comm=list(),\n",
    "#     gen_comm_b=list(),\n",
    "#     gen_b_comm=list()\n",
    "# )\n",
    "\n",
    "# for d in data['dev']:\n",
    "#     for a_summ in d['entity_a_summary']:\n",
    "#         for b_summ in d['entity_b_summary']:\n",
    "#             dev_scores['ab'].append(scorer.score(a_summ, b_summ))\n",
    "#             dev_scores['ba'].append(scorer.score(b_summ, a_summ))\n",
    "#             dev_ds['ab'].append(calc_ds(a_summ, b_summ))\n",
    "#             dev_ds['ba'].append(calc_ds(b_summ, a_summ))\n",
    "#     for comm_sum in d['common_summary']:\n",
    "#         for a_summ in d['entity_a_summary']:\n",
    "#             dev_scores['comm_a'].append(scorer.score(comm_summ, a_summ))\n",
    "#             dev_scores['a_comm'].append(scorer.score(a_summ, comm_summ))\n",
    "#             dev_ds['comm_a'].append(calc_ds(comm_summ, a_summ))\n",
    "#             dev_ds['a_comm'].append(calc_ds(a_summ, comm_summ))\n",
    "#         for b_summ in d['entity_b_summary']:\n",
    "#             dev_scores['comm_b'].append(scorer.score(comm_summ, b_summ))\n",
    "#             dev_scores['b_comm'].append(scorer.score(b_summ, comm_summ))\n",
    "#             dev_ds['comm_b'].append(calc_ds(comm_summ, b_summ))\n",
    "#             dev_ds['b_comm'].append(calc_ds(b_summ, comm_summ))\n",
    "#     gen_a = d['gen_cont_a']\n",
    "#     gen_b = d['gen_cont_b']\n",
    "#     gen_comm = d['gen_comm_a']  # assuming comm summary is same for entitiy a and entity b\n",
    "#     dev_scores['gen_ab'].append(scorer.score(gen_a, gen_b))\n",
    "#     dev_scores['gen_ba'].append(scorer.score(gen_b, gen_a))\n",
    "#     dev_ds['gen_ab'].append(calc_ds(gen_a, gen_b))\n",
    "#     dev_ds['gen_ba'].append(calc_ds(gen_b, gen_a))\n",
    "#     dev_scores['gen_comm_a'].append(scorer.score(gen_comm, gen_a))\n",
    "#     dev_scores['gen_a_comm'].append(scorer.score(gen_a, gen_comm))\n",
    "#     dev_ds['gen_comm_a'].append(calc_ds(gen_comm, gen_a))\n",
    "#     dev_ds['gen_a_comm'].append(calc_ds(gen_a, gen_comm))\n",
    "#     dev_scores['gen_comm_b'].append(scorer.score(gen_comm, gen_b))\n",
    "#     dev_scores['gen_b_comm'].append(scorer.score(gen_b, gen_comm))\n",
    "#     dev_ds['gen_comm_b'].append(calc_ds(gen_comm, gen_b))\n",
    "#     dev_ds['gen_b_comm'].append(calc_ds(gen_b, gen_comm))"
   ]
  },
  {
   "cell_type": "code",
   "execution_count": null,
   "id": "5a06f8ba-d980-4842-86ab-0646301feebc",
   "metadata": {},
   "outputs": [],
   "source": []
  }
 ],
 "metadata": {
  "kernelspec": {
   "display_name": "ecps",
   "language": "python",
   "name": "ecps"
  },
  "language_info": {
   "codemirror_mode": {
    "name": "ipython",
    "version": 3
   },
   "file_extension": ".py",
   "mimetype": "text/x-python",
   "name": "python",
   "nbconvert_exporter": "python",
   "pygments_lexer": "ipython3",
   "version": "3.10.7"
  }
 },
 "nbformat": 4,
 "nbformat_minor": 5
}
