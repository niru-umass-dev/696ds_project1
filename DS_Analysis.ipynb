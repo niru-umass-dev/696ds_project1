{
 "cells": [
  {
   "cell_type": "code",
   "execution_count": 1,
   "metadata": {
    "colab": {
     "base_uri": "https://localhost:8080/"
    },
    "executionInfo": {
     "elapsed": 8509,
     "status": "ok",
     "timestamp": 1677852019667,
     "user": {
      "displayName": "Philip George",
      "userId": "01883735276937380273"
     },
     "user_tz": 300
    },
    "id": "L9J5tYiRUYNY",
    "outputId": "45b65c69-9d90-403d-f6a4-b82958c5c5ba"
   },
   "outputs": [
    {
     "name": "stdout",
     "output_type": "stream",
     "text": [
      "Looking in indexes: https://pypi.org/simple, https://us-python.pkg.dev/colab-wheels/public/simple/\n",
      "Requirement already satisfied: py-rouge in /usr/local/lib/python3.8/dist-packages (1.1)\n"
     ]
    }
   ],
   "source": [
    "!pip install py-rouge"
   ]
  },
  {
   "cell_type": "code",
   "execution_count": 2,
   "metadata": {
    "colab": {
     "base_uri": "https://localhost:8080/"
    },
    "executionInfo": {
     "elapsed": 927,
     "status": "ok",
     "timestamp": 1677852020586,
     "user": {
      "displayName": "Philip George",
      "userId": "01883735276937380273"
     },
     "user_tz": 300
    },
    "id": "BSW0unxiP_1A",
    "outputId": "d05bfd38-4b09-488a-d8c4-5cfa3b7e748a"
   },
   "outputs": [
    {
     "name": "stdout",
     "output_type": "stream",
     "text": [
      "Drive already mounted at /content/drive; to attempt to forcibly remount, call drive.mount(\"/content/drive\", force_remount=True).\n",
      "/content/drive/MyDrive/CS696DS/696ds_project1\n"
     ]
    }
   ],
   "source": [
    "#Mount drive\n",
    "from google.colab import drive\n",
    "drive.mount('/content/drive')\n",
    "\n",
    "FOLDERNAME = 'CS696DS/696ds_project1'\n",
    "%cd /content/drive/My\\Drive/$FOLDERNAME"
   ]
  },
  {
   "cell_type": "code",
   "execution_count": 3,
   "metadata": {
    "executionInfo": {
     "elapsed": 8,
     "status": "ok",
     "timestamp": 1677852020587,
     "user": {
      "displayName": "Philip George",
      "userId": "01883735276937380273"
     },
     "user_tz": 300
    },
    "id": "bIU9EN_6QB_R"
   },
   "outputs": [],
   "source": [
    "#Set path of python code modules\n",
    "import sys\n",
    "sys.path.append('/content/drive/My Drive/{}'.format(FOLDERNAME))\n",
    "\n",
    "%load_ext autoreload\n",
    "%autoreload 2"
   ]
  },
  {
   "cell_type": "code",
   "execution_count": 4,
   "metadata": {
    "colab": {
     "base_uri": "https://localhost:8080/"
    },
    "executionInfo": {
     "elapsed": 4244,
     "status": "ok",
     "timestamp": 1677852024826,
     "user": {
      "displayName": "Philip George",
      "userId": "01883735276937380273"
     },
     "user_tz": 300
    },
    "id": "e0K098kgRGZc",
    "outputId": "7a3bca20-0ff2-406b-97c8-b94815c4a42c"
   },
   "outputs": [
    {
     "name": "stderr",
     "output_type": "stream",
     "text": [
      "[nltk_data] Downloading package punkt to /root/nltk_data...\n",
      "[nltk_data]   Package punkt is already up-to-date!\n"
     ]
    },
    {
     "data": {
      "text/plain": [
       "True"
      ]
     },
     "execution_count": 4,
     "metadata": {},
     "output_type": "execute_result"
    }
   ],
   "source": [
    "import json\n",
    "import numpy as np\n",
    "import torch\n",
    "import nltk\n",
    "import json\n",
    "import rouge\n",
    "from collections import Counter\n",
    "from numpy import mean\n",
    "import pandas as pd\n",
    "import random\n",
    "import matplotlib.pyplot as plt\n",
    "from statistics import stdev\n",
    "from scipy.stats import spearmanr\n",
    "\n",
    "nltk.download('punkt')"
   ]
  },
  {
   "cell_type": "code",
   "execution_count": 5,
   "metadata": {
    "executionInfo": {
     "elapsed": 7,
     "status": "ok",
     "timestamp": 1677852024827,
     "user": {
      "displayName": "Philip George",
      "userId": "01883735276937380273"
     },
     "user_tz": 300
    },
    "id": "qpAAWZGdUuE7"
   },
   "outputs": [],
   "source": [
    "data = json.load(open(\"combined_data.json\", 'r'))"
   ]
  },
  {
   "cell_type": "code",
   "execution_count": 6,
   "metadata": {
    "executionInfo": {
     "elapsed": 202,
     "status": "ok",
     "timestamp": 1677852025024,
     "user": {
      "displayName": "Philip George",
      "userId": "01883735276937380273"
     },
     "user_tz": 300
    },
    "id": "7jWjGvAIUEk3"
   },
   "outputs": [],
   "source": [
    "evaluator = rouge.Rouge(metrics=[\"rouge-n\", \"rouge-l\"], max_n=2, limit_length=False, apply_avg=True, stemming=True, ensure_compatibility=True)\n",
    "\n",
    "def stem(x):\n",
    "    return Counter(evaluator.stem_tokens(evaluator.tokenize_text(x.lower())))\n",
    "\n",
    "\n",
    "def calc_ds(summ_a, summ_b, summ_comm):\n",
    "    s_a, s_b, s_c = stem(summ_a), stem(summ_b), stem(summ_comm)\n",
    "    nr = sum((s_a & s_b).values()) + sum((s_a & s_c).values()) + sum((s_b & s_c).values()) - 2.0 * sum((s_a & s_b & s_c).values())\n",
    "    dr = sum((s_a | s_b | s_c).values())\n",
    "    return 1.0 - (nr / dr)"
   ]
  },
  {
   "cell_type": "markdown",
   "metadata": {
    "id": "bCGQaLK8VqlY"
   },
   "source": [
    "# Distinct Score Comparison With Paraphrases"
   ]
  },
  {
   "cell_type": "code",
   "execution_count": null,
   "metadata": {
    "id": "dqdZo2EXVj1f"
   },
   "outputs": [],
   "source": [
    "ds_gen_orig = []\n",
    "ds_gen_para = []\n",
    "ds_refs_orig = []\n",
    "ds_refs_para = []\n",
    "\n",
    "for example_no,example in enumerate(data):\n",
    "  print(example_no)\n",
    "  if example['split'] != 'train':\n",
    "    gen_a = example['gen_a']\n",
    "    gen_b = example['gen_b']\n",
    "    gen_comm = example['gen_comm']\n",
    "\n",
    "    ds_gen_orig.append(calc_ds(gen_a, gen_b, gen_comm))\n",
    "\n",
    "    para_gen_a = example['para_gen_a']\n",
    "    para_gen_b = example['para_gen_b']\n",
    "    para_gen_comm = example['para_gen_comm']\n",
    "\n",
    "    ds_gen_para.append(calc_ds(para_gen_a, para_gen_b, para_gen_comm))\n",
    "\n",
    "  refs_a = example['refs_a']\n",
    "  refs_b = example['refs_b']\n",
    "  refs_comm = example['refs_comm']\n",
    "\n",
    "  ds_refs_orig.append(mean(\n",
    "        [\n",
    "            calc_ds(refs_a[idx], refs_b[idx], refs_comm[idx]) for idx in range(len(refs_a))\n",
    "        ]\n",
    "    )   \n",
    "  )\n",
    "\n",
    "  para_refs_a = example['para_refs_a']\n",
    "  para_refs_b = example['para_refs_b']\n",
    "  para_refs_comm = example['para_refs_comm']\n",
    "\n",
    "  ds_refs_para.append(mean(\n",
    "        [\n",
    "            calc_ds(para_refs_a[idx], para_refs_b[idx], para_refs_comm[idx]) for idx in range(len(refs_a))\n",
    "        ]\n",
    "    )   \n",
    "  )\n"
   ]
  },
  {
   "cell_type": "markdown",
   "metadata": {
    "id": "cs7kwZHJtGe5"
   },
   "source": [
    "### Generated vs Paraphrase"
   ]
  },
  {
   "cell_type": "code",
   "execution_count": 8,
   "metadata": {
    "executionInfo": {
     "elapsed": 3,
     "status": "ok",
     "timestamp": 1677852028754,
     "user": {
      "displayName": "Philip George",
      "userId": "01883735276937380273"
     },
     "user_tz": 300
    },
    "id": "NIjEU3pBsiWQ"
   },
   "outputs": [],
   "source": [
    "def compare_ds(x, y, desc):\n",
    "  print()\n",
    "  print(desc.upper())\n",
    "  # x = ds_gen_orig\n",
    "  # y = ds_gen_para\n",
    "\n",
    "  plt.scatter(x, y)\n",
    "  plt.show()\n",
    "\n",
    "  r = np.corrcoef(x,y)\n",
    "  \n",
    "\n",
    "  rankcorr = spearmanr(x,y)\n",
    "  \n",
    "\n",
    "  diffs = [x[i] - y[i] for i in range(len(x))]\n",
    "  mean = np.mean(diffs)\n",
    "  std_dev = stdev(diffs)\n",
    "\n",
    "  print(f\"rank correlation = {rankcorr}\", '\\n')\n",
    "  print(f\"correlation = {r[0,1]}\", '\\n')\n",
    "  print(f\"mean = {mean} | std_dev = {std_dev}\", '\\n')"
   ]
  },
  {
   "cell_type": "code",
   "execution_count": 9,
   "metadata": {
    "colab": {
     "base_uri": "https://localhost:8080/",
     "height": 785
    },
    "executionInfo": {
     "elapsed": 575,
     "status": "ok",
     "timestamp": 1677852029327,
     "user": {
      "displayName": "Philip George",
      "userId": "01883735276937380273"
     },
     "user_tz": 300
    },
    "id": "R7pEshKVv6WM",
    "outputId": "5c93227f-a105-481c-d57d-d4577180555e"
   },
   "outputs": [
    {
     "name": "stdout",
     "output_type": "stream",
     "text": [
      "\n",
      "GENERATED VS PARAPHRASE\n"
     ]
    },
    {
     "data": {
      "image/png": "[encoded data removed]",
      "text/plain": [
       "<Figure size 432x288 with 1 Axes>"
      ]
     },
     "metadata": {
      "needs_background": "light"
     },
     "output_type": "display_data"
    },
    {
     "name": "stdout",
     "output_type": "stream",
     "text": [
      "rank correlation = SignificanceResult(statistic=0.3513957307060755, pvalue=0.06671173140041392) \n",
      "\n",
      "correlation = 0.37618669779139724 \n",
      "\n",
      "mean = -0.04092163600061717 | std_dev = 0.042007542697766555 \n",
      "\n",
      "\n",
      "REFERENCE VS PARAPHRASE\n"
     ]
    },
    {
     "data": {
      "image/png": "[encoded data removed]",
      "text/plain": [
       "<Figure size 432x288 with 1 Axes>"
      ]
     },
     "metadata": {
      "needs_background": "light"
     },
     "output_type": "display_data"
    },
    {
     "name": "stdout",
     "output_type": "stream",
     "text": [
      "rank correlation = SignificanceResult(statistic=0.41380807642205814, pvalue=0.0034593070044711296) \n",
      "\n",
      "correlation = 0.4567461213284826 \n",
      "\n",
      "mean = -0.03338687845895444 | std_dev = 0.023831428242538175 \n",
      "\n"
     ]
    }
   ],
   "source": [
    "## Generated vs Paraphrase\n",
    "compare_ds(ds_gen_orig, ds_gen_para, 'generated vs paraphrase')\n",
    "\n",
    "## Reference vs Paraphrase\n",
    "compare_ds(ds_refs_orig, ds_refs_para, 'reference vs paraphrase')"
   ]
  },
  {
   "cell_type": "code",
   "execution_count": 14,
   "metadata": {
    "colab": {
     "base_uri": "https://localhost:8080/"
    },
    "executionInfo": {
     "elapsed": 862,
     "status": "ok",
     "timestamp": 1677852148532,
     "user": {
      "displayName": "Philip George",
      "userId": "01883735276937380273"
     },
     "user_tz": 300
    },
    "id": "_r5j7dL3xLMR",
    "outputId": "8b1d47eb-ecd7-40cf-f3e7-341426a6f81e"
   },
   "outputs": [
    {
     "name": "stdout",
     "output_type": "stream",
     "text": [
      "On branch main\n",
      "Your branch is up to date with 'origin/main'.\n",
      "\n",
      "Changes to be committed:\n",
      "  (use \"git restore --staged <file>...\" to unstage)\n",
      "\t\u001b[32mnew file:   DS_Analysis.ipynb\u001b[m\n",
      "\t\u001b[32mmodified:   combined_data.json\u001b[m\n",
      "\n",
      "Changes not staged for commit:\n",
      "  (use \"git add <file>...\" to update what will be committed)\n",
      "  (use \"git restore <file>...\" to discard changes in working directory)\n",
      "\t\u001b[31mmodified:   anno.json\u001b[m\n",
      "\n",
      "On branch main\n",
      "Your branch is up to date with 'origin/main'.\n",
      "\n",
      "Changes to be committed:\n",
      "  (use \"git restore --staged <file>...\" to unstage)\n",
      "\t\u001b[32mnew file:   DS_Analysis.ipynb\u001b[m\n",
      "\t\u001b[32mmodified:   combined_data.json\u001b[m\n",
      "\n",
      "Changes not staged for commit:\n",
      "  (use \"git add <file>...\" to update what will be committed)\n",
      "  (use \"git restore <file>...\" to discard changes in working directory)\n",
      "\t\u001b[31mmodified:   anno.json\u001b[m\n",
      "\n"
     ]
    }
   ],
   "source": [
    "!git restore anno.json\n",
    "!git add DS_Analysis.ipynb\n",
    "!git status\n",
    "!git add combined_data.json\n",
    "!git status\n"
   ]
  },
  {
   "cell_type": "code",
   "execution_count": 10,
   "metadata": {
    "executionInfo": {
     "elapsed": 5,
     "status": "ok",
     "timestamp": 1677852029604,
     "user": {
      "displayName": "Philip George",
      "userId": "01883735276937380273"
     },
     "user_tz": 300
    },
    "id": "UYu7BaPKxO_h"
   },
   "outputs": [],
   "source": []
  }
 ],
 "metadata": {
  "colab": {
   "authorship_tag": "ABX9TyNetojv6v5EhzlSX3mXMA38",
   "provenance": []
  },
  "kernelspec": {
   "display_name": "Python 3 (ipykernel)",
   "language": "python",
   "name": "python3"
  },
  "language_info": {
   "codemirror_mode": {
    "name": "ipython",
    "version": 3
   },
   "file_extension": ".py",
   "mimetype": "text/x-python",
   "name": "python",
   "nbconvert_exporter": "python",
   "pygments_lexer": "ipython3",
   "version": "3.10.7"
  }
 },
 "nbformat": 4,
 "nbformat_minor": 4
}
